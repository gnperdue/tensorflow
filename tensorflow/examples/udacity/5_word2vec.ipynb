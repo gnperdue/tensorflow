{
 "cells": [
  {
   "cell_type": "markdown",
   "metadata": {
    "colab_type": "text",
    "id": "D7tqLMoKF6uq"
   },
   "source": [
    "Deep Learning\n",
    "=============\n",
    "\n",
    "Assignment 5\n",
    "------------\n",
    "\n",
    "The goal of this assignment is to train a skip-gram model over [Text8](http://mattmahoney.net/dc/textdata) data."
   ]
  },
  {
   "cell_type": "markdown",
   "metadata": {},
   "source": [
    "Some additional reading:\n",
    "\n",
    "* https://www.tensorflow.org/versions/r0.7/tutorials/word2vec/index.html\n",
    "* http://www.folgertkarsdorp.nl/word2vec-an-introduction/\n",
    "* https://www.kaggle.com/c/word2vec-nlp-tutorial\n",
    "* http://www.cs.toronto.edu/~bonner/courses/2014s/csc321/lectures/lec5.pdf\n",
    "* http://www.cs.toronto.edu/~bonner/courses/2016s/csc321/webpages/lectures.htm\n",
    "* http://radimrehurek.com/gensim/models/word2vec.html"
   ]
  },
  {
   "cell_type": "code",
   "execution_count": 1,
   "metadata": {
    "cellView": "both",
    "colab": {
     "autoexec": {
      "startup": false,
      "wait_interval": 0
     }
    },
    "colab_type": "code",
    "collapsed": true,
    "id": "0K1ZyLn04QZf"
   },
   "outputs": [],
   "source": [
    "# These are all the modules we'll be using later. Make sure you can import them\n",
    "# before proceeding further.\n",
    "import collections\n",
    "import math\n",
    "import numpy as np\n",
    "import os\n",
    "import random\n",
    "import tensorflow as tf\n",
    "import zipfile\n",
    "from matplotlib import pylab\n",
    "from six.moves import range\n",
    "from six.moves.urllib.request import urlretrieve\n",
    "from sklearn.manifold import TSNE"
   ]
  },
  {
   "cell_type": "code",
   "execution_count": 2,
   "metadata": {
    "collapsed": true
   },
   "outputs": [],
   "source": [
    "%matplotlib inline"
   ]
  },
  {
   "cell_type": "markdown",
   "metadata": {
    "colab_type": "text",
    "id": "aCjPJE944bkV"
   },
   "source": [
    "Download the data from the source website if necessary."
   ]
  },
  {
   "cell_type": "code",
   "execution_count": 3,
   "metadata": {
    "cellView": "both",
    "colab": {
     "autoexec": {
      "startup": false,
      "wait_interval": 0
     },
     "output_extras": [
      {
       "item_id": 1
      }
     ]
    },
    "colab_type": "code",
    "collapsed": false,
    "executionInfo": {
     "elapsed": 14640,
     "status": "ok",
     "timestamp": 1445964482948,
     "user": {
      "color": "#1FA15D",
      "displayName": "Vincent Vanhoucke",
      "isAnonymous": false,
      "isMe": true,
      "permissionId": "05076109866853157986",
      "photoUrl": "//lh6.googleusercontent.com/-cCJa7dTDcgQ/AAAAAAAAAAI/AAAAAAAACgw/r2EZ_8oYer4/s50-c-k-no/photo.jpg",
      "sessionId": "2f1ffade4c9f20de",
      "userId": "102167687554210253930"
     },
     "user_tz": 420
    },
    "id": "RJ-o3UBUFtCw",
    "outputId": "c4ec222c-80b5-4298-e635-93ca9f79c3b7"
   },
   "outputs": [
    {
     "name": "stdout",
     "output_type": "stream",
     "text": [
      "Found and verified mytesttext.txt.zip\n",
      "Found and verified text8.zip\n"
     ]
    }
   ],
   "source": [
    "url = 'http://mattmahoney.net/dc/'\n",
    "\n",
    "def maybe_download(filename, expected_bytes):\n",
    "    \"\"\"Download a file if not present, and make sure it's the right size.\"\"\"\n",
    "    if not os.path.exists(filename):\n",
    "        filename, _ = urlretrieve(url + filename, filename)\n",
    "    statinfo = os.stat(filename)\n",
    "    if statinfo.st_size == expected_bytes:\n",
    "        print('Found and verified %s' % filename)\n",
    "    else:\n",
    "        print(statinfo.st_size)\n",
    "        raise Exception(\n",
    "          'Failed to verify ' + filename + '. Can you get to it with a browser?')\n",
    "    return filename\n",
    "\n",
    "filename = maybe_download('mytesttext.txt.zip', 415)   # of course, this file is local\n",
    "filename = maybe_download('text8.zip', 31344016)"
   ]
  },
  {
   "cell_type": "markdown",
   "metadata": {
    "colab_type": "text",
    "id": "Zqz3XiqI4mZT"
   },
   "source": [
    "Read the data into a string."
   ]
  },
  {
   "cell_type": "code",
   "execution_count": 4,
   "metadata": {
    "cellView": "both",
    "colab": {
     "autoexec": {
      "startup": false,
      "wait_interval": 0
     },
     "output_extras": [
      {
       "item_id": 1
      }
     ]
    },
    "colab_type": "code",
    "collapsed": false,
    "executionInfo": {
     "elapsed": 28844,
     "status": "ok",
     "timestamp": 1445964497165,
     "user": {
      "color": "#1FA15D",
      "displayName": "Vincent Vanhoucke",
      "isAnonymous": false,
      "isMe": true,
      "permissionId": "05076109866853157986",
      "photoUrl": "//lh6.googleusercontent.com/-cCJa7dTDcgQ/AAAAAAAAAAI/AAAAAAAACgw/r2EZ_8oYer4/s50-c-k-no/photo.jpg",
      "sessionId": "2f1ffade4c9f20de",
      "userId": "102167687554210253930"
     },
     "user_tz": 420
    },
    "id": "Mvf09fjugFU_",
    "outputId": "e3a928b4-1645-4fe8-be17-fcf47de5716d"
   },
   "outputs": [
    {
     "name": "stdout",
     "output_type": "stream",
     "text": [
      "['text8']\n",
      "Data size 17005207\n"
     ]
    }
   ],
   "source": [
    "def read_data(filename):\n",
    "    f = zipfile.ZipFile(filename)\n",
    "    print f.namelist()\n",
    "    # should be yield here?\n",
    "    for name in f.namelist():\n",
    "        return tf.compat.as_str(f.read(name)).split()\n",
    "    f.close()\n",
    "\n",
    "words = read_data(filename)\n",
    "print('Data size %d' % len(words))"
   ]
  },
  {
   "cell_type": "code",
   "execution_count": 5,
   "metadata": {
    "collapsed": false
   },
   "outputs": [
    {
     "name": "stdout",
     "output_type": "stream",
     "text": [
      "253854\n"
     ]
    }
   ],
   "source": [
    "print len(set(words))"
   ]
  },
  {
   "cell_type": "code",
   "execution_count": 6,
   "metadata": {
    "collapsed": false
   },
   "outputs": [
    {
     "data": {
      "text/plain": [
       "['anarchism',\n",
       " 'originated',\n",
       " 'as',\n",
       " 'a',\n",
       " 'term',\n",
       " 'of',\n",
       " 'abuse',\n",
       " 'first',\n",
       " 'used',\n",
       " 'against']"
      ]
     },
     "execution_count": 6,
     "metadata": {},
     "output_type": "execute_result"
    }
   ],
   "source": [
    "words[:10]"
   ]
  },
  {
   "cell_type": "code",
   "execution_count": 7,
   "metadata": {
    "collapsed": false
   },
   "outputs": [
    {
     "data": {
      "text/plain": [
       "['four',\n",
       " 'two',\n",
       " 'and',\n",
       " 'extensively',\n",
       " 'excavated',\n",
       " 'in',\n",
       " 'one',\n",
       " 'nine',\n",
       " 'six',\n",
       " 'three',\n",
       " 'one',\n",
       " 'nine',\n",
       " 'six',\n",
       " 'five',\n",
       " 'b']"
      ]
     },
     "execution_count": 7,
     "metadata": {},
     "output_type": "execute_result"
    }
   ],
   "source": [
    "words[-15:]"
   ]
  },
  {
   "cell_type": "code",
   "execution_count": 8,
   "metadata": {
    "collapsed": false
   },
   "outputs": [
    {
     "name": "stdout",
     "output_type": "stream",
     "text": [
      "[(0, 5), (1, 3), (2, 2), (3, 1)]\n"
     ]
    }
   ],
   "source": [
    "# make sure collections.Counter does what we expect...\n",
    "testl = [0, 0, 0, 0, 0, 1, 1, 1, 2, 2, 3]\n",
    "print collections.Counter(testl).most_common(len(testl) - 1)"
   ]
  },
  {
   "cell_type": "code",
   "execution_count": 9,
   "metadata": {
    "collapsed": false
   },
   "outputs": [
    {
     "name": "stdout",
     "output_type": "stream",
     "text": [
      "[(0, 5), (1, 3)]\n"
     ]
    }
   ],
   "source": [
    "print collections.Counter(testl).most_common(2)"
   ]
  },
  {
   "cell_type": "markdown",
   "metadata": {
    "colab_type": "text",
    "id": "Zdw6i4F8glpp"
   },
   "source": [
    "Build the dictionary and replace rare words with UNK token."
   ]
  },
  {
   "cell_type": "code",
   "execution_count": 10,
   "metadata": {
    "cellView": "both",
    "colab": {
     "autoexec": {
      "startup": false,
      "wait_interval": 0
     },
     "output_extras": [
      {
       "item_id": 1
      }
     ]
    },
    "colab_type": "code",
    "collapsed": false,
    "executionInfo": {
     "elapsed": 28849,
     "status": "ok",
     "timestamp": 1445964497178,
     "user": {
      "color": "#1FA15D",
      "displayName": "Vincent Vanhoucke",
      "isAnonymous": false,
      "isMe": true,
      "permissionId": "05076109866853157986",
      "photoUrl": "//lh6.googleusercontent.com/-cCJa7dTDcgQ/AAAAAAAAAAI/AAAAAAAACgw/r2EZ_8oYer4/s50-c-k-no/photo.jpg",
      "sessionId": "2f1ffade4c9f20de",
      "userId": "102167687554210253930"
     },
     "user_tz": 420
    },
    "id": "gAL1EECXeZsD",
    "outputId": "3fb4ecd1-df67-44b6-a2dc-2291730970b2"
   },
   "outputs": [
    {
     "name": "stdout",
     "output_type": "stream",
     "text": [
      "('Most common words (+UNK)', [['UNK', 418391], ('the', 1061396), ('of', 593677), ('and', 416629), ('one', 411764)])\n",
      "('Sample data', [5239, 3084, 12, 6, 195, 2, 3137, 46, 59, 156])\n"
     ]
    }
   ],
   "source": [
    "vocabulary_size = 50000\n",
    "\n",
    "def build_dataset(words):\n",
    "    count = [['UNK', -1]]\n",
    "    count.extend(collections.Counter(words).most_common(vocabulary_size - 1))\n",
    "    dictionary = dict()\n",
    "    for word, _ in count:\n",
    "        dictionary[word] = len(dictionary)  # where the word showed in the collection sorted by most common\n",
    "    data = list()\n",
    "    unk_count = 0\n",
    "    for word in words:\n",
    "        if word in dictionary:\n",
    "            index = dictionary[word]\n",
    "        else:\n",
    "            index = 0  # dictionary['UNK']\n",
    "            unk_count = unk_count + 1\n",
    "        data.append(index)\n",
    "    \n",
    "    count[0][1] = unk_count\n",
    "    reverse_dictionary = dict(zip(dictionary.values(), dictionary.keys())) \n",
    "    return data, count, dictionary, reverse_dictionary\n",
    "\n",
    "data, count, dictionary, reverse_dictionary = build_dataset(words)\n",
    "print('Most common words (+UNK)', count[:5])\n",
    "print('Sample data', data[:10])\n",
    "del words  # Hint to reduce memory."
   ]
  },
  {
   "cell_type": "code",
   "execution_count": 11,
   "metadata": {
    "collapsed": false
   },
   "outputs": [
    {
     "name": "stdout",
     "output_type": "stream",
     "text": [
      "1\n",
      "('dict sample keys  :', ['fawn', 'homomorphism', 'nordisk', 'nunnery', 'chthonic', 'sowell', 'sonja', 'showa', 'woods', 'hsv'])\n",
      "('dict sample values:', [45848, 9648, 39343, 36075, 33554, 40562, 38175, 32906, 6263, 44222])\n"
     ]
    }
   ],
   "source": [
    "print dictionary['the']\n",
    "print('dict sample keys  :', dictionary.keys()[:10])\n",
    "print('dict sample values:', dictionary.values()[:10])"
   ]
  },
  {
   "cell_type": "code",
   "execution_count": 12,
   "metadata": {
    "collapsed": false
   },
   "outputs": [
    {
     "name": "stdout",
     "output_type": "stream",
     "text": [
      "('sorted dict sample keys  :', ['UNK', 'a', 'aa', 'aaa', 'aaas', 'aac', 'aachen', 'aafc', 'aai', 'aalborg'])\n"
     ]
    }
   ],
   "source": [
    "print('sorted dict sample keys  :', sorted(dictionary.keys())[:10])"
   ]
  },
  {
   "cell_type": "code",
   "execution_count": 13,
   "metadata": {
    "collapsed": false
   },
   "outputs": [
    {
     "name": "stdout",
     "output_type": "stream",
     "text": [
      "('sorted dict sample vals  :', [0, 1, 2, 3, 4, 5, 6, 7, 8, 9])\n"
     ]
    }
   ],
   "source": [
    "print('sorted dict sample vals  :', sorted(dictionary.values())[:10])"
   ]
  },
  {
   "cell_type": "code",
   "execution_count": 14,
   "metadata": {
    "collapsed": false
   },
   "outputs": [
    {
     "name": "stdout",
     "output_type": "stream",
     "text": [
      "('dict sample keys (at end)  :', ['hausdorff', 'medications', 'geysers', 'upholds', 'gan', 'rotting', 'pods', 'emery', 'northerly', 'expands'])\n",
      "('dict sample values (at end):', [7269, 11173, 17729, 41993, 14335, 26447, 23281, 40177, 23637, 14497])\n"
     ]
    }
   ],
   "source": [
    "print('dict sample keys (at end)  :', dictionary.keys()[-10:])\n",
    "print('dict sample values (at end):', dictionary.values()[-10:])"
   ]
  },
  {
   "cell_type": "code",
   "execution_count": 15,
   "metadata": {
    "collapsed": false
   },
   "outputs": [
    {
     "name": "stdout",
     "output_type": "stream",
     "text": [
      "('rev dict sample keys  :', [0, 1, 2, 3, 4, 5, 6, 7, 8, 9, 10, 11, 12, 13, 14, 15, 16, 17, 18, 19])\n",
      "('rev dict sample values:', ['UNK', 'the', 'of', 'and', 'one', 'in', 'a', 'to', 'zero', 'nine', 'two', 'is', 'as', 'eight', 'for', 's', 'five', 'three', 'was', 'by'])\n"
     ]
    }
   ],
   "source": [
    "print('rev dict sample keys  :', reverse_dictionary.keys()[:20])\n",
    "print('rev dict sample values:', reverse_dictionary.values()[:20])"
   ]
  },
  {
   "cell_type": "code",
   "execution_count": 16,
   "metadata": {
    "collapsed": false
   },
   "outputs": [
    {
     "name": "stdout",
     "output_type": "stream",
     "text": [
      "('rev dict sample keys  :', [49980, 49981, 49982, 49983, 49984, 49985, 49986, 49987, 49988, 49989, 49990, 49991, 49992, 49993, 49994, 49995, 49996, 49997, 49998, 49999])\n"
     ]
    }
   ],
   "source": [
    "print('rev dict sample keys  :', reverse_dictionary.keys()[-20:])"
   ]
  },
  {
   "cell_type": "code",
   "execution_count": 17,
   "metadata": {
    "collapsed": false
   },
   "outputs": [
    {
     "name": "stdout",
     "output_type": "stream",
     "text": [
      "('Most common words (+UNK)', [['UNK', 418391], ('the', 1061396), ('of', 593677), ('and', 416629), ('one', 411764), ('in', 372201), ('a', 325873), ('to', 316376), ('zero', 264975), ('nine', 250430), ('two', 192644), ('is', 183153), ('as', 131815), ('eight', 125285), ('for', 118445), ('s', 116710), ('five', 115789), ('three', 114775), ('was', 112807), ('by', 111831)])\n"
     ]
    }
   ],
   "source": [
    "print('Most common words (+UNK)', count[:20])"
   ]
  },
  {
   "cell_type": "code",
   "execution_count": 18,
   "metadata": {
    "collapsed": false
   },
   "outputs": [
    {
     "name": "stdout",
     "output_type": "stream",
     "text": [
      "00005239, anarchism\n",
      "00003084, originated\n",
      "00000012, as\n",
      "00000006, a\n",
      "00000195, term\n",
      "00000002, of\n",
      "00003137, abuse\n",
      "00000046, first\n",
      "00000059, used\n",
      "00000156, against\n"
     ]
    }
   ],
   "source": [
    "for d in data[:10]:\n",
    "    print '{:08d}, {}'.format(d, reverse_dictionary[d])"
   ]
  },
  {
   "cell_type": "markdown",
   "metadata": {},
   "source": [
    "Interesting that `reversed_dictionary` has stayed in order here... don't think we can count on that..."
   ]
  },
  {
   "cell_type": "markdown",
   "metadata": {
    "colab_type": "text",
    "id": "lFwoyygOmWsL"
   },
   "source": [
    "Function to generate a training batch for the skip-gram model."
   ]
  },
  {
   "cell_type": "code",
   "execution_count": 19,
   "metadata": {
    "cellView": "both",
    "colab": {
     "autoexec": {
      "startup": false,
      "wait_interval": 0
     },
     "output_extras": [
      {
       "item_id": 1
      }
     ]
    },
    "colab_type": "code",
    "collapsed": false,
    "executionInfo": {
     "elapsed": 113,
     "status": "ok",
     "timestamp": 1445964901989,
     "user": {
      "color": "#1FA15D",
      "displayName": "Vincent Vanhoucke",
      "isAnonymous": false,
      "isMe": true,
      "permissionId": "05076109866853157986",
      "photoUrl": "//lh6.googleusercontent.com/-cCJa7dTDcgQ/AAAAAAAAAAI/AAAAAAAACgw/r2EZ_8oYer4/s50-c-k-no/photo.jpg",
      "sessionId": "2f1ffade4c9f20de",
      "userId": "102167687554210253930"
     },
     "user_tz": 420
    },
    "id": "w9APjA-zmfjV",
    "outputId": "67cccb02-cdaf-4e47-d489-43bcc8d57bb8"
   },
   "outputs": [
    {
     "name": "stdout",
     "output_type": "stream",
     "text": [
      "('data:', ['anarchism', 'originated', 'as', 'a', 'term', 'of', 'abuse', 'first'])\n",
      "\n",
      "with num_skips = 2 and skip_window = 1:\n",
      "('    batch:', ['originated', 'originated', 'as', 'as', 'a', 'a', 'term', 'term'])\n",
      "('    labels:', ['as', 'anarchism', 'originated', 'a', 'as', 'term', 'of', 'a'])\n",
      "\n",
      "with num_skips = 4 and skip_window = 2:\n",
      "('    batch:', ['as', 'as', 'as', 'as', 'a', 'a', 'a', 'a'])\n",
      "('    labels:', ['a', 'originated', 'term', 'anarchism', 'term', 'of', 'originated', 'as'])\n"
     ]
    }
   ],
   "source": [
    "data_index = 0\n",
    "\n",
    "def generate_batch(batch_size, num_skips, skip_window):\n",
    "    \"\"\"\n",
    "    basically, loop through the data taking a window of size `skip_window`\n",
    "    to each side of each word and making all those words entries in a \n",
    "    `labels` vector corresponding (each of them) to the center value of\n",
    "    the total window. that center value goes in the batch vector, `num_skips`\n",
    "    times. `num_skips` is counting the number of repetitions of the center\n",
    "    word, and if it is less than twice the `skip_window`, not all the  words\n",
    "    from the surrounding context will be used when filling the labels vector\n",
    "    \"\"\"\n",
    "    # let's keep track of where we are in the data\n",
    "    global data_index\n",
    "    # the batch size must be evenly divisible by the number of skips\n",
    "    assert batch_size % num_skips == 0\n",
    "    assert num_skips <= 2 * skip_window\n",
    "    batch = np.ndarray(shape=(batch_size), dtype=np.int32)\n",
    "    labels = np.ndarray(shape=(batch_size, 1), dtype=np.int32)\n",
    "    # how much data do we traverse per skip?\n",
    "    span = 2 * skip_window + 1 # [ skip_window target skip_window ]\n",
    "    # hold the data for the minibatch\n",
    "    buffer = collections.deque(maxlen=span)\n",
    "    # fill the buffer with the next `span` words of data\n",
    "    for _ in range(span):\n",
    "        buffer.append(data[data_index])\n",
    "        data_index = (data_index + 1) % len(data)\n",
    "    for i in range(batch_size // num_skips):\n",
    "        target = skip_window  # target label at the center of the buffer\n",
    "        targets_to_avoid = [ skip_window ]\n",
    "        # this looks wonky, but we're picking words randomly from \n",
    "        # the group of words in the 'window' around the target - we\n",
    "        # might use parameters such that we don't just use all of\n",
    "        # them, so this is why we are picking randomly and trying to\n",
    "        # avoid picking the same word twice (by index), etc.\n",
    "        for j in range(num_skips):\n",
    "            # find a target that isn't in our \"avoid\" list\n",
    "            while target in targets_to_avoid:\n",
    "                target = random.randint(0, span - 1)\n",
    "            # put the selected target in our list to avoid\n",
    "            targets_to_avoid.append(target)\n",
    "            batch[i * num_skips + j] = buffer[skip_window]\n",
    "            labels[i * num_skips + j, 0] = buffer[target]\n",
    "        buffer.append(data[data_index])\n",
    "        data_index = (data_index + 1) % len(data)\n",
    "    return batch, labels\n",
    "\n",
    "batch_size = 8\n",
    "print('data:', [reverse_dictionary[di] for di in data[:batch_size]])\n",
    "for num_skips, skip_window in [(2, 1), (4, 2)]:\n",
    "    data_index = 0\n",
    "    batch, labels = generate_batch(batch_size=batch_size, num_skips=num_skips, skip_window=skip_window)\n",
    "    print('\\nwith num_skips = %d and skip_window = %d:' % (num_skips, skip_window))\n",
    "    print('    batch:', [reverse_dictionary[bi] for bi in batch])\n",
    "    print('    labels:', [reverse_dictionary[li] for li in labels.reshape(batch_size)])"
   ]
  },
  {
   "cell_type": "code",
   "execution_count": 20,
   "metadata": {
    "collapsed": false
   },
   "outputs": [
    {
     "name": "stdout",
     "output_type": "stream",
     "text": [
      "('data:', ['anarchism', 'originated', 'as', 'a', 'term', 'of', 'abuse', 'first', 'used', 'against', 'early', 'working'])\n",
      "\n",
      "with num_skips = 2 and skip_window = 1:\n",
      "('    batch:', ['originated', 'originated', 'as', 'as', 'a', 'a', 'term', 'term', 'of', 'of', 'abuse', 'abuse'])\n",
      "('    labels:', ['anarchism', 'as', 'a', 'originated', 'term', 'as', 'of', 'a', 'abuse', 'term', 'of', 'first'])\n",
      "\n",
      "with num_skips = 4 and skip_window = 2:\n",
      "('    batch:', ['as', 'as', 'as', 'as', 'a', 'a', 'a', 'a', 'term', 'term', 'term', 'term'])\n",
      "('    labels:', ['term', 'a', 'anarchism', 'originated', 'of', 'originated', 'as', 'term', 'of', 'a', 'abuse', 'as'])\n"
     ]
    }
   ],
   "source": [
    "batch_size = 12\n",
    "print('data:', [reverse_dictionary[di] for di in data[:batch_size]])\n",
    "for num_skips, skip_window in [(2, 1), (4, 2)]:\n",
    "    data_index = 0\n",
    "    batch, labels = generate_batch(batch_size=batch_size, num_skips=num_skips, skip_window=skip_window)\n",
    "    print('\\nwith num_skips = %d and skip_window = %d:' % (num_skips, skip_window))\n",
    "    print('    batch:', [reverse_dictionary[bi] for bi in batch])\n",
    "    print('    labels:', [reverse_dictionary[li] for li in labels.reshape(batch_size)])"
   ]
  },
  {
   "cell_type": "code",
   "execution_count": 21,
   "metadata": {
    "collapsed": false
   },
   "outputs": [
    {
     "name": "stdout",
     "output_type": "stream",
     "text": [
      "('data:', ['anarchism', 'originated', 'as', 'a', 'term', 'of', 'abuse', 'first', 'used', 'against', 'early', 'working', 'class', 'radicals', 'including', 'the'])\n",
      "\n",
      "with num_skips = 2 and skip_window = 1:\n",
      "('    batch:', ['originated', 'originated', 'as', 'as', 'a', 'a', 'term', 'term', 'of', 'of', 'abuse', 'abuse', 'first', 'first', 'used', 'used'])\n",
      "('    labels:', ['anarchism', 'as', 'a', 'originated', 'as', 'term', 'a', 'of', 'term', 'abuse', 'first', 'of', 'used', 'abuse', 'against', 'first'])\n",
      "\n",
      "with num_skips = 4 and skip_window = 3:\n",
      "('    batch:', ['a', 'a', 'a', 'a', 'term', 'term', 'term', 'term', 'of', 'of', 'of', 'of', 'abuse', 'abuse', 'abuse', 'abuse'])\n",
      "('    labels:', ['abuse', 'of', 'anarchism', 'term', 'abuse', 'of', 'originated', 'first', 'term', 'abuse', 'used', 'first', 'term', 'first', 'against', 'of'])\n"
     ]
    }
   ],
   "source": [
    "batch_size = 16\n",
    "print('data:', [reverse_dictionary[di] for di in data[:batch_size]])\n",
    "for num_skips, skip_window in [(2, 1), (4, 3)]:\n",
    "    data_index = 0\n",
    "    batch, labels = generate_batch(batch_size=batch_size, num_skips=num_skips, skip_window=skip_window)\n",
    "    print('\\nwith num_skips = %d and skip_window = %d:' % (num_skips, skip_window))\n",
    "    print('    batch:', [reverse_dictionary[bi] for bi in batch])\n",
    "    print('    labels:', [reverse_dictionary[li] for li in labels.reshape(batch_size)])"
   ]
  },
  {
   "cell_type": "code",
   "execution_count": 22,
   "metadata": {
    "collapsed": false
   },
   "outputs": [
    {
     "name": "stdout",
     "output_type": "stream",
     "text": [
      "('data:', ['anarchism', 'originated', 'as', 'a', 'term', 'of', 'abuse', 'first'])\n",
      "\n",
      "with num_skips = 2 and skip_window = 1:\n",
      "('    batch:', ['originated', 'originated', 'as', 'as', 'a', 'a', 'term', 'term'])\n",
      "('    labels:', ['as', 'anarchism', 'a', 'originated', 'as', 'term', 'a', 'of'])\n",
      "\n",
      "with num_skips = 4 and skip_window = 2:\n",
      "('    batch:', ['as', 'as', 'as', 'as', 'a', 'a', 'a', 'a'])\n",
      "('    labels:', ['a', 'anarchism', 'originated', 'term', 'term', 'originated', 'as', 'of'])\n"
     ]
    }
   ],
   "source": [
    "batch_size = 8\n",
    "print('data:', [reverse_dictionary[di] for di in data[:batch_size]])\n",
    "for num_skips, skip_window in [(2, 1), (4, 2)]:\n",
    "    data_index = 0\n",
    "    batch, labels = generate_batch(batch_size=batch_size, num_skips=num_skips, skip_window=skip_window)\n",
    "    print('\\nwith num_skips = %d and skip_window = %d:' % (num_skips, skip_window))\n",
    "    print('    batch:', [reverse_dictionary[bi] for bi in batch])\n",
    "    print('    labels:', [reverse_dictionary[li] for li in labels.reshape(batch_size)])"
   ]
  },
  {
   "cell_type": "markdown",
   "metadata": {
    "colab_type": "text",
    "id": "Ofd1MbBuwiva"
   },
   "source": [
    "Train a skip-gram model."
   ]
  },
  {
   "cell_type": "code",
   "execution_count": 23,
   "metadata": {
    "collapsed": true
   },
   "outputs": [],
   "source": [
    "data_index = 0"
   ]
  },
  {
   "cell_type": "code",
   "execution_count": 24,
   "metadata": {
    "collapsed": false
   },
   "outputs": [
    {
     "data": {
      "text/plain": [
       "<tensorflow.python.framework.ops.Tensor at 0x7fd76e3ad3d0>"
      ]
     },
     "execution_count": 24,
     "metadata": {},
     "output_type": "execute_result"
    }
   ],
   "source": [
    "tf.random_uniform([2, 3])"
   ]
  },
  {
   "cell_type": "code",
   "execution_count": 25,
   "metadata": {
    "cellView": "both",
    "colab": {
     "autoexec": {
      "startup": false,
      "wait_interval": 0
     }
    },
    "colab_type": "code",
    "collapsed": true,
    "id": "8pQKsV4Vwlzy"
   },
   "outputs": [],
   "source": [
    "batch_size = 128\n",
    "embedding_size = 128 # Dimension of the embedding vector.\n",
    "skip_window = 1      # How many words to consider left and right.\n",
    "num_skips = 2        # How many times to reuse an input to generate a label.\n",
    "\n",
    "# We pick a random validation set to sample nearest neighbors. here we limit the\n",
    "# validation samples to the words that have a low numeric ID, which by\n",
    "# construction are also the most frequent. \n",
    "valid_size = 16    # Random set of words to evaluate similarity on.\n",
    "valid_window = 100 # Only pick dev samples in the head of the distribution.\n",
    "valid_examples = np.array(random.sample(range(valid_window), valid_size))\n",
    "num_sampled = 64   # Number of negative examples to sample.\n",
    "\n",
    "graph = tf.Graph()\n",
    "\n",
    "with graph.as_default():\n",
    "\n",
    "    # Input data.\n",
    "    train_dataset = tf.placeholder(tf.int32, shape=[batch_size])\n",
    "    train_labels = tf.placeholder(tf.int32, shape=[batch_size, 1])\n",
    "    valid_dataset = tf.constant(valid_examples, dtype=tf.int32)\n",
    "  \n",
    "    # Variables - aren't we supposed to have two weight matrices? - here, the embeddings are our weight matrix\n",
    "    # connecting us to a hidden layer, and the softmax weights (and biases) are connecting us to the output \n",
    "    # so this is like: (vocab, emb) dot (emb, vocab).T\n",
    "    embeddings = tf.Variable(tf.random_uniform([vocabulary_size, embedding_size], -1.0, 1.0))\n",
    "    softmax_weights = tf.Variable(tf.truncated_normal([vocabulary_size, embedding_size], \n",
    "                                                      stddev=1.0 / math.sqrt(embedding_size)))\n",
    "    softmax_biases = tf.Variable(tf.zeros([vocabulary_size]))\n",
    "  \n",
    "    # Model.\n",
    "    # Look up embeddings for inputs. return tensor has shape: shape(train_dataset) + shape(embeddings)[1:],\n",
    "    # so (batch, vocab-1, embed_sz) ? Here we look up ids=`train_dataset` in a list of embedding tensors\n",
    "    # (=`params`) \n",
    "    embed = tf.nn.embedding_lookup(embeddings, train_dataset)\n",
    "    # Compute the softmax loss, using a sample of the negative labels each time.\n",
    "    loss = tf.reduce_mean(tf.nn.sampled_softmax_loss(softmax_weights, \n",
    "                                                     softmax_biases, \n",
    "                                                     embed, \n",
    "                                                     train_labels, \n",
    "                                                     num_sampled, \n",
    "                                                     vocabulary_size))\n",
    "\n",
    "    # Optimizer.\n",
    "    optimizer = tf.train.AdagradOptimizer(1.0).minimize(loss)\n",
    "  \n",
    "    # Compute the similarity between minibatch examples and all embeddings.\n",
    "    # We use the cosine distance:\n",
    "    norm = tf.sqrt(tf.reduce_sum(tf.square(embeddings), 1, keep_dims=True))\n",
    "    normalized_embeddings = embeddings / norm\n",
    "    valid_embeddings = tf.nn.embedding_lookup(normalized_embeddings, valid_dataset)\n",
    "    similarity = tf.matmul(valid_embeddings, tf.transpose(normalized_embeddings))"
   ]
  },
  {
   "cell_type": "code",
   "execution_count": 26,
   "metadata": {
    "cellView": "both",
    "colab": {
     "autoexec": {
      "startup": false,
      "wait_interval": 0
     },
     "output_extras": [
      {
       "item_id": 23
      },
      {
       "item_id": 48
      },
      {
       "item_id": 61
      }
     ]
    },
    "colab_type": "code",
    "collapsed": false,
    "executionInfo": {
     "elapsed": 436189,
     "status": "ok",
     "timestamp": 1445965429787,
     "user": {
      "color": "#1FA15D",
      "displayName": "Vincent Vanhoucke",
      "isAnonymous": false,
      "isMe": true,
      "permissionId": "05076109866853157986",
      "photoUrl": "//lh6.googleusercontent.com/-cCJa7dTDcgQ/AAAAAAAAAAI/AAAAAAAACgw/r2EZ_8oYer4/s50-c-k-no/photo.jpg",
      "sessionId": "2f1ffade4c9f20de",
      "userId": "102167687554210253930"
     },
     "user_tz": 420
    },
    "id": "1bQFGceBxrWW",
    "outputId": "5ebd6d9a-33c6-4bcd-bf6d-252b0b6055e4"
   },
   "outputs": [
    {
     "name": "stdout",
     "output_type": "stream",
     "text": [
      "Initialized\n",
      "Average loss at step 0: 7.684766\n",
      "Nearest to world: dobson, aruba, solves, nigh, kearns, man, hayao, gskola,\n",
      "Nearest to first: fasttrack, nasional, pwn, lob, vulgaris, immunity, docherty, agglomeration,\n",
      "Nearest to one: jef, zhao, blue, babi, quinine, cauchy, characterize, akira,\n",
      "Nearest to people: criminals, mmorpgs, rainy, uh, whitey, origine, pictish, stovl,\n",
      "Nearest to in: creep, sukarno, hudsucker, hole, feeding, headlines, dissipation, efforts,\n",
      "Nearest to state: innovators, cacao, lamar, concentrates, percentile, bragg, teams, sighting,\n",
      "Nearest to no: viewership, asbury, invariant, pumps, fibrosis, hermon, atp, ciii,\n",
      "Nearest to he: sarabande, hostile, rwanda, wrongful, oboe, physiologic, dendrites, spr,\n",
      "Nearest to would: whoever, grundlagen, moi, tron, alleviation, gotland, intellectually, teleology,\n",
      "Nearest to history: weiner, levee, dashed, layering, ownership, hire, waldorf, moslem,\n",
      "Nearest to th: parked, palestinian, vip, nihon, akihabara, circulation, lever, untso,\n",
      "Nearest to five: protege, ergaster, remixed, news, prester, probus, dmt, photosynthesis,\n",
      "Nearest to it: transplantation, week, logarithms, pathological, mcnamara, hinge, cannibalism, demeter,\n",
      "Nearest to however: contravariant, busting, pauli, appreciation, nucleosynthesis, fredericksburg, dermatology, grapefruit,\n",
      "Nearest to d: yak, barb, dubs, hydras, glucagon, quintet, immigrate, glorify,\n",
      "Nearest to when: whiteman, clodius, unconvinced, herb, competitors, tailback, elgar, hordes,\n",
      "Average loss at step 2000: 4.361054\n",
      "Average loss at step 4000: 3.863879\n",
      "Average loss at step 6000: 3.792703\n",
      "Average loss at step 8000: 3.689080\n",
      "Average loss at step 10000: 3.613457\n",
      "Nearest to world: man, bayan, solves, handful, intersection, aves, qarase, setting,\n",
      "Nearest to first: at, nasional, last, reith, def, throughout, fasttrack, utterances,\n",
      "Nearest to one: two, six, eight, three, four, seven, anointing, exaggerate,\n",
      "Nearest to people: rainy, kattegat, categories, uh, klm, origine, leeuwenhoek, slayer,\n",
      "Nearest to in: of, on, at, gallia, from, with, wexford, luster,\n",
      "Nearest to state: percentile, concentrates, teams, cacao, deseret, lamar, flamboyant, innovators,\n",
      "Nearest to no: invariant, a, bella, joannes, neighbouring, suburban, extinction, notified,\n",
      "Nearest to he: it, they, she, who, dez, there, never, which,\n",
      "Nearest to would: could, grundlagen, can, limousine, intellectually, coup, should, gotland,\n",
      "Nearest to history: waw, layering, molly, weiner, usa, drama, jay, dante,\n",
      "Nearest to th: parked, palestinian, three, nihon, seven, antelope, lever, overuse,\n",
      "Nearest to five: six, seven, eight, three, four, nine, two, zero,\n",
      "Nearest to it: he, this, there, which, that, not, envoys, we,\n",
      "Nearest to however: contravariant, tomato, handled, tp, oahu, arises, behind, theodor,\n",
      "Nearest to d: yak, b, append, wildcats, rb, formality, john, feldspar,\n",
      "Nearest to when: competitors, willingly, personal, though, clodius, and, linus, robe,\n",
      "Average loss at step 12000: 3.610028\n",
      "Average loss at step 14000: 3.567683\n",
      "Average loss at step 16000: 3.414695\n",
      "Average loss at step 18000: 3.456252\n",
      "Average loss at step 20000: 3.541022\n",
      "Nearest to world: man, bayan, qarase, solves, episcopalians, united, setting, handful,\n",
      "Nearest to first: last, throughout, def, corporatist, second, regret, nasional, seydlitz,\n",
      "Nearest to one: four, two, three, six, seven, eight, five, nine,\n",
      "Nearest to people: uh, merrimack, kattegat, rainy, crude, klm, degrees, categories,\n",
      "Nearest to in: at, on, with, from, creep, by, within, melted,\n",
      "Nearest to state: percentile, deseret, concentrates, geography, act, teams, party, bragg,\n",
      "Nearest to no: bella, invariant, a, notified, asbury, wizardry, chargaff, transitory,\n",
      "Nearest to he: it, she, they, who, there, never, this, which,\n",
      "Nearest to would: could, may, will, should, can, might, must, grundlagen,\n",
      "Nearest to history: waw, usa, radiated, weiner, dante, layering, drama, eurotunnel,\n",
      "Nearest to th: parked, palestinian, bc, bullying, nihon, integrable, stewed, dessau,\n",
      "Nearest to five: six, four, eight, seven, three, zero, two, nine,\n",
      "Nearest to it: he, this, there, which, they, not, she, also,\n",
      "Nearest to however: but, contravariant, although, tomato, expunged, con, infernal, polonium,\n",
      "Nearest to d: b, wildcats, yak, lipsius, specialise, john, golf, rb,\n",
      "Nearest to when: if, where, after, though, willingly, clodius, by, competitors,\n",
      "Average loss at step 22000: 3.503124\n",
      "Average loss at step 24000: 3.490403\n",
      "Average loss at step 26000: 3.481541\n",
      "Average loss at step 28000: 3.478543\n",
      "Average loss at step 30000: 3.503632\n",
      "Nearest to world: bayan, qarase, united, same, episcopalians, setting, constitution, schilling,\n",
      "Nearest to first: second, last, def, khans, third, next, regret, cheating,\n",
      "Nearest to one: two, four, seven, six, three, eight, nine, five,\n",
      "Nearest to people: deaths, languages, sphinx, sydney, maths, crude, origine, parts,\n",
      "Nearest to in: at, on, from, during, under, of, gallia, by,\n",
      "Nearest to state: percentile, geography, history, act, states, teams, deseret, marketing,\n",
      "Nearest to no: any, bella, there, persecuted, phonograph, notified, invariant, they,\n",
      "Nearest to he: she, it, they, there, who, never, bracewell, santo,\n",
      "Nearest to would: could, can, will, may, should, must, might, to,\n",
      "Nearest to history: state, radiated, waw, vida, steep, drama, lowland, mahuad,\n",
      "Nearest to th: bc, parked, nd, kirchhoff, probus, stewed, duff, six,\n",
      "Nearest to five: four, seven, eight, six, three, nine, zero, two,\n",
      "Nearest to it: he, this, there, she, they, not, which, io,\n",
      "Nearest to however: but, although, polonium, expunged, tomato, mckenna, synod, buried,\n",
      "Nearest to d: b, wildcats, yak, lipsius, specialise, headline, ec, golf,\n",
      "Nearest to when: if, where, though, after, before, but, for, clodius,\n",
      "Average loss at step 32000: 3.503184\n",
      "Average loss at step 34000: 3.493479\n",
      "Average loss at step 36000: 3.458158\n",
      "Average loss at step 38000: 3.307063\n",
      "Average loss at step 40000: 3.430073\n",
      "Nearest to world: qarase, bayan, quincy, episcopalians, conservatory, rinnan, country, u,\n",
      "Nearest to first: second, last, regret, next, correspondents, confidentiality, during, third,\n",
      "Nearest to one: seven, two, three, four, eight, five, nine, six,\n",
      "Nearest to people: languages, deaths, women, allison, parts, posit, slayer, ions,\n",
      "Nearest to in: during, at, from, of, on, within, sukarno, press,\n",
      "Nearest to state: percentile, states, standardisation, government, geography, marketing, deseret, anmen,\n",
      "Nearest to no: any, tallest, there, bella, often, phonograph, chargaff, lavish,\n",
      "Nearest to he: she, it, they, who, there, i, originally, never,\n",
      "Nearest to would: could, will, can, may, should, must, might, cannot,\n",
      "Nearest to history: mahuad, radiated, wyman, drama, constructing, waw, steep, schedules,\n",
      "Nearest to th: bc, kirchhoff, probus, parked, duff, nd, stewed, preis,\n",
      "Nearest to five: six, seven, three, four, eight, zero, nine, two,\n",
      "Nearest to it: he, she, there, they, this, which, never, not,\n",
      "Nearest to however: but, although, that, they, admired, catalogued, oldies, though,\n",
      "Nearest to d: b, UNK, yak, wildcats, pedersen, rb, valor, c,\n",
      "Nearest to when: if, while, where, though, before, after, by, although,\n",
      "Average loss at step 42000: 3.437225\n",
      "Average loss at step 44000: 3.454112\n",
      "Average loss at step 46000: 3.448142\n",
      "Average loss at step 48000: 3.356774\n",
      "Average loss at step 50000: 3.388374\n",
      "Nearest to world: conservatory, qarase, bayan, episcopalians, country, rinnan, tetrahedron, employment,\n",
      "Nearest to first: second, last, next, regret, third, cheating, foederati, lint,\n",
      "Nearest to one: two, six, seven, eight, four, five, three, nine,\n",
      "Nearest to people: men, children, women, allison, ablation, deaths, necessitate, languages,\n",
      "Nearest to in: during, from, within, of, at, on, and, creep,\n",
      "Nearest to state: percentile, government, marketing, geography, states, standardisation, anmen, consented,\n",
      "Nearest to no: any, a, chargaff, persecuted, lavish, photonic, wag, bechtel,\n",
      "Nearest to he: she, it, they, who, there, soon, never, stating,\n",
      "Nearest to would: will, could, can, may, should, must, might, cannot,\n",
      "Nearest to history: mahuad, list, constructing, drama, radiated, literature, schedules, pelts,\n",
      "Nearest to th: bc, probus, six, nd, kirchhoff, duff, gordon, four,\n",
      "Nearest to five: seven, four, six, eight, three, zero, nine, two,\n",
      "Nearest to it: he, she, there, they, this, envoys, just, which,\n",
      "Nearest to however: but, although, though, where, that, when, while, seri,\n",
      "Nearest to d: b, yak, wildcats, feldspar, valor, falsified, pedersen, hoplite,\n",
      "Nearest to when: if, while, where, after, though, before, during, although,\n",
      "Average loss at step 52000: 3.439229\n",
      "Average loss at step 54000: 3.426176\n",
      "Average loss at step 56000: 3.433876\n",
      "Average loss at step 58000: 3.394665\n",
      "Average loss at step 60000: 3.395866\n",
      "Nearest to world: conservatory, episcopalians, constitution, largest, qarase, rinnan, bayan, tetrahedron,\n",
      "Nearest to first: second, last, next, only, same, third, final, regret,\n",
      "Nearest to one: seven, two, eight, six, nine, four, five, three,\n",
      "Nearest to people: women, men, deaths, children, posit, trickster, languages, ducts,\n",
      "Nearest to in: within, of, during, including, among, into, from, although,\n",
      "Nearest to state: percentile, government, standardisation, states, party, geography, anmen, miura,\n",
      "Nearest to no: any, persecuted, associated, familiar, hopefully, lavish, little, wag,\n",
      "Nearest to he: she, it, they, who, there, stating, santo, never,\n",
      "Nearest to would: could, will, may, can, must, should, might, cannot,\n",
      "Nearest to history: list, literature, radiated, schedules, mainstream, historical, waw, culture,\n",
      "Nearest to th: bc, seven, nd, probus, kirchhoff, four, homegrown, six,\n",
      "Nearest to five: four, six, three, eight, seven, nine, zero, two,\n",
      "Nearest to it: he, she, there, this, they, which, we, not,\n",
      "Nearest to however: but, although, though, when, that, dissonance, espagnole, since,\n",
      "Nearest to d: b, yak, c, p, wildcats, rb, falsified, v,\n",
      "Nearest to when: if, while, although, after, before, during, though, because,\n",
      "Average loss at step 62000: 3.237278\n",
      "Average loss at step 64000: 3.255180\n",
      "Average loss at step 66000: 3.406378\n",
      "Average loss at step 68000: 3.389942\n",
      "Average loss at step 70000: 3.359486\n",
      "Nearest to world: conservatory, rinnan, episcopalians, afl, tetrahedron, ergaster, sergeant, qarase,\n",
      "Nearest to first: second, last, next, same, final, third, fourth, regret,\n",
      "Nearest to one: two, six, seven, four, eight, five, nine, three,\n",
      "Nearest to people: women, men, children, deaths, others, languages, beersheba, members,\n",
      "Nearest to in: within, during, on, by, through, for, at, with,\n",
      "Nearest to state: government, percentile, standardisation, states, city, consented, marketing, miura,\n",
      "Nearest to no: any, persecuted, little, wag, familiar, pain, bt, photonic,\n",
      "Nearest to he: she, it, they, there, who, stating, soon, we,\n",
      "Nearest to would: could, may, will, can, must, should, might, cannot,\n",
      "Nearest to history: list, literature, mahuad, version, fatherland, schedules, radiated, constructing,\n",
      "Nearest to th: bc, seven, probus, homegrown, orr, trolling, eight, clashing,\n",
      "Nearest to five: four, six, seven, three, zero, eight, nine, two,\n",
      "Nearest to it: he, there, she, this, they, we, neither, still,\n",
      "Nearest to however: although, but, though, where, while, that, when, espagnole,\n",
      "Nearest to d: b, yak, feldspar, rb, wildcats, p, formality, v,\n",
      "Nearest to when: if, while, before, after, where, though, however, although,\n",
      "Average loss at step 72000: 3.370166\n",
      "Average loss at step 74000: 3.346489\n",
      "Average loss at step 76000: 3.318990\n",
      "Average loss at step 78000: 3.351664\n",
      "Average loss at step 80000: 3.377086\n",
      "Nearest to world: rinnan, ergaster, blackout, pinocchio, afl, conservatory, conversation, episcopalians,\n",
      "Nearest to first: second, last, next, third, final, fourth, same, best,\n",
      "Nearest to one: seven, six, two, five, four, eight, three, nine,\n",
      "Nearest to people: women, men, children, deaths, students, others, beersheba, ablation,\n",
      "Nearest to in: during, within, on, at, around, from, workbench, throughout,\n",
      "Nearest to state: government, percentile, states, standardisation, consented, city, geography, pointless,\n",
      "Nearest to no: any, little, persecuted, wag, hopefully, williams, bites, globemaster,\n",
      "Nearest to he: she, it, they, there, who, we, interception, soon,\n",
      "Nearest to would: will, could, may, can, must, might, should, cannot,\n",
      "Nearest to history: list, version, radiated, expend, mahuad, literature, constructing, faculty,\n",
      "Nearest to th: bc, eight, orr, geospatial, trolling, nd, clashing, duff,\n",
      "Nearest to five: seven, six, four, eight, three, nine, zero, two,\n",
      "Nearest to it: he, she, there, this, they, we, itself, never,\n",
      "Nearest to however: although, but, that, though, where, while, when, espagnole,\n",
      "Nearest to d: b, yak, p, e, feldspar, vcs, pedersen, ec,\n",
      "Nearest to when: before, after, if, though, while, during, although, where,\n",
      "Average loss at step 82000: 3.406748\n",
      "Average loss at step 84000: 3.408114\n",
      "Average loss at step 86000: 3.387386\n",
      "Average loss at step 88000: 3.349963\n",
      "Average loss at step 90000: 3.366085\n",
      "Nearest to world: rinnan, dur, afl, conservatory, moabite, episcopalians, conversation, tetrahedron,\n",
      "Nearest to first: second, last, next, final, biggest, same, regret, best,\n",
      "Nearest to one: seven, eight, six, two, four, three, five, nine,\n",
      "Nearest to people: women, children, men, students, americans, deaths, someone, things,\n",
      "Nearest to in: during, within, between, wexford, at, among, under, around,\n",
      "Nearest to state: percentile, government, city, states, standardisation, party, geography, lvarez,\n",
      "Nearest to no: any, little, only, persecuted, another, familiar, bella, bookseller,\n",
      "Nearest to he: she, it, they, who, there, soon, we, stating,\n",
      "Nearest to would: could, will, might, may, can, must, should, did,\n",
      "Nearest to history: list, expend, literature, employees, version, radiated, see, mahuad,\n",
      "Nearest to th: bc, eight, seven, st, pauling, clashing, trolling, geospatial,\n",
      "Nearest to five: seven, eight, four, six, three, nine, zero, two,\n",
      "Nearest to it: he, she, there, this, they, itself, we, then,\n",
      "Nearest to however: but, although, that, though, espagnole, where, especially, while,\n",
      "Nearest to d: b, yak, formality, feldspar, rb, theta, cygwin, appointing,\n",
      "Nearest to when: while, after, if, before, though, where, during, although,\n",
      "Average loss at step 92000: 3.393810\n",
      "Average loss at step 94000: 3.248681\n",
      "Average loss at step 96000: 3.358591\n",
      "Average loss at step 98000: 3.240393\n",
      "Average loss at step 100000: 3.360166\n",
      "Nearest to world: conservatory, rinnan, moabite, tetrahedron, afl, episcopalians, country, crew,\n",
      "Nearest to first: last, second, next, final, third, fourth, best, same,\n",
      "Nearest to one: two, seven, five, four, eight, six, three, nine,\n",
      "Nearest to people: women, children, men, students, someone, deaths, players, americans,\n",
      "Nearest to in: during, within, throughout, on, from, at, until, near,\n",
      "Nearest to state: percentile, city, states, standardisation, government, party, geography, pointless,\n",
      "Nearest to no: any, little, persecuted, another, only, familiar, webmaster, hopefully,\n",
      "Nearest to he: she, it, they, there, who, we, soon, roo,\n",
      "Nearest to would: could, will, might, may, can, should, must, did,\n",
      "Nearest to history: list, radiated, expend, literature, mahuad, see, fatherland, workmanship,\n",
      "Nearest to th: bc, rd, trolling, clashing, nd, pauling, margarine, duff,\n",
      "Nearest to five: seven, four, six, eight, three, two, zero, nine,\n",
      "Nearest to it: he, she, this, there, they, itself, we, often,\n",
      "Nearest to however: although, but, though, that, where, especially, espagnole, aliphatic,\n",
      "Nearest to d: b, yak, beige, pedersen, formality, wildcats, rb, bolivia,\n",
      "Nearest to when: while, if, where, although, after, though, before, during,\n"
     ]
    }
   ],
   "source": [
    "num_steps = 100001\n",
    "\n",
    "with tf.Session(graph=graph) as session:\n",
    "    tf.initialize_all_variables().run()\n",
    "    print('Initialized')\n",
    "    average_loss = 0\n",
    "    for step in range(num_steps):\n",
    "        batch_data, batch_labels = generate_batch(batch_size, num_skips, skip_window)\n",
    "        feed_dict = {train_dataset : batch_data, train_labels : batch_labels}\n",
    "        _, l = session.run([optimizer, loss], feed_dict=feed_dict)\n",
    "        average_loss += l\n",
    "        if step % 2000 == 0:\n",
    "            if step > 0:\n",
    "                average_loss = average_loss / 2000\n",
    "            # The average loss is an estimate of the loss over the last 2000 batches.\n",
    "            print('Average loss at step %d: %f' % (step, average_loss))\n",
    "            average_loss = 0\n",
    "        # note that this is expensive (~20% slowdown if computed every 500 steps)\n",
    "        if step % 10000 == 0:\n",
    "            sim = similarity.eval()\n",
    "            for i in xrange(valid_size):\n",
    "                valid_word = reverse_dictionary[valid_examples[i]]\n",
    "                top_k = 8 # number of nearest neighbors\n",
    "                nearest = (-sim[i, :]).argsort()[1:top_k+1]\n",
    "                log = 'Nearest to %s:' % valid_word\n",
    "                for k in xrange(top_k):\n",
    "                    close_word = reverse_dictionary[nearest[k]]\n",
    "                    log = '%s %s,' % (log, close_word)\n",
    "                print(log)\n",
    "    final_embeddings = normalized_embeddings.eval()"
   ]
  },
  {
   "cell_type": "code",
   "execution_count": 27,
   "metadata": {
    "cellView": "both",
    "colab": {
     "autoexec": {
      "startup": false,
      "wait_interval": 0
     }
    },
    "colab_type": "code",
    "collapsed": true,
    "id": "jjJXYA_XzV79"
   },
   "outputs": [],
   "source": [
    "num_points = 400\n",
    "\n",
    "tsne = TSNE(perplexity=30, n_components=2, init='pca', n_iter=5000)\n",
    "two_d_embeddings = tsne.fit_transform(final_embeddings[1:num_points+1, :])"
   ]
  },
  {
   "cell_type": "code",
   "execution_count": 28,
   "metadata": {
    "cellView": "both",
    "colab": {
     "autoexec": {
      "startup": false,
      "wait_interval": 0
     },
     "output_extras": [
      {
       "item_id": 1
      }
     ]
    },
    "colab_type": "code",
    "collapsed": false,
    "executionInfo": {
     "elapsed": 4763,
     "status": "ok",
     "timestamp": 1445965465525,
     "user": {
      "color": "#1FA15D",
      "displayName": "Vincent Vanhoucke",
      "isAnonymous": false,
      "isMe": true,
      "permissionId": "05076109866853157986",
      "photoUrl": "//lh6.googleusercontent.com/-cCJa7dTDcgQ/AAAAAAAAAAI/AAAAAAAACgw/r2EZ_8oYer4/s50-c-k-no/photo.jpg",
      "sessionId": "2f1ffade4c9f20de",
      "userId": "102167687554210253930"
     },
     "user_tz": 420
    },
    "id": "o_e0D_UezcDe",
    "outputId": "df22e4a5-e8ec-4e5e-d384-c6cf37c68c34"
   },
   "outputs": [
    {
     "data": {
      "image/png": "[encoded data removed]",
      "text/plain": [
       "<matplotlib.figure.Figure at 0x7fd79c02e9d0>"
      ]
     },
     "metadata": {},
     "output_type": "display_data"
    }
   ],
   "source": [
    "def plot(embeddings, labels):\n",
    "    assert embeddings.shape[0] >= len(labels), 'More labels than embeddings'\n",
    "    pylab.figure(figsize=(15,15))  # in inches\n",
    "    for i, label in enumerate(labels):\n",
    "        x, y = embeddings[i,:]\n",
    "        pylab.scatter(x, y)\n",
    "        pylab.annotate(label, xy=(x, y), xytext=(5, 2), textcoords='offset points',\n",
    "                   ha='right', va='bottom')\n",
    "    pylab.show()\n",
    "\n",
    "words = [reverse_dictionary[i] for i in range(1, num_points+1)]\n",
    "plot(two_d_embeddings, words)"
   ]
  },
  {
   "cell_type": "markdown",
   "metadata": {
    "colab_type": "text",
    "id": "QB5EFrBnpNnc"
   },
   "source": [
    "---\n",
    "\n",
    "Problem\n",
    "-------\n",
    "\n",
    "An alternative to Word2Vec is called [CBOW](http://arxiv.org/abs/1301.3781) (Continuous Bag of Words). In the CBOW model, instead of predicting a context word from a word vector, you predict a word from the sum of all the word vectors in its context. Implement and evaluate a CBOW model trained on the text8 dataset.\n",
    "\n",
    "---"
   ]
  },
  {
   "cell_type": "markdown",
   "metadata": {
    "collapsed": true
   },
   "source": [
    "Some context from the [TensorFlow web page](https://www.tensorflow.org/versions/master/tutorials/word2vec/index.html):\n",
    "\n",
    "\"Word2vec is a particularly computationally-efficient predictive model for learning word embeddings from raw text. It comes in two flavors, the Continuous Bag-of-Words model (CBOW) and the Skip-Gram model. Algorithmically, these models are similar, except that CBOW predicts target words (e.g. 'mat') from source context words ('the cat sits on the'), while the skip-gram does the inverse and predicts source context-words from the target words. This inversion might seem like an arbitrary choice, but statistically it has the effect that CBOW smoothes over a lot of the distributional information (by treating an entire context as one observation). For the most part, this turns out to be a useful thing for smaller datasets. However, skip-gram treats each context-target pair as a new observation, and this tends to do better when we have larger datasets.\""
   ]
  },
  {
   "cell_type": "markdown",
   "metadata": {},
   "source": [
    "There is a nice discussion of CBOW and skip-gram, at a high level, on the [TensorFlow word2vec tutorial page](https://www.tensorflow.org/versions/master/tutorials/word2vec/index.html) refernced above. The key thing to understand about CBOW vs skip-gram is that CBOW is attempting to predict a word from the surrounding context, while skip-gram is attempting to do the opposite - given a target word, it attempts to predict surrounding context."
   ]
  },
  {
   "cell_type": "markdown",
   "metadata": {},
   "source": [
    "Their illustration is nice. Consider:\n",
    "\n",
    "    the quick brown fox jumped over the lazy dog\n",
    "    \n",
    "If we consider a context window that is one word wide, the `([context], target)` pairing CBOW wants to use is:\n",
    "\n",
    "    ([the, brown], quick), ([quick, fox], brown), ([brown, jumped], fox), ([fox, over], jumped), etc.\n",
    "    \n",
    "In fact, what CBOW wants to do (?) is average the words in the context vector. Skip-gram, by contrast, wants to invert this data and use target to predic the context in pairs like `(target, context)`:\n",
    "\n",
    "    (quick, the), (quick, brown), (brown, quick), (brown, fox), (fox, brown), (fox, jumped), (jumped, fox), etc."
   ]
  },
  {
   "cell_type": "code",
   "execution_count": 30,
   "metadata": {
    "collapsed": false
   },
   "outputs": [
    {
     "name": "stdout",
     "output_type": "stream",
     "text": [
      "['the', 'quick', 'brown', 'fox', 'jumped', 'over', 'the', 'lazy', 'dog']\n"
     ]
    }
   ],
   "source": [
    "rawdata = 'the quick brown fox jumped over the lazy dog'.split()\n",
    "print rawdata"
   ]
  },
  {
   "cell_type": "code",
   "execution_count": 31,
   "metadata": {
    "collapsed": false
   },
   "outputs": [
    {
     "name": "stdout",
     "output_type": "stream",
     "text": [
      "[(['the', 'brown'], 'quick'), (['quick', 'fox'], 'brown'), (['brown', 'jumped'], 'fox'), (['fox', 'over'], 'jumped'), (['jumped', 'the'], 'over'), (['over', 'lazy'], 'the'), (['the', 'dog'], 'lazy')]\n"
     ]
    }
   ],
   "source": [
    "window_wing = 1\n",
    "window_size = 2 * window_wing + 1\n",
    "window_center_idx = window_size // 2\n",
    "first_idx = window_center_idx\n",
    "last_idx = len(data) - window_wing\n",
    "data = []\n",
    "for i in range(first_idx, last_idx):\n",
    "    window = rawdata[i - window_wing: 1 + i + window_wing]\n",
    "    target = window[window_center_idx]\n",
    "    context = window[0:window_center_idx] + window[window_center_idx + 1:]\n",
    "    val = (context, target)\n",
    "    data.append(val)\n",
    "    \n",
    "print data"
   ]
  },
  {
   "cell_type": "code",
   "execution_count": null,
   "metadata": {
    "collapsed": true
   },
   "outputs": [],
   "source": []
  }
 ],
 "metadata": {
  "colab": {
   "default_view": {},
   "name": "5_word2vec.ipynb",
   "provenance": [],
   "version": "0.3.2",
   "views": {}
  },
  "kernelspec": {
   "display_name": "Python 2",
   "language": "python",
   "name": "python2"
  },
  "language_info": {
   "codemirror_mode": {
    "name": "ipython",
    "version": 2
   },
   "file_extension": ".py",
   "mimetype": "text/x-python",
   "name": "python",
   "nbconvert_exporter": "python",
   "pygments_lexer": "ipython2",
   "version": "2.7.6"
  }
 },
 "nbformat": 4,
 "nbformat_minor": 0
}
