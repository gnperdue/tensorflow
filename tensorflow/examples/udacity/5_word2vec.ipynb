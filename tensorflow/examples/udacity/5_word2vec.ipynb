{
 "cells": [
  {
   "cell_type": "markdown",
   "metadata": {
    "colab_type": "text",
    "id": "D7tqLMoKF6uq"
   },
   "source": [
    "Deep Learning\n",
    "=============\n",
    "\n",
    "Assignment 5\n",
    "------------\n",
    "\n",
    "The goal of this assignment is to train a skip-gram model over [Text8](http://mattmahoney.net/dc/textdata) data."
   ]
  },
  {
   "cell_type": "markdown",
   "metadata": {},
   "source": [
    "Some additional reading:\n",
    "\n",
    "* https://www.tensorflow.org/versions/r0.7/tutorials/word2vec/index.html\n",
    "* http://www.folgertkarsdorp.nl/word2vec-an-introduction/\n",
    "* https://www.kaggle.com/c/word2vec-nlp-tutorial\n",
    "* http://www.cs.toronto.edu/~bonner/courses/2014s/csc321/lectures/lec5.pdf\n",
    "* http://www.cs.toronto.edu/~bonner/courses/2016s/csc321/webpages/lectures.htm\n",
    "* http://radimrehurek.com/gensim/models/word2vec.html"
   ]
  },
  {
   "cell_type": "code",
   "execution_count": 1,
   "metadata": {
    "cellView": "both",
    "colab": {
     "autoexec": {
      "startup": false,
      "wait_interval": 0
     }
    },
    "colab_type": "code",
    "collapsed": true,
    "id": "0K1ZyLn04QZf"
   },
   "outputs": [],
   "source": [
    "# These are all the modules we'll be using later. Make sure you can import them\n",
    "# before proceeding further.\n",
    "import collections\n",
    "import math\n",
    "import numpy as np\n",
    "import os\n",
    "import random\n",
    "import tensorflow as tf\n",
    "import zipfile\n",
    "from matplotlib import pylab\n",
    "from six.moves import range\n",
    "from six.moves.urllib.request import urlretrieve\n",
    "from sklearn.manifold import TSNE"
   ]
  },
  {
   "cell_type": "code",
   "execution_count": 2,
   "metadata": {
    "collapsed": true
   },
   "outputs": [],
   "source": [
    "%matplotlib inline"
   ]
  },
  {
   "cell_type": "markdown",
   "metadata": {
    "colab_type": "text",
    "id": "aCjPJE944bkV"
   },
   "source": [
    "Download the data from the source website if necessary."
   ]
  },
  {
   "cell_type": "code",
   "execution_count": 65,
   "metadata": {
    "cellView": "both",
    "colab": {
     "autoexec": {
      "startup": false,
      "wait_interval": 0
     },
     "output_extras": [
      {
       "item_id": 1
      }
     ]
    },
    "colab_type": "code",
    "collapsed": false,
    "executionInfo": {
     "elapsed": 14640,
     "status": "ok",
     "timestamp": 1445964482948,
     "user": {
      "color": "#1FA15D",
      "displayName": "Vincent Vanhoucke",
      "isAnonymous": false,
      "isMe": true,
      "permissionId": "05076109866853157986",
      "photoUrl": "//lh6.googleusercontent.com/-cCJa7dTDcgQ/AAAAAAAAAAI/AAAAAAAACgw/r2EZ_8oYer4/s50-c-k-no/photo.jpg",
      "sessionId": "2f1ffade4c9f20de",
      "userId": "102167687554210253930"
     },
     "user_tz": 420
    },
    "id": "RJ-o3UBUFtCw",
    "outputId": "c4ec222c-80b5-4298-e635-93ca9f79c3b7"
   },
   "outputs": [
    {
     "name": "stdout",
     "output_type": "stream",
     "text": [
      "Found and verified mytesttext.txt.zip\n"
     ]
    }
   ],
   "source": [
    "url = 'http://mattmahoney.net/dc/'\n",
    "\n",
    "def maybe_download(filename, expected_bytes):\n",
    "    \"\"\"Download a file if not present, and make sure it's the right size.\"\"\"\n",
    "    if not os.path.exists(filename):\n",
    "        filename, _ = urlretrieve(url + filename, filename)\n",
    "    statinfo = os.stat(filename)\n",
    "    if statinfo.st_size == expected_bytes:\n",
    "        print('Found and verified %s' % filename)\n",
    "    else:\n",
    "        print(statinfo.st_size)\n",
    "        raise Exception(\n",
    "          'Failed to verify ' + filename + '. Can you get to it with a browser?')\n",
    "    return filename\n",
    "\n",
    "filename = maybe_download('mytesttext.txt.zip', 415)   # of course, this file is local\n",
    "vocabulary_size = 30\n",
    "\n",
    "#filename = maybe_download('text8.zip', 31344016)\n",
    "#vocabulary_size = 50000"
   ]
  },
  {
   "cell_type": "markdown",
   "metadata": {
    "colab_type": "text",
    "id": "Zqz3XiqI4mZT"
   },
   "source": [
    "Read the data into a string."
   ]
  },
  {
   "cell_type": "code",
   "execution_count": 66,
   "metadata": {
    "cellView": "both",
    "colab": {
     "autoexec": {
      "startup": false,
      "wait_interval": 0
     },
     "output_extras": [
      {
       "item_id": 1
      }
     ]
    },
    "colab_type": "code",
    "collapsed": false,
    "executionInfo": {
     "elapsed": 28844,
     "status": "ok",
     "timestamp": 1445964497165,
     "user": {
      "color": "#1FA15D",
      "displayName": "Vincent Vanhoucke",
      "isAnonymous": false,
      "isMe": true,
      "permissionId": "05076109866853157986",
      "photoUrl": "//lh6.googleusercontent.com/-cCJa7dTDcgQ/AAAAAAAAAAI/AAAAAAAACgw/r2EZ_8oYer4/s50-c-k-no/photo.jpg",
      "sessionId": "2f1ffade4c9f20de",
      "userId": "102167687554210253930"
     },
     "user_tz": 420
    },
    "id": "Mvf09fjugFU_",
    "outputId": "e3a928b4-1645-4fe8-be17-fcf47de5716d"
   },
   "outputs": [
    {
     "name": "stdout",
     "output_type": "stream",
     "text": [
      "['mytesttext.txt']\n",
      "Data size 217\n"
     ]
    }
   ],
   "source": [
    "def read_data(filename):\n",
    "    f = zipfile.ZipFile(filename)\n",
    "    print f.namelist()\n",
    "    # should be yield here?\n",
    "    for name in f.namelist():\n",
    "        return tf.compat.as_str(f.read(name)).split()\n",
    "    f.close()\n",
    "\n",
    "words = read_data(filename)\n",
    "print('Data size %d' % len(words))"
   ]
  },
  {
   "cell_type": "code",
   "execution_count": 67,
   "metadata": {
    "collapsed": false
   },
   "outputs": [
    {
     "name": "stdout",
     "output_type": "stream",
     "text": [
      "33\n"
     ]
    }
   ],
   "source": [
    "print len(set(words))"
   ]
  },
  {
   "cell_type": "code",
   "execution_count": 68,
   "metadata": {
    "collapsed": false
   },
   "outputs": [
    {
     "data": {
      "text/plain": [
       "['test',\n",
       " 'transmission',\n",
       " 'test',\n",
       " 'transmission',\n",
       " 'test',\n",
       " 'begin',\n",
       " 'begin',\n",
       " 'transmission',\n",
       " 'test',\n",
       " 'transmission']"
      ]
     },
     "execution_count": 68,
     "metadata": {},
     "output_type": "execute_result"
    }
   ],
   "source": [
    "words[:10]"
   ]
  },
  {
   "cell_type": "code",
   "execution_count": 69,
   "metadata": {
    "collapsed": false
   },
   "outputs": [
    {
     "data": {
      "text/plain": [
       "['transmission',\n",
       " 'end',\n",
       " 'transmission',\n",
       " 'end',\n",
       " 'test',\n",
       " 'this',\n",
       " 'is',\n",
       " 'not',\n",
       " 'a',\n",
       " 'test',\n",
       " 'we',\n",
       " 'are',\n",
       " 'all',\n",
       " 'dead',\n",
       " 'now']"
      ]
     },
     "execution_count": 69,
     "metadata": {},
     "output_type": "execute_result"
    }
   ],
   "source": [
    "words[-15:]"
   ]
  },
  {
   "cell_type": "code",
   "execution_count": 70,
   "metadata": {
    "collapsed": false
   },
   "outputs": [
    {
     "name": "stdout",
     "output_type": "stream",
     "text": [
      "[(0, 5), (1, 3), (2, 2), (3, 1)]\n"
     ]
    }
   ],
   "source": [
    "# make sure collections.Counter does what we expect...\n",
    "testl = [0, 0, 0, 0, 0, 1, 1, 1, 2, 2, 3]\n",
    "print collections.Counter(testl).most_common(len(testl) - 1)"
   ]
  },
  {
   "cell_type": "code",
   "execution_count": 71,
   "metadata": {
    "collapsed": false
   },
   "outputs": [
    {
     "name": "stdout",
     "output_type": "stream",
     "text": [
      "[(0, 5), (1, 3)]\n"
     ]
    }
   ],
   "source": [
    "print collections.Counter(testl).most_common(2)"
   ]
  },
  {
   "cell_type": "markdown",
   "metadata": {
    "colab_type": "text",
    "id": "Zdw6i4F8glpp"
   },
   "source": [
    "Build the dictionary and replace rare words with UNK token."
   ]
  },
  {
   "cell_type": "code",
   "execution_count": 72,
   "metadata": {
    "cellView": "both",
    "colab": {
     "autoexec": {
      "startup": false,
      "wait_interval": 0
     },
     "output_extras": [
      {
       "item_id": 1
      }
     ]
    },
    "colab_type": "code",
    "collapsed": false,
    "executionInfo": {
     "elapsed": 28849,
     "status": "ok",
     "timestamp": 1445964497178,
     "user": {
      "color": "#1FA15D",
      "displayName": "Vincent Vanhoucke",
      "isAnonymous": false,
      "isMe": true,
      "permissionId": "05076109866853157986",
      "photoUrl": "//lh6.googleusercontent.com/-cCJa7dTDcgQ/AAAAAAAAAAI/AAAAAAAACgw/r2EZ_8oYer4/s50-c-k-no/photo.jpg",
      "sessionId": "2f1ffade4c9f20de",
      "userId": "102167687554210253930"
     },
     "user_tz": 420
    },
    "id": "gAL1EECXeZsD",
    "outputId": "3fb4ecd1-df67-44b6-a2dc-2291730970b2"
   },
   "outputs": [
    {
     "name": "stdout",
     "output_type": "stream",
     "text": [
      "('Most common words (+UNK)', [['UNK', 4], ('test', 45), ('a', 23), ('this', 22), ('is', 20)])\n",
      "('Sample data', [1, 5, 1, 5, 1, 16, 16, 5, 1, 5])\n"
     ]
    }
   ],
   "source": [
    "def build_dataset(words):\n",
    "    count = [['UNK', -1]]\n",
    "    count.extend(collections.Counter(words).most_common(vocabulary_size - 1))\n",
    "    dictionary = dict()\n",
    "    for word, _ in count:\n",
    "        dictionary[word] = len(dictionary)  # where the word showed in the collection sorted by most common\n",
    "    data = list()\n",
    "    unk_count = 0\n",
    "    for word in words:\n",
    "        if word in dictionary:\n",
    "            index = dictionary[word]\n",
    "        else:\n",
    "            index = 0  # dictionary['UNK']\n",
    "            unk_count = unk_count + 1\n",
    "        data.append(index)\n",
    "    \n",
    "    count[0][1] = unk_count\n",
    "    reverse_dictionary = dict(zip(dictionary.values(), dictionary.keys())) \n",
    "    return data, count, dictionary, reverse_dictionary\n",
    "\n",
    "data, count, dictionary, reverse_dictionary = build_dataset(words)\n",
    "print('Most common words (+UNK)', count[:5])\n",
    "print('Sample data', data[:10])\n",
    "del words  # Hint to reduce memory."
   ]
  },
  {
   "cell_type": "code",
   "execution_count": 74,
   "metadata": {
    "collapsed": false
   },
   "outputs": [
    {
     "name": "stdout",
     "output_type": "stream",
     "text": [
      "('dict sample keys  :', ['all', 'set', 'be', 'is', 'we', 'dead', 'are', 'your', 'if', 'UNK'])\n",
      "('dict sample values:', [11, 25, 15, 4, 12, 13, 26, 7, 18, 0])\n"
     ]
    }
   ],
   "source": [
    "#print dictionary['the']\n",
    "print('dict sample keys  :', dictionary.keys()[:10])\n",
    "print('dict sample values:', dictionary.values()[:10])"
   ]
  },
  {
   "cell_type": "code",
   "execution_count": 75,
   "metadata": {
    "collapsed": false
   },
   "outputs": [
    {
     "name": "stdout",
     "output_type": "stream",
     "text": [
      "('sorted dict sample keys  :', ['UNK', 'a', 'adjust', 'all', 'are', 'be', 'begin', 'dead', 'do', 'end'])\n"
     ]
    }
   ],
   "source": [
    "print('sorted dict sample keys  :', sorted(dictionary.keys())[:10])"
   ]
  },
  {
   "cell_type": "code",
   "execution_count": 76,
   "metadata": {
    "collapsed": false
   },
   "outputs": [
    {
     "name": "stdout",
     "output_type": "stream",
     "text": [
      "('sorted dict sample vals  :', [0, 1, 2, 3, 4, 5, 6, 7, 8, 9])\n"
     ]
    }
   ],
   "source": [
    "print('sorted dict sample vals  :', sorted(dictionary.values())[:10])"
   ]
  },
  {
   "cell_type": "code",
   "execution_count": 77,
   "metadata": {
    "collapsed": false
   },
   "outputs": [
    {
     "name": "stdout",
     "output_type": "stream",
     "text": [
      "('dict sample keys (at end)  :', ['may', 'volume', 'not', 'now', 'a', 'this', 'will', 'transmission', 'adjust', 'were'])\n",
      "('dict sample values (at end):', [29, 22, 6, 14, 2, 3, 23, 5, 10, 24])\n"
     ]
    }
   ],
   "source": [
    "print('dict sample keys (at end)  :', dictionary.keys()[-10:])\n",
    "print('dict sample values (at end):', dictionary.values()[-10:])"
   ]
  },
  {
   "cell_type": "code",
   "execution_count": 78,
   "metadata": {
    "collapsed": false
   },
   "outputs": [
    {
     "name": "stdout",
     "output_type": "stream",
     "text": [
      "('rev dict sample keys  :', [0, 1, 2, 3, 4, 5, 6, 7, 8, 9, 10, 11, 12, 13, 14, 15, 16, 17, 18, 19])\n",
      "('rev dict sample values:', ['UNK', 'test', 'a', 'this', 'is', 'transmission', 'not', 'your', 'do', 'only', 'adjust', 'all', 'we', 'dead', 'now', 'be', 'begin', 'end', 'if', 'receivers'])\n"
     ]
    }
   ],
   "source": [
    "print('rev dict sample keys  :', reverse_dictionary.keys()[:20])\n",
    "print('rev dict sample values:', reverse_dictionary.values()[:20])"
   ]
  },
  {
   "cell_type": "code",
   "execution_count": 79,
   "metadata": {
    "collapsed": false
   },
   "outputs": [
    {
     "name": "stdout",
     "output_type": "stream",
     "text": [
      "('rev dict sample keys  :', [10, 11, 12, 13, 14, 15, 16, 17, 18, 19, 20, 21, 22, 23, 24, 25, 26, 27, 28, 29])\n"
     ]
    }
   ],
   "source": [
    "print('rev dict sample keys  :', reverse_dictionary.keys()[-20:])"
   ]
  },
  {
   "cell_type": "code",
   "execution_count": 80,
   "metadata": {
    "collapsed": false
   },
   "outputs": [
    {
     "name": "stdout",
     "output_type": "stream",
     "text": [
      "('Most common words (+UNK)', [['UNK', 4], ('test', 45), ('a', 23), ('this', 22), ('is', 20), ('transmission', 15), ('not', 10), ('your', 7), ('do', 6), ('only', 6), ('adjust', 6), ('all', 5), ('we', 5), ('dead', 5), ('now', 5), ('be', 4), ('begin', 4), ('end', 4), ('if', 3), ('receivers', 3)])\n"
     ]
    }
   ],
   "source": [
    "print('Most common words (+UNK)', count[:20])"
   ]
  },
  {
   "cell_type": "code",
   "execution_count": 81,
   "metadata": {
    "collapsed": false
   },
   "outputs": [
    {
     "name": "stdout",
     "output_type": "stream",
     "text": [
      "00000001, test\n",
      "00000005, transmission\n",
      "00000001, test\n",
      "00000005, transmission\n",
      "00000001, test\n",
      "00000016, begin\n",
      "00000016, begin\n",
      "00000005, transmission\n",
      "00000001, test\n",
      "00000005, transmission\n"
     ]
    }
   ],
   "source": [
    "for d in data[:10]:\n",
    "    print '{:08d}, {}'.format(d, reverse_dictionary[d])"
   ]
  },
  {
   "cell_type": "markdown",
   "metadata": {},
   "source": [
    "Interesting that `reversed_dictionary` has stayed in order here... don't think we can count on that..."
   ]
  },
  {
   "cell_type": "markdown",
   "metadata": {
    "colab_type": "text",
    "id": "lFwoyygOmWsL"
   },
   "source": [
    "Function to generate a training batch for the skip-gram model."
   ]
  },
  {
   "cell_type": "code",
   "execution_count": 129,
   "metadata": {
    "cellView": "both",
    "colab": {
     "autoexec": {
      "startup": false,
      "wait_interval": 0
     },
     "output_extras": [
      {
       "item_id": 1
      }
     ]
    },
    "colab_type": "code",
    "collapsed": false,
    "executionInfo": {
     "elapsed": 113,
     "status": "ok",
     "timestamp": 1445964901989,
     "user": {
      "color": "#1FA15D",
      "displayName": "Vincent Vanhoucke",
      "isAnonymous": false,
      "isMe": true,
      "permissionId": "05076109866853157986",
      "photoUrl": "//lh6.googleusercontent.com/-cCJa7dTDcgQ/AAAAAAAAAAI/AAAAAAAACgw/r2EZ_8oYer4/s50-c-k-no/photo.jpg",
      "sessionId": "2f1ffade4c9f20de",
      "userId": "102167687554210253930"
     },
     "user_tz": 420
    },
    "id": "w9APjA-zmfjV",
    "outputId": "67cccb02-cdaf-4e47-d489-43bcc8d57bb8"
   },
   "outputs": [
    {
     "name": "stdout",
     "output_type": "stream",
     "text": [
      "('data:', ['test', 'transmission', 'test', 'transmission', 'test', 'begin', 'begin', 'transmission'])\n",
      "\n",
      "with num_skips = 2 and skip_window = 1:\n",
      "('    batch:', ['transmission', 'transmission', 'test', 'test', 'transmission', 'transmission', 'test', 'test'])\n",
      "('    labels:', ['test', 'test', 'transmission', 'transmission', 'test', 'test', 'transmission', 'begin'])\n",
      "\n",
      "with num_skips = 4 and skip_window = 2:\n",
      "('    batch:', ['test', 'test', 'test', 'test', 'transmission', 'transmission', 'transmission', 'transmission'])\n",
      "('    labels:', ['test', 'test', 'transmission', 'transmission', 'test', 'begin', 'transmission', 'test'])\n"
     ]
    }
   ],
   "source": [
    "data_index = 0\n",
    "\n",
    "def generate_batch(batch_size, num_skips, skip_window):\n",
    "    \"\"\"\n",
    "    basically, loop through the data taking a window of size `skip_window`\n",
    "    to each side of each word and making all those words entries in a \n",
    "    `labels` vector corresponding (each of them) to the center value of\n",
    "    the total window. that center value goes in the batch vector, `num_skips`\n",
    "    times. `num_skips` is counting the number of repetitions of the center\n",
    "    word, and if it is less than twice the `skip_window`, not all the  words\n",
    "    from the surrounding context will be used when filling the labels vector\n",
    "    \"\"\"\n",
    "    # let's keep track of where we are in the data\n",
    "    global data_index\n",
    "    # the batch size must be evenly divisible by the number of skips\n",
    "    assert batch_size % num_skips == 0\n",
    "    assert num_skips <= 2 * skip_window\n",
    "    batch = np.ndarray(shape=(batch_size), dtype=np.int32)\n",
    "    labels = np.ndarray(shape=(batch_size, 1), dtype=np.int32)\n",
    "    # how much data do we traverse per skip?\n",
    "    span = 2 * skip_window + 1 # [ skip_window target skip_window ]\n",
    "    # hold the data for the minibatch\n",
    "    buffer = collections.deque(maxlen=span)\n",
    "    # fill the buffer with the next `span` words of data\n",
    "    for _ in range(span):\n",
    "        buffer.append(data[data_index])\n",
    "        data_index = (data_index + 1) % len(data)\n",
    "    for i in range(batch_size // num_skips):\n",
    "        target = skip_window  # target label at the center of the buffer\n",
    "        targets_to_avoid = [ skip_window ]\n",
    "        # this looks wonky, but we're picking words randomly from \n",
    "        # the group of words in the 'window' around the target - we\n",
    "        # might use parameters such that we don't just use all of\n",
    "        # them, so this is why we are picking randomly and trying to\n",
    "        # avoid picking the same word twice (by index), etc.\n",
    "        for j in range(num_skips):\n",
    "            # find a target that isn't in our \"avoid\" list\n",
    "            while target in targets_to_avoid:\n",
    "                target = random.randint(0, span - 1)\n",
    "            # put the selected target in our list to avoid\n",
    "            targets_to_avoid.append(target)\n",
    "            batch[i * num_skips + j] = buffer[skip_window]\n",
    "            labels[i * num_skips + j, 0] = buffer[target]\n",
    "        buffer.append(data[data_index])\n",
    "        data_index = (data_index + 1) % len(data)\n",
    "    return batch, labels\n",
    "\n",
    "batch_size = 8\n",
    "print('data:', [reverse_dictionary[di] for di in data[:batch_size]])\n",
    "for num_skips, skip_window in [(2, 1), (4, 2)]:\n",
    "    data_index = 0\n",
    "    batch, labels = generate_batch(batch_size=batch_size, num_skips=num_skips, skip_window=skip_window)\n",
    "    print('\\nwith num_skips = %d and skip_window = %d:' % (num_skips, skip_window))\n",
    "    print('    batch:', [reverse_dictionary[bi] for bi in batch])\n",
    "    print('    labels:', [reverse_dictionary[li] for li in labels.reshape(batch_size)])"
   ]
  },
  {
   "cell_type": "code",
   "execution_count": 130,
   "metadata": {
    "collapsed": false
   },
   "outputs": [
    {
     "name": "stdout",
     "output_type": "stream",
     "text": [
      "('data:', ['test', 'transmission', 'test', 'transmission', 'test', 'begin', 'begin', 'transmission', 'test', 'transmission', 'test', 'transmission'])\n",
      "\n",
      "with num_skips = 2 and skip_window = 1:\n",
      "('    batch:', ['transmission', 'transmission', 'test', 'test', 'transmission', 'transmission', 'test', 'test', 'begin', 'begin', 'begin', 'begin'])\n",
      "('    labels:', ['test', 'test', 'transmission', 'transmission', 'test', 'test', 'transmission', 'begin', 'test', 'begin', 'begin', 'transmission'])\n",
      "\n",
      "with num_skips = 4 and skip_window = 2:\n",
      "('    batch:', ['test', 'test', 'test', 'test', 'transmission', 'transmission', 'transmission', 'transmission', 'test', 'test', 'test', 'test'])\n",
      "('    labels:', ['test', 'transmission', 'transmission', 'test', 'begin', 'test', 'transmission', 'test', 'begin', 'transmission', 'test', 'begin'])\n"
     ]
    }
   ],
   "source": [
    "batch_size = 12\n",
    "print('data:', [reverse_dictionary[di] for di in data[:batch_size]])\n",
    "for num_skips, skip_window in [(2, 1), (4, 2)]:\n",
    "    data_index = 0\n",
    "    batch, labels = generate_batch(batch_size=batch_size, num_skips=num_skips, skip_window=skip_window)\n",
    "    print('\\nwith num_skips = %d and skip_window = %d:' % (num_skips, skip_window))\n",
    "    print('    batch:', [reverse_dictionary[bi] for bi in batch])\n",
    "    print('    labels:', [reverse_dictionary[li] for li in labels.reshape(batch_size)])"
   ]
  },
  {
   "cell_type": "code",
   "execution_count": 131,
   "metadata": {
    "collapsed": false
   },
   "outputs": [
    {
     "name": "stdout",
     "output_type": "stream",
     "text": [
      "('data:', ['test', 'transmission', 'test', 'transmission', 'test', 'begin', 'begin', 'transmission', 'test', 'transmission', 'test', 'transmission', 'begin', 'transmission', 'test', 'transmittion'])\n",
      "\n",
      "with num_skips = 2 and skip_window = 1:\n",
      "('    batch:', ['transmission', 'transmission', 'test', 'test', 'transmission', 'transmission', 'test', 'test', 'begin', 'begin', 'begin', 'begin', 'transmission', 'transmission', 'test', 'test'])\n",
      "('    labels:', ['test', 'test', 'transmission', 'transmission', 'test', 'test', 'begin', 'transmission', 'test', 'begin', 'begin', 'transmission', 'test', 'begin', 'transmission', 'transmission'])\n",
      "\n",
      "with num_skips = 4 and skip_window = 3:\n",
      "('    batch:', ['transmission', 'transmission', 'transmission', 'transmission', 'test', 'test', 'test', 'test', 'begin', 'begin', 'begin', 'begin', 'begin', 'begin', 'begin', 'begin'])\n",
      "('    labels:', ['test', 'begin', 'test', 'test', 'test', 'begin', 'transmission', 'begin', 'transmission', 'transmission', 'test', 'test', 'test', 'transmission', 'begin', 'test'])\n"
     ]
    }
   ],
   "source": [
    "batch_size = 16\n",
    "print('data:', [reverse_dictionary[di] for di in data[:batch_size]])\n",
    "for num_skips, skip_window in [(2, 1), (4, 3)]:\n",
    "    data_index = 0\n",
    "    batch, labels = generate_batch(batch_size=batch_size, num_skips=num_skips, skip_window=skip_window)\n",
    "    print('\\nwith num_skips = %d and skip_window = %d:' % (num_skips, skip_window))\n",
    "    print('    batch:', [reverse_dictionary[bi] for bi in batch])\n",
    "    print('    labels:', [reverse_dictionary[li] for li in labels.reshape(batch_size)])"
   ]
  },
  {
   "cell_type": "code",
   "execution_count": 132,
   "metadata": {
    "collapsed": false
   },
   "outputs": [
    {
     "name": "stdout",
     "output_type": "stream",
     "text": [
      "('data:', ['test', 'transmission', 'test', 'transmission', 'test', 'begin', 'begin', 'transmission'])\n",
      "\n",
      "with num_skips = 2 and skip_window = 1:\n",
      "('    batch:', ['transmission', 'transmission', 'test', 'test', 'transmission', 'transmission', 'test', 'test'])\n",
      "('    labels:', ['test', 'test', 'transmission', 'transmission', 'test', 'test', 'begin', 'transmission'])\n",
      "\n",
      "with num_skips = 4 and skip_window = 2:\n",
      "('    batch:', ['test', 'test', 'test', 'test', 'transmission', 'transmission', 'transmission', 'transmission'])\n",
      "('    labels:', ['transmission', 'test', 'transmission', 'test', 'test', 'begin', 'transmission', 'test'])\n"
     ]
    }
   ],
   "source": [
    "batch_size = 8\n",
    "print('data:', [reverse_dictionary[di] for di in data[:batch_size]])\n",
    "for num_skips, skip_window in [(2, 1), (4, 2)]:\n",
    "    data_index = 0\n",
    "    batch, labels = generate_batch(batch_size=batch_size, num_skips=num_skips, skip_window=skip_window)\n",
    "    print('\\nwith num_skips = %d and skip_window = %d:' % (num_skips, skip_window))\n",
    "    print('    batch:', [reverse_dictionary[bi] for bi in batch])\n",
    "    print('    labels:', [reverse_dictionary[li] for li in labels.reshape(batch_size)])"
   ]
  },
  {
   "cell_type": "markdown",
   "metadata": {
    "colab_type": "text",
    "id": "Ofd1MbBuwiva"
   },
   "source": [
    "Train a skip-gram model."
   ]
  },
  {
   "cell_type": "code",
   "execution_count": 140,
   "metadata": {
    "collapsed": false
   },
   "outputs": [],
   "source": [
    "data_index = 0\n",
    "\n",
    "batch_size = 4\n",
    "embedding_size = 5\n",
    "skip_window = 1\n",
    "num_skips = 2\n",
    "\n",
    "valid_size = 4\n",
    "valid_window = 7\n",
    "valid_examples = np.array(random.sample(range(valid_window), valid_size))\n",
    "num_sampled = 6"
   ]
  },
  {
   "cell_type": "code",
   "execution_count": 141,
   "metadata": {
    "collapsed": true
   },
   "outputs": [],
   "source": [
    "# Input data.\n",
    "train_dataset = tf.placeholder(tf.int32, shape=[batch_size])\n",
    "train_labels = tf.placeholder(tf.int32, shape=[batch_size, 1])\n",
    "valid_dataset = tf.constant(valid_examples, dtype=tf.int32)"
   ]
  },
  {
   "cell_type": "code",
   "execution_count": 142,
   "metadata": {
    "collapsed": true
   },
   "outputs": [],
   "source": [
    "# Variables\n",
    "embeddings = tf.Variable(tf.random_uniform([vocabulary_size, embedding_size], -1.0, 1.0))\n",
    "softmax_weights = tf.Variable(tf.truncated_normal([vocabulary_size, embedding_size], \n",
    "                                                  stddev=1.0 / math.sqrt(embedding_size)))\n",
    "softmax_biases = tf.Variable(tf.zeros([vocabulary_size]))"
   ]
  },
  {
   "cell_type": "code",
   "execution_count": 143,
   "metadata": {
    "collapsed": true
   },
   "outputs": [],
   "source": [
    "embed = tf.nn.embedding_lookup(embeddings, train_dataset)\n",
    "loss = tf.reduce_mean(tf.nn.sampled_softmax_loss(softmax_weights, \n",
    "                                                 softmax_biases, \n",
    "                                                 embed, \n",
    "                                                 train_labels, \n",
    "                                                 num_sampled, \n",
    "                                                 vocabulary_size))\n",
    "optimizer = tf.train.AdagradOptimizer(1.0).minimize(loss)"
   ]
  },
  {
   "cell_type": "code",
   "execution_count": 144,
   "metadata": {
    "collapsed": false
   },
   "outputs": [
    {
     "name": "stderr",
     "output_type": "stream",
     "text": [
      "Exception AssertionError: AssertionError() in <bound method InteractiveSession.__del__ of <tensorflow.python.client.session.InteractiveSession object at 0x7fe69b121b50>> ignored\n"
     ]
    }
   ],
   "source": [
    "sess0 = tf.InteractiveSession()\n",
    "\n",
    "init_op = tf.initialize_all_variables()\n",
    "sess0.run(init_op)\n",
    "\n",
    "batch_data, batch_labels = generate_batch(batch_size, num_skips, skip_window)\n",
    "feed_dict = {train_dataset : batch_data, train_labels : batch_labels}"
   ]
  },
  {
   "cell_type": "code",
   "execution_count": 145,
   "metadata": {
    "collapsed": false
   },
   "outputs": [
    {
     "data": {
      "text/plain": [
       "array([4, 5], dtype=int32)"
      ]
     },
     "execution_count": 145,
     "metadata": {},
     "output_type": "execute_result"
    }
   ],
   "source": [
    "sess0.run(tf.shape(embed), feed_dict=feed_dict)"
   ]
  },
  {
   "cell_type": "code",
   "execution_count": 146,
   "metadata": {
    "collapsed": false
   },
   "outputs": [
    {
     "data": {
      "text/plain": [
       "array([4], dtype=int32)"
      ]
     },
     "execution_count": 146,
     "metadata": {},
     "output_type": "execute_result"
    }
   ],
   "source": [
    "sess0.run(tf.shape(tf.nn.sampled_softmax_loss(softmax_weights, \n",
    "                                                 softmax_biases, \n",
    "                                                 embed, \n",
    "                                                 train_labels, \n",
    "                                                 num_sampled, \n",
    "                                                 vocabulary_size)), feed_dict=feed_dict)"
   ]
  },
  {
   "cell_type": "code",
   "execution_count": 147,
   "metadata": {
    "collapsed": false
   },
   "outputs": [
    {
     "data": {
      "text/plain": [
       "array([], dtype=int32)"
      ]
     },
     "execution_count": 147,
     "metadata": {},
     "output_type": "execute_result"
    }
   ],
   "source": [
    "sess0.run(tf.shape(loss), feed_dict=feed_dict)"
   ]
  },
  {
   "cell_type": "code",
   "execution_count": 148,
   "metadata": {
    "collapsed": false
   },
   "outputs": [
    {
     "data": {
      "text/plain": [
       "[None, 2.893796]"
      ]
     },
     "execution_count": 148,
     "metadata": {},
     "output_type": "execute_result"
    }
   ],
   "source": [
    "sess0.run([optimizer, loss], feed_dict=feed_dict)"
   ]
  },
  {
   "cell_type": "code",
   "execution_count": 149,
   "metadata": {
    "collapsed": false
   },
   "outputs": [
    {
     "data": {
      "text/plain": [
       "array([4], dtype=int32)"
      ]
     },
     "execution_count": 149,
     "metadata": {},
     "output_type": "execute_result"
    }
   ],
   "source": [
    "sess0.run(tf.shape(valid_examples), feed_dict=feed_dict)"
   ]
  },
  {
   "cell_type": "code",
   "execution_count": 150,
   "metadata": {
    "collapsed": false
   },
   "outputs": [
    {
     "data": {
      "text/plain": [
       "array([30,  5], dtype=int32)"
      ]
     },
     "execution_count": 150,
     "metadata": {},
     "output_type": "execute_result"
    }
   ],
   "source": [
    "sess0.run(tf.shape(softmax_weights))"
   ]
  },
  {
   "cell_type": "code",
   "execution_count": 151,
   "metadata": {
    "collapsed": false
   },
   "outputs": [
    {
     "data": {
      "text/plain": [
       "array([30], dtype=int32)"
      ]
     },
     "execution_count": 151,
     "metadata": {},
     "output_type": "execute_result"
    }
   ],
   "source": [
    "sess0.run(tf.shape(softmax_biases))"
   ]
  },
  {
   "cell_type": "code",
   "execution_count": 152,
   "metadata": {
    "collapsed": false
   },
   "outputs": [
    {
     "data": {
      "text/plain": [
       "array([4, 5], dtype=int32)"
      ]
     },
     "execution_count": 152,
     "metadata": {},
     "output_type": "execute_result"
    }
   ],
   "source": [
    "sess0.run(tf.shape(embed), feed_dict=feed_dict)"
   ]
  },
  {
   "cell_type": "code",
   "execution_count": 153,
   "metadata": {
    "collapsed": false
   },
   "outputs": [
    {
     "data": {
      "text/plain": [
       "array([4, 1], dtype=int32)"
      ]
     },
     "execution_count": 153,
     "metadata": {},
     "output_type": "execute_result"
    }
   ],
   "source": [
    "sess0.run(tf.shape(train_labels), feed_dict=feed_dict)"
   ]
  },
  {
   "cell_type": "code",
   "execution_count": 154,
   "metadata": {
    "collapsed": false
   },
   "outputs": [
    {
     "name": "stdout",
     "output_type": "stream",
     "text": [
      "[] [] 6 30\n"
     ]
    }
   ],
   "source": [
    "print sess0.run(tf.shape(num_sampled)), sess0.run(tf.shape(vocabulary_size)), num_sampled, vocabulary_size"
   ]
  },
  {
   "cell_type": "code",
   "execution_count": 25,
   "metadata": {
    "cellView": "both",
    "colab": {
     "autoexec": {
      "startup": false,
      "wait_interval": 0
     }
    },
    "colab_type": "code",
    "collapsed": true,
    "id": "8pQKsV4Vwlzy"
   },
   "outputs": [],
   "source": [
    "data_index = 0\n",
    "\n",
    "batch_size = 128\n",
    "embedding_size = 128 # Dimension of the embedding vector.\n",
    "skip_window = 1      # How many words to consider left and right.\n",
    "num_skips = 2        # How many times to reuse an input to generate a label.\n",
    "\n",
    "# We pick a random validation set to sample nearest neighbors. here we limit the\n",
    "# validation samples to the words that have a low numeric ID, which by\n",
    "# construction are also the most frequent. \n",
    "valid_size = 16    # Random set of words to evaluate similarity on.\n",
    "valid_window = 100 # Only pick dev samples in the head of the distribution.\n",
    "valid_examples = np.array(random.sample(range(valid_window), valid_size))\n",
    "num_sampled = 64   # Number of negative examples to sample.\n",
    "\n",
    "graph = tf.Graph()\n",
    "\n",
    "with graph.as_default():\n",
    "\n",
    "    # Input data.\n",
    "    train_dataset = tf.placeholder(tf.int32, shape=[batch_size])\n",
    "    train_labels = tf.placeholder(tf.int32, shape=[batch_size, 1])\n",
    "    valid_dataset = tf.constant(valid_examples, dtype=tf.int32)\n",
    "  \n",
    "    # Variables - aren't we supposed to have two weight matrices? - here, the embeddings are our weight matrix\n",
    "    # connecting us to a hidden layer, and the softmax weights (and biases) are connecting us to the output \n",
    "    # so this is like: (vocab, emb) dot (emb, vocab).T\n",
    "    embeddings = tf.Variable(tf.random_uniform([vocabulary_size, embedding_size], -1.0, 1.0))\n",
    "    softmax_weights = tf.Variable(tf.truncated_normal([vocabulary_size, embedding_size], \n",
    "                                                      stddev=1.0 / math.sqrt(embedding_size)))\n",
    "    softmax_biases = tf.Variable(tf.zeros([vocabulary_size]))\n",
    "  \n",
    "    # Model.\n",
    "    # Look up embeddings for inputs. return tensor has shape: shape(train_dataset) + shape(embeddings)[1:],\n",
    "    # so (batch, vocab-1, embed_sz) ? Here we look up ids=`train_dataset` in a list of embedding tensors\n",
    "    # (=`params`) \n",
    "    embed = tf.nn.embedding_lookup(embeddings, train_dataset)\n",
    "    # Compute the softmax loss, using a sample of the negative labels each time.\n",
    "    loss = tf.reduce_mean(tf.nn.sampled_softmax_loss(softmax_weights, \n",
    "                                                     softmax_biases, \n",
    "                                                     embed, \n",
    "                                                     train_labels, \n",
    "                                                     num_sampled, \n",
    "                                                     vocabulary_size))\n",
    "\n",
    "    # Optimizer.\n",
    "    optimizer = tf.train.AdagradOptimizer(1.0).minimize(loss)\n",
    "  \n",
    "    # Compute the similarity between minibatch examples and all embeddings.\n",
    "    # We use the cosine distance:\n",
    "    norm = tf.sqrt(tf.reduce_sum(tf.square(embeddings), 1, keep_dims=True))\n",
    "    normalized_embeddings = embeddings / norm\n",
    "    valid_embeddings = tf.nn.embedding_lookup(normalized_embeddings, valid_dataset)\n",
    "    similarity = tf.matmul(valid_embeddings, tf.transpose(normalized_embeddings))"
   ]
  },
  {
   "cell_type": "code",
   "execution_count": 26,
   "metadata": {
    "cellView": "both",
    "colab": {
     "autoexec": {
      "startup": false,
      "wait_interval": 0
     },
     "output_extras": [
      {
       "item_id": 23
      },
      {
       "item_id": 48
      },
      {
       "item_id": 61
      }
     ]
    },
    "colab_type": "code",
    "collapsed": false,
    "executionInfo": {
     "elapsed": 436189,
     "status": "ok",
     "timestamp": 1445965429787,
     "user": {
      "color": "#1FA15D",
      "displayName": "Vincent Vanhoucke",
      "isAnonymous": false,
      "isMe": true,
      "permissionId": "05076109866853157986",
      "photoUrl": "//lh6.googleusercontent.com/-cCJa7dTDcgQ/AAAAAAAAAAI/AAAAAAAACgw/r2EZ_8oYer4/s50-c-k-no/photo.jpg",
      "sessionId": "2f1ffade4c9f20de",
      "userId": "102167687554210253930"
     },
     "user_tz": 420
    },
    "id": "1bQFGceBxrWW",
    "outputId": "5ebd6d9a-33c6-4bcd-bf6d-252b0b6055e4"
   },
   "outputs": [
    {
     "name": "stdout",
     "output_type": "stream",
     "text": [
      "Initialized\n",
      "Average loss at step 0: 8.334764\n",
      "Nearest to also: pohjola, protons, tanistry, extradition, ignored, while, vulgar, advantage,\n",
      "Nearest to at: fon, for, alh, overbeck, heterosexuality, depopulated, loveland, billing,\n",
      "Nearest to would: ramon, deficient, borgir, creeping, odors, functionalist, revered, folio,\n",
      "Nearest to most: papers, swears, yarn, storylines, sabers, racing, backlit, duress,\n",
      "Nearest to often: adventures, fdp, franchises, transgressions, roux, hedwig, meaningless, picking,\n",
      "Nearest to used: merovingian, mishnayot, hemophilia, acadians, harass, rosenbaum, variants, embassy,\n",
      "Nearest to with: assassinating, cocalus, irresistible, robbie, albuquerque, excerpted, horn, carcinogens,\n",
      "Nearest to about: rab, secularism, elamite, electrophilic, preaching, destroying, aziz, stravinsky,\n",
      "Nearest to which: backbench, horns, peterborough, burger, enumerative, augustus, selma, nero,\n",
      "Nearest to these: ratify, cthulhu, moguls, educators, bub, cormen, silhouette, coretta,\n",
      "Nearest to in: picts, practices, glycerol, meditate, underpinning, hapless, xanadu, hampton,\n",
      "Nearest to he: via, interphase, strain, nutritional, faroes, complaining, coastal, mintz,\n",
      "Nearest to after: breda, mos, kmaq, logograms, fishes, tries, deuterium, inaccurate,\n",
      "Nearest to six: crystalline, netherland, yankees, primes, accrington, madam, necessary, mackaye,\n",
      "Nearest to new: lar, ci, hardcore, breathes, pouches, waves, unpredictability, pissarro,\n",
      "Nearest to b: higham, distillers, amoeboid, flamsteed, autonegotiation, chechens, disappear, stahl,\n",
      "Average loss at step 2000: 4.357072\n",
      "Average loss at step 4000: 3.859235\n",
      "Average loss at step 6000: 3.790693\n",
      "Average loss at step 8000: 3.689322\n",
      "Average loss at step 10000: 3.615318\n",
      "Nearest to also: which, often, it, protons, not, still, senses, now,\n",
      "Nearest to at: for, in, on, of, fon, tats, against, dashed,\n",
      "Nearest to would: can, will, could, to, blockade, folio, spirited, eclipsing,\n",
      "Nearest to most: papers, movement, kliper, discussed, backlit, swayed, world, presenters,\n",
      "Nearest to often: fdp, also, sometimes, who, franchises, coalescence, lambs, your,\n",
      "Nearest to used: known, found, garofalo, cops, ovum, ozarks, mambo, dimension,\n",
      "Nearest to with: for, in, fossilized, between, plays, pestis, without, berkelium,\n",
      "Nearest to about: rab, secularism, hauge, chew, destroying, gliders, unchecked, equality,\n",
      "Nearest to which: that, what, this, also, it, intervarsity, balzac, lore,\n",
      "Nearest to these: some, mcclory, other, amazigh, mandibles, workaround, deflation, below,\n",
      "Nearest to in: on, of, with, at, and, expressiveness, after, for,\n",
      "Nearest to he: it, they, she, who, boiler, auratus, never, pages,\n",
      "Nearest to after: before, minimization, in, from, wedge, mos, taper, career,\n",
      "Nearest to six: eight, seven, four, five, three, nine, zero, two,\n",
      "Nearest to new: lar, hardcore, tempe, unpredictability, averaging, transshipment, breathes, orf,\n",
      "Nearest to b: d, american, bacteriology, flores, albums, amoeboid, pluto, o,\n",
      "Average loss at step 12000: 3.605269\n",
      "Average loss at step 14000: 3.570027\n",
      "Average loss at step 16000: 3.407031\n",
      "Average loss at step 18000: 3.461368\n",
      "Average loss at step 20000: 3.537225\n",
      "Nearest to also: which, now, often, not, intervarsity, still, barroso, who,\n",
      "Nearest to at: in, from, dashed, on, towards, noah, and, under,\n",
      "Nearest to would: can, will, could, may, should, might, must, cannot,\n",
      "Nearest to most: presenters, discussed, papers, kliper, some, swayed, michell, gec,\n",
      "Nearest to often: also, sometimes, who, fdp, libro, roux, brodie, which,\n",
      "Nearest to used: known, found, ovum, screenwriters, cops, garofalo, cozy, irritated,\n",
      "Nearest to with: in, for, between, hellbender, plays, fossilized, at, magnetic,\n",
      "Nearest to about: unchecked, rab, shelf, voice, technique, hailstones, subroutine, secularism,\n",
      "Nearest to which: that, also, this, who, what, and, it, but,\n",
      "Nearest to these: some, many, other, such, their, all, wannsee, they,\n",
      "Nearest to in: at, on, expressiveness, from, with, under, within, of,\n",
      "Nearest to he: it, she, they, who, there, which, this, boiler,\n",
      "Nearest to after: before, from, minimization, when, during, taper, wedge, flashpoint,\n",
      "Nearest to six: five, seven, eight, three, nine, four, two, zero,\n",
      "Nearest to new: hardcore, lar, schools, tempe, sus, despair, flopped, polytechnic,\n",
      "Nearest to b: d, biographical, bacteriology, pouring, scored, grandiose, renal, bondi,\n",
      "Average loss at step 22000: 3.500792\n",
      "Average loss at step 24000: 3.492163\n",
      "Average loss at step 26000: 3.485003\n",
      "Average loss at step 28000: 3.477881\n",
      "Average loss at step 30000: 3.505670\n",
      "Nearest to also: often, which, still, now, it, sometimes, always, usually,\n",
      "Nearest to at: in, on, under, nobel, outperform, pythons, yog, knowing,\n",
      "Nearest to would: can, could, will, may, must, might, should, cannot,\n",
      "Nearest to most: more, some, presenters, swayed, kliper, dolmen, many, dentistry,\n",
      "Nearest to often: also, sometimes, usually, now, fdp, who, there, still,\n",
      "Nearest to used: known, found, ovum, available, referred, written, screenwriters, treated,\n",
      "Nearest to with: between, for, without, in, by, when, fossilized, rosa,\n",
      "Nearest to about: unchecked, shelf, howls, on, voice, elamite, destroying, undead,\n",
      "Nearest to which: this, that, also, who, nafta, it, what, these,\n",
      "Nearest to these: some, many, such, are, other, they, their, all,\n",
      "Nearest to in: during, of, on, at, under, within, since, from,\n",
      "Nearest to he: she, it, they, who, there, never, hemispheric, this,\n",
      "Nearest to after: before, from, when, during, minimization, in, for, growling,\n",
      "Nearest to six: eight, seven, four, nine, five, three, two, zero,\n",
      "Nearest to new: hardcore, sus, recent, polytechnic, redshift, duodenum, despair, lar,\n",
      "Nearest to b: d, grandiose, pouring, j, performs, mediocre, biographical, sas,\n",
      "Average loss at step 32000: 3.498886\n",
      "Average loss at step 34000: 3.495395\n",
      "Average loss at step 36000: 3.456707\n",
      "Average loss at step 38000: 3.301105\n",
      "Average loss at step 40000: 3.423474\n",
      "Nearest to also: which, often, usually, still, now, never, sometimes, abendana,\n",
      "Nearest to at: on, under, during, in, knowing, nobel, acadian, pythons,\n",
      "Nearest to would: will, could, can, may, might, must, should, cannot,\n",
      "Nearest to most: more, presenters, dentistry, replicas, delineation, papers, some, discussed,\n",
      "Nearest to often: usually, sometimes, also, still, generally, who, commonly, widely,\n",
      "Nearest to used: found, known, referred, ovum, regarded, considered, available, applied,\n",
      "Nearest to with: between, when, by, in, within, fossilized, without, montr,\n",
      "Nearest to about: howls, on, unchecked, shelf, undead, recession, denny, hinnom,\n",
      "Nearest to which: that, this, also, who, what, usually, often, these,\n",
      "Nearest to these: some, many, such, which, they, both, several, different,\n",
      "Nearest to in: within, for, between, with, on, at, grass, during,\n",
      "Nearest to he: she, it, they, who, there, i, never, this,\n",
      "Nearest to after: before, during, when, from, minimization, while, for, wedge,\n",
      "Nearest to six: seven, four, five, eight, nine, three, two, zero,\n",
      "Nearest to new: modern, sus, insuring, hardcore, lar, duodenum, polytechnic, alkyne,\n",
      "Nearest to b: d, UNK, j, f, grandiose, c, converse, r,\n",
      "Average loss at step 42000: 3.436950\n",
      "Average loss at step 44000: 3.453384\n",
      "Average loss at step 46000: 3.450712\n",
      "Average loss at step 48000: 3.355419\n",
      "Average loss at step 50000: 3.383063\n",
      "Nearest to also: still, which, often, now, usually, sometimes, abendana, vegetarian,\n",
      "Nearest to at: during, from, under, near, nobel, knowing, troupes, on,\n",
      "Nearest to would: will, could, can, may, might, must, should, cannot,\n",
      "Nearest to most: more, presenters, dentistry, delineation, many, some, swayed, preoccupation,\n",
      "Nearest to often: usually, sometimes, still, generally, now, also, commonly, widely,\n",
      "Nearest to used: known, found, available, referred, ovum, written, regarded, applied,\n",
      "Nearest to with: between, by, without, hellbender, within, materialist, fossilized, scaled,\n",
      "Nearest to about: howls, recession, destroying, gliding, unchecked, presented, denny, undead,\n",
      "Nearest to which: this, that, also, who, what, usually, often, still,\n",
      "Nearest to these: some, many, both, such, various, several, those, different,\n",
      "Nearest to in: during, within, from, on, of, and, since, under,\n",
      "Nearest to he: she, it, they, there, who, i, griese, we,\n",
      "Nearest to after: before, during, when, while, from, if, antagonism, for,\n",
      "Nearest to six: eight, seven, four, nine, three, five, two, one,\n",
      "Nearest to new: personal, sus, progresses, modern, recent, polytechnic, insuring, hardcore,\n",
      "Nearest to b: d, f, c, j, grandiose, performs, r, berenson,\n",
      "Average loss at step 52000: 3.436019\n",
      "Average loss at step 54000: 3.428047\n",
      "Average loss at step 56000: 3.437054\n",
      "Average loss at step 58000: 3.395801\n",
      "Average loss at step 60000: 3.392028\n",
      "Nearest to also: still, often, now, sometimes, which, usually, typically, always,\n",
      "Nearest to at: during, in, knowing, nobel, via, ingres, near, kalashnikov,\n",
      "Nearest to would: could, will, can, may, must, might, should, cannot,\n",
      "Nearest to most: more, some, many, dentistry, presenters, dolmen, replicas, rogues,\n",
      "Nearest to often: sometimes, usually, still, commonly, generally, also, typically, now,\n",
      "Nearest to used: known, found, referred, available, considered, applied, regarded, held,\n",
      "Nearest to with: between, without, rosa, within, in, by, and, vcr,\n",
      "Nearest to about: howls, over, recession, on, around, gliding, unchecked, presented,\n",
      "Nearest to which: this, that, these, also, nafta, what, usually, it,\n",
      "Nearest to these: some, many, both, those, several, such, which, various,\n",
      "Nearest to in: within, during, on, of, at, from, danann, between,\n",
      "Nearest to he: she, it, they, who, there, we, griese, never,\n",
      "Nearest to after: before, during, when, while, without, following, for, from,\n",
      "Nearest to six: eight, four, seven, five, nine, three, two, zero,\n",
      "Nearest to new: recent, progresses, modern, hardcore, personal, insuring, vj, major,\n",
      "Nearest to b: d, f, p, r, c, berenson, gail, j,\n",
      "Average loss at step 62000: 3.235135\n",
      "Average loss at step 64000: 3.260252\n",
      "Average loss at step 66000: 3.401301\n",
      "Average loss at step 68000: 3.393620\n",
      "Average loss at step 70000: 3.366319\n",
      "Nearest to also: still, often, now, which, usually, sometimes, actually, never,\n",
      "Nearest to at: during, near, under, within, in, without, via, nobel,\n",
      "Nearest to would: could, will, can, may, should, must, might, cannot,\n",
      "Nearest to most: more, some, dentistry, many, less, among, presenters, dolmen,\n",
      "Nearest to often: usually, sometimes, generally, still, commonly, typically, also, now,\n",
      "Nearest to used: known, found, referred, available, applied, responsible, considered, held,\n",
      "Nearest to with: between, within, fossilized, hellbender, when, materialist, using, millennia,\n",
      "Nearest to about: around, over, scarcely, on, recession, regarding, unchecked, electrophilic,\n",
      "Nearest to which: that, this, also, usually, these, what, actually, normally,\n",
      "Nearest to these: some, many, such, those, various, several, which, are,\n",
      "Nearest to in: within, during, on, including, for, from, until, throughout,\n",
      "Nearest to he: she, it, they, there, we, who, later, never,\n",
      "Nearest to after: before, during, while, when, without, from, bloemfontein, for,\n",
      "Nearest to six: eight, four, seven, five, nine, three, two, zero,\n",
      "Nearest to new: recent, modern, progresses, taos, duodenum, pampas, legged, insuring,\n",
      "Nearest to b: d, f, r, p, j, berenson, gail, k,\n",
      "Average loss at step 72000: 3.372910\n",
      "Average loss at step 74000: 3.348053\n",
      "Average loss at step 76000: 3.319126\n",
      "Average loss at step 78000: 3.352160\n",
      "Average loss at step 80000: 3.375747\n",
      "Nearest to also: now, often, still, sometimes, which, usually, never, actually,\n",
      "Nearest to at: in, on, near, xviii, kalashnikov, during, within, under,\n",
      "Nearest to would: could, will, may, can, might, must, should, cannot,\n",
      "Nearest to most: some, more, many, dentistry, among, presenters, all, replicas,\n",
      "Nearest to often: sometimes, usually, generally, still, commonly, typically, frequently, now,\n",
      "Nearest to used: known, referred, found, available, responsible, applied, considered, classified,\n",
      "Nearest to with: between, approving, millennia, champs, interpolant, cvs, primacy, sixtus,\n",
      "Nearest to about: around, over, scarcely, unchecked, recession, undead, electrophilic, transforms,\n",
      "Nearest to which: that, this, also, based, usually, often, what, however,\n",
      "Nearest to these: many, those, several, both, various, some, such, paragliding,\n",
      "Nearest to in: during, within, on, throughout, until, under, at, since,\n",
      "Nearest to he: she, it, they, there, we, who, never, griese,\n",
      "Nearest to after: before, during, when, while, without, following, upon, though,\n",
      "Nearest to six: five, four, eight, seven, three, nine, zero, two,\n",
      "Nearest to new: sus, taos, insuring, modern, duodenum, recent, japanese, thai,\n",
      "Nearest to b: d, f, j, r, p, gail, berenson, c,\n",
      "Average loss at step 82000: 3.403888\n",
      "Average loss at step 84000: 3.407100\n",
      "Average loss at step 86000: 3.385280\n",
      "Average loss at step 88000: 3.353961\n",
      "Average loss at step 90000: 3.361457\n",
      "Nearest to also: often, now, still, actually, usually, which, initially, never,\n",
      "Nearest to at: during, near, in, under, via, on, within, fraenkel,\n",
      "Nearest to would: could, will, might, can, may, should, must, cannot,\n",
      "Nearest to most: more, many, some, particularly, dentistry, less, among, presenters,\n",
      "Nearest to often: sometimes, usually, generally, commonly, frequently, still, typically, now,\n",
      "Nearest to used: known, referred, applied, found, considered, available, responsible, expressed,\n",
      "Nearest to with: between, by, rosa, lillard, fossilized, concerning, from, champs,\n",
      "Nearest to about: around, recession, over, on, undead, destroying, buda, reassured,\n",
      "Nearest to which: that, this, also, based, what, usually, who, these,\n",
      "Nearest to these: many, several, those, some, all, various, such, both,\n",
      "Nearest to in: within, during, under, at, on, kipper, near, vinland,\n",
      "Nearest to he: she, it, they, there, who, soon, later, we,\n",
      "Nearest to after: before, during, while, when, without, through, despite, upon,\n",
      "Nearest to six: seven, eight, five, four, nine, three, two, zero,\n",
      "Nearest to new: sus, recent, modern, hardcore, insuring, progresses, duodenum, snub,\n",
      "Nearest to b: d, j, f, r, berenson, c, m, gail,\n",
      "Average loss at step 92000: 3.396570\n",
      "Average loss at step 94000: 3.246303\n",
      "Average loss at step 96000: 3.357995\n",
      "Average loss at step 98000: 3.241549\n",
      "Average loss at step 100000: 3.360569\n",
      "Nearest to also: now, still, actually, often, sometimes, never, usually, initially,\n",
      "Nearest to at: during, within, on, near, under, kalashnikov, pythons, via,\n",
      "Nearest to would: could, will, might, can, may, should, must, cannot,\n",
      "Nearest to most: more, less, dentistry, particularly, ecliptic, delineation, some, especially,\n",
      "Nearest to often: sometimes, usually, generally, typically, frequently, commonly, still, now,\n",
      "Nearest to used: found, applied, known, referred, considered, responsible, designed, available,\n",
      "Nearest to with: between, within, in, lillard, capillary, fossilized, including, dewan,\n",
      "Nearest to about: around, over, buda, on, destroying, scarcely, recession, howls,\n",
      "Nearest to which: that, this, usually, what, these, however, often, typically,\n",
      "Nearest to these: many, several, some, all, those, various, their, were,\n",
      "Nearest to in: within, during, throughout, on, until, near, of, dinger,\n",
      "Nearest to he: she, it, they, there, who, we, never, griese,\n",
      "Nearest to after: before, during, while, when, without, following, despite, through,\n",
      "Nearest to six: seven, four, five, eight, nine, three, two, zero,\n",
      "Nearest to new: recent, different, insuring, modern, hardcore, previous, planetary, surplus,\n",
      "Nearest to b: d, pouring, renal, gail, insiders, discoverer, grandiose, j,\n"
     ]
    }
   ],
   "source": [
    "num_steps = 100001\n",
    "\n",
    "with tf.Session(graph=graph) as session:\n",
    "    tf.initialize_all_variables().run()\n",
    "    print('Initialized')\n",
    "    average_loss = 0\n",
    "    for step in range(num_steps):\n",
    "        batch_data, batch_labels = generate_batch(batch_size, num_skips, skip_window)\n",
    "        feed_dict = {train_dataset : batch_data, train_labels : batch_labels}\n",
    "        _, l = session.run([optimizer, loss], feed_dict=feed_dict)\n",
    "        average_loss += l\n",
    "        if step % 2000 == 0:\n",
    "            if step > 0:\n",
    "                average_loss = average_loss / 2000\n",
    "            # The average loss is an estimate of the loss over the last 2000 batches.\n",
    "            print('Average loss at step %d: %f' % (step, average_loss))\n",
    "            average_loss = 0\n",
    "        # note that this is expensive (~20% slowdown if computed every 500 steps)\n",
    "        if step % 10000 == 0:\n",
    "            sim = similarity.eval()\n",
    "            for i in xrange(valid_size):\n",
    "                valid_word = reverse_dictionary[valid_examples[i]]\n",
    "                top_k = 8 # number of nearest neighbors\n",
    "                nearest = (-sim[i, :]).argsort()[1:top_k+1]\n",
    "                log = 'Nearest to %s:' % valid_word\n",
    "                for k in xrange(top_k):\n",
    "                    close_word = reverse_dictionary[nearest[k]]\n",
    "                    log = '%s %s,' % (log, close_word)\n",
    "                print(log)\n",
    "    final_embeddings = normalized_embeddings.eval()"
   ]
  },
  {
   "cell_type": "code",
   "execution_count": 27,
   "metadata": {
    "cellView": "both",
    "colab": {
     "autoexec": {
      "startup": false,
      "wait_interval": 0
     }
    },
    "colab_type": "code",
    "collapsed": true,
    "id": "jjJXYA_XzV79"
   },
   "outputs": [],
   "source": [
    "num_points = 400\n",
    "\n",
    "tsne = TSNE(perplexity=30, n_components=2, init='pca', n_iter=5000)\n",
    "two_d_embeddings = tsne.fit_transform(final_embeddings[1:num_points+1, :])"
   ]
  },
  {
   "cell_type": "code",
   "execution_count": 28,
   "metadata": {
    "cellView": "both",
    "colab": {
     "autoexec": {
      "startup": false,
      "wait_interval": 0
     },
     "output_extras": [
      {
       "item_id": 1
      }
     ]
    },
    "colab_type": "code",
    "collapsed": false,
    "executionInfo": {
     "elapsed": 4763,
     "status": "ok",
     "timestamp": 1445965465525,
     "user": {
      "color": "#1FA15D",
      "displayName": "Vincent Vanhoucke",
      "isAnonymous": false,
      "isMe": true,
      "permissionId": "05076109866853157986",
      "photoUrl": "//lh6.googleusercontent.com/-cCJa7dTDcgQ/AAAAAAAAAAI/AAAAAAAACgw/r2EZ_8oYer4/s50-c-k-no/photo.jpg",
      "sessionId": "2f1ffade4c9f20de",
      "userId": "102167687554210253930"
     },
     "user_tz": 420
    },
    "id": "o_e0D_UezcDe",
    "outputId": "df22e4a5-e8ec-4e5e-d384-c6cf37c68c34"
   },
   "outputs": [
    {
     "data": {
      "image/png": "[encoded data removed]",
      "text/plain": [
       "<matplotlib.figure.Figure at 0x7fe6a71cfa90>"
      ]
     },
     "metadata": {},
     "output_type": "display_data"
    }
   ],
   "source": [
    "def plot(embeddings, labels):\n",
    "    assert embeddings.shape[0] >= len(labels), 'More labels than embeddings'\n",
    "    pylab.figure(figsize=(15,15))  # in inches\n",
    "    for i, label in enumerate(labels):\n",
    "        x, y = embeddings[i,:]\n",
    "        pylab.scatter(x, y)\n",
    "        pylab.annotate(label, xy=(x, y), xytext=(5, 2), textcoords='offset points',\n",
    "                   ha='right', va='bottom')\n",
    "    pylab.show()\n",
    "\n",
    "words = [reverse_dictionary[i] for i in range(1, num_points+1)]\n",
    "plot(two_d_embeddings, words)"
   ]
  },
  {
   "cell_type": "markdown",
   "metadata": {
    "colab_type": "text",
    "id": "QB5EFrBnpNnc"
   },
   "source": [
    "---\n",
    "\n",
    "Problem\n",
    "-------\n",
    "\n",
    "An alternative to Word2Vec is called [CBOW](http://arxiv.org/abs/1301.3781) (Continuous Bag of Words). In the CBOW model, instead of predicting a context word from a word vector, you predict a word from the sum of all the word vectors in its context. Implement and evaluate a CBOW model trained on the text8 dataset.\n",
    "\n",
    "---"
   ]
  },
  {
   "cell_type": "markdown",
   "metadata": {
    "collapsed": true
   },
   "source": [
    "Some context from the [TensorFlow web page](https://www.tensorflow.org/versions/master/tutorials/word2vec/index.html):\n",
    "\n",
    "\"Word2vec is a particularly computationally-efficient predictive model for learning word embeddings from raw text. It comes in two flavors, the Continuous Bag-of-Words model (CBOW) and the Skip-Gram model. Algorithmically, these models are similar, except that CBOW predicts target words (e.g. 'mat') from source context words ('the cat sits on the'), while the skip-gram does the inverse and predicts source context-words from the target words. This inversion might seem like an arbitrary choice, but statistically it has the effect that CBOW smoothes over a lot of the distributional information (by treating an entire context as one observation). For the most part, this turns out to be a useful thing for smaller datasets. However, skip-gram treats each context-target pair as a new observation, and this tends to do better when we have larger datasets.\""
   ]
  },
  {
   "cell_type": "markdown",
   "metadata": {},
   "source": [
    "There is a nice discussion of CBOW and skip-gram, at a high level, on the [TensorFlow word2vec tutorial page](https://www.tensorflow.org/versions/master/tutorials/word2vec/index.html) refernced above. The key thing to understand about CBOW vs skip-gram is that CBOW is attempting to predict a word from the surrounding context, while skip-gram is attempting to do the opposite - given a target word, it attempts to predict surrounding context."
   ]
  },
  {
   "cell_type": "markdown",
   "metadata": {},
   "source": [
    "Their illustration is nice. Consider:\n",
    "\n",
    "    the quick brown fox jumped over the lazy dog\n",
    "    \n",
    "If we consider a context window that is one word wide, the `([context], target)` pairing CBOW wants to use is:\n",
    "\n",
    "    ([the, brown], quick), ([quick, fox], brown), ([brown, jumped], fox), ([fox, over], jumped), etc.\n",
    "    \n",
    "In fact, what CBOW wants to do (?) is average the words in the context vector. Skip-gram, by contrast, wants to invert this data and use target to predict the context in pairs like `(target, context)`:\n",
    "\n",
    "    (quick, the), (quick, brown), (brown, quick), (brown, fox), (fox, brown), (fox, jumped), (jumped, fox), etc."
   ]
  },
  {
   "cell_type": "code",
   "execution_count": 29,
   "metadata": {
    "collapsed": false
   },
   "outputs": [
    {
     "name": "stdout",
     "output_type": "stream",
     "text": [
      "['the', 'quick', 'brown', 'fox', 'jumped', 'over', 'the', 'lazy', 'dog']\n",
      "9\n"
     ]
    }
   ],
   "source": [
    "rawdata = 'the quick brown fox jumped over the lazy dog'.split()\n",
    "print rawdata\n",
    "print len(rawdata)"
   ]
  },
  {
   "cell_type": "code",
   "execution_count": 30,
   "metadata": {
    "collapsed": false
   },
   "outputs": [
    {
     "name": "stdout",
     "output_type": "stream",
     "text": [
      "1 quick\n",
      "['the', 'quick', 'brown']\n",
      "2 brown\n",
      "['quick', 'brown', 'fox']\n",
      "3 fox\n",
      "['brown', 'fox', 'jumped']\n",
      "4 jumped\n",
      "['fox', 'jumped', 'over']\n",
      "5 over\n",
      "['jumped', 'over', 'the']\n",
      "6 the\n",
      "['over', 'the', 'lazy']\n",
      "7 lazy\n",
      "['the', 'lazy', 'dog']\n",
      "[(['the', 'brown'], 'quick'), (['quick', 'fox'], 'brown'), (['brown', 'jumped'], 'fox'), (['fox', 'over'], 'jumped'), (['jumped', 'the'], 'over'), (['over', 'lazy'], 'the'), (['the', 'dog'], 'lazy')]\n"
     ]
    }
   ],
   "source": [
    "window_wing = 1\n",
    "window_size = 2 * window_wing + 1\n",
    "window_center_idx = window_size // 2\n",
    "first_idx = window_center_idx\n",
    "last_idx = len(rawdata) - window_wing\n",
    "\n",
    "data = []\n",
    "for i in range(first_idx, last_idx):\n",
    "    print i, rawdata[i]\n",
    "    window = rawdata[i - window_wing: 1 + i + window_wing]\n",
    "    print window\n",
    "    target = window[window_center_idx]\n",
    "    context = window[0:window_center_idx] + window[window_center_idx + 1:]\n",
    "    val = (context, target)\n",
    "    data.append(val)\n",
    "    \n",
    "print data"
   ]
  },
  {
   "cell_type": "code",
   "execution_count": 31,
   "metadata": {
    "collapsed": false
   },
   "outputs": [],
   "source": [
    "def make_data(window_wing, rawdata):\n",
    "    window_size = 2 * window_wing + 1\n",
    "    window_center_idx = window_size // 2\n",
    "    first_idx = window_center_idx\n",
    "    last_idx = len(rawdata) - window_wing\n",
    "    \n",
    "    data = []\n",
    "    contexts = []\n",
    "    targets = []\n",
    "    for i in range(first_idx, last_idx):\n",
    "        window = rawdata[i - window_wing: 1 + i + window_wing]\n",
    "        target = window[window_center_idx]\n",
    "        context = window[0:window_center_idx] + window[window_center_idx + 1:]\n",
    "        val = (context, target)\n",
    "        data.append(val)\n",
    "        contexts.append(context)\n",
    "        targets.append(target)\n",
    "        \n",
    "    return data, contexts, targets"
   ]
  },
  {
   "cell_type": "code",
   "execution_count": 32,
   "metadata": {
    "collapsed": false
   },
   "outputs": [
    {
     "name": "stdout",
     "output_type": "stream",
     "text": [
      "[(['the', 'brown'], 'quick'), (['quick', 'fox'], 'brown'), (['brown', 'jumped'], 'fox'), (['fox', 'over'], 'jumped'), (['jumped', 'the'], 'over'), (['over', 'lazy'], 'the'), (['the', 'dog'], 'lazy')]\n",
      "[['the', 'brown'], ['quick', 'fox'], ['brown', 'jumped'], ['fox', 'over'], ['jumped', 'the'], ['over', 'lazy'], ['the', 'dog']]\n",
      "['quick', 'brown', 'fox', 'jumped', 'over', 'the', 'lazy']\n"
     ]
    }
   ],
   "source": [
    "data, contexts, targets = make_data(1, rawdata)\n",
    "print data\n",
    "print contexts\n",
    "print targets"
   ]
  },
  {
   "cell_type": "code",
   "execution_count": 33,
   "metadata": {
    "collapsed": false
   },
   "outputs": [
    {
     "name": "stdout",
     "output_type": "stream",
     "text": [
      "[(['the', 'quick', 'fox', 'jumped'], 'brown'), (['quick', 'brown', 'jumped', 'over'], 'fox'), (['brown', 'fox', 'over', 'the'], 'jumped'), (['fox', 'jumped', 'the', 'lazy'], 'over'), (['jumped', 'over', 'lazy', 'dog'], 'the')]\n",
      "[['the', 'quick', 'fox', 'jumped'], ['quick', 'brown', 'jumped', 'over'], ['brown', 'fox', 'over', 'the'], ['fox', 'jumped', 'the', 'lazy'], ['jumped', 'over', 'lazy', 'dog']]\n",
      "['brown', 'fox', 'jumped', 'over', 'the']\n"
     ]
    }
   ],
   "source": [
    "data, contexts, targets = make_data(2, rawdata)\n",
    "print data\n",
    "print contexts\n",
    "print targets"
   ]
  },
  {
   "cell_type": "markdown",
   "metadata": {
    "collapsed": true
   },
   "source": [
    "Let's get some fresh data to test:"
   ]
  },
  {
   "cell_type": "code",
   "execution_count": 34,
   "metadata": {
    "collapsed": false
   },
   "outputs": [
    {
     "name": "stdout",
     "output_type": "stream",
     "text": [
      "Found and verified mytesttext.txt.zip\n",
      "['mytesttext.txt']\n",
      "Data size 217\n",
      "('Most common words (+UNK)', [['UNK', 4], ('test', 45), ('a', 23), ('this', 22), ('is', 20), ('transmission', 15), ('not', 10), ('your', 7), ('do', 6), ('only', 6)])\n",
      "30\n",
      "30\n"
     ]
    }
   ],
   "source": [
    "# recall, `vocabulary_size` is a **global** that `build_dataset()` accesses\n",
    "\n",
    "#filename = maybe_download('text8.zip', 31344016)\n",
    "#vocabulary_size = 50000\n",
    "\n",
    "filename = maybe_download('mytesttext.txt.zip', 415)   # of course, this file is local\n",
    "vocabulary_size = 30\n",
    "\n",
    "words = read_data(filename)\n",
    "print('Data size %d' % len(words))\n",
    "\n",
    "data, count, dictionary, reverse_dictionary = build_dataset(words)\n",
    "print('Most common words (+UNK)', count[:10])\n",
    "print(len(count))\n",
    "print(len(dictionary))\n",
    "del words  # Hint to reduce memory."
   ]
  },
  {
   "cell_type": "code",
   "execution_count": 35,
   "metadata": {
    "collapsed": false
   },
   "outputs": [
    {
     "name": "stdout",
     "output_type": "stream",
     "text": [
      "('rev dict sample keys  :', [0, 1, 2, 3, 4, 5, 6, 7, 8, 9, 10, 11, 12, 13, 14, 15, 16, 17, 18, 19])\n",
      "('rev dict sample values:', ['UNK', 'test', 'a', 'this', 'is', 'transmission', 'not', 'your', 'do', 'only', 'adjust', 'all', 'we', 'dead', 'now', 'be', 'begin', 'end', 'if', 'receivers'])\n"
     ]
    }
   ],
   "source": [
    "print('rev dict sample keys  :', reverse_dictionary.keys()[:20])\n",
    "print('rev dict sample values:', reverse_dictionary.values()[:20])"
   ]
  },
  {
   "cell_type": "code",
   "execution_count": 36,
   "metadata": {
    "collapsed": false
   },
   "outputs": [
    {
     "name": "stdout",
     "output_type": "stream",
     "text": [
      "00000001, test\n",
      "00000005, transmission\n",
      "00000001, test\n",
      "00000005, transmission\n",
      "00000001, test\n",
      "00000016, begin\n",
      "00000016, begin\n",
      "00000005, transmission\n",
      "00000001, test\n",
      "00000005, transmission\n"
     ]
    }
   ],
   "source": [
    "for d in data[:10]:\n",
    "    print '{:08d}, {}'.format(d, reverse_dictionary[d])"
   ]
  },
  {
   "cell_type": "markdown",
   "metadata": {},
   "source": [
    "Let's redefine our `make_data()` function as `generate_batch()` and keep track of the global `data_index`:"
   ]
  },
  {
   "cell_type": "code",
   "execution_count": 193,
   "metadata": {
    "collapsed": true
   },
   "outputs": [],
   "source": [
    "data_index = 0"
   ]
  },
  {
   "cell_type": "code",
   "execution_count": 198,
   "metadata": {
    "collapsed": true
   },
   "outputs": [],
   "source": [
    "def generate_batch(batch_size, window_wing):\n",
    "    # let's keep track of where we are in the data\n",
    "    global data_index\n",
    "    # how much data do we span per batch?\n",
    "    window_size = 2 * window_wing + 1\n",
    "    window_center_idx = window_size // 2\n",
    "    # batch is context, labels are targets\n",
    "    batch = np.zeros(shape=(batch_size, 2 * window_wing), dtype=np.int32)\n",
    "    labels = np.zeros(shape=(batch_size, 1), dtype=np.int32)\n",
    "    # hold the data for the minibatch\n",
    "    buffer = collections.deque(maxlen=window_size)\n",
    "    # indices for context\n",
    "    ctx_indices = np.arange(window_size)\n",
    "    ctx_indices = np.delete(ctx_indices, window_center_idx)\n",
    "    # initialize the buffer with the next `span` words of data\n",
    "    for _ in range(window_size):\n",
    "        buffer.append(data[data_index])\n",
    "        data_index = (data_index + 1) % len(data)\n",
    "    for i in range(batch_size):\n",
    "        target = buffer[window_center_idx]\n",
    "        context = []\n",
    "        for idx in ctx_indices:\n",
    "            context.append(buffer[idx])\n",
    "        buffer.append(data[data_index])\n",
    "        data_index = (data_index + 1) % len(data)\n",
    "        batch[i] = context\n",
    "        labels[i] = target\n",
    "        \n",
    "    #return batch, labels   # first guess\n",
    "    return np.mean(batch, axis=1), labels"
   ]
  },
  {
   "cell_type": "code",
   "execution_count": 199,
   "metadata": {
    "collapsed": false
   },
   "outputs": [
    {
     "name": "stdout",
     "output_type": "stream",
     "text": [
      "('data:', ['test', 'transmission', 'test', 'transmission', 'test', 'begin', 'begin', 'transmission'])\n",
      "\n",
      "with window_wing = 1:\n",
      "('    batch:', array([  1. ,   5. ,   1. ,  10.5,   8.5,  10.5,   8.5,   5. ]))\n",
      "('    labels:', array([[ 5],\n",
      "       [ 1],\n",
      "       [ 5],\n",
      "       [ 1],\n",
      "       [16],\n",
      "       [16],\n",
      "       [ 5],\n",
      "       [ 1]], dtype=int32))\n",
      "\n",
      "with window_wing = 2:\n",
      "('    batch:', array([ 3.  ,  5.75,  9.5 ,  6.75,  5.75,  9.5 ,  6.75,  3.  ]))\n",
      "('    labels:', array([[ 1],\n",
      "       [ 5],\n",
      "       [ 1],\n",
      "       [16],\n",
      "       [16],\n",
      "       [ 5],\n",
      "       [ 1],\n",
      "       [ 5]], dtype=int32))\n"
     ]
    }
   ],
   "source": [
    "data_index = 0\n",
    "batch_size = 8\n",
    "print('data:', [reverse_dictionary[di] for di in data[:batch_size]])\n",
    "for wing in [1, 2]:\n",
    "    data_index = 0\n",
    "    batch, labels = generate_batch(batch_size=batch_size, window_wing=wing)\n",
    "    print('\\nwith window_wing = %d:' % wing)\n",
    "#1st guess    print('    batch:', [[reverse_dictionary[i] for i in bi] for bi in batch])\n",
    "#1st guess    print('    labels:', [reverse_dictionary[li] for li in labels.reshape(batch_size)])\n",
    "#1st guess    print('    batch:', [[i for i in bi] for bi in batch])\n",
    "#1st guess    print('    labels:', [li for li in labels.reshape(batch_size)])\n",
    "    print('    batch:', batch)\n",
    "    print('    labels:', labels)"
   ]
  },
  {
   "cell_type": "code",
   "execution_count": 200,
   "metadata": {
    "collapsed": false
   },
   "outputs": [
    {
     "name": "stderr",
     "output_type": "stream",
     "text": [
      "Exception AssertionError: AssertionError() in <bound method InteractiveSession.__del__ of <tensorflow.python.client.session.InteractiveSession object at 0x7fe69921bb50>> ignored\n"
     ]
    }
   ],
   "source": [
    "sess = tf.InteractiveSession()"
   ]
  },
  {
   "cell_type": "code",
   "execution_count": 201,
   "metadata": {
    "collapsed": false
   },
   "outputs": [
    {
     "name": "stdout",
     "output_type": "stream",
     "text": [
      "(6, 3)\n",
      "[[ 0.24919522  0.55203342  0.19249952]\n",
      " [ 0.86235964  0.22918677  0.31534362]\n",
      " [ 0.96023822  0.70170236  0.84546149]\n",
      " [ 0.16773772  0.64681399  0.63997126]\n",
      " [ 0.29391086  0.52115834  0.41086555]\n",
      " [ 0.30970895  0.22181606  0.69021726]]\n",
      "\n",
      "\n",
      "(2, 3)\n",
      "(2, 3, 3)\n",
      "[[[ 0.24919522  0.55203342  0.19249952]\n",
      "  [ 0.16773772  0.64681399  0.63997126]\n",
      "  [ 0.30970895  0.22181606  0.69021726]]\n",
      "\n",
      " [[ 0.86235964  0.22918677  0.31534362]\n",
      "  [ 0.96023822  0.70170236  0.84546149]\n",
      "  [ 0.29391086  0.52115834  0.41086555]]]\n",
      "\n",
      "\n",
      "(2, 3)\n",
      "[[ 0.24221396  0.47355449  0.5075627 ]\n",
      " [ 0.70550293  0.48401582  0.5238902 ]]\n",
      "\n",
      "\n"
     ]
    }
   ],
   "source": [
    "vocabulary_size, embedding_size = 6, 3\n",
    "\n",
    "# make a test embeddings matrix\n",
    "a = tf.random_uniform([vocabulary_size, embedding_size], 0.0, 1.0).eval(session=sess)\n",
    "print np.shape(a)\n",
    "print a\n",
    "print '\\n'\n",
    "\n",
    "# get elems \n",
    "#get_elems = [0, 3]                   # shp = number of batches\n",
    "get_elems = [[0, 3, 5], [1, 2, 4]]   # shp = number of batches, embed size \n",
    "print np.shape(get_elems)\n",
    "b = tf.nn.embedding_lookup(a, get_elems).eval(session=sess)\n",
    "print np.shape(b)\n",
    "print b\n",
    "print '\\n'\n",
    "\n",
    "# do an average\n",
    "b = tf.reduce_mean(b, reduction_indices=1).eval(session=sess)   # np.mean(b, axis=1)\n",
    "print np.shape(b)\n",
    "print b\n",
    "print '\\n'"
   ]
  },
  {
   "cell_type": "code",
   "execution_count": 202,
   "metadata": {
    "collapsed": false
   },
   "outputs": [
    {
     "name": "stdout",
     "output_type": "stream",
     "text": [
      "[4 1 9]\n",
      "Tensor(\"Shape_59:0\", shape=TensorShape([Dimension(1)]), dtype=int32)\n"
     ]
    },
    {
     "name": "stderr",
     "output_type": "stream",
     "text": [
      "Exception AssertionError: AssertionError() in <bound method InteractiveSession.__del__ of <tensorflow.python.client.session.InteractiveSession object at 0x7fe6990a14d0>> ignored\n"
     ]
    }
   ],
   "source": [
    "sess = tf.InteractiveSession()\n",
    "vocabulary_size, embedding_size = 30, 6\n",
    "window_wing = 1\n",
    "valid_size = 3\n",
    "valid_window = 10\n",
    "valid_examples = np.array(random.sample(range(valid_window), valid_size))\n",
    "num_sampled = 5\n",
    "batch_size = 4\n",
    "data_index = 0\n",
    "print valid_examples\n",
    "print tf.shape(valid_examples)"
   ]
  },
  {
   "cell_type": "code",
   "execution_count": 203,
   "metadata": {
    "collapsed": false
   },
   "outputs": [],
   "source": [
    "# Input data\n",
    "#train_dataset = tf.placeholder(tf.int32, shape=[batch_size, 2 * window_wing], name=\"test_train_dset\")\n",
    "train_dataset = tf.placeholder(tf.int32, shape=[batch_size], name=\"test_train_dset\")\n",
    "train_labels = tf.placeholder(tf.int32, shape=[batch_size, 1], name=\"test_train_labels\")\n",
    "valid_dataset = tf.constant(valid_examples, dtype=tf.int32, name=\"test_valid_dset\")"
   ]
  },
  {
   "cell_type": "code",
   "execution_count": 204,
   "metadata": {
    "collapsed": false
   },
   "outputs": [],
   "source": [
    "# Variables\n",
    "embeddings = tf.Variable(tf.random_uniform([vocabulary_size, embedding_size], -1.0, 1.0), name='test_embeddings')\n",
    "softmax_weights = tf.Variable(tf.truncated_normal([vocabulary_size, embedding_size],\n",
    "                                                 stddev=1.0 / math.sqrt(embedding_size)),\n",
    "                             name='test_softmax_weights')\n",
    "softmax_biases = tf.Variable(tf.zeros([vocabulary_size]),\n",
    "                            name='test_softmax_biases')"
   ]
  },
  {
   "cell_type": "code",
   "execution_count": 205,
   "metadata": {
    "collapsed": true
   },
   "outputs": [],
   "source": [
    "#embed0 = tf.nn.embedding_lookup(embeddings, train_dataset)\n",
    "#embed = tf.reduce_mean(embed0, reduction_indices=1)\n",
    "\n",
    "embed = tf.nn.embedding_lookup(embeddings, train_dataset)"
   ]
  },
  {
   "cell_type": "code",
   "execution_count": 206,
   "metadata": {
    "collapsed": false
   },
   "outputs": [],
   "source": [
    "l1 = tf.nn.sampled_softmax_loss(softmax_weights, softmax_biases, embed, train_labels, num_sampled, vocabulary_size)\n",
    "loss = tf.reduce_mean(l1)\n",
    "\n",
    "optimizer = tf.train.AdagradOptimizer(1.0).minimize(loss)"
   ]
  },
  {
   "cell_type": "code",
   "execution_count": 208,
   "metadata": {
    "collapsed": false
   },
   "outputs": [
    {
     "data": {
      "text/plain": [
       "array([4, 6], dtype=int32)"
      ]
     },
     "execution_count": 208,
     "metadata": {},
     "output_type": "execute_result"
    }
   ],
   "source": [
    "init_op = tf.initialize_all_variables()\n",
    "sess.run(init_op)\n",
    "\n",
    "batch_data, batch_labels = generate_batch(batch_size, window_wing)\n",
    "feed_dict = {train_dataset : batch_data, train_labels : batch_labels}\n",
    "\n",
    "# 1st guess\n",
    "#sess.run(tf.shape(\n",
    "#        embed0\n",
    "#    ), feed_dict=feed_dict)"
   ]
  },
  {
   "cell_type": "code",
   "execution_count": 209,
   "metadata": {
    "collapsed": false
   },
   "outputs": [
    {
     "data": {
      "text/plain": [
       "array([4, 6], dtype=int32)"
      ]
     },
     "execution_count": 209,
     "metadata": {},
     "output_type": "execute_result"
    }
   ],
   "source": [
    "sess.run(tf.shape(\n",
    "        embed\n",
    "    ), feed_dict=feed_dict)"
   ]
  },
  {
   "cell_type": "code",
   "execution_count": 210,
   "metadata": {
    "collapsed": false
   },
   "outputs": [
    {
     "data": {
      "text/plain": [
       "array([4], dtype=int32)"
      ]
     },
     "execution_count": 210,
     "metadata": {},
     "output_type": "execute_result"
    }
   ],
   "source": [
    "sess.run(tf.shape(\n",
    "        l1\n",
    "    ), feed_dict=feed_dict)"
   ]
  },
  {
   "cell_type": "code",
   "execution_count": 211,
   "metadata": {
    "collapsed": false
   },
   "outputs": [
    {
     "data": {
      "text/plain": [
       "array([], dtype=int32)"
      ]
     },
     "execution_count": 211,
     "metadata": {},
     "output_type": "execute_result"
    }
   ],
   "source": [
    "sess.run(tf.shape(\n",
    "        loss\n",
    "    ), feed_dict=feed_dict)"
   ]
  },
  {
   "cell_type": "code",
   "execution_count": 212,
   "metadata": {
    "collapsed": false
   },
   "outputs": [
    {
     "data": {
      "text/plain": [
       "2.4144311"
      ]
     },
     "execution_count": 212,
     "metadata": {},
     "output_type": "execute_result"
    }
   ],
   "source": [
    "sess.run(tf.reduce_mean(l1), feed_dict=feed_dict)"
   ]
  },
  {
   "cell_type": "code",
   "execution_count": 214,
   "metadata": {
    "collapsed": false
   },
   "outputs": [],
   "source": [
    "# use with test data\n",
    "graph = tf.Graph()\n",
    "\n",
    "with graph.as_default():\n",
    "\n",
    "    # Input data.\n",
    "    train_dataset = tf.placeholder(tf.int32, shape=[batch_size])\n",
    "    #1st guess: train_dataset = tf.placeholder(tf.int32, shape=[batch_size, 2 * window_wing])\n",
    "    train_labels = tf.placeholder(tf.int32, shape=[batch_size, 1])\n",
    "    valid_dataset = tf.constant(valid_examples, dtype=tf.int32)\n",
    "  \n",
    "    # Variables.\n",
    "    embeddings = tf.Variable(tf.random_uniform([vocabulary_size, embedding_size], -1.0, 1.0))\n",
    "    softmax_weights = tf.Variable(tf.truncated_normal([vocabulary_size, embedding_size], \n",
    "                                                      stddev=1.0 / math.sqrt(embedding_size)))\n",
    "    softmax_biases = tf.Variable(tf.zeros([vocabulary_size]))\n",
    "  \n",
    "    # Model.\n",
    "    embed = tf.nn.embedding_lookup(embeddings, train_dataset)\n",
    "    #1st guess: embed = tf.reduce_mean(embed, reduction_indices=1)\n",
    "    # Compute the softmax loss, using a sample of the negative labels each time.\n",
    "    loss = tf.reduce_mean(tf.nn.sampled_softmax_loss(softmax_weights, \n",
    "                                                     softmax_biases, \n",
    "                                                     embed, \n",
    "                                                     train_labels, \n",
    "                                                     num_sampled, \n",
    "                                                     vocabulary_size))\n",
    "\n",
    "    # Optimizer.\n",
    "    optimizer = tf.train.AdagradOptimizer(1.0).minimize(loss)\n",
    "  \n",
    "    # Compute the similarity between minibatch examples and all embeddings.\n",
    "    # We use the cosine distance:\n",
    "    norm = tf.sqrt(tf.reduce_sum(tf.square(embeddings), 1, keep_dims=True))\n",
    "    normalized_embeddings = embeddings / norm\n",
    "    valid_embeddings = tf.nn.embedding_lookup(normalized_embeddings, valid_dataset)\n",
    "    similarity = tf.matmul(valid_embeddings, tf.transpose(normalized_embeddings))"
   ]
  },
  {
   "cell_type": "markdown",
   "metadata": {},
   "source": [
    "Need to figure out which axis to sum on, then define the `embed` vector in the graph as the appropriate sum..."
   ]
  },
  {
   "cell_type": "code",
   "execution_count": null,
   "metadata": {
    "collapsed": true
   },
   "outputs": [],
   "source": []
  }
 ],
 "metadata": {
  "colab": {
   "default_view": {},
   "name": "5_word2vec.ipynb",
   "provenance": [],
   "version": "0.3.2",
   "views": {}
  },
  "kernelspec": {
   "display_name": "Python 2",
   "language": "python",
   "name": "python2"
  },
  "language_info": {
   "codemirror_mode": {
    "name": "ipython",
    "version": 2
   },
   "file_extension": ".py",
   "mimetype": "text/x-python",
   "name": "python",
   "nbconvert_exporter": "python",
   "pygments_lexer": "ipython2",
   "version": "2.7.6"
  }
 },
 "nbformat": 4,
 "nbformat_minor": 0
}
