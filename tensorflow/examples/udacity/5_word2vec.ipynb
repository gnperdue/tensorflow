{
 "cells": [
  {
   "cell_type": "markdown",
   "metadata": {
    "colab_type": "text",
    "id": "D7tqLMoKF6uq"
   },
   "source": [
    "Deep Learning\n",
    "=============\n",
    "\n",
    "Assignment 5\n",
    "------------\n",
    "\n",
    "The goal of this assignment is to train a skip-gram model over [Text8](http://mattmahoney.net/dc/textdata) data."
   ]
  },
  {
   "cell_type": "markdown",
   "metadata": {},
   "source": [
    "Some additional reading:\n",
    "\n",
    "* https://www.tensorflow.org/versions/r0.7/tutorials/word2vec/index.html\n",
    "* http://www.folgertkarsdorp.nl/word2vec-an-introduction/\n",
    "* https://www.kaggle.com/c/word2vec-nlp-tutorial\n",
    "* http://www.cs.toronto.edu/~bonner/courses/2014s/csc321/lectures/lec5.pdf\n",
    "* http://www.cs.toronto.edu/~bonner/courses/2016s/csc321/webpages/lectures.htm\n",
    "* http://radimrehurek.com/gensim/models/word2vec.html"
   ]
  },
  {
   "cell_type": "code",
   "execution_count": 1,
   "metadata": {
    "cellView": "both",
    "colab": {
     "autoexec": {
      "startup": false,
      "wait_interval": 0
     }
    },
    "colab_type": "code",
    "collapsed": true,
    "id": "0K1ZyLn04QZf"
   },
   "outputs": [],
   "source": [
    "# These are all the modules we'll be using later. Make sure you can import them\n",
    "# before proceeding further.\n",
    "import collections\n",
    "import math\n",
    "import numpy as np\n",
    "import os\n",
    "import random\n",
    "import tensorflow as tf\n",
    "import zipfile\n",
    "from matplotlib import pylab\n",
    "from six.moves import range\n",
    "from six.moves.urllib.request import urlretrieve\n",
    "from sklearn.manifold import TSNE"
   ]
  },
  {
   "cell_type": "code",
   "execution_count": 2,
   "metadata": {
    "collapsed": true
   },
   "outputs": [],
   "source": [
    "%matplotlib inline"
   ]
  },
  {
   "cell_type": "markdown",
   "metadata": {
    "colab_type": "text",
    "id": "aCjPJE944bkV"
   },
   "source": [
    "Download the data from the source website if necessary."
   ]
  },
  {
   "cell_type": "code",
   "execution_count": 3,
   "metadata": {
    "cellView": "both",
    "colab": {
     "autoexec": {
      "startup": false,
      "wait_interval": 0
     },
     "output_extras": [
      {
       "item_id": 1
      }
     ]
    },
    "colab_type": "code",
    "collapsed": false,
    "executionInfo": {
     "elapsed": 14640,
     "status": "ok",
     "timestamp": 1445964482948,
     "user": {
      "color": "#1FA15D",
      "displayName": "Vincent Vanhoucke",
      "isAnonymous": false,
      "isMe": true,
      "permissionId": "05076109866853157986",
      "photoUrl": "//lh6.googleusercontent.com/-cCJa7dTDcgQ/AAAAAAAAAAI/AAAAAAAACgw/r2EZ_8oYer4/s50-c-k-no/photo.jpg",
      "sessionId": "2f1ffade4c9f20de",
      "userId": "102167687554210253930"
     },
     "user_tz": 420
    },
    "id": "RJ-o3UBUFtCw",
    "outputId": "c4ec222c-80b5-4298-e635-93ca9f79c3b7"
   },
   "outputs": [
    {
     "name": "stdout",
     "output_type": "stream",
     "text": [
      "Found and verified mytesttext.txt.zip\n",
      "Found and verified text8.zip\n"
     ]
    }
   ],
   "source": [
    "url = 'http://mattmahoney.net/dc/'\n",
    "\n",
    "def maybe_download(filename, expected_bytes):\n",
    "    \"\"\"Download a file if not present, and make sure it's the right size.\"\"\"\n",
    "    if not os.path.exists(filename):\n",
    "        filename, _ = urlretrieve(url + filename, filename)\n",
    "    statinfo = os.stat(filename)\n",
    "    if statinfo.st_size == expected_bytes:\n",
    "        print('Found and verified %s' % filename)\n",
    "    else:\n",
    "        print(statinfo.st_size)\n",
    "        raise Exception(\n",
    "          'Failed to verify ' + filename + '. Can you get to it with a browser?')\n",
    "    return filename\n",
    "\n",
    "filename = maybe_download('mytesttext.txt.zip', 415)   # of course, this file is local\n",
    "filename = maybe_download('text8.zip', 31344016)"
   ]
  },
  {
   "cell_type": "markdown",
   "metadata": {
    "colab_type": "text",
    "id": "Zqz3XiqI4mZT"
   },
   "source": [
    "Read the data into a string."
   ]
  },
  {
   "cell_type": "code",
   "execution_count": 4,
   "metadata": {
    "cellView": "both",
    "colab": {
     "autoexec": {
      "startup": false,
      "wait_interval": 0
     },
     "output_extras": [
      {
       "item_id": 1
      }
     ]
    },
    "colab_type": "code",
    "collapsed": false,
    "executionInfo": {
     "elapsed": 28844,
     "status": "ok",
     "timestamp": 1445964497165,
     "user": {
      "color": "#1FA15D",
      "displayName": "Vincent Vanhoucke",
      "isAnonymous": false,
      "isMe": true,
      "permissionId": "05076109866853157986",
      "photoUrl": "//lh6.googleusercontent.com/-cCJa7dTDcgQ/AAAAAAAAAAI/AAAAAAAACgw/r2EZ_8oYer4/s50-c-k-no/photo.jpg",
      "sessionId": "2f1ffade4c9f20de",
      "userId": "102167687554210253930"
     },
     "user_tz": 420
    },
    "id": "Mvf09fjugFU_",
    "outputId": "e3a928b4-1645-4fe8-be17-fcf47de5716d"
   },
   "outputs": [
    {
     "name": "stdout",
     "output_type": "stream",
     "text": [
      "['text8']\n",
      "Data size 17005207\n"
     ]
    }
   ],
   "source": [
    "def read_data(filename):\n",
    "    f = zipfile.ZipFile(filename)\n",
    "    print f.namelist()\n",
    "    # should be yield here?\n",
    "    for name in f.namelist():\n",
    "        return tf.compat.as_str(f.read(name)).split()\n",
    "    f.close()\n",
    "\n",
    "words = read_data(filename)\n",
    "print('Data size %d' % len(words))"
   ]
  },
  {
   "cell_type": "code",
   "execution_count": 5,
   "metadata": {
    "collapsed": false
   },
   "outputs": [
    {
     "name": "stdout",
     "output_type": "stream",
     "text": [
      "253854\n"
     ]
    }
   ],
   "source": [
    "print len(set(words))"
   ]
  },
  {
   "cell_type": "code",
   "execution_count": 6,
   "metadata": {
    "collapsed": false
   },
   "outputs": [
    {
     "data": {
      "text/plain": [
       "['anarchism',\n",
       " 'originated',\n",
       " 'as',\n",
       " 'a',\n",
       " 'term',\n",
       " 'of',\n",
       " 'abuse',\n",
       " 'first',\n",
       " 'used',\n",
       " 'against']"
      ]
     },
     "execution_count": 6,
     "metadata": {},
     "output_type": "execute_result"
    }
   ],
   "source": [
    "words[:10]"
   ]
  },
  {
   "cell_type": "code",
   "execution_count": 7,
   "metadata": {
    "collapsed": false
   },
   "outputs": [
    {
     "data": {
      "text/plain": [
       "['four',\n",
       " 'two',\n",
       " 'and',\n",
       " 'extensively',\n",
       " 'excavated',\n",
       " 'in',\n",
       " 'one',\n",
       " 'nine',\n",
       " 'six',\n",
       " 'three',\n",
       " 'one',\n",
       " 'nine',\n",
       " 'six',\n",
       " 'five',\n",
       " 'b']"
      ]
     },
     "execution_count": 7,
     "metadata": {},
     "output_type": "execute_result"
    }
   ],
   "source": [
    "words[-15:]"
   ]
  },
  {
   "cell_type": "code",
   "execution_count": 8,
   "metadata": {
    "collapsed": false
   },
   "outputs": [
    {
     "name": "stdout",
     "output_type": "stream",
     "text": [
      "[(0, 5), (1, 3), (2, 2), (3, 1)]\n"
     ]
    }
   ],
   "source": [
    "# make sure collections.Counter does what we expect...\n",
    "testl = [0, 0, 0, 0, 0, 1, 1, 1, 2, 2, 3]\n",
    "print collections.Counter(testl).most_common(len(testl) - 1)"
   ]
  },
  {
   "cell_type": "code",
   "execution_count": 9,
   "metadata": {
    "collapsed": false
   },
   "outputs": [
    {
     "name": "stdout",
     "output_type": "stream",
     "text": [
      "[(0, 5), (1, 3)]\n"
     ]
    }
   ],
   "source": [
    "print collections.Counter(testl).most_common(2)"
   ]
  },
  {
   "cell_type": "markdown",
   "metadata": {
    "colab_type": "text",
    "id": "Zdw6i4F8glpp"
   },
   "source": [
    "Build the dictionary and replace rare words with UNK token."
   ]
  },
  {
   "cell_type": "code",
   "execution_count": 10,
   "metadata": {
    "cellView": "both",
    "colab": {
     "autoexec": {
      "startup": false,
      "wait_interval": 0
     },
     "output_extras": [
      {
       "item_id": 1
      }
     ]
    },
    "colab_type": "code",
    "collapsed": false,
    "executionInfo": {
     "elapsed": 28849,
     "status": "ok",
     "timestamp": 1445964497178,
     "user": {
      "color": "#1FA15D",
      "displayName": "Vincent Vanhoucke",
      "isAnonymous": false,
      "isMe": true,
      "permissionId": "05076109866853157986",
      "photoUrl": "//lh6.googleusercontent.com/-cCJa7dTDcgQ/AAAAAAAAAAI/AAAAAAAACgw/r2EZ_8oYer4/s50-c-k-no/photo.jpg",
      "sessionId": "2f1ffade4c9f20de",
      "userId": "102167687554210253930"
     },
     "user_tz": 420
    },
    "id": "gAL1EECXeZsD",
    "outputId": "3fb4ecd1-df67-44b6-a2dc-2291730970b2"
   },
   "outputs": [
    {
     "name": "stdout",
     "output_type": "stream",
     "text": [
      "('Most common words (+UNK)', [['UNK', 418391], ('the', 1061396), ('of', 593677), ('and', 416629), ('one', 411764)])\n",
      "('Sample data', [5239, 3084, 12, 6, 195, 2, 3137, 46, 59, 156])\n"
     ]
    }
   ],
   "source": [
    "vocabulary_size = 50000\n",
    "\n",
    "def build_dataset(words):\n",
    "    count = [['UNK', -1]]\n",
    "    count.extend(collections.Counter(words).most_common(vocabulary_size - 1))\n",
    "    dictionary = dict()\n",
    "    for word, _ in count:\n",
    "        dictionary[word] = len(dictionary)  # where the word showed in the collection sorted by most common\n",
    "    data = list()\n",
    "    unk_count = 0\n",
    "    for word in words:\n",
    "        if word in dictionary:\n",
    "            index = dictionary[word]\n",
    "        else:\n",
    "            index = 0  # dictionary['UNK']\n",
    "            unk_count = unk_count + 1\n",
    "        data.append(index)\n",
    "    \n",
    "    count[0][1] = unk_count\n",
    "    reverse_dictionary = dict(zip(dictionary.values(), dictionary.keys())) \n",
    "    return data, count, dictionary, reverse_dictionary\n",
    "\n",
    "data, count, dictionary, reverse_dictionary = build_dataset(words)\n",
    "print('Most common words (+UNK)', count[:5])\n",
    "print('Sample data', data[:10])\n",
    "del words  # Hint to reduce memory."
   ]
  },
  {
   "cell_type": "code",
   "execution_count": 11,
   "metadata": {
    "collapsed": false
   },
   "outputs": [
    {
     "name": "stdout",
     "output_type": "stream",
     "text": [
      "1\n",
      "('dict sample keys  :', ['fawn', 'homomorphism', 'nordisk', 'nunnery', 'chthonic', 'sowell', 'sonja', 'showa', 'woods', 'hsv'])\n",
      "('dict sample values:', [45848, 9648, 39343, 36075, 33554, 40562, 38175, 32906, 6263, 44222])\n"
     ]
    }
   ],
   "source": [
    "print dictionary['the']\n",
    "print('dict sample keys  :', dictionary.keys()[:10])\n",
    "print('dict sample values:', dictionary.values()[:10])"
   ]
  },
  {
   "cell_type": "code",
   "execution_count": 12,
   "metadata": {
    "collapsed": false
   },
   "outputs": [
    {
     "name": "stdout",
     "output_type": "stream",
     "text": [
      "('sorted dict sample keys  :', ['UNK', 'a', 'aa', 'aaa', 'aaas', 'aac', 'aachen', 'aafc', 'aai', 'aalborg'])\n"
     ]
    }
   ],
   "source": [
    "print('sorted dict sample keys  :', sorted(dictionary.keys())[:10])"
   ]
  },
  {
   "cell_type": "code",
   "execution_count": 13,
   "metadata": {
    "collapsed": false
   },
   "outputs": [
    {
     "name": "stdout",
     "output_type": "stream",
     "text": [
      "('sorted dict sample vals  :', [0, 1, 2, 3, 4, 5, 6, 7, 8, 9])\n"
     ]
    }
   ],
   "source": [
    "print('sorted dict sample vals  :', sorted(dictionary.values())[:10])"
   ]
  },
  {
   "cell_type": "code",
   "execution_count": 14,
   "metadata": {
    "collapsed": false
   },
   "outputs": [
    {
     "name": "stdout",
     "output_type": "stream",
     "text": [
      "('dict sample keys (at end)  :', ['hausdorff', 'medications', 'geysers', 'upholds', 'gan', 'rotting', 'pods', 'emery', 'northerly', 'expands'])\n",
      "('dict sample values (at end):', [7269, 11173, 17729, 41993, 14335, 26447, 23281, 40177, 23637, 14497])\n"
     ]
    }
   ],
   "source": [
    "print('dict sample keys (at end)  :', dictionary.keys()[-10:])\n",
    "print('dict sample values (at end):', dictionary.values()[-10:])"
   ]
  },
  {
   "cell_type": "code",
   "execution_count": 15,
   "metadata": {
    "collapsed": false
   },
   "outputs": [
    {
     "name": "stdout",
     "output_type": "stream",
     "text": [
      "('rev dict sample keys  :', [0, 1, 2, 3, 4, 5, 6, 7, 8, 9, 10, 11, 12, 13, 14, 15, 16, 17, 18, 19])\n",
      "('rev dict sample values:', ['UNK', 'the', 'of', 'and', 'one', 'in', 'a', 'to', 'zero', 'nine', 'two', 'is', 'as', 'eight', 'for', 's', 'five', 'three', 'was', 'by'])\n"
     ]
    }
   ],
   "source": [
    "print('rev dict sample keys  :', reverse_dictionary.keys()[:20])\n",
    "print('rev dict sample values:', reverse_dictionary.values()[:20])"
   ]
  },
  {
   "cell_type": "code",
   "execution_count": 16,
   "metadata": {
    "collapsed": false
   },
   "outputs": [
    {
     "name": "stdout",
     "output_type": "stream",
     "text": [
      "('rev dict sample keys  :', [49980, 49981, 49982, 49983, 49984, 49985, 49986, 49987, 49988, 49989, 49990, 49991, 49992, 49993, 49994, 49995, 49996, 49997, 49998, 49999])\n"
     ]
    }
   ],
   "source": [
    "print('rev dict sample keys  :', reverse_dictionary.keys()[-20:])"
   ]
  },
  {
   "cell_type": "code",
   "execution_count": 17,
   "metadata": {
    "collapsed": false
   },
   "outputs": [
    {
     "name": "stdout",
     "output_type": "stream",
     "text": [
      "('Most common words (+UNK)', [['UNK', 418391], ('the', 1061396), ('of', 593677), ('and', 416629), ('one', 411764), ('in', 372201), ('a', 325873), ('to', 316376), ('zero', 264975), ('nine', 250430), ('two', 192644), ('is', 183153), ('as', 131815), ('eight', 125285), ('for', 118445), ('s', 116710), ('five', 115789), ('three', 114775), ('was', 112807), ('by', 111831)])\n"
     ]
    }
   ],
   "source": [
    "print('Most common words (+UNK)', count[:20])"
   ]
  },
  {
   "cell_type": "code",
   "execution_count": 18,
   "metadata": {
    "collapsed": false
   },
   "outputs": [
    {
     "name": "stdout",
     "output_type": "stream",
     "text": [
      "00005239, anarchism\n",
      "00003084, originated\n",
      "00000012, as\n",
      "00000006, a\n",
      "00000195, term\n",
      "00000002, of\n",
      "00003137, abuse\n",
      "00000046, first\n",
      "00000059, used\n",
      "00000156, against\n"
     ]
    }
   ],
   "source": [
    "for d in data[:10]:\n",
    "    print '{:08d}, {}'.format(d, reverse_dictionary[d])"
   ]
  },
  {
   "cell_type": "markdown",
   "metadata": {},
   "source": [
    "Interesting that `reversed_dictionary` has stayed in order here... don't think we can count on that..."
   ]
  },
  {
   "cell_type": "markdown",
   "metadata": {
    "colab_type": "text",
    "id": "lFwoyygOmWsL"
   },
   "source": [
    "Function to generate a training batch for the skip-gram model."
   ]
  },
  {
   "cell_type": "code",
   "execution_count": 19,
   "metadata": {
    "cellView": "both",
    "colab": {
     "autoexec": {
      "startup": false,
      "wait_interval": 0
     },
     "output_extras": [
      {
       "item_id": 1
      }
     ]
    },
    "colab_type": "code",
    "collapsed": false,
    "executionInfo": {
     "elapsed": 113,
     "status": "ok",
     "timestamp": 1445964901989,
     "user": {
      "color": "#1FA15D",
      "displayName": "Vincent Vanhoucke",
      "isAnonymous": false,
      "isMe": true,
      "permissionId": "05076109866853157986",
      "photoUrl": "//lh6.googleusercontent.com/-cCJa7dTDcgQ/AAAAAAAAAAI/AAAAAAAACgw/r2EZ_8oYer4/s50-c-k-no/photo.jpg",
      "sessionId": "2f1ffade4c9f20de",
      "userId": "102167687554210253930"
     },
     "user_tz": 420
    },
    "id": "w9APjA-zmfjV",
    "outputId": "67cccb02-cdaf-4e47-d489-43bcc8d57bb8"
   },
   "outputs": [
    {
     "name": "stdout",
     "output_type": "stream",
     "text": [
      "('data:', ['anarchism', 'originated', 'as', 'a', 'term', 'of', 'abuse', 'first'])\n",
      "\n",
      "with num_skips = 2 and skip_window = 1:\n",
      "('    batch:', ['originated', 'originated', 'as', 'as', 'a', 'a', 'term', 'term'])\n",
      "('    labels:', ['anarchism', 'as', 'a', 'originated', 'as', 'term', 'of', 'a'])\n",
      "\n",
      "with num_skips = 4 and skip_window = 2:\n",
      "('    batch:', ['as', 'as', 'as', 'as', 'a', 'a', 'a', 'a'])\n",
      "('    labels:', ['anarchism', 'a', 'term', 'originated', 'originated', 'of', 'as', 'term'])\n"
     ]
    }
   ],
   "source": [
    "data_index = 0\n",
    "\n",
    "def generate_batch(batch_size, num_skips, skip_window):\n",
    "    \"\"\"\n",
    "    basically, loop through the data taking a window of size `skip_window`\n",
    "    to each side of each word and making all those words entries in a \n",
    "    `labels` vector corresponding (each of them) to the center value of\n",
    "    the total window. that center value goes in the batch vector, `num_skips`\n",
    "    times. `num_skips` is counting the number of repetitions of the center\n",
    "    word, and if it is less than twice the `skip_window`, not all the  words\n",
    "    from the surrounding context will be used when filling the labels vector\n",
    "    \"\"\"\n",
    "    # let's keep track of where we are in the data\n",
    "    global data_index\n",
    "    # the batch size must be evenly divisible by the number of skips\n",
    "    assert batch_size % num_skips == 0\n",
    "    assert num_skips <= 2 * skip_window\n",
    "    batch = np.ndarray(shape=(batch_size), dtype=np.int32)\n",
    "    labels = np.ndarray(shape=(batch_size, 1), dtype=np.int32)\n",
    "    # how much data do we traverse per skip?\n",
    "    span = 2 * skip_window + 1 # [ skip_window target skip_window ]\n",
    "    # hold the data for the minibatch\n",
    "    buffer = collections.deque(maxlen=span)\n",
    "    # fill the buffer with the next `span` words of data\n",
    "    for _ in range(span):\n",
    "        buffer.append(data[data_index])\n",
    "        data_index = (data_index + 1) % len(data)\n",
    "    for i in range(batch_size // num_skips):\n",
    "        target = skip_window  # target label at the center of the buffer\n",
    "        targets_to_avoid = [ skip_window ]\n",
    "        # this looks wonky, but we're picking words randomly from \n",
    "        # the group of words in the 'window' around the target - we\n",
    "        # might use parameters such that we don't just use all of\n",
    "        # them, so this is why we are picking randomly and trying to\n",
    "        # avoid picking the same word twice (by index), etc.\n",
    "        for j in range(num_skips):\n",
    "            # find a target that isn't in our \"avoid\" list\n",
    "            while target in targets_to_avoid:\n",
    "                target = random.randint(0, span - 1)\n",
    "            # put the selected target in our list to avoid\n",
    "            targets_to_avoid.append(target)\n",
    "            batch[i * num_skips + j] = buffer[skip_window]\n",
    "            labels[i * num_skips + j, 0] = buffer[target]\n",
    "        buffer.append(data[data_index])\n",
    "        data_index = (data_index + 1) % len(data)\n",
    "    return batch, labels\n",
    "\n",
    "batch_size = 8\n",
    "print('data:', [reverse_dictionary[di] for di in data[:batch_size]])\n",
    "for num_skips, skip_window in [(2, 1), (4, 2)]:\n",
    "    data_index = 0\n",
    "    batch, labels = generate_batch(batch_size=batch_size, num_skips=num_skips, skip_window=skip_window)\n",
    "    print('\\nwith num_skips = %d and skip_window = %d:' % (num_skips, skip_window))\n",
    "    print('    batch:', [reverse_dictionary[bi] for bi in batch])\n",
    "    print('    labels:', [reverse_dictionary[li] for li in labels.reshape(batch_size)])"
   ]
  },
  {
   "cell_type": "code",
   "execution_count": 20,
   "metadata": {
    "collapsed": false
   },
   "outputs": [
    {
     "name": "stdout",
     "output_type": "stream",
     "text": [
      "('data:', ['anarchism', 'originated', 'as', 'a', 'term', 'of', 'abuse', 'first', 'used', 'against', 'early', 'working'])\n",
      "\n",
      "with num_skips = 2 and skip_window = 1:\n",
      "('    batch:', ['originated', 'originated', 'as', 'as', 'a', 'a', 'term', 'term', 'of', 'of', 'abuse', 'abuse'])\n",
      "('    labels:', ['as', 'anarchism', 'a', 'originated', 'as', 'term', 'a', 'of', 'abuse', 'term', 'first', 'of'])\n",
      "\n",
      "with num_skips = 4 and skip_window = 2:\n",
      "('    batch:', ['as', 'as', 'as', 'as', 'a', 'a', 'a', 'a', 'term', 'term', 'term', 'term'])\n",
      "('    labels:', ['a', 'term', 'originated', 'anarchism', 'of', 'as', 'originated', 'term', 'of', 'a', 'abuse', 'as'])\n"
     ]
    }
   ],
   "source": [
    "batch_size = 12\n",
    "print('data:', [reverse_dictionary[di] for di in data[:batch_size]])\n",
    "for num_skips, skip_window in [(2, 1), (4, 2)]:\n",
    "    data_index = 0\n",
    "    batch, labels = generate_batch(batch_size=batch_size, num_skips=num_skips, skip_window=skip_window)\n",
    "    print('\\nwith num_skips = %d and skip_window = %d:' % (num_skips, skip_window))\n",
    "    print('    batch:', [reverse_dictionary[bi] for bi in batch])\n",
    "    print('    labels:', [reverse_dictionary[li] for li in labels.reshape(batch_size)])"
   ]
  },
  {
   "cell_type": "code",
   "execution_count": 21,
   "metadata": {
    "collapsed": false
   },
   "outputs": [
    {
     "name": "stdout",
     "output_type": "stream",
     "text": [
      "('data:', ['anarchism', 'originated', 'as', 'a', 'term', 'of', 'abuse', 'first', 'used', 'against', 'early', 'working', 'class', 'radicals', 'including', 'the'])\n",
      "\n",
      "with num_skips = 2 and skip_window = 1:\n",
      "('    batch:', ['originated', 'originated', 'as', 'as', 'a', 'a', 'term', 'term', 'of', 'of', 'abuse', 'abuse', 'first', 'first', 'used', 'used'])\n",
      "('    labels:', ['as', 'anarchism', 'a', 'originated', 'term', 'as', 'a', 'of', 'term', 'abuse', 'of', 'first', 'used', 'abuse', 'first', 'against'])\n",
      "\n",
      "with num_skips = 4 and skip_window = 3:\n",
      "('    batch:', ['a', 'a', 'a', 'a', 'term', 'term', 'term', 'term', 'of', 'of', 'of', 'of', 'abuse', 'abuse', 'abuse', 'abuse'])\n",
      "('    labels:', ['originated', 'anarchism', 'of', 'as', 'a', 'originated', 'of', 'as', 'abuse', 'term', 'used', 'first', 'term', 'first', 'used', 'against'])\n"
     ]
    }
   ],
   "source": [
    "batch_size = 16\n",
    "print('data:', [reverse_dictionary[di] for di in data[:batch_size]])\n",
    "for num_skips, skip_window in [(2, 1), (4, 3)]:\n",
    "    data_index = 0\n",
    "    batch, labels = generate_batch(batch_size=batch_size, num_skips=num_skips, skip_window=skip_window)\n",
    "    print('\\nwith num_skips = %d and skip_window = %d:' % (num_skips, skip_window))\n",
    "    print('    batch:', [reverse_dictionary[bi] for bi in batch])\n",
    "    print('    labels:', [reverse_dictionary[li] for li in labels.reshape(batch_size)])"
   ]
  },
  {
   "cell_type": "code",
   "execution_count": 22,
   "metadata": {
    "collapsed": false
   },
   "outputs": [
    {
     "name": "stdout",
     "output_type": "stream",
     "text": [
      "('data:', ['anarchism', 'originated', 'as', 'a', 'term', 'of', 'abuse', 'first'])\n",
      "\n",
      "with num_skips = 2 and skip_window = 1:\n",
      "('    batch:', ['originated', 'originated', 'as', 'as', 'a', 'a', 'term', 'term'])\n",
      "('    labels:', ['as', 'anarchism', 'originated', 'a', 'as', 'term', 'a', 'of'])\n",
      "\n",
      "with num_skips = 4 and skip_window = 2:\n",
      "('    batch:', ['as', 'as', 'as', 'as', 'a', 'a', 'a', 'a'])\n",
      "('    labels:', ['term', 'a', 'anarchism', 'originated', 'originated', 'as', 'of', 'term'])\n"
     ]
    }
   ],
   "source": [
    "batch_size = 8\n",
    "print('data:', [reverse_dictionary[di] for di in data[:batch_size]])\n",
    "for num_skips, skip_window in [(2, 1), (4, 2)]:\n",
    "    data_index = 0\n",
    "    batch, labels = generate_batch(batch_size=batch_size, num_skips=num_skips, skip_window=skip_window)\n",
    "    print('\\nwith num_skips = %d and skip_window = %d:' % (num_skips, skip_window))\n",
    "    print('    batch:', [reverse_dictionary[bi] for bi in batch])\n",
    "    print('    labels:', [reverse_dictionary[li] for li in labels.reshape(batch_size)])"
   ]
  },
  {
   "cell_type": "markdown",
   "metadata": {
    "colab_type": "text",
    "id": "Ofd1MbBuwiva"
   },
   "source": [
    "Train a skip-gram model."
   ]
  },
  {
   "cell_type": "code",
   "execution_count": 23,
   "metadata": {
    "collapsed": true
   },
   "outputs": [],
   "source": [
    "data_index = 0"
   ]
  },
  {
   "cell_type": "code",
   "execution_count": 24,
   "metadata": {
    "collapsed": false
   },
   "outputs": [
    {
     "data": {
      "text/plain": [
       "<tensorflow.python.framework.ops.Tensor at 0x7f3a34861290>"
      ]
     },
     "execution_count": 24,
     "metadata": {},
     "output_type": "execute_result"
    }
   ],
   "source": [
    "tf.random_uniform([2, 3])"
   ]
  },
  {
   "cell_type": "code",
   "execution_count": 25,
   "metadata": {
    "cellView": "both",
    "colab": {
     "autoexec": {
      "startup": false,
      "wait_interval": 0
     }
    },
    "colab_type": "code",
    "collapsed": true,
    "id": "8pQKsV4Vwlzy"
   },
   "outputs": [],
   "source": [
    "batch_size = 128\n",
    "embedding_size = 128 # Dimension of the embedding vector.\n",
    "skip_window = 1      # How many words to consider left and right.\n",
    "num_skips = 2        # How many times to reuse an input to generate a label.\n",
    "\n",
    "# We pick a random validation set to sample nearest neighbors. here we limit the\n",
    "# validation samples to the words that have a low numeric ID, which by\n",
    "# construction are also the most frequent. \n",
    "valid_size = 16    # Random set of words to evaluate similarity on.\n",
    "valid_window = 100 # Only pick dev samples in the head of the distribution.\n",
    "valid_examples = np.array(random.sample(range(valid_window), valid_size))\n",
    "num_sampled = 64   # Number of negative examples to sample.\n",
    "\n",
    "graph = tf.Graph()\n",
    "\n",
    "with graph.as_default():\n",
    "\n",
    "    # Input data.\n",
    "    train_dataset = tf.placeholder(tf.int32, shape=[batch_size])\n",
    "    train_labels = tf.placeholder(tf.int32, shape=[batch_size, 1])\n",
    "    valid_dataset = tf.constant(valid_examples, dtype=tf.int32)\n",
    "  \n",
    "    # Variables - aren't we supposed to have two weight matrices? - here, the embeddings are our weight matrix\n",
    "    # connecting us to a hidden layer, and the softmax weights (and biases) are connecting us to the output \n",
    "    # so this is like: (vocab, emb) dot (emb, vocab).T\n",
    "    embeddings = tf.Variable(tf.random_uniform([vocabulary_size, embedding_size], -1.0, 1.0))\n",
    "    softmax_weights = tf.Variable(tf.truncated_normal([vocabulary_size, embedding_size], \n",
    "                                                      stddev=1.0 / math.sqrt(embedding_size)))\n",
    "    softmax_biases = tf.Variable(tf.zeros([vocabulary_size]))\n",
    "  \n",
    "    # Model.\n",
    "    # Look up embeddings for inputs. return tensor has shape: shape(train_dataset) + shape(embeddings)[1:],\n",
    "    # so (batch, vocab-1, embed_sz) ? Here we look up ids=`train_dataset` in a list of embedding tensors\n",
    "    # (=`params`) \n",
    "    embed = tf.nn.embedding_lookup(embeddings, train_dataset)\n",
    "    # Compute the softmax loss, using a sample of the negative labels each time.\n",
    "    loss = tf.reduce_mean(tf.nn.sampled_softmax_loss(softmax_weights, \n",
    "                                                     softmax_biases, \n",
    "                                                     embed, \n",
    "                                                     train_labels, \n",
    "                                                     num_sampled, \n",
    "                                                     vocabulary_size))\n",
    "\n",
    "    # Optimizer.\n",
    "    optimizer = tf.train.AdagradOptimizer(1.0).minimize(loss)\n",
    "  \n",
    "    # Compute the similarity between minibatch examples and all embeddings.\n",
    "    # We use the cosine distance:\n",
    "    norm = tf.sqrt(tf.reduce_sum(tf.square(embeddings), 1, keep_dims=True))\n",
    "    normalized_embeddings = embeddings / norm\n",
    "    valid_embeddings = tf.nn.embedding_lookup(normalized_embeddings, valid_dataset)\n",
    "    similarity = tf.matmul(valid_embeddings, tf.transpose(normalized_embeddings))"
   ]
  },
  {
   "cell_type": "code",
   "execution_count": 26,
   "metadata": {
    "cellView": "both",
    "colab": {
     "autoexec": {
      "startup": false,
      "wait_interval": 0
     },
     "output_extras": [
      {
       "item_id": 23
      },
      {
       "item_id": 48
      },
      {
       "item_id": 61
      }
     ]
    },
    "colab_type": "code",
    "collapsed": false,
    "executionInfo": {
     "elapsed": 436189,
     "status": "ok",
     "timestamp": 1445965429787,
     "user": {
      "color": "#1FA15D",
      "displayName": "Vincent Vanhoucke",
      "isAnonymous": false,
      "isMe": true,
      "permissionId": "05076109866853157986",
      "photoUrl": "//lh6.googleusercontent.com/-cCJa7dTDcgQ/AAAAAAAAAAI/AAAAAAAACgw/r2EZ_8oYer4/s50-c-k-no/photo.jpg",
      "sessionId": "2f1ffade4c9f20de",
      "userId": "102167687554210253930"
     },
     "user_tz": 420
    },
    "id": "1bQFGceBxrWW",
    "outputId": "5ebd6d9a-33c6-4bcd-bf6d-252b0b6055e4"
   },
   "outputs": [
    {
     "name": "stdout",
     "output_type": "stream",
     "text": [
      "Initialized\n",
      "Average loss at step 0: 8.007614\n",
      "Nearest to one: defenders, recantation, suppress, fcc, hutton, worst, do, aorist,\n",
      "Nearest to their: authorization, partials, bitola, intercontinental, conclusive, cloves, hartman, bombay,\n",
      "Nearest to or: pir, delays, ensure, octavia, opposite, rasterization, djvu, televisions,\n",
      "Nearest to new: microbe, ours, soften, betts, amenable, obituary, oversees, mendes,\n",
      "Nearest to known: pronouns, delay, nlm, vassar, kk, gchq, mae, rationalization,\n",
      "Nearest to after: hannes, proteus, delany, paperwork, bunker, expiration, faroes, yersinia,\n",
      "Nearest to all: satchmo, acknowledge, anterior, parrots, eastbound, bahadur, transmitting, deduces,\n",
      "Nearest to can: vagina, jes, gamespot, zinn, dramatic, leeward, keynes, heliports,\n",
      "Nearest to some: stepmother, azad, unremarkable, kesey, twa, farc, simulated, upholding,\n",
      "Nearest to many: quenched, movable, hiatus, peculiarities, spirit, blu, ceases, meaningful,\n",
      "Nearest to nine: vaccination, remotely, african, treacherous, dysrhythmias, gathering, registrations, betray,\n",
      "Nearest to only: opry, encrypted, reindeer, ka, pollard, truss, basica, voters,\n",
      "Nearest to who: bolivian, harmonize, martian, javanese, sectarianism, abacus, hotel, homo,\n",
      "Nearest to world: thereof, christmas, decision, engl, energetic, centimes, vert, sars,\n",
      "Nearest to about: furnished, fetched, endowed, thrived, pickup, appellation, reproduced, blacksmith,\n",
      "Nearest to often: holiest, underneath, koran, transport, hne, browsing, virulence, reprinting,\n",
      "Average loss at step 2000: 4.360878\n",
      "Average loss at step 4000: 3.863313\n",
      "Average loss at step 6000: 3.790050\n",
      "Average loss at step 8000: 3.686676\n",
      "Average loss at step 10000: 3.621330\n",
      "Nearest to one: two, three, recantation, seven, six, four, eight, five,\n",
      "Nearest to their: his, its, the, bovary, burned, communities, sapporo, teil,\n",
      "Nearest to or: and, baudelaire, dismisses, than, weakens, s, sporadic, reconquer,\n",
      "Nearest to new: stadtbahn, microbe, obituary, heinz, ours, lore, coltrane, ovens,\n",
      "Nearest to known: pronouns, polyhedron, niagara, galactose, kk, chomsky, adamantium, strictly,\n",
      "Nearest to after: sef, nestorianism, zombie, bunker, proteus, macromolecule, foederati, backbone,\n",
      "Nearest to all: many, deduces, purchase, relations, positivism, mustang, ducati, dram,\n",
      "Nearest to can: may, could, would, enhancement, zinn, sopranos, meritocracy, neuroimaging,\n",
      "Nearest to some: many, except, edvac, them, paints, midrashim, syllabary, such,\n",
      "Nearest to many: some, all, these, rt, several, quenched, boulton, movable,\n",
      "Nearest to nine: eight, seven, six, five, zero, four, three, two,\n",
      "Nearest to only: telo, inserting, quinine, waller, know, becket, nominations, infiltrated,\n",
      "Nearest to who: javanese, and, they, he, also, authenticity, which, wanderings,\n",
      "Nearest to world: christmas, serpentine, gamblers, main, adaptable, alert, decision, engl,\n",
      "Nearest to about: compilation, swallowing, blacksmith, risorgimento, repairs, conductors, pickup, furnished,\n",
      "Nearest to often: also, underneath, koran, actually, seaport, holiest, dxf, ghibli,\n",
      "Average loss at step 12000: 3.606529\n",
      "Average loss at step 14000: 3.574000\n",
      "Average loss at step 16000: 3.408673\n",
      "Average loss at step 18000: 3.459989\n",
      "Average loss at step 20000: 3.534930\n",
      "Nearest to one: two, four, three, five, six, eight, seven, nine,\n",
      "Nearest to their: its, his, her, the, these, foal, this, another,\n",
      "Nearest to or: and, than, with, kilobytes, wynn, confidant, universal, tet,\n",
      "Nearest to new: stadtbahn, single, microbe, obituary, common, ours, coltrane, orbital,\n",
      "Nearest to known: such, used, follows, polyhedron, pronouns, niagara, well, adamantium,\n",
      "Nearest to after: from, through, under, sef, nestorianism, into, foederati, before,\n",
      "Nearest to all: many, these, some, deduces, castlevania, positivism, arise, several,\n",
      "Nearest to can: may, would, could, will, should, to, cannot, might,\n",
      "Nearest to some: many, these, all, except, several, edvac, various, their,\n",
      "Nearest to many: some, several, these, all, other, such, most, powerpoint,\n",
      "Nearest to nine: eight, six, seven, four, five, zero, three, two,\n",
      "Nearest to only: become, quinine, inserting, infocom, telo, oblivion, remain, becket,\n",
      "Nearest to who: he, which, they, javanese, also, batch, gnostics, wrought,\n",
      "Nearest to world: christmas, gamblers, serpentine, landesverband, adaptable, main, beginning, engl,\n",
      "Nearest to about: leander, compilation, pickup, griffey, swallowing, blacksmith, nonterminals, seeks,\n",
      "Nearest to often: also, still, commonly, actually, dxf, usually, underneath, frequently,\n",
      "Average loss at step 22000: 3.502949\n",
      "Average loss at step 24000: 3.489796\n",
      "Average loss at step 26000: 3.480604\n",
      "Average loss at step 28000: 3.483283\n",
      "Average loss at step 30000: 3.507154\n",
      "Nearest to one: two, seven, four, three, six, eight, nine, five,\n",
      "Nearest to their: its, his, the, her, these, our, covariance, some,\n",
      "Nearest to or: and, than, but, canonization, rpm, consequentialist, per, with,\n",
      "Nearest to new: single, microbe, obituary, ours, eternally, anton, large, expellees,\n",
      "Nearest to known: used, such, well, follows, defined, niagara, established, polyhedron,\n",
      "Nearest to after: before, when, through, from, sef, bunker, into, egyptians,\n",
      "Nearest to all: these, many, some, several, arise, castlevania, rt, deduces,\n",
      "Nearest to can: may, would, could, will, should, must, might, cannot,\n",
      "Nearest to some: many, these, several, all, the, various, except, nicola,\n",
      "Nearest to many: some, several, these, all, most, the, are, edvac,\n",
      "Nearest to nine: eight, seven, six, four, five, zero, three, one,\n",
      "Nearest to only: reduced, telo, still, inserting, contarini, quinine, conveying, remain,\n",
      "Nearest to who: he, they, which, she, javanese, it, also, never,\n",
      "Nearest to world: christmas, gamblers, serpentine, adaptable, civil, biblical, beginning, main,\n",
      "Nearest to about: compilation, nonterminals, swallowing, leander, over, nabataean, paths, keg,\n",
      "Nearest to often: still, also, commonly, sometimes, usually, actually, widely, frequently,\n",
      "Average loss at step 32000: 3.497332\n",
      "Average loss at step 34000: 3.492727\n",
      "Average loss at step 36000: 3.455969\n",
      "Average loss at step 38000: 3.299403\n",
      "Average loss at step 40000: 3.420297\n",
      "Nearest to one: seven, two, four, six, five, eight, three, nine,\n",
      "Nearest to their: its, his, her, the, our, some, except, both,\n",
      "Nearest to or: and, than, four, a, ornamentation, from, prefix, judeo,\n",
      "Nearest to new: single, anton, lytton, ours, eternally, obituary, stadtbahn, ovens,\n",
      "Nearest to known: used, such, follows, defined, well, established, parking, adventist,\n",
      "Nearest to after: before, through, during, from, when, bled, alan, for,\n",
      "Nearest to all: these, both, cheerleading, many, arise, mon, succumbing, several,\n",
      "Nearest to can: may, could, would, will, should, might, cannot, must,\n",
      "Nearest to some: many, these, several, their, various, certain, any, edvac,\n",
      "Nearest to many: some, several, these, various, most, except, guillain, edvac,\n",
      "Nearest to nine: eight, seven, six, zero, five, four, three, one,\n",
      "Nearest to only: quinine, reduced, conveying, telo, exploding, scary, still, inserting,\n",
      "Nearest to who: he, which, often, also, they, she, kickapoo, never,\n",
      "Nearest to world: christmas, serpentine, dune, civil, gamblers, antiochian, pontchartrain, years,\n",
      "Nearest to about: congressional, over, nonterminals, wie, on, roar, keg, compilation,\n",
      "Nearest to often: usually, also, still, commonly, sometimes, widely, frequently, actually,\n",
      "Average loss at step 42000: 3.438611\n",
      "Average loss at step 44000: 3.447365\n",
      "Average loss at step 46000: 3.451029\n",
      "Average loss at step 48000: 3.349432\n",
      "Average loss at step 50000: 3.384636\n",
      "Nearest to one: two, six, eight, four, seven, five, three, nine,\n",
      "Nearest to their: its, his, her, the, our, cabinets, some, moncada,\n",
      "Nearest to or: and, than, dentist, but, disturbs, kilobytes, consequentialist, citrus,\n",
      "Nearest to new: single, common, local, stadtbahn, lytton, anton, previous, obituary,\n",
      "Nearest to known: used, such, follows, defined, well, established, possible, boulton,\n",
      "Nearest to after: before, during, through, when, since, while, under, into,\n",
      "Nearest to all: both, these, tullius, many, some, several, succumbing, sugars,\n",
      "Nearest to can: may, could, will, would, should, must, might, cannot,\n",
      "Nearest to some: many, several, these, various, except, edvac, both, most,\n",
      "Nearest to many: some, several, these, various, both, few, most, guillain,\n",
      "Nearest to nine: eight, six, seven, four, five, three, zero, two,\n",
      "Nearest to only: quinine, reduced, still, conveying, contemporaneous, first, clef, tls,\n",
      "Nearest to who: he, which, she, often, never, they, also, there,\n",
      "Nearest to world: christmas, civil, gamblers, pontchartrain, alhazen, serpentine, fortnight, antiochian,\n",
      "Nearest to about: kri, congressional, over, greeting, heterochromatin, none, roar, intramolecular,\n",
      "Nearest to often: usually, sometimes, commonly, still, generally, also, widely, frequently,\n",
      "Average loss at step 52000: 3.435089\n",
      "Average loss at step 54000: 3.420191\n",
      "Average loss at step 56000: 3.440072\n",
      "Average loss at step 58000: 3.397757\n",
      "Average loss at step 60000: 3.394892\n",
      "Nearest to one: two, eight, seven, four, six, three, nine, five,\n",
      "Nearest to their: its, his, her, the, our, these, whose, some,\n",
      "Nearest to or: and, than, confidant, jis, but, including, stalinist, bullpen,\n",
      "Nearest to new: lytton, anton, stadtbahn, local, single, batavii, previous, obituary,\n",
      "Nearest to known: used, such, follows, defined, well, established, kantian, possible,\n",
      "Nearest to after: before, during, through, when, following, under, despite, from,\n",
      "Nearest to all: both, some, many, these, those, various, any, every,\n",
      "Nearest to can: may, could, would, will, should, must, might, cannot,\n",
      "Nearest to some: many, several, these, all, any, certain, most, except,\n",
      "Nearest to many: some, several, these, various, all, most, both, except,\n",
      "Nearest to nine: eight, six, seven, five, four, three, zero, one,\n",
      "Nearest to only: still, first, no, quinine, reduced, usually, but, until,\n",
      "Nearest to who: he, never, she, which, still, also, noord, now,\n",
      "Nearest to world: dune, serpentine, civil, settlers, middle, fortnight, post, gamblers,\n",
      "Nearest to about: over, kri, heterochromatin, eugen, around, leander, congressional, hal,\n",
      "Nearest to often: usually, sometimes, commonly, still, frequently, now, also, generally,\n",
      "Average loss at step 62000: 3.243445\n",
      "Average loss at step 64000: 3.256587\n",
      "Average loss at step 66000: 3.400647\n",
      "Average loss at step 68000: 3.392828\n",
      "Average loss at step 70000: 3.359870\n",
      "Nearest to one: two, six, eight, seven, four, five, three, nine,\n",
      "Nearest to their: its, his, her, the, these, our, your, some,\n",
      "Nearest to or: and, while, than, but, judeo, any, without, respectful,\n",
      "Nearest to new: lytton, obituary, single, anton, commemorated, kala, ours, stadtbahn,\n",
      "Nearest to known: used, such, defined, follows, regarded, possible, seen, well,\n",
      "Nearest to after: before, during, when, through, while, despite, gmc, fucking,\n",
      "Nearest to all: some, many, both, various, any, those, these, several,\n",
      "Nearest to can: could, may, would, will, should, might, must, cannot,\n",
      "Nearest to some: many, several, all, these, various, most, any, certain,\n",
      "Nearest to many: some, several, various, these, all, most, few, both,\n",
      "Nearest to nine: eight, six, seven, five, four, zero, three, one,\n",
      "Nearest to only: quinine, still, actually, harder, no, even, first, kelp,\n",
      "Nearest to who: he, she, never, which, noord, still, already, they,\n",
      "Nearest to world: gamblers, post, serpentine, engl, landesverband, u, christmas, pontchartrain,\n",
      "Nearest to about: over, regarding, roar, eugen, heterochromatin, approximately, congressional, kri,\n",
      "Nearest to often: usually, sometimes, commonly, still, generally, now, frequently, also,\n",
      "Average loss at step 72000: 3.372070\n",
      "Average loss at step 74000: 3.345027\n",
      "Average loss at step 76000: 3.314866\n",
      "Average loss at step 78000: 3.355897\n",
      "Average loss at step 80000: 3.374958\n",
      "Nearest to one: seven, six, two, three, eight, four, five, philological,\n",
      "Nearest to their: its, his, her, our, my, your, the, hadiths,\n",
      "Nearest to or: and, than, while, respectful, but, disturbs, jis, noriega,\n",
      "Nearest to new: single, obituary, anton, lytton, soaemias, kala, stadtbahn, sore,\n",
      "Nearest to known: used, defined, such, regarded, available, follows, seen, well,\n",
      "Nearest to after: before, during, when, despite, while, through, in, at,\n",
      "Nearest to all: both, every, any, various, some, many, several, these,\n",
      "Nearest to can: could, would, may, will, might, should, must, cannot,\n",
      "Nearest to some: many, several, various, both, certain, these, all, most,\n",
      "Nearest to many: several, some, various, these, both, few, numerous, all,\n",
      "Nearest to nine: eight, seven, six, four, five, three, zero, catullus,\n",
      "Nearest to only: harder, quinine, first, still, lead, until, actually, best,\n",
      "Nearest to who: he, she, still, never, which, they, often, already,\n",
      "Nearest to world: gamblers, engl, u, serpentine, cs, post, vdash, grissom,\n",
      "Nearest to about: heterochromatin, over, approximately, regarding, kri, around, eugen, leander,\n",
      "Nearest to often: usually, sometimes, commonly, still, generally, frequently, now, typically,\n",
      "Average loss at step 82000: 3.406564\n",
      "Average loss at step 84000: 3.410736\n",
      "Average loss at step 86000: 3.383305\n",
      "Average loss at step 88000: 3.349995\n",
      "Average loss at step 90000: 3.365311\n",
      "Nearest to one: seven, two, eight, four, six, three, nine, th,\n",
      "Nearest to their: its, his, her, our, your, my, iban, whose,\n",
      "Nearest to or: and, though, jis, while, than, resultant, ux, noriega,\n",
      "Nearest to new: anton, obituary, single, commemorated, indecision, previous, kite, ravaging,\n",
      "Nearest to known: used, such, defined, regarded, seen, follows, available, well,\n",
      "Nearest to after: before, during, despite, when, through, while, for, upon,\n",
      "Nearest to all: both, many, various, several, every, any, some, those,\n",
      "Nearest to can: could, may, will, would, must, should, might, cannot,\n",
      "Nearest to some: many, several, any, these, certain, both, various, most,\n",
      "Nearest to many: several, some, various, these, all, most, numerous, both,\n",
      "Nearest to nine: eight, seven, six, five, four, three, zero, births,\n",
      "Nearest to only: no, still, quinine, actually, even, never, dart, best,\n",
      "Nearest to who: she, he, still, often, which, they, javanese, never,\n",
      "Nearest to world: gamblers, serpentine, cs, post, assyrian, empire, dicke, label,\n",
      "Nearest to about: regarding, over, kri, heterochromatin, approximately, around, oscillate, abeken,\n",
      "Nearest to often: usually, sometimes, commonly, generally, frequently, still, now, also,\n",
      "Average loss at step 92000: 3.397345\n",
      "Average loss at step 94000: 3.245853\n",
      "Average loss at step 96000: 3.357627\n",
      "Average loss at step 98000: 3.241575\n",
      "Average loss at step 100000: 3.358724\n",
      "Nearest to one: two, seven, four, five, eight, three, six, th,\n",
      "Nearest to their: its, his, her, your, our, the, my, these,\n",
      "Nearest to or: and, than, respectful, definiteness, moonlight, ciphertexts, bullpen, ha,\n",
      "Nearest to new: commemorated, single, anton, previous, lytton, indecision, kite, typical,\n",
      "Nearest to known: such, used, defined, regarded, available, follows, possible, seen,\n",
      "Nearest to after: before, during, when, despite, while, for, through, fucking,\n",
      "Nearest to all: various, many, these, both, several, some, every, any,\n",
      "Nearest to can: could, may, will, must, would, should, might, cannot,\n",
      "Nearest to some: many, several, these, any, certain, various, all, qadhafi,\n",
      "Nearest to many: several, some, various, these, all, numerous, few, certain,\n",
      "Nearest to nine: eight, seven, six, four, five, three, zero, one,\n",
      "Nearest to only: no, quinine, even, never, still, actually, beeb, certainly,\n",
      "Nearest to who: he, she, never, still, often, which, and, they,\n",
      "Nearest to world: u, cs, serpentine, gamblers, champions, harmonizing, settlers, dicke,\n",
      "Nearest to about: kri, approximately, around, heterochromatin, over, regarding, fruiting, suffragette,\n",
      "Nearest to often: usually, sometimes, commonly, generally, frequently, typically, still, now,\n"
     ]
    }
   ],
   "source": [
    "num_steps = 100001\n",
    "\n",
    "with tf.Session(graph=graph) as session:\n",
    "    tf.initialize_all_variables().run()\n",
    "    print('Initialized')\n",
    "    average_loss = 0\n",
    "    for step in range(num_steps):\n",
    "        batch_data, batch_labels = generate_batch(batch_size, num_skips, skip_window)\n",
    "        feed_dict = {train_dataset : batch_data, train_labels : batch_labels}\n",
    "        _, l = session.run([optimizer, loss], feed_dict=feed_dict)\n",
    "        average_loss += l\n",
    "        if step % 2000 == 0:\n",
    "            if step > 0:\n",
    "                average_loss = average_loss / 2000\n",
    "            # The average loss is an estimate of the loss over the last 2000 batches.\n",
    "            print('Average loss at step %d: %f' % (step, average_loss))\n",
    "            average_loss = 0\n",
    "        # note that this is expensive (~20% slowdown if computed every 500 steps)\n",
    "        if step % 10000 == 0:\n",
    "            sim = similarity.eval()\n",
    "            for i in xrange(valid_size):\n",
    "                valid_word = reverse_dictionary[valid_examples[i]]\n",
    "                top_k = 8 # number of nearest neighbors\n",
    "                nearest = (-sim[i, :]).argsort()[1:top_k+1]\n",
    "                log = 'Nearest to %s:' % valid_word\n",
    "                for k in xrange(top_k):\n",
    "                    close_word = reverse_dictionary[nearest[k]]\n",
    "                    log = '%s %s,' % (log, close_word)\n",
    "                print(log)\n",
    "    final_embeddings = normalized_embeddings.eval()"
   ]
  },
  {
   "cell_type": "code",
   "execution_count": 27,
   "metadata": {
    "cellView": "both",
    "colab": {
     "autoexec": {
      "startup": false,
      "wait_interval": 0
     }
    },
    "colab_type": "code",
    "collapsed": true,
    "id": "jjJXYA_XzV79"
   },
   "outputs": [],
   "source": [
    "num_points = 400\n",
    "\n",
    "tsne = TSNE(perplexity=30, n_components=2, init='pca', n_iter=5000)\n",
    "two_d_embeddings = tsne.fit_transform(final_embeddings[1:num_points+1, :])"
   ]
  },
  {
   "cell_type": "code",
   "execution_count": 28,
   "metadata": {
    "cellView": "both",
    "colab": {
     "autoexec": {
      "startup": false,
      "wait_interval": 0
     },
     "output_extras": [
      {
       "item_id": 1
      }
     ]
    },
    "colab_type": "code",
    "collapsed": false,
    "executionInfo": {
     "elapsed": 4763,
     "status": "ok",
     "timestamp": 1445965465525,
     "user": {
      "color": "#1FA15D",
      "displayName": "Vincent Vanhoucke",
      "isAnonymous": false,
      "isMe": true,
      "permissionId": "05076109866853157986",
      "photoUrl": "//lh6.googleusercontent.com/-cCJa7dTDcgQ/AAAAAAAAAAI/AAAAAAAACgw/r2EZ_8oYer4/s50-c-k-no/photo.jpg",
      "sessionId": "2f1ffade4c9f20de",
      "userId": "102167687554210253930"
     },
     "user_tz": 420
    },
    "id": "o_e0D_UezcDe",
    "outputId": "df22e4a5-e8ec-4e5e-d384-c6cf37c68c34"
   },
   "outputs": [
    {
     "data": {
      "image/png": "[encoded data removed]",
      "text/plain": [
       "<matplotlib.figure.Figure at 0x7f3a348616d0>"
      ]
     },
     "metadata": {},
     "output_type": "display_data"
    }
   ],
   "source": [
    "def plot(embeddings, labels):\n",
    "    assert embeddings.shape[0] >= len(labels), 'More labels than embeddings'\n",
    "    pylab.figure(figsize=(15,15))  # in inches\n",
    "    for i, label in enumerate(labels):\n",
    "        x, y = embeddings[i,:]\n",
    "        pylab.scatter(x, y)\n",
    "        pylab.annotate(label, xy=(x, y), xytext=(5, 2), textcoords='offset points',\n",
    "                   ha='right', va='bottom')\n",
    "    pylab.show()\n",
    "\n",
    "words = [reverse_dictionary[i] for i in range(1, num_points+1)]\n",
    "plot(two_d_embeddings, words)"
   ]
  },
  {
   "cell_type": "markdown",
   "metadata": {
    "colab_type": "text",
    "id": "QB5EFrBnpNnc"
   },
   "source": [
    "---\n",
    "\n",
    "Problem\n",
    "-------\n",
    "\n",
    "An alternative to Word2Vec is called [CBOW](http://arxiv.org/abs/1301.3781) (Continuous Bag of Words). In the CBOW model, instead of predicting a context word from a word vector, you predict a word from the sum of all the word vectors in its context. Implement and evaluate a CBOW model trained on the text8 dataset.\n",
    "\n",
    "---"
   ]
  },
  {
   "cell_type": "markdown",
   "metadata": {
    "collapsed": true
   },
   "source": [
    "Some context from the [TensorFlow web page](https://www.tensorflow.org/versions/master/tutorials/word2vec/index.html):\n",
    "\n",
    "\"Word2vec is a particularly computationally-efficient predictive model for learning word embeddings from raw text. It comes in two flavors, the Continuous Bag-of-Words model (CBOW) and the Skip-Gram model. Algorithmically, these models are similar, except that CBOW predicts target words (e.g. 'mat') from source context words ('the cat sits on the'), while the skip-gram does the inverse and predicts source context-words from the target words. This inversion might seem like an arbitrary choice, but statistically it has the effect that CBOW smoothes over a lot of the distributional information (by treating an entire context as one observation). For the most part, this turns out to be a useful thing for smaller datasets. However, skip-gram treats each context-target pair as a new observation, and this tends to do better when we have larger datasets.\""
   ]
  },
  {
   "cell_type": "markdown",
   "metadata": {},
   "source": [
    "There is a nice discussion of CBOW and skip-gram, at a high level, on the [TensorFlow word2vec tutorial page](https://www.tensorflow.org/versions/master/tutorials/word2vec/index.html) refernced above. The key thing to understand about CBOW vs skip-gram is that CBOW is attempting to predict a word from the surrounding context, while skip-gram is attempting to do the opposite - given a target word, it attempts to predict surrounding context."
   ]
  },
  {
   "cell_type": "markdown",
   "metadata": {},
   "source": [
    "Their illustration is nice. Consider:\n",
    "\n",
    "    the quick brown fox jumped over the lazy dog\n",
    "    \n",
    "If we consider a context window that is one word wide, the `([context], target)` pairing CBOW wants to use is:\n",
    "\n",
    "    ([the, brown], quick), ([quick, fox], brown), ([brown, jumped], fox), ([fox, over], jumped), etc.\n",
    "    \n",
    "In fact, what CBOW wants to do (?) is average the words in the context vector. Skip-gram, by contrast, wants to invert this data and use target to predic the context in pairs like `(target, context)`:\n",
    "\n",
    "    (quick, the), (quick, brown), (brown, quick), (brown, fox), (fox, brown), (fox, jumped), (jumped, fox), etc."
   ]
  },
  {
   "cell_type": "code",
   "execution_count": 34,
   "metadata": {
    "collapsed": false
   },
   "outputs": [
    {
     "name": "stdout",
     "output_type": "stream",
     "text": [
      "['the', 'quick', 'brown', 'fox', 'jumped', 'over', 'the', 'lazy', 'dog']\n",
      "9\n"
     ]
    }
   ],
   "source": [
    "rawdata = 'the quick brown fox jumped over the lazy dog'.split()\n",
    "print rawdata\n",
    "print len(rawdata)"
   ]
  },
  {
   "cell_type": "code",
   "execution_count": 38,
   "metadata": {
    "collapsed": false
   },
   "outputs": [
    {
     "name": "stdout",
     "output_type": "stream",
     "text": [
      "1 quick\n",
      "['the', 'quick', 'brown']\n",
      "2 brown\n",
      "['quick', 'brown', 'fox']\n",
      "3 fox\n",
      "['brown', 'fox', 'jumped']\n",
      "4 jumped\n",
      "['fox', 'jumped', 'over']\n",
      "5 over\n",
      "['jumped', 'over', 'the']\n",
      "6 the\n",
      "['over', 'the', 'lazy']\n",
      "7 lazy\n",
      "['the', 'lazy', 'dog']\n",
      "[(['the', 'brown'], 'quick'), (['quick', 'fox'], 'brown'), (['brown', 'jumped'], 'fox'), (['fox', 'over'], 'jumped'), (['jumped', 'the'], 'over'), (['over', 'lazy'], 'the'), (['the', 'dog'], 'lazy')]\n"
     ]
    }
   ],
   "source": [
    "window_wing = 1\n",
    "window_size = 2 * window_wing + 1\n",
    "window_center_idx = window_size // 2\n",
    "first_idx = window_center_idx\n",
    "last_idx = len(rawdata) - window_wing\n",
    "\n",
    "data = []\n",
    "for i in range(first_idx, last_idx):\n",
    "    print i, rawdata[i]\n",
    "    window = rawdata[i - window_wing: 1 + i + window_wing]\n",
    "    print window\n",
    "    target = window[window_center_idx]\n",
    "    context = window[0:window_center_idx] + window[window_center_idx + 1:]\n",
    "    val = (context, target)\n",
    "    data.append(val)\n",
    "    \n",
    "print data"
   ]
  },
  {
   "cell_type": "code",
   "execution_count": 40,
   "metadata": {
    "collapsed": false
   },
   "outputs": [],
   "source": [
    "def make_data(window_wing, rawdata):\n",
    "    window_size = 2 * window_wing + 1\n",
    "    window_center_idx = window_size // 2\n",
    "    first_idx = window_center_idx\n",
    "    last_idx = len(rawdata) - window_wing\n",
    "    \n",
    "    data = []\n",
    "    for i in range(first_idx, last_idx):\n",
    "        window = rawdata[i - window_wing: 1 + i + window_wing]\n",
    "        target = window[window_center_idx]\n",
    "        context = window[0:window_center_idx] + window[window_center_idx + 1:]\n",
    "        val = (context, target)\n",
    "        data.append(val)\n",
    "        \n",
    "    return data"
   ]
  },
  {
   "cell_type": "code",
   "execution_count": 41,
   "metadata": {
    "collapsed": false
   },
   "outputs": [
    {
     "name": "stdout",
     "output_type": "stream",
     "text": [
      "[(['the', 'brown'], 'quick'), (['quick', 'fox'], 'brown'), (['brown', 'jumped'], 'fox'), (['fox', 'over'], 'jumped'), (['jumped', 'the'], 'over'), (['over', 'lazy'], 'the'), (['the', 'dog'], 'lazy')]\n"
     ]
    }
   ],
   "source": [
    "data = make_data(1, rawdata)\n",
    "print data"
   ]
  },
  {
   "cell_type": "code",
   "execution_count": 42,
   "metadata": {
    "collapsed": false
   },
   "outputs": [
    {
     "name": "stdout",
     "output_type": "stream",
     "text": [
      "[(['the', 'quick', 'fox', 'jumped'], 'brown'), (['quick', 'brown', 'jumped', 'over'], 'fox'), (['brown', 'fox', 'over', 'the'], 'jumped'), (['fox', 'jumped', 'the', 'lazy'], 'over'), (['jumped', 'over', 'lazy', 'dog'], 'the')]\n"
     ]
    }
   ],
   "source": [
    "data = make_data(2, rawdata)\n",
    "print data"
   ]
  },
  {
   "cell_type": "code",
   "execution_count": null,
   "metadata": {
    "collapsed": true
   },
   "outputs": [],
   "source": []
  }
 ],
 "metadata": {
  "colab": {
   "default_view": {},
   "name": "5_word2vec.ipynb",
   "provenance": [],
   "version": "0.3.2",
   "views": {}
  },
  "kernelspec": {
   "display_name": "Python 2",
   "language": "python",
   "name": "python2"
  },
  "language_info": {
   "codemirror_mode": {
    "name": "ipython",
    "version": 2
   },
   "file_extension": ".py",
   "mimetype": "text/x-python",
   "name": "python",
   "nbconvert_exporter": "python",
   "pygments_lexer": "ipython2",
   "version": "2.7.6"
  }
 },
 "nbformat": 4,
 "nbformat_minor": 0
}
