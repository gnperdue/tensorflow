{
 "cells": [
  {
   "cell_type": "markdown",
   "metadata": {
    "colab_type": "text",
    "id": "D7tqLMoKF6uq"
   },
   "source": [
    "Deep Learning\n",
    "=============\n",
    "\n",
    "Assignment 5\n",
    "------------\n",
    "\n",
    "The goal of this assignment is to train a skip-gram model over [Text8](http://mattmahoney.net/dc/textdata) data."
   ]
  },
  {
   "cell_type": "markdown",
   "metadata": {},
   "source": [
    "Some additional reading:\n",
    "\n",
    "* https://www.tensorflow.org/versions/r0.7/tutorials/word2vec/index.html\n",
    "* http://www.folgertkarsdorp.nl/word2vec-an-introduction/\n",
    "* https://www.kaggle.com/c/word2vec-nlp-tutorial\n",
    "* http://www.cs.toronto.edu/~bonner/courses/2014s/csc321/lectures/lec5.pdf\n",
    "* http://www.cs.toronto.edu/~bonner/courses/2016s/csc321/webpages/lectures.htm\n",
    "* http://radimrehurek.com/gensim/models/word2vec.html"
   ]
  },
  {
   "cell_type": "code",
   "execution_count": 1,
   "metadata": {
    "cellView": "both",
    "colab": {
     "autoexec": {
      "startup": false,
      "wait_interval": 0
     }
    },
    "colab_type": "code",
    "collapsed": true,
    "id": "0K1ZyLn04QZf"
   },
   "outputs": [],
   "source": [
    "# These are all the modules we'll be using later. Make sure you can import them\n",
    "# before proceeding further.\n",
    "import collections\n",
    "import math\n",
    "import numpy as np\n",
    "import os\n",
    "import random\n",
    "import tensorflow as tf\n",
    "import zipfile\n",
    "from matplotlib import pylab\n",
    "from six.moves import range\n",
    "from six.moves.urllib.request import urlretrieve\n",
    "from sklearn.manifold import TSNE"
   ]
  },
  {
   "cell_type": "code",
   "execution_count": 2,
   "metadata": {
    "collapsed": true
   },
   "outputs": [],
   "source": [
    "%matplotlib inline"
   ]
  },
  {
   "cell_type": "markdown",
   "metadata": {
    "colab_type": "text",
    "id": "aCjPJE944bkV"
   },
   "source": [
    "Download the data from the source website if necessary."
   ]
  },
  {
   "cell_type": "code",
   "execution_count": 3,
   "metadata": {
    "cellView": "both",
    "colab": {
     "autoexec": {
      "startup": false,
      "wait_interval": 0
     },
     "output_extras": [
      {
       "item_id": 1
      }
     ]
    },
    "colab_type": "code",
    "collapsed": false,
    "executionInfo": {
     "elapsed": 14640,
     "status": "ok",
     "timestamp": 1445964482948,
     "user": {
      "color": "#1FA15D",
      "displayName": "Vincent Vanhoucke",
      "isAnonymous": false,
      "isMe": true,
      "permissionId": "05076109866853157986",
      "photoUrl": "//lh6.googleusercontent.com/-cCJa7dTDcgQ/AAAAAAAAAAI/AAAAAAAACgw/r2EZ_8oYer4/s50-c-k-no/photo.jpg",
      "sessionId": "2f1ffade4c9f20de",
      "userId": "102167687554210253930"
     },
     "user_tz": 420
    },
    "id": "RJ-o3UBUFtCw",
    "outputId": "c4ec222c-80b5-4298-e635-93ca9f79c3b7"
   },
   "outputs": [
    {
     "name": "stdout",
     "output_type": "stream",
     "text": [
      "Found and verified mytesttext.txt.zip\n",
      "Found and verified text8.zip\n"
     ]
    }
   ],
   "source": [
    "url = 'http://mattmahoney.net/dc/'\n",
    "\n",
    "def maybe_download(filename, expected_bytes):\n",
    "    \"\"\"Download a file if not present, and make sure it's the right size.\"\"\"\n",
    "    if not os.path.exists(filename):\n",
    "        filename, _ = urlretrieve(url + filename, filename)\n",
    "    statinfo = os.stat(filename)\n",
    "    if statinfo.st_size == expected_bytes:\n",
    "        print('Found and verified %s' % filename)\n",
    "    else:\n",
    "        print(statinfo.st_size)\n",
    "        raise Exception(\n",
    "          'Failed to verify ' + filename + '. Can you get to it with a browser?')\n",
    "    return filename\n",
    "\n",
    "filename = maybe_download('mytesttext.txt.zip', 415)   # of course, this file is local\n",
    "filename = maybe_download('text8.zip', 31344016)"
   ]
  },
  {
   "cell_type": "markdown",
   "metadata": {
    "colab_type": "text",
    "id": "Zqz3XiqI4mZT"
   },
   "source": [
    "Read the data into a string."
   ]
  },
  {
   "cell_type": "code",
   "execution_count": 4,
   "metadata": {
    "cellView": "both",
    "colab": {
     "autoexec": {
      "startup": false,
      "wait_interval": 0
     },
     "output_extras": [
      {
       "item_id": 1
      }
     ]
    },
    "colab_type": "code",
    "collapsed": false,
    "executionInfo": {
     "elapsed": 28844,
     "status": "ok",
     "timestamp": 1445964497165,
     "user": {
      "color": "#1FA15D",
      "displayName": "Vincent Vanhoucke",
      "isAnonymous": false,
      "isMe": true,
      "permissionId": "05076109866853157986",
      "photoUrl": "//lh6.googleusercontent.com/-cCJa7dTDcgQ/AAAAAAAAAAI/AAAAAAAACgw/r2EZ_8oYer4/s50-c-k-no/photo.jpg",
      "sessionId": "2f1ffade4c9f20de",
      "userId": "102167687554210253930"
     },
     "user_tz": 420
    },
    "id": "Mvf09fjugFU_",
    "outputId": "e3a928b4-1645-4fe8-be17-fcf47de5716d"
   },
   "outputs": [
    {
     "name": "stdout",
     "output_type": "stream",
     "text": [
      "['text8']\n",
      "Data size 17005207\n"
     ]
    }
   ],
   "source": [
    "def read_data(filename):\n",
    "    f = zipfile.ZipFile(filename)\n",
    "    print f.namelist()\n",
    "    # should be yield here?\n",
    "    for name in f.namelist():\n",
    "        return tf.compat.as_str(f.read(name)).split()\n",
    "    f.close()\n",
    "\n",
    "words = read_data(filename)\n",
    "print('Data size %d' % len(words))"
   ]
  },
  {
   "cell_type": "code",
   "execution_count": 5,
   "metadata": {
    "collapsed": false
   },
   "outputs": [
    {
     "name": "stdout",
     "output_type": "stream",
     "text": [
      "253854\n"
     ]
    }
   ],
   "source": [
    "print len(set(words))"
   ]
  },
  {
   "cell_type": "code",
   "execution_count": 6,
   "metadata": {
    "collapsed": false
   },
   "outputs": [
    {
     "data": {
      "text/plain": [
       "['anarchism',\n",
       " 'originated',\n",
       " 'as',\n",
       " 'a',\n",
       " 'term',\n",
       " 'of',\n",
       " 'abuse',\n",
       " 'first',\n",
       " 'used',\n",
       " 'against']"
      ]
     },
     "execution_count": 6,
     "metadata": {},
     "output_type": "execute_result"
    }
   ],
   "source": [
    "words[:10]"
   ]
  },
  {
   "cell_type": "code",
   "execution_count": 7,
   "metadata": {
    "collapsed": false
   },
   "outputs": [
    {
     "data": {
      "text/plain": [
       "['four',\n",
       " 'two',\n",
       " 'and',\n",
       " 'extensively',\n",
       " 'excavated',\n",
       " 'in',\n",
       " 'one',\n",
       " 'nine',\n",
       " 'six',\n",
       " 'three',\n",
       " 'one',\n",
       " 'nine',\n",
       " 'six',\n",
       " 'five',\n",
       " 'b']"
      ]
     },
     "execution_count": 7,
     "metadata": {},
     "output_type": "execute_result"
    }
   ],
   "source": [
    "words[-15:]"
   ]
  },
  {
   "cell_type": "code",
   "execution_count": 8,
   "metadata": {
    "collapsed": false
   },
   "outputs": [
    {
     "name": "stdout",
     "output_type": "stream",
     "text": [
      "[(0, 5), (1, 3), (2, 2), (3, 1)]\n"
     ]
    }
   ],
   "source": [
    "# make sure collections.Counter does what we expect...\n",
    "testl = [0, 0, 0, 0, 0, 1, 1, 1, 2, 2, 3]\n",
    "print collections.Counter(testl).most_common(len(testl) - 1)"
   ]
  },
  {
   "cell_type": "code",
   "execution_count": 9,
   "metadata": {
    "collapsed": false
   },
   "outputs": [
    {
     "name": "stdout",
     "output_type": "stream",
     "text": [
      "[(0, 5), (1, 3)]\n"
     ]
    }
   ],
   "source": [
    "print collections.Counter(testl).most_common(2)"
   ]
  },
  {
   "cell_type": "markdown",
   "metadata": {
    "colab_type": "text",
    "id": "Zdw6i4F8glpp"
   },
   "source": [
    "Build the dictionary and replace rare words with UNK token."
   ]
  },
  {
   "cell_type": "code",
   "execution_count": 10,
   "metadata": {
    "cellView": "both",
    "colab": {
     "autoexec": {
      "startup": false,
      "wait_interval": 0
     },
     "output_extras": [
      {
       "item_id": 1
      }
     ]
    },
    "colab_type": "code",
    "collapsed": false,
    "executionInfo": {
     "elapsed": 28849,
     "status": "ok",
     "timestamp": 1445964497178,
     "user": {
      "color": "#1FA15D",
      "displayName": "Vincent Vanhoucke",
      "isAnonymous": false,
      "isMe": true,
      "permissionId": "05076109866853157986",
      "photoUrl": "//lh6.googleusercontent.com/-cCJa7dTDcgQ/AAAAAAAAAAI/AAAAAAAACgw/r2EZ_8oYer4/s50-c-k-no/photo.jpg",
      "sessionId": "2f1ffade4c9f20de",
      "userId": "102167687554210253930"
     },
     "user_tz": 420
    },
    "id": "gAL1EECXeZsD",
    "outputId": "3fb4ecd1-df67-44b6-a2dc-2291730970b2"
   },
   "outputs": [
    {
     "name": "stdout",
     "output_type": "stream",
     "text": [
      "('Most common words (+UNK)', [['UNK', 418391], ('the', 1061396), ('of', 593677), ('and', 416629), ('one', 411764)])\n",
      "('Sample data', [5239, 3084, 12, 6, 195, 2, 3137, 46, 59, 156])\n"
     ]
    }
   ],
   "source": [
    "vocabulary_size = 50000\n",
    "\n",
    "def build_dataset(words):\n",
    "    count = [['UNK', -1]]\n",
    "    count.extend(collections.Counter(words).most_common(vocabulary_size - 1))\n",
    "    dictionary = dict()\n",
    "    for word, _ in count:\n",
    "        dictionary[word] = len(dictionary)  # where the word showed in the collection sorted by most common\n",
    "    data = list()\n",
    "    unk_count = 0\n",
    "    for word in words:\n",
    "        if word in dictionary:\n",
    "            index = dictionary[word]\n",
    "        else:\n",
    "            index = 0  # dictionary['UNK']\n",
    "            unk_count = unk_count + 1\n",
    "        data.append(index)\n",
    "    \n",
    "    count[0][1] = unk_count\n",
    "    reverse_dictionary = dict(zip(dictionary.values(), dictionary.keys())) \n",
    "    return data, count, dictionary, reverse_dictionary\n",
    "\n",
    "data, count, dictionary, reverse_dictionary = build_dataset(words)\n",
    "print('Most common words (+UNK)', count[:5])\n",
    "print('Sample data', data[:10])\n",
    "del words  # Hint to reduce memory."
   ]
  },
  {
   "cell_type": "code",
   "execution_count": 11,
   "metadata": {
    "collapsed": false
   },
   "outputs": [
    {
     "name": "stdout",
     "output_type": "stream",
     "text": [
      "1\n",
      "('dict sample keys  :', ['fawn', 'homomorphism', 'nordisk', 'nunnery', 'chthonic', 'sowell', 'sonja', 'showa', 'woods', 'hsv'])\n",
      "('dict sample values:', [45848, 9648, 39343, 36075, 33554, 40562, 38175, 32906, 6263, 44222])\n"
     ]
    }
   ],
   "source": [
    "print dictionary['the']\n",
    "print('dict sample keys  :', dictionary.keys()[:10])\n",
    "print('dict sample values:', dictionary.values()[:10])"
   ]
  },
  {
   "cell_type": "code",
   "execution_count": 12,
   "metadata": {
    "collapsed": false
   },
   "outputs": [
    {
     "name": "stdout",
     "output_type": "stream",
     "text": [
      "('sorted dict sample keys  :', ['UNK', 'a', 'aa', 'aaa', 'aaas', 'aac', 'aachen', 'aafc', 'aai', 'aalborg'])\n"
     ]
    }
   ],
   "source": [
    "print('sorted dict sample keys  :', sorted(dictionary.keys())[:10])"
   ]
  },
  {
   "cell_type": "code",
   "execution_count": 13,
   "metadata": {
    "collapsed": false
   },
   "outputs": [
    {
     "name": "stdout",
     "output_type": "stream",
     "text": [
      "('sorted dict sample vals  :', [0, 1, 2, 3, 4, 5, 6, 7, 8, 9])\n"
     ]
    }
   ],
   "source": [
    "print('sorted dict sample vals  :', sorted(dictionary.values())[:10])"
   ]
  },
  {
   "cell_type": "code",
   "execution_count": 14,
   "metadata": {
    "collapsed": false
   },
   "outputs": [
    {
     "name": "stdout",
     "output_type": "stream",
     "text": [
      "('dict sample keys (at end)  :', ['hausdorff', 'medications', 'geysers', 'upholds', 'gan', 'rotting', 'pods', 'emery', 'northerly', 'expands'])\n",
      "('dict sample values (at end):', [7269, 11173, 17729, 41993, 14335, 26447, 23281, 40177, 23637, 14497])\n"
     ]
    }
   ],
   "source": [
    "print('dict sample keys (at end)  :', dictionary.keys()[-10:])\n",
    "print('dict sample values (at end):', dictionary.values()[-10:])"
   ]
  },
  {
   "cell_type": "code",
   "execution_count": 15,
   "metadata": {
    "collapsed": false
   },
   "outputs": [
    {
     "name": "stdout",
     "output_type": "stream",
     "text": [
      "('rev dict sample keys  :', [0, 1, 2, 3, 4, 5, 6, 7, 8, 9, 10, 11, 12, 13, 14, 15, 16, 17, 18, 19])\n",
      "('rev dict sample values:', ['UNK', 'the', 'of', 'and', 'one', 'in', 'a', 'to', 'zero', 'nine', 'two', 'is', 'as', 'eight', 'for', 's', 'five', 'three', 'was', 'by'])\n"
     ]
    }
   ],
   "source": [
    "print('rev dict sample keys  :', reverse_dictionary.keys()[:20])\n",
    "print('rev dict sample values:', reverse_dictionary.values()[:20])"
   ]
  },
  {
   "cell_type": "code",
   "execution_count": 16,
   "metadata": {
    "collapsed": false
   },
   "outputs": [
    {
     "name": "stdout",
     "output_type": "stream",
     "text": [
      "('rev dict sample keys  :', [49980, 49981, 49982, 49983, 49984, 49985, 49986, 49987, 49988, 49989, 49990, 49991, 49992, 49993, 49994, 49995, 49996, 49997, 49998, 49999])\n"
     ]
    }
   ],
   "source": [
    "print('rev dict sample keys  :', reverse_dictionary.keys()[-20:])"
   ]
  },
  {
   "cell_type": "code",
   "execution_count": 17,
   "metadata": {
    "collapsed": false
   },
   "outputs": [
    {
     "name": "stdout",
     "output_type": "stream",
     "text": [
      "('Most common words (+UNK)', [['UNK', 418391], ('the', 1061396), ('of', 593677), ('and', 416629), ('one', 411764), ('in', 372201), ('a', 325873), ('to', 316376), ('zero', 264975), ('nine', 250430), ('two', 192644), ('is', 183153), ('as', 131815), ('eight', 125285), ('for', 118445), ('s', 116710), ('five', 115789), ('three', 114775), ('was', 112807), ('by', 111831)])\n"
     ]
    }
   ],
   "source": [
    "print('Most common words (+UNK)', count[:20])"
   ]
  },
  {
   "cell_type": "code",
   "execution_count": 18,
   "metadata": {
    "collapsed": false
   },
   "outputs": [
    {
     "name": "stdout",
     "output_type": "stream",
     "text": [
      "00005239, anarchism\n",
      "00003084, originated\n",
      "00000012, as\n",
      "00000006, a\n",
      "00000195, term\n",
      "00000002, of\n",
      "00003137, abuse\n",
      "00000046, first\n",
      "00000059, used\n",
      "00000156, against\n"
     ]
    }
   ],
   "source": [
    "for d in data[:10]:\n",
    "    print '{:08d}, {}'.format(d, reverse_dictionary[d])"
   ]
  },
  {
   "cell_type": "markdown",
   "metadata": {},
   "source": [
    "Interesting that `reversed_dictionary` has stayed in order here... don't think we can count on that..."
   ]
  },
  {
   "cell_type": "markdown",
   "metadata": {
    "colab_type": "text",
    "id": "lFwoyygOmWsL"
   },
   "source": [
    "Function to generate a training batch for the skip-gram model."
   ]
  },
  {
   "cell_type": "code",
   "execution_count": 19,
   "metadata": {
    "cellView": "both",
    "colab": {
     "autoexec": {
      "startup": false,
      "wait_interval": 0
     },
     "output_extras": [
      {
       "item_id": 1
      }
     ]
    },
    "colab_type": "code",
    "collapsed": false,
    "executionInfo": {
     "elapsed": 113,
     "status": "ok",
     "timestamp": 1445964901989,
     "user": {
      "color": "#1FA15D",
      "displayName": "Vincent Vanhoucke",
      "isAnonymous": false,
      "isMe": true,
      "permissionId": "05076109866853157986",
      "photoUrl": "//lh6.googleusercontent.com/-cCJa7dTDcgQ/AAAAAAAAAAI/AAAAAAAACgw/r2EZ_8oYer4/s50-c-k-no/photo.jpg",
      "sessionId": "2f1ffade4c9f20de",
      "userId": "102167687554210253930"
     },
     "user_tz": 420
    },
    "id": "w9APjA-zmfjV",
    "outputId": "67cccb02-cdaf-4e47-d489-43bcc8d57bb8"
   },
   "outputs": [
    {
     "name": "stdout",
     "output_type": "stream",
     "text": [
      "('data:', ['anarchism', 'originated', 'as', 'a', 'term', 'of', 'abuse', 'first'])\n",
      "\n",
      "with num_skips = 2 and skip_window = 1:\n",
      "('    batch:', ['originated', 'originated', 'as', 'as', 'a', 'a', 'term', 'term'])\n",
      "('    labels:', ['anarchism', 'as', 'originated', 'a', 'as', 'term', 'a', 'of'])\n",
      "\n",
      "with num_skips = 4 and skip_window = 2:\n",
      "('    batch:', ['as', 'as', 'as', 'as', 'a', 'a', 'a', 'a'])\n",
      "('    labels:', ['originated', 'a', 'term', 'anarchism', 'term', 'originated', 'of', 'as'])\n"
     ]
    }
   ],
   "source": [
    "data_index = 0\n",
    "\n",
    "def generate_batch(batch_size, num_skips, skip_window):\n",
    "    \"\"\"\n",
    "    basically, loop through the data taking a window of size `skip_window`\n",
    "    to each side of each word and making all those words entries in a \n",
    "    `labels` vector corresponding (each of them) to the center value of\n",
    "    the total window. that center value goes in the batch vector, `num_skips`\n",
    "    times. `num_skips` is counting the number of repetitions of the center\n",
    "    word, and if it is less than twice the `skip_window`, not all the  words\n",
    "    from the surrounding context will be used when filling the labels vector\n",
    "    \"\"\"\n",
    "    # let's keep track of where we are in the data\n",
    "    global data_index\n",
    "    # the batch size must be evenly divisible by the number of skips\n",
    "    assert batch_size % num_skips == 0\n",
    "    assert num_skips <= 2 * skip_window\n",
    "    batch = np.ndarray(shape=(batch_size), dtype=np.int32)\n",
    "    labels = np.ndarray(shape=(batch_size, 1), dtype=np.int32)\n",
    "    # how much data do we traverse per skip?\n",
    "    span = 2 * skip_window + 1 # [ skip_window target skip_window ]\n",
    "    # hold the data for the minibatch\n",
    "    buffer = collections.deque(maxlen=span)\n",
    "    # fill the buffer with the next `span` words of data\n",
    "    for _ in range(span):\n",
    "        buffer.append(data[data_index])\n",
    "        data_index = (data_index + 1) % len(data)\n",
    "    for i in range(batch_size // num_skips):\n",
    "        target = skip_window  # target label at the center of the buffer\n",
    "        targets_to_avoid = [ skip_window ]\n",
    "        # this looks wonky, but we're picking words randomly from \n",
    "        # the group of words in the 'window' around the target - we\n",
    "        # might use parameters such that we don't just use all of\n",
    "        # them, so this is why we are picking randomly and trying to\n",
    "        # avoid picking the same word twice (by index), etc.\n",
    "        for j in range(num_skips):\n",
    "            # find a target that isn't in our \"avoid\" list\n",
    "            while target in targets_to_avoid:\n",
    "                target = random.randint(0, span - 1)\n",
    "            # put the selected target in our list to avoid\n",
    "            targets_to_avoid.append(target)\n",
    "            batch[i * num_skips + j] = buffer[skip_window]\n",
    "            labels[i * num_skips + j, 0] = buffer[target]\n",
    "        buffer.append(data[data_index])\n",
    "        data_index = (data_index + 1) % len(data)\n",
    "    return batch, labels\n",
    "\n",
    "batch_size = 8\n",
    "print('data:', [reverse_dictionary[di] for di in data[:batch_size]])\n",
    "for num_skips, skip_window in [(2, 1), (4, 2)]:\n",
    "    data_index = 0\n",
    "    batch, labels = generate_batch(batch_size=batch_size, num_skips=num_skips, skip_window=skip_window)\n",
    "    print('\\nwith num_skips = %d and skip_window = %d:' % (num_skips, skip_window))\n",
    "    print('    batch:', [reverse_dictionary[bi] for bi in batch])\n",
    "    print('    labels:', [reverse_dictionary[li] for li in labels.reshape(batch_size)])"
   ]
  },
  {
   "cell_type": "code",
   "execution_count": 20,
   "metadata": {
    "collapsed": false
   },
   "outputs": [
    {
     "name": "stdout",
     "output_type": "stream",
     "text": [
      "('data:', ['anarchism', 'originated', 'as', 'a', 'term', 'of', 'abuse', 'first', 'used', 'against', 'early', 'working'])\n",
      "\n",
      "with num_skips = 2 and skip_window = 1:\n",
      "('    batch:', ['originated', 'originated', 'as', 'as', 'a', 'a', 'term', 'term', 'of', 'of', 'abuse', 'abuse'])\n",
      "('    labels:', ['anarchism', 'as', 'a', 'originated', 'term', 'as', 'a', 'of', 'term', 'abuse', 'of', 'first'])\n",
      "\n",
      "with num_skips = 4 and skip_window = 2:\n",
      "('    batch:', ['as', 'as', 'as', 'as', 'a', 'a', 'a', 'a', 'term', 'term', 'term', 'term'])\n",
      "('    labels:', ['term', 'originated', 'anarchism', 'a', 'as', 'of', 'originated', 'term', 'as', 'abuse', 'a', 'of'])\n"
     ]
    }
   ],
   "source": [
    "batch_size = 12\n",
    "print('data:', [reverse_dictionary[di] for di in data[:batch_size]])\n",
    "for num_skips, skip_window in [(2, 1), (4, 2)]:\n",
    "    data_index = 0\n",
    "    batch, labels = generate_batch(batch_size=batch_size, num_skips=num_skips, skip_window=skip_window)\n",
    "    print('\\nwith num_skips = %d and skip_window = %d:' % (num_skips, skip_window))\n",
    "    print('    batch:', [reverse_dictionary[bi] for bi in batch])\n",
    "    print('    labels:', [reverse_dictionary[li] for li in labels.reshape(batch_size)])"
   ]
  },
  {
   "cell_type": "code",
   "execution_count": 21,
   "metadata": {
    "collapsed": false
   },
   "outputs": [
    {
     "name": "stdout",
     "output_type": "stream",
     "text": [
      "('data:', ['anarchism', 'originated', 'as', 'a', 'term', 'of', 'abuse', 'first', 'used', 'against', 'early', 'working', 'class', 'radicals', 'including', 'the'])\n",
      "\n",
      "with num_skips = 2 and skip_window = 1:\n",
      "('    batch:', ['originated', 'originated', 'as', 'as', 'a', 'a', 'term', 'term', 'of', 'of', 'abuse', 'abuse', 'first', 'first', 'used', 'used'])\n",
      "('    labels:', ['as', 'anarchism', 'originated', 'a', 'term', 'as', 'a', 'of', 'abuse', 'term', 'of', 'first', 'used', 'abuse', 'against', 'first'])\n",
      "\n",
      "with num_skips = 4 and skip_window = 3:\n",
      "('    batch:', ['a', 'a', 'a', 'a', 'term', 'term', 'term', 'term', 'of', 'of', 'of', 'of', 'abuse', 'abuse', 'abuse', 'abuse'])\n",
      "('    labels:', ['originated', 'as', 'anarchism', 'abuse', 'abuse', 'first', 'a', 'as', 'as', 'term', 'used', 'abuse', 'a', 'term', 'against', 'of'])\n"
     ]
    }
   ],
   "source": [
    "batch_size = 16\n",
    "print('data:', [reverse_dictionary[di] for di in data[:batch_size]])\n",
    "for num_skips, skip_window in [(2, 1), (4, 3)]:\n",
    "    data_index = 0\n",
    "    batch, labels = generate_batch(batch_size=batch_size, num_skips=num_skips, skip_window=skip_window)\n",
    "    print('\\nwith num_skips = %d and skip_window = %d:' % (num_skips, skip_window))\n",
    "    print('    batch:', [reverse_dictionary[bi] for bi in batch])\n",
    "    print('    labels:', [reverse_dictionary[li] for li in labels.reshape(batch_size)])"
   ]
  },
  {
   "cell_type": "code",
   "execution_count": 22,
   "metadata": {
    "collapsed": false
   },
   "outputs": [
    {
     "name": "stdout",
     "output_type": "stream",
     "text": [
      "('data:', ['anarchism', 'originated', 'as', 'a', 'term', 'of', 'abuse', 'first'])\n",
      "\n",
      "with num_skips = 2 and skip_window = 1:\n",
      "('    batch:', ['originated', 'originated', 'as', 'as', 'a', 'a', 'term', 'term'])\n",
      "('    labels:', ['as', 'anarchism', 'originated', 'a', 'term', 'as', 'a', 'of'])\n",
      "\n",
      "with num_skips = 4 and skip_window = 2:\n",
      "('    batch:', ['as', 'as', 'as', 'as', 'a', 'a', 'a', 'a'])\n",
      "('    labels:', ['anarchism', 'originated', 'a', 'term', 'of', 'originated', 'as', 'term'])\n"
     ]
    }
   ],
   "source": [
    "batch_size = 8\n",
    "print('data:', [reverse_dictionary[di] for di in data[:batch_size]])\n",
    "for num_skips, skip_window in [(2, 1), (4, 2)]:\n",
    "    data_index = 0\n",
    "    batch, labels = generate_batch(batch_size=batch_size, num_skips=num_skips, skip_window=skip_window)\n",
    "    print('\\nwith num_skips = %d and skip_window = %d:' % (num_skips, skip_window))\n",
    "    print('    batch:', [reverse_dictionary[bi] for bi in batch])\n",
    "    print('    labels:', [reverse_dictionary[li] for li in labels.reshape(batch_size)])"
   ]
  },
  {
   "cell_type": "markdown",
   "metadata": {
    "colab_type": "text",
    "id": "Ofd1MbBuwiva"
   },
   "source": [
    "Train a skip-gram model."
   ]
  },
  {
   "cell_type": "code",
   "execution_count": 23,
   "metadata": {
    "collapsed": true
   },
   "outputs": [],
   "source": [
    "data_index = 0"
   ]
  },
  {
   "cell_type": "code",
   "execution_count": 24,
   "metadata": {
    "collapsed": false
   },
   "outputs": [
    {
     "data": {
      "text/plain": [
       "<tensorflow.python.framework.ops.Tensor at 0x7f6891d4f390>"
      ]
     },
     "execution_count": 24,
     "metadata": {},
     "output_type": "execute_result"
    }
   ],
   "source": [
    "tf.random_uniform([2, 3])"
   ]
  },
  {
   "cell_type": "code",
   "execution_count": 25,
   "metadata": {
    "cellView": "both",
    "colab": {
     "autoexec": {
      "startup": false,
      "wait_interval": 0
     }
    },
    "colab_type": "code",
    "collapsed": true,
    "id": "8pQKsV4Vwlzy"
   },
   "outputs": [],
   "source": [
    "batch_size = 128\n",
    "embedding_size = 128 # Dimension of the embedding vector.\n",
    "skip_window = 1      # How many words to consider left and right.\n",
    "num_skips = 2        # How many times to reuse an input to generate a label.\n",
    "\n",
    "# We pick a random validation set to sample nearest neighbors. here we limit the\n",
    "# validation samples to the words that have a low numeric ID, which by\n",
    "# construction are also the most frequent. \n",
    "valid_size = 16    # Random set of words to evaluate similarity on.\n",
    "valid_window = 100 # Only pick dev samples in the head of the distribution.\n",
    "valid_examples = np.array(random.sample(range(valid_window), valid_size))\n",
    "num_sampled = 64   # Number of negative examples to sample.\n",
    "\n",
    "graph = tf.Graph()\n",
    "\n",
    "with graph.as_default():\n",
    "\n",
    "    # Input data.\n",
    "    train_dataset = tf.placeholder(tf.int32, shape=[batch_size])\n",
    "    train_labels = tf.placeholder(tf.int32, shape=[batch_size, 1])\n",
    "    valid_dataset = tf.constant(valid_examples, dtype=tf.int32)\n",
    "  \n",
    "    # Variables - aren't we supposed to have two weight matrices? - here, the embeddings are our weight matrix\n",
    "    # connecting us to a hidden layer, and the softmax weights (and biases) are connecting us to the output \n",
    "    # so this is like: (vocab, emb) dot (emb, vocab).T\n",
    "    embeddings = tf.Variable(tf.random_uniform([vocabulary_size, embedding_size], -1.0, 1.0))\n",
    "    softmax_weights = tf.Variable(tf.truncated_normal([vocabulary_size, embedding_size], \n",
    "                                                      stddev=1.0 / math.sqrt(embedding_size)))\n",
    "    softmax_biases = tf.Variable(tf.zeros([vocabulary_size]))\n",
    "  \n",
    "    # Model.\n",
    "    # Look up embeddings for inputs. return tensor has shape: shape(train_dataset) + shape(embeddings)[1:],\n",
    "    # so (batch, vocab-1, embed_sz) ? Here we look up ids=`train_dataset` in a list of embedding tensors\n",
    "    # (=`params`) \n",
    "    embed = tf.nn.embedding_lookup(embeddings, train_dataset)\n",
    "    # Compute the softmax loss, using a sample of the negative labels each time.\n",
    "    loss = tf.reduce_mean(tf.nn.sampled_softmax_loss(softmax_weights, \n",
    "                                                     softmax_biases, \n",
    "                                                     embed, \n",
    "                                                     train_labels, \n",
    "                                                     num_sampled, \n",
    "                                                     vocabulary_size))\n",
    "\n",
    "    # Optimizer.\n",
    "    optimizer = tf.train.AdagradOptimizer(1.0).minimize(loss)\n",
    "  \n",
    "    # Compute the similarity between minibatch examples and all embeddings.\n",
    "    # We use the cosine distance:\n",
    "    norm = tf.sqrt(tf.reduce_sum(tf.square(embeddings), 1, keep_dims=True))\n",
    "    normalized_embeddings = embeddings / norm\n",
    "    valid_embeddings = tf.nn.embedding_lookup(normalized_embeddings, valid_dataset)\n",
    "    similarity = tf.matmul(valid_embeddings, tf.transpose(normalized_embeddings))"
   ]
  },
  {
   "cell_type": "code",
   "execution_count": 26,
   "metadata": {
    "cellView": "both",
    "colab": {
     "autoexec": {
      "startup": false,
      "wait_interval": 0
     },
     "output_extras": [
      {
       "item_id": 23
      },
      {
       "item_id": 48
      },
      {
       "item_id": 61
      }
     ]
    },
    "colab_type": "code",
    "collapsed": false,
    "executionInfo": {
     "elapsed": 436189,
     "status": "ok",
     "timestamp": 1445965429787,
     "user": {
      "color": "#1FA15D",
      "displayName": "Vincent Vanhoucke",
      "isAnonymous": false,
      "isMe": true,
      "permissionId": "05076109866853157986",
      "photoUrl": "//lh6.googleusercontent.com/-cCJa7dTDcgQ/AAAAAAAAAAI/AAAAAAAACgw/r2EZ_8oYer4/s50-c-k-no/photo.jpg",
      "sessionId": "2f1ffade4c9f20de",
      "userId": "102167687554210253930"
     },
     "user_tz": 420
    },
    "id": "1bQFGceBxrWW",
    "outputId": "5ebd6d9a-33c6-4bcd-bf6d-252b0b6055e4"
   },
   "outputs": [
    {
     "name": "stdout",
     "output_type": "stream",
     "text": [
      "Initialized\n",
      "Average loss at step 0: 8.308455\n",
      "Nearest to after: grabs, discogs, extramarital, hexagram, karlsruhe, gershwin, with, domineering,\n",
      "Nearest to would: multifinder, vander, conglomerates, const, scanner, fresco, eretz, mansion,\n",
      "Nearest to this: expected, printf, glidrose, kets, september, estimates, jamal, kuala,\n",
      "Nearest to six: fedora, fulfillment, rig, juice, compromise, handy, avenging, raleigh,\n",
      "Nearest to d: revealing, threshold, elijah, spark, marilyn, pfa, endpin, universally,\n",
      "Nearest to when: pows, favoured, uprisings, mainland, favours, siena, routes, frequentist,\n",
      "Nearest to often: fugue, tj, unsure, edmonds, convexity, highlander, supp, enthusiasm,\n",
      "Nearest to UNK: digital, eros, quoting, nt, rite, mocked, incapacitated, peikoff,\n",
      "Nearest to in: janusz, maud, aurelianus, tam, achaea, experience, remarked, toss,\n",
      "Nearest to or: ssc, eaton, industrialist, shelling, olanzapine, carry, varieties, wenders,\n",
      "Nearest to i: dwt, acheson, famer, parcel, introduced, aptitude, foulke, harmonizing,\n",
      "Nearest to as: interdisciplinarity, iterating, decoy, anglicisation, dominate, grown, rapidity, ghazni,\n",
      "Nearest to but: kirtland, supplies, kathmandu, scrolling, initiated, dominance, puppies, jordan,\n",
      "Nearest to be: personalities, bacillus, catfish, parks, schwa, woolf, testaments, lim,\n",
      "Nearest to first: panoramas, pasadena, indulged, dimitri, diderot, lefebvre, sustaining, romani,\n",
      "Nearest to its: studying, lubricant, stds, apc, dlp, nevi, hard, vre,\n",
      "Average loss at step 2000: 4.363853\n",
      "Average loss at step 4000: 3.875997\n",
      "Average loss at step 6000: 3.786910\n",
      "Average loss at step 8000: 3.691036\n",
      "Average loss at step 10000: 3.619660\n",
      "Nearest to after: with, from, for, last, robbers, invocation, augustin, discogs,\n",
      "Nearest to would: can, may, methyl, should, dhimmi, fresco, could, ryder,\n",
      "Nearest to this: it, the, which, a, that, his, mendeleev, hernandez,\n",
      "Nearest to six: eight, seven, five, four, three, nine, zero, two,\n",
      "Nearest to d: b, threshold, agathocles, plurals, cylinder, pendragon, sinbad, comic,\n",
      "Nearest to when: nights, frequentist, uprisings, drawback, though, serving, between, nyquist,\n",
      "Nearest to often: not, interdiction, convexity, highlander, there, banjo, developed, subfields,\n",
      "Nearest to UNK: daily, mosander, abiotic, lighten, interdict, n, hibernation, indeed,\n",
      "Nearest to in: of, on, from, at, with, and, rhode, by,\n",
      "Nearest to or: and, s, severing, wendish, milo, stimulate, guadalcanal, pathogen,\n",
      "Nearest to i: we, acheson, sided, agronomy, numerology, med, pax, dhimmi,\n",
      "Nearest to as: surfacing, immunosuppression, burt, inspection, hannes, leveraged, hardships, pelagius,\n",
      "Nearest to but: kathmandu, kirtland, could, bodhi, nightfall, and, continue, metamorphosis,\n",
      "Nearest to be: have, hazmi, was, were, lowe, been, develops, cheerfully,\n",
      "Nearest to first: pasadena, romani, uniform, after, indulged, calculators, sustaining, deregulation,\n",
      "Nearest to its: their, his, the, patten, cortex, orton, some, apc,\n",
      "Average loss at step 12000: 3.612342\n",
      "Average loss at step 14000: 3.576090\n",
      "Average loss at step 16000: 3.411241\n",
      "Average loss at step 18000: 3.458087\n",
      "Average loss at step 20000: 3.538530\n",
      "Nearest to after: with, during, for, before, augustin, when, from, druidism,\n",
      "Nearest to would: can, may, could, will, should, methyl, might, must,\n",
      "Nearest to this: it, which, a, that, the, his, another, myasthenia,\n",
      "Nearest to six: seven, eight, five, three, nine, four, zero, two,\n",
      "Nearest to d: b, pendragon, cylinder, lamarck, plurals, threshold, sinbad, usurped,\n",
      "Nearest to when: though, if, where, between, prehistory, after, since, dada,\n",
      "Nearest to often: commonly, not, there, still, also, banjo, interdiction, generally,\n",
      "Nearest to UNK: h, cq, affinities, bled, archdiocese, roundabout, discworld, albinus,\n",
      "Nearest to in: at, from, during, on, predominant, redirection, with, between,\n",
      "Nearest to or: and, than, vernal, tux, agathocles, mulligan, guadalcanal, for,\n",
      "Nearest to i: we, ii, alves, numerology, crammed, iv, agronomy, overseas,\n",
      "Nearest to as: francophones, gioacchino, cpes, lyle, nadu, for, speedway, without,\n",
      "Nearest to but: however, if, and, though, that, is, because, which,\n",
      "Nearest to be: have, been, by, was, become, were, are, is,\n",
      "Nearest to first: second, dtv, pasadena, same, name, theater, following, jezreel,\n",
      "Nearest to its: their, his, the, some, apc, mohawk, vikrant, amaterasu,\n",
      "Average loss at step 22000: 3.499898\n",
      "Average loss at step 24000: 3.497951\n",
      "Average loss at step 26000: 3.483009\n",
      "Average loss at step 28000: 3.481563\n",
      "Average loss at step 30000: 3.503569\n",
      "Nearest to after: before, during, when, from, for, saw, augustin, joliot,\n",
      "Nearest to would: can, may, will, could, should, might, must, to,\n",
      "Nearest to this: it, which, that, another, what, agouti, there, friesian,\n",
      "Nearest to six: eight, seven, five, four, nine, three, two, zero,\n",
      "Nearest to d: b, ivan, deaths, lamarck, contagion, pendragon, sinbad, colloquial,\n",
      "Nearest to when: if, where, though, after, was, however, dada, with,\n",
      "Nearest to often: commonly, sometimes, generally, still, there, also, not, usually,\n",
      "Nearest to UNK: bistable, cameroon, slice, paracetamol, vaughan, trypanosoma, h, lincoln,\n",
      "Nearest to in: during, at, on, from, of, until, between, kern,\n",
      "Nearest to or: and, lit, though, pierluigi, mulligan, sibilant, cornwell, milo,\n",
      "Nearest to i: ii, we, iv, sided, alves, vec, t, numerology,\n",
      "Nearest to as: nadu, francophones, became, coughing, counseling, without, by, supplanting,\n",
      "Nearest to but: however, though, that, because, although, while, slows, is,\n",
      "Nearest to be: been, have, develops, become, were, produce, hazards, refer,\n",
      "Nearest to first: second, last, theater, next, company, isotopic, name, babysitter,\n",
      "Nearest to its: their, the, his, her, some, apc, lamas, cygnus,\n",
      "Average loss at step 32000: 3.497003\n",
      "Average loss at step 34000: 3.493351\n",
      "Average loss at step 36000: 3.455750\n",
      "Average loss at step 38000: 3.303219\n",
      "Average loss at step 40000: 3.425772\n",
      "Nearest to after: before, during, when, saw, feat, oswald, for, from,\n",
      "Nearest to would: can, may, will, could, should, might, must, methyl,\n",
      "Nearest to this: which, it, that, the, agouti, marat, another, admittedly,\n",
      "Nearest to six: seven, four, eight, five, three, nine, two, one,\n",
      "Nearest to d: b, lamarck, UNK, contagion, fermi, l, pala, ilo,\n",
      "Nearest to when: if, where, after, though, while, although, before, with,\n",
      "Nearest to often: usually, generally, sometimes, commonly, still, also, who, typically,\n",
      "Nearest to UNK: thomson, d, and, preservatives, thermally, e, b, richard,\n",
      "Nearest to in: of, for, kansai, from, during, at, with, brick,\n",
      "Nearest to or: and, than, a, idriss, sibilant, for, the, filippo,\n",
      "Nearest to i: we, ii, you, t, he, they, malabo, headroom,\n",
      "Nearest to as: fjord, merian, amid, cpes, nadu, by, inspection, hardships,\n",
      "Nearest to but: however, though, although, and, it, that, slows, mergesort,\n",
      "Nearest to be: been, have, are, refer, is, being, kill, were,\n",
      "Nearest to first: second, last, next, theater, ashkenazic, isotopic, kgb, only,\n",
      "Nearest to its: their, his, the, her, surgeons, lamas, neurology, pragmatic,\n",
      "Average loss at step 42000: 3.437542\n",
      "Average loss at step 44000: 3.455416\n",
      "Average loss at step 46000: 3.450562\n",
      "Average loss at step 48000: 3.353620\n",
      "Average loss at step 50000: 3.384552\n",
      "Nearest to after: before, when, during, saw, from, while, presbyterianism, feat,\n",
      "Nearest to would: can, will, may, could, should, must, might, did,\n",
      "Nearest to this: which, it, what, the, that, another, hermon, he,\n",
      "Nearest to six: eight, seven, four, three, nine, five, two, zero,\n",
      "Nearest to d: b, m, l, f, sociopolitical, lamarck, fermi, sausages,\n",
      "Nearest to when: if, while, after, where, although, though, but, however,\n",
      "Nearest to often: usually, sometimes, generally, commonly, still, typically, also, now,\n",
      "Nearest to UNK: www, appointments, de, filtering, eurasia, saloons, emmylou, liver,\n",
      "Nearest to in: on, during, within, from, of, since, at, godard,\n",
      "Nearest to or: and, than, lit, clo, donaghy, chandra, uphill, tux,\n",
      "Nearest to i: we, ii, you, t, iii, he, appointees, surinam,\n",
      "Nearest to as: nadu, owe, lupin, parlor, anabaptist, francophones, rearward, cpes,\n",
      "Nearest to but: however, although, though, and, while, when, since, after,\n",
      "Nearest to be: have, been, kill, refer, being, become, is, were,\n",
      "Nearest to first: second, last, next, sq, theater, same, previous, final,\n",
      "Nearest to its: their, his, the, our, her, hypocritical, infanticide, lamas,\n",
      "Average loss at step 52000: 3.436478\n",
      "Average loss at step 54000: 3.430039\n",
      "Average loss at step 56000: 3.435151\n",
      "Average loss at step 58000: 3.395439\n",
      "Average loss at step 60000: 3.397643\n",
      "Nearest to after: before, during, when, while, following, saw, despite, until,\n",
      "Nearest to would: will, could, may, can, should, must, might, did,\n",
      "Nearest to this: which, it, that, there, still, another, what, however,\n",
      "Nearest to six: four, eight, seven, five, nine, three, two, one,\n",
      "Nearest to d: b, m, l, r, f, sociopolitical, ch, c,\n",
      "Nearest to when: if, although, while, after, before, though, where, during,\n",
      "Nearest to often: sometimes, usually, generally, commonly, still, also, now, typically,\n",
      "Nearest to UNK: lighten, toni, journeyman, haliotis, pulau, memos, sequencing, rope,\n",
      "Nearest to in: within, of, from, during, on, and, since, throughout,\n",
      "Nearest to or: and, for, than, but, dit, globemaster, inclusive, tux,\n",
      "Nearest to i: we, ii, you, t, appointees, they, arcturus, headroom,\n",
      "Nearest to as: nadu, owe, when, reis, rearward, fjord, lupin, chill,\n",
      "Nearest to but: however, although, though, and, since, when, while, see,\n",
      "Nearest to be: been, have, was, is, become, are, produce, confusing,\n",
      "Nearest to first: second, last, next, only, previous, theater, sq, third,\n",
      "Nearest to its: their, his, her, the, cygnus, maclennan, commercial, your,\n",
      "Average loss at step 62000: 3.242669\n",
      "Average loss at step 64000: 3.252261\n",
      "Average loss at step 66000: 3.405757\n",
      "Average loss at step 68000: 3.394467\n",
      "Average loss at step 70000: 3.363882\n",
      "Nearest to after: before, during, when, presbyterianism, while, saw, following, until,\n",
      "Nearest to would: will, could, may, can, should, must, might, did,\n",
      "Nearest to this: which, it, another, the, that, what, itself, there,\n",
      "Nearest to six: eight, seven, four, nine, five, three, zero, two,\n",
      "Nearest to d: b, l, contagion, liu, bevan, f, lamarck, m,\n",
      "Nearest to when: if, while, before, though, although, where, after, however,\n",
      "Nearest to often: sometimes, usually, generally, commonly, now, typically, frequently, still,\n",
      "Nearest to UNK: alpha, cq, headshot, emancipated, tutelage, azali, excellence, n,\n",
      "Nearest to in: within, during, on, from, through, until, nanyang, by,\n",
      "Nearest to or: and, than, magnification, but, while, partita, woodsman, any,\n",
      "Nearest to i: ii, we, you, t, headroom, iii, arcturus, they,\n",
      "Nearest to as: nadu, when, haka, owe, using, counseling, is, amid,\n",
      "Nearest to but: however, although, though, and, while, when, espousing, which,\n",
      "Nearest to be: been, become, is, have, being, were, are, was,\n",
      "Nearest to first: second, last, next, previous, final, same, third, ashkenazic,\n",
      "Nearest to its: their, his, the, her, cygnus, your, apc, whose,\n",
      "Average loss at step 72000: 3.372875\n",
      "Average loss at step 74000: 3.345279\n",
      "Average loss at step 76000: 3.316457\n",
      "Average loss at step 78000: 3.353567\n",
      "Average loss at step 80000: 3.377852\n",
      "Nearest to after: before, during, when, despite, while, following, rescuing, saw,\n",
      "Nearest to would: will, could, can, may, should, must, might, did,\n",
      "Nearest to this: which, it, the, another, that, itself, admittedly, what,\n",
      "Nearest to six: five, seven, four, eight, three, nine, two, one,\n",
      "Nearest to d: b, l, m, f, contagion, attractor, fermi, liu,\n",
      "Nearest to when: before, after, if, while, though, although, during, where,\n",
      "Nearest to often: usually, sometimes, generally, commonly, frequently, typically, now, still,\n",
      "Nearest to UNK: johnson, jackson, smith, e, willie, l, reynolds, andr,\n",
      "Nearest to in: on, during, within, until, since, of, at, throughout,\n",
      "Nearest to or: and, reaffirming, volk, tux, than, but, magnification, thermometer,\n",
      "Nearest to i: ii, we, you, t, iii, arcturus, g, they,\n",
      "Nearest to as: lupin, msnbc, schola, lyle, cpes, nadu, diffused, taya,\n",
      "Nearest to but: however, although, while, though, and, slows, than, despite,\n",
      "Nearest to be: been, have, become, being, is, were, was, refer,\n",
      "Nearest to first: second, last, next, final, same, previous, third, maddox,\n",
      "Nearest to its: their, his, her, the, your, cygnus, ange, my,\n",
      "Average loss at step 82000: 3.404814\n",
      "Average loss at step 84000: 3.408562\n",
      "Average loss at step 86000: 3.391601\n",
      "Average loss at step 88000: 3.350954\n",
      "Average loss at step 90000: 3.368156\n",
      "Nearest to after: before, during, when, while, despite, without, until, if,\n",
      "Nearest to would: will, could, can, may, might, should, must, did,\n",
      "Nearest to this: it, which, the, macrobiotics, another, some, gwadar, itself,\n",
      "Nearest to six: seven, eight, five, four, nine, three, two, one,\n",
      "Nearest to d: b, m, ilo, dc, l, f, liu, h,\n",
      "Nearest to when: if, while, after, before, where, though, although, since,\n",
      "Nearest to often: sometimes, usually, generally, commonly, frequently, now, typically, still,\n",
      "Nearest to UNK: von, cognitivism, aelius, ponce, smoked, montego, hollandic, jonathan,\n",
      "Nearest to in: within, during, under, at, around, athletic, near, with,\n",
      "Nearest to or: and, but, vocalization, tux, validate, sweets, non, magnification,\n",
      "Nearest to i: ii, we, you, t, iii, g, iv, v,\n",
      "Nearest to as: owe, lupin, msnbc, citro, capra, imposing, amid, analgesic,\n",
      "Nearest to but: however, although, while, though, and, until, or, despite,\n",
      "Nearest to be: been, have, become, being, refer, was, form, is,\n",
      "Nearest to first: second, last, next, final, previous, same, third, theater,\n",
      "Nearest to its: their, his, her, the, your, whose, cygnus, continued,\n",
      "Average loss at step 92000: 3.392285\n",
      "Average loss at step 94000: 3.248165\n",
      "Average loss at step 96000: 3.362217\n",
      "Average loss at step 98000: 3.241794\n",
      "Average loss at step 100000: 3.358677\n",
      "Nearest to after: before, during, when, while, despite, without, saw, for,\n",
      "Nearest to would: will, could, can, may, should, might, must, did,\n",
      "Nearest to this: which, it, another, the, gwadar, admittedly, ifs, gto,\n",
      "Nearest to six: seven, eight, four, nine, five, two, three, zero,\n",
      "Nearest to d: b, vec, ilo, contagion, attractor, r, l, o,\n",
      "Nearest to when: if, while, where, after, although, though, before, during,\n",
      "Nearest to often: usually, sometimes, generally, commonly, frequently, typically, still, now,\n",
      "Nearest to UNK: literally, landings, smear, stylised, cq, unidad, shoshone, allegro,\n",
      "Nearest to in: within, during, throughout, until, from, near, of, on,\n",
      "Nearest to or: and, than, lit, vlsi, hangzhou, passenger, vernal, wavering,\n",
      "Nearest to i: we, you, ii, they, t, nothing, iv, v,\n",
      "Nearest to as: avert, nadu, coco, qassam, schola, when, regolith, cpes,\n",
      "Nearest to but: however, although, and, though, while, yupik, which, when,\n",
      "Nearest to be: been, have, become, are, refer, is, being, whittaker,\n",
      "Nearest to first: second, last, next, final, third, same, previous, hardwicke,\n",
      "Nearest to its: their, his, the, her, our, your, whose, commercial,\n"
     ]
    }
   ],
   "source": [
    "num_steps = 100001\n",
    "\n",
    "with tf.Session(graph=graph) as session:\n",
    "    tf.initialize_all_variables().run()\n",
    "    print('Initialized')\n",
    "    average_loss = 0\n",
    "    for step in range(num_steps):\n",
    "        batch_data, batch_labels = generate_batch(batch_size, num_skips, skip_window)\n",
    "        feed_dict = {train_dataset : batch_data, train_labels : batch_labels}\n",
    "        _, l = session.run([optimizer, loss], feed_dict=feed_dict)\n",
    "        average_loss += l\n",
    "        if step % 2000 == 0:\n",
    "            if step > 0:\n",
    "                average_loss = average_loss / 2000\n",
    "            # The average loss is an estimate of the loss over the last 2000 batches.\n",
    "            print('Average loss at step %d: %f' % (step, average_loss))\n",
    "            average_loss = 0\n",
    "        # note that this is expensive (~20% slowdown if computed every 500 steps)\n",
    "        if step % 10000 == 0:\n",
    "            sim = similarity.eval()\n",
    "            for i in xrange(valid_size):\n",
    "                valid_word = reverse_dictionary[valid_examples[i]]\n",
    "                top_k = 8 # number of nearest neighbors\n",
    "                nearest = (-sim[i, :]).argsort()[1:top_k+1]\n",
    "                log = 'Nearest to %s:' % valid_word\n",
    "                for k in xrange(top_k):\n",
    "                    close_word = reverse_dictionary[nearest[k]]\n",
    "                    log = '%s %s,' % (log, close_word)\n",
    "                print(log)\n",
    "    final_embeddings = normalized_embeddings.eval()"
   ]
  },
  {
   "cell_type": "code",
   "execution_count": 27,
   "metadata": {
    "cellView": "both",
    "colab": {
     "autoexec": {
      "startup": false,
      "wait_interval": 0
     }
    },
    "colab_type": "code",
    "collapsed": true,
    "id": "jjJXYA_XzV79"
   },
   "outputs": [],
   "source": [
    "num_points = 400\n",
    "\n",
    "tsne = TSNE(perplexity=30, n_components=2, init='pca', n_iter=5000)\n",
    "two_d_embeddings = tsne.fit_transform(final_embeddings[1:num_points+1, :])"
   ]
  },
  {
   "cell_type": "code",
   "execution_count": 28,
   "metadata": {
    "cellView": "both",
    "colab": {
     "autoexec": {
      "startup": false,
      "wait_interval": 0
     },
     "output_extras": [
      {
       "item_id": 1
      }
     ]
    },
    "colab_type": "code",
    "collapsed": false,
    "executionInfo": {
     "elapsed": 4763,
     "status": "ok",
     "timestamp": 1445965465525,
     "user": {
      "color": "#1FA15D",
      "displayName": "Vincent Vanhoucke",
      "isAnonymous": false,
      "isMe": true,
      "permissionId": "05076109866853157986",
      "photoUrl": "//lh6.googleusercontent.com/-cCJa7dTDcgQ/AAAAAAAAAAI/AAAAAAAACgw/r2EZ_8oYer4/s50-c-k-no/photo.jpg",
      "sessionId": "2f1ffade4c9f20de",
      "userId": "102167687554210253930"
     },
     "user_tz": 420
    },
    "id": "o_e0D_UezcDe",
    "outputId": "df22e4a5-e8ec-4e5e-d384-c6cf37c68c34"
   },
   "outputs": [
    {
     "data": {
      "image/png": "[encoded data removed]",
      "text/plain": [
       "<matplotlib.figure.Figure at 0x7f68c005a890>"
      ]
     },
     "metadata": {},
     "output_type": "display_data"
    }
   ],
   "source": [
    "def plot(embeddings, labels):\n",
    "    assert embeddings.shape[0] >= len(labels), 'More labels than embeddings'\n",
    "    pylab.figure(figsize=(15,15))  # in inches\n",
    "    for i, label in enumerate(labels):\n",
    "        x, y = embeddings[i,:]\n",
    "        pylab.scatter(x, y)\n",
    "        pylab.annotate(label, xy=(x, y), xytext=(5, 2), textcoords='offset points',\n",
    "                   ha='right', va='bottom')\n",
    "    pylab.show()\n",
    "\n",
    "words = [reverse_dictionary[i] for i in range(1, num_points+1)]\n",
    "plot(two_d_embeddings, words)"
   ]
  },
  {
   "cell_type": "markdown",
   "metadata": {
    "colab_type": "text",
    "id": "QB5EFrBnpNnc"
   },
   "source": [
    "---\n",
    "\n",
    "Problem\n",
    "-------\n",
    "\n",
    "An alternative to Word2Vec is called [CBOW](http://arxiv.org/abs/1301.3781) (Continuous Bag of Words). In the CBOW model, instead of predicting a context word from a word vector, you predict a word from the sum of all the word vectors in its context. Implement and evaluate a CBOW model trained on the text8 dataset.\n",
    "\n",
    "---"
   ]
  },
  {
   "cell_type": "markdown",
   "metadata": {
    "collapsed": true
   },
   "source": [
    "Some context from the [TensorFlow web page](https://www.tensorflow.org/versions/master/tutorials/word2vec/index.html):\n",
    "\n",
    "\"Word2vec is a particularly computationally-efficient predictive model for learning word embeddings from raw text. It comes in two flavors, the Continuous Bag-of-Words model (CBOW) and the Skip-Gram model. Algorithmically, these models are similar, except that CBOW predicts target words (e.g. 'mat') from source context words ('the cat sits on the'), while the skip-gram does the inverse and predicts source context-words from the target words. This inversion might seem like an arbitrary choice, but statistically it has the effect that CBOW smoothes over a lot of the distributional information (by treating an entire context as one observation). For the most part, this turns out to be a useful thing for smaller datasets. However, skip-gram treats each context-target pair as a new observation, and this tends to do better when we have larger datasets.\""
   ]
  },
  {
   "cell_type": "markdown",
   "metadata": {},
   "source": [
    "There is a nice discussion of CBOW and skip-gram, at a high level, on the [TensorFlow word2vec tutorial page](https://www.tensorflow.org/versions/master/tutorials/word2vec/index.html) refernced above. The key thing to understand about CBOW vs skip-gram is that CBOW is attempting to predict a word from the surrounding context, while skip-gram is attempting to do the opposite - given a target word, it attempts to predict surrounding context."
   ]
  },
  {
   "cell_type": "markdown",
   "metadata": {},
   "source": [
    "Their illustration is nice. Consider:\n",
    "\n",
    "    the quick brown fox jumped over the lazy dog\n",
    "    \n",
    "If we consider a context window that is one word wide, the `([context], target)` pairing CBOW wants to use is:\n",
    "\n",
    "    ([the, brown], quick), ([quick, fox], brown), ([brown, jumped], fox), ([fox, over], jumped), etc.\n",
    "    \n",
    "In fact, what CBOW wants to do (?) is average the words in the context vector. Skip-gram, by contrast, wants to invert this data and use target to predict the context in pairs like `(target, context)`:\n",
    "\n",
    "    (quick, the), (quick, brown), (brown, quick), (brown, fox), (fox, brown), (fox, jumped), (jumped, fox), etc."
   ]
  },
  {
   "cell_type": "code",
   "execution_count": 29,
   "metadata": {
    "collapsed": false
   },
   "outputs": [
    {
     "name": "stdout",
     "output_type": "stream",
     "text": [
      "['the', 'quick', 'brown', 'fox', 'jumped', 'over', 'the', 'lazy', 'dog']\n",
      "9\n"
     ]
    }
   ],
   "source": [
    "rawdata = 'the quick brown fox jumped over the lazy dog'.split()\n",
    "print rawdata\n",
    "print len(rawdata)"
   ]
  },
  {
   "cell_type": "code",
   "execution_count": 30,
   "metadata": {
    "collapsed": false
   },
   "outputs": [
    {
     "name": "stdout",
     "output_type": "stream",
     "text": [
      "1 quick\n",
      "['the', 'quick', 'brown']\n",
      "2 brown\n",
      "['quick', 'brown', 'fox']\n",
      "3 fox\n",
      "['brown', 'fox', 'jumped']\n",
      "4 jumped\n",
      "['fox', 'jumped', 'over']\n",
      "5 over\n",
      "['jumped', 'over', 'the']\n",
      "6 the\n",
      "['over', 'the', 'lazy']\n",
      "7 lazy\n",
      "['the', 'lazy', 'dog']\n",
      "[(['the', 'brown'], 'quick'), (['quick', 'fox'], 'brown'), (['brown', 'jumped'], 'fox'), (['fox', 'over'], 'jumped'), (['jumped', 'the'], 'over'), (['over', 'lazy'], 'the'), (['the', 'dog'], 'lazy')]\n"
     ]
    }
   ],
   "source": [
    "window_wing = 1\n",
    "window_size = 2 * window_wing + 1\n",
    "window_center_idx = window_size // 2\n",
    "first_idx = window_center_idx\n",
    "last_idx = len(rawdata) - window_wing\n",
    "\n",
    "data = []\n",
    "for i in range(first_idx, last_idx):\n",
    "    print i, rawdata[i]\n",
    "    window = rawdata[i - window_wing: 1 + i + window_wing]\n",
    "    print window\n",
    "    target = window[window_center_idx]\n",
    "    context = window[0:window_center_idx] + window[window_center_idx + 1:]\n",
    "    val = (context, target)\n",
    "    data.append(val)\n",
    "    \n",
    "print data"
   ]
  },
  {
   "cell_type": "code",
   "execution_count": 31,
   "metadata": {
    "collapsed": false
   },
   "outputs": [],
   "source": [
    "def make_data(window_wing, rawdata):\n",
    "    window_size = 2 * window_wing + 1\n",
    "    window_center_idx = window_size // 2\n",
    "    first_idx = window_center_idx\n",
    "    last_idx = len(rawdata) - window_wing\n",
    "    \n",
    "    data = []\n",
    "    contexts = []\n",
    "    targets = []\n",
    "    for i in range(first_idx, last_idx):\n",
    "        window = rawdata[i - window_wing: 1 + i + window_wing]\n",
    "        target = window[window_center_idx]\n",
    "        context = window[0:window_center_idx] + window[window_center_idx + 1:]\n",
    "        val = (context, target)\n",
    "        data.append(val)\n",
    "        contexts.append(context)\n",
    "        targets.append(target)\n",
    "        \n",
    "    return data, contexts, targets"
   ]
  },
  {
   "cell_type": "code",
   "execution_count": 32,
   "metadata": {
    "collapsed": false
   },
   "outputs": [
    {
     "name": "stdout",
     "output_type": "stream",
     "text": [
      "[(['the', 'brown'], 'quick'), (['quick', 'fox'], 'brown'), (['brown', 'jumped'], 'fox'), (['fox', 'over'], 'jumped'), (['jumped', 'the'], 'over'), (['over', 'lazy'], 'the'), (['the', 'dog'], 'lazy')]\n",
      "[['the', 'brown'], ['quick', 'fox'], ['brown', 'jumped'], ['fox', 'over'], ['jumped', 'the'], ['over', 'lazy'], ['the', 'dog']]\n",
      "['quick', 'brown', 'fox', 'jumped', 'over', 'the', 'lazy']\n"
     ]
    }
   ],
   "source": [
    "data, contexts, targets = make_data(1, rawdata)\n",
    "print data\n",
    "print contexts\n",
    "print targets"
   ]
  },
  {
   "cell_type": "code",
   "execution_count": 33,
   "metadata": {
    "collapsed": false
   },
   "outputs": [
    {
     "name": "stdout",
     "output_type": "stream",
     "text": [
      "[(['the', 'quick', 'fox', 'jumped'], 'brown'), (['quick', 'brown', 'jumped', 'over'], 'fox'), (['brown', 'fox', 'over', 'the'], 'jumped'), (['fox', 'jumped', 'the', 'lazy'], 'over'), (['jumped', 'over', 'lazy', 'dog'], 'the')]\n",
      "[['the', 'quick', 'fox', 'jumped'], ['quick', 'brown', 'jumped', 'over'], ['brown', 'fox', 'over', 'the'], ['fox', 'jumped', 'the', 'lazy'], ['jumped', 'over', 'lazy', 'dog']]\n",
      "['brown', 'fox', 'jumped', 'over', 'the']\n"
     ]
    }
   ],
   "source": [
    "data, contexts, targets = make_data(2, rawdata)\n",
    "print data\n",
    "print contexts\n",
    "print targets"
   ]
  },
  {
   "cell_type": "markdown",
   "metadata": {
    "collapsed": true
   },
   "source": [
    "Let's get some fresh data to test:"
   ]
  },
  {
   "cell_type": "code",
   "execution_count": 51,
   "metadata": {
    "collapsed": false
   },
   "outputs": [
    {
     "name": "stdout",
     "output_type": "stream",
     "text": [
      "Found and verified mytesttext.txt.zip\n",
      "['mytesttext.txt']\n",
      "Data size 217\n",
      "('Most common words (+UNK)', [['UNK', 4], ('test', 45), ('a', 23), ('this', 22), ('is', 20), ('transmission', 15), ('not', 10), ('your', 7), ('do', 6), ('only', 6)])\n",
      "30\n",
      "30\n"
     ]
    }
   ],
   "source": [
    "# recall, `vocabulary_size` is a **global** that `build_dataset()` accesses\n",
    "\n",
    "#filename = maybe_download('text8.zip', 31344016)\n",
    "#vocabulary_size = 50000\n",
    "\n",
    "filename = maybe_download('mytesttext.txt.zip', 415)   # of course, this file is local\n",
    "vocabulary_size = 30\n",
    "\n",
    "words = read_data(filename)\n",
    "print('Data size %d' % len(words))\n",
    "\n",
    "data, count, dictionary, reverse_dictionary = build_dataset(words)\n",
    "print('Most common words (+UNK)', count[:10])\n",
    "print(len(count))\n",
    "print(len(dictionary))\n",
    "del words  # Hint to reduce memory."
   ]
  },
  {
   "cell_type": "code",
   "execution_count": 52,
   "metadata": {
    "collapsed": false
   },
   "outputs": [
    {
     "name": "stdout",
     "output_type": "stream",
     "text": [
      "('rev dict sample keys  :', [0, 1, 2, 3, 4, 5, 6, 7, 8, 9, 10, 11, 12, 13, 14, 15, 16, 17, 18, 19])\n",
      "('rev dict sample values:', ['UNK', 'test', 'a', 'this', 'is', 'transmission', 'not', 'your', 'do', 'only', 'adjust', 'all', 'we', 'dead', 'now', 'be', 'begin', 'end', 'if', 'receivers'])\n"
     ]
    }
   ],
   "source": [
    "print('rev dict sample keys  :', reverse_dictionary.keys()[:20])\n",
    "print('rev dict sample values:', reverse_dictionary.values()[:20])"
   ]
  },
  {
   "cell_type": "code",
   "execution_count": 53,
   "metadata": {
    "collapsed": false
   },
   "outputs": [
    {
     "name": "stdout",
     "output_type": "stream",
     "text": [
      "00000001, test\n",
      "00000005, transmission\n",
      "00000001, test\n",
      "00000005, transmission\n",
      "00000001, test\n",
      "00000016, begin\n",
      "00000016, begin\n",
      "00000005, transmission\n",
      "00000001, test\n",
      "00000005, transmission\n"
     ]
    }
   ],
   "source": [
    "for d in data[:10]:\n",
    "    print '{:08d}, {}'.format(d, reverse_dictionary[d])"
   ]
  },
  {
   "cell_type": "markdown",
   "metadata": {},
   "source": [
    "Let's redefine our `make_data()` function as `generate_batch()` and keep track of the global `data_index`:"
   ]
  },
  {
   "cell_type": "code",
   "execution_count": 54,
   "metadata": {
    "collapsed": true
   },
   "outputs": [],
   "source": [
    "data_index = 0"
   ]
  },
  {
   "cell_type": "code",
   "execution_count": 55,
   "metadata": {
    "collapsed": true
   },
   "outputs": [],
   "source": [
    "def generate_batch(batch_size, window_wing):\n",
    "    # let's keep track of where we are in the data\n",
    "    global data_index\n",
    "    # how much data do we span per batch?\n",
    "    window_size = 2 * window_wing + 1\n",
    "    window_center_idx = window_size // 2\n",
    "    # batch is context, labels are targets\n",
    "    batch = np.zeros(shape=(batch_size, 2 * window_wing), dtype=np.int32)\n",
    "    labels = np.zeros(shape=(batch_size, 1), dtype=np.int32)\n",
    "    # hold the data for the minibatch\n",
    "    buffer = collections.deque(maxlen=window_size)\n",
    "    # indices for context\n",
    "    ctx_indices = np.arange(window_size)\n",
    "    ctx_indices = np.delete(ctx_indices, window_center_idx)\n",
    "    # initialize the buffer with the next `span` words of data\n",
    "    for _ in range(window_size):\n",
    "        buffer.append(data[data_index])\n",
    "        data_index = (data_index + 1) % len(data)\n",
    "    for i in range(batch_size):\n",
    "        target = buffer[window_center_idx]\n",
    "        context = []\n",
    "        for idx in ctx_indices:\n",
    "            context.append(buffer[idx])\n",
    "        buffer.append(data[data_index])\n",
    "        data_index = (data_index + 1) % len(data)\n",
    "        batch[i] = context\n",
    "        labels[i] = target\n",
    "        \n",
    "    return batch, labels"
   ]
  },
  {
   "cell_type": "code",
   "execution_count": 56,
   "metadata": {
    "collapsed": false
   },
   "outputs": [
    {
     "name": "stdout",
     "output_type": "stream",
     "text": [
      "('data:', ['test', 'transmission', 'test', 'transmission', 'test', 'begin', 'begin', 'transmission'])\n",
      "\n",
      "with window_wing = 1:\n",
      "('    batch:', [['test', 'test'], ['transmission', 'transmission'], ['test', 'test'], ['transmission', 'begin'], ['test', 'begin'], ['begin', 'transmission'], ['begin', 'test'], ['transmission', 'transmission']])\n",
      "('    labels:', ['transmission', 'test', 'transmission', 'test', 'begin', 'begin', 'transmission', 'test'])\n",
      "('    batch:', [[1, 1], [5, 5], [1, 1], [5, 16], [1, 16], [16, 5], [16, 1], [5, 5]])\n",
      "('    labels:', [5, 1, 5, 1, 16, 16, 5, 1])\n",
      "\n",
      "with window_wing = 2:\n",
      "('    batch:', [['test', 'transmission', 'transmission', 'test'], ['transmission', 'test', 'test', 'begin'], ['test', 'transmission', 'begin', 'begin'], ['transmission', 'test', 'begin', 'transmission'], ['test', 'begin', 'transmission', 'test'], ['begin', 'begin', 'test', 'transmission'], ['begin', 'transmission', 'transmission', 'test'], ['transmission', 'test', 'test', 'transmission']])\n",
      "('    labels:', ['test', 'transmission', 'test', 'begin', 'begin', 'transmission', 'test', 'transmission'])\n",
      "('    batch:', [[1, 5, 5, 1], [5, 1, 1, 16], [1, 5, 16, 16], [5, 1, 16, 5], [1, 16, 5, 1], [16, 16, 1, 5], [16, 5, 5, 1], [5, 1, 1, 5]])\n",
      "('    labels:', [1, 5, 1, 16, 16, 5, 1, 5])\n"
     ]
    }
   ],
   "source": [
    "batch_size = 8\n",
    "print('data:', [reverse_dictionary[di] for di in data[:batch_size]])\n",
    "for wing in [1, 2]:\n",
    "    data_index = 0\n",
    "    batch, labels = generate_batch(batch_size=batch_size, window_wing=wing)\n",
    "    print('\\nwith window_wing = %d:' % wing)\n",
    "    print('    batch:', [[reverse_dictionary[i] for i in bi] for bi in batch])\n",
    "    print('    labels:', [reverse_dictionary[li] for li in labels.reshape(batch_size)])\n",
    "    print('    batch:', [[i for i in bi] for bi in batch])\n",
    "    print('    labels:', [li for li in labels.reshape(batch_size)])"
   ]
  },
  {
   "cell_type": "code",
   "execution_count": 151,
   "metadata": {
    "collapsed": false
   },
   "outputs": [
    {
     "name": "stderr",
     "output_type": "stream",
     "text": [
      "Exception AssertionError: AssertionError() in <bound method InteractiveSession.__del__ of <tensorflow.python.client.session.InteractiveSession object at 0x7f6896047fd0>> ignored\n"
     ]
    }
   ],
   "source": [
    "sess = tf.InteractiveSession()"
   ]
  },
  {
   "cell_type": "code",
   "execution_count": 152,
   "metadata": {
    "collapsed": false
   },
   "outputs": [
    {
     "name": "stdout",
     "output_type": "stream",
     "text": [
      "(6, 3)\n",
      "[[ 0.53286898  0.17785096  0.73846996]\n",
      " [ 0.72839534  0.83833551  0.49164724]\n",
      " [ 0.40315998  0.75600827  0.56543195]\n",
      " [ 0.2956425   0.92247832  0.32738137]\n",
      " [ 0.04277337  0.51443338  0.72173083]\n",
      " [ 0.76778316  0.69318748  0.87954903]]\n",
      "\n",
      "\n",
      "(2, 3)\n",
      "(2, 3, 3)\n",
      "[[[ 0.53286898  0.17785096  0.73846996]\n",
      "  [ 0.2956425   0.92247832  0.32738137]\n",
      "  [ 0.76778316  0.69318748  0.87954903]]\n",
      "\n",
      " [[ 0.72839534  0.83833551  0.49164724]\n",
      "  [ 0.40315998  0.75600827  0.56543195]\n",
      "  [ 0.04277337  0.51443338  0.72173083]]]\n",
      "\n",
      "\n",
      "(2, 3)\n",
      "[[ 0.53209823  0.59783894  0.64846677]\n",
      " [ 0.39144289  0.70292568  0.59293669]]\n",
      "\n",
      "\n"
     ]
    }
   ],
   "source": [
    "vocabulary_size, embedding_size = 6, 3\n",
    "\n",
    "# make a test embeddings matrix\n",
    "a = tf.random_uniform([vocabulary_size, embedding_size], 0.0, 1.0).eval(session=sess)\n",
    "print np.shape(a)\n",
    "print a\n",
    "print '\\n'\n",
    "\n",
    "# get elems \n",
    "#get_elems = [0, 3]                   # shp = number of batches\n",
    "get_elems = [[0, 3, 5], [1, 2, 4]]   # shp = number of batches, embed size \n",
    "print np.shape(get_elems)\n",
    "b = tf.nn.embedding_lookup(a, get_elems).eval(session=sess)\n",
    "print np.shape(b)\n",
    "print b\n",
    "print '\\n'\n",
    "\n",
    "# do an average\n",
    "b = tf.reduce_mean(b, reduction_indices=1).eval(session=sess)   # np.mean(b, axis=1)\n",
    "print np.shape(b)\n",
    "print b\n",
    "print '\\n'"
   ]
  },
  {
   "cell_type": "code",
   "execution_count": 153,
   "metadata": {
    "collapsed": false
   },
   "outputs": [
    {
     "name": "stdout",
     "output_type": "stream",
     "text": [
      "[8 0 7]\n",
      "Tensor(\"Shape_26:0\", shape=TensorShape([Dimension(1)]), dtype=int32)\n"
     ]
    },
    {
     "name": "stderr",
     "output_type": "stream",
     "text": [
      "Exception AssertionError: AssertionError() in <bound method InteractiveSession.__del__ of <tensorflow.python.client.session.InteractiveSession object at 0x7f68951d7250>> ignored\n"
     ]
    }
   ],
   "source": [
    "sess = tf.InteractiveSession()\n",
    "vocabulary_size, embedding_size = 30, 6\n",
    "window_wing = 1\n",
    "valid_size = 3\n",
    "valid_window = 10\n",
    "valid_examples = np.array(random.sample(range(valid_window), valid_size))\n",
    "num_sampled = 5\n",
    "batch_size = 4\n",
    "data_index = 0\n",
    "print valid_examples\n",
    "print tf.shape(valid_examples)"
   ]
  },
  {
   "cell_type": "code",
   "execution_count": 154,
   "metadata": {
    "collapsed": false
   },
   "outputs": [],
   "source": [
    "# Input data\n",
    "train_dataset = tf.placeholder(tf.int32, shape=[batch_size, 2 * window_wing], name=\"test_train_dset\")\n",
    "train_labels = tf.placeholder(tf.int32, shape=[batch_size, 1], name=\"test_train_labels\")\n",
    "valid_dataset = tf.constant(valid_examples, dtype=tf.int32, name=\"test_valid_dset\")\n",
    "\n",
    "#batch_data, batch_labels = generate_batch(batch_size, window_wing)\n",
    "#feed_dict = {train_dataset : batch_data, train_labels : batch_labels}"
   ]
  },
  {
   "cell_type": "code",
   "execution_count": 155,
   "metadata": {
    "collapsed": false
   },
   "outputs": [],
   "source": [
    "# Variables\n",
    "embeddings = tf.Variable(tf.random_uniform([vocabulary_size, embedding_size], -1.0, 1.0).eval(session=sess),\n",
    "                         name='test_embeddings')\n",
    "softmax_weights = tf.Variable(tf.truncated_normal([vocabulary_size, embedding_size],\n",
    "                                                 stddev=1.0 / math.sqrt(embedding_size)).eval(session=sess),\n",
    "                             name='test_softmax_weights')\n",
    "softmax_biases = tf.Variable(tf.zeros([vocabulary_size]).eval(session=sess),\n",
    "                            name='test_softmax_biases')"
   ]
  },
  {
   "cell_type": "code",
   "execution_count": 156,
   "metadata": {
    "collapsed": false
   },
   "outputs": [
    {
     "ename": "ValueError",
     "evalue": "Shapes TensorShape([Dimension(None), Dimension(None), Dimension(None)]) and TensorShape([Dimension(None), Dimension(6)]) must have the same rank",
     "output_type": "error",
     "traceback": [
      "\u001b[1;31m---------------------------------------------------------------------------\u001b[0m",
      "\u001b[1;31mValueError\u001b[0m                                Traceback (most recent call last)",
      "\u001b[1;32m<ipython-input-156-e14ee6fc98f8>\u001b[0m in \u001b[0;36m<module>\u001b[1;34m()\u001b[0m\n\u001b[0;32m     11\u001b[0m \u001b[0mloss\u001b[0m \u001b[1;33m=\u001b[0m \u001b[0mtf\u001b[0m\u001b[1;33m.\u001b[0m\u001b[0mreduce_mean\u001b[0m\u001b[1;33m(\u001b[0m\u001b[0ml1\u001b[0m\u001b[1;33m)\u001b[0m\u001b[1;33m\u001b[0m\u001b[0m\n\u001b[0;32m     12\u001b[0m \u001b[1;33m\u001b[0m\u001b[0m\n\u001b[1;32m---> 13\u001b[1;33m \u001b[0moptimizer\u001b[0m \u001b[1;33m=\u001b[0m \u001b[0mtf\u001b[0m\u001b[1;33m.\u001b[0m\u001b[0mtrain\u001b[0m\u001b[1;33m.\u001b[0m\u001b[0mAdagradOptimizer\u001b[0m\u001b[1;33m(\u001b[0m\u001b[1;36m1.0\u001b[0m\u001b[1;33m)\u001b[0m\u001b[1;33m.\u001b[0m\u001b[0mminimize\u001b[0m\u001b[1;33m(\u001b[0m\u001b[0mloss\u001b[0m\u001b[1;33m)\u001b[0m\u001b[1;33m\u001b[0m\u001b[0m\n\u001b[0m\u001b[0;32m     14\u001b[0m \u001b[1;33m\u001b[0m\u001b[0m\n\u001b[0;32m     15\u001b[0m sess.run(tf.shape(\n",
      "\u001b[1;32m/usr/local/lib/python2.7/dist-packages/tensorflow/python/training/optimizer.pyc\u001b[0m in \u001b[0;36mminimize\u001b[1;34m(self, loss, global_step, var_list, gate_gradients, aggregation_method, name)\u001b[0m\n\u001b[0;32m    186\u001b[0m         aggregation_method=aggregation_method)\n\u001b[0;32m    187\u001b[0m     return self.apply_gradients(grads_and_vars, global_step=global_step,\n\u001b[1;32m--> 188\u001b[1;33m                                 name=name)\n\u001b[0m\u001b[0;32m    189\u001b[0m \u001b[1;33m\u001b[0m\u001b[0m\n\u001b[0;32m    190\u001b[0m   def compute_gradients(self, loss, var_list=None, gate_gradients=GATE_OP,\n",
      "\u001b[1;32m/usr/local/lib/python2.7/dist-packages/tensorflow/python/training/optimizer.pyc\u001b[0m in \u001b[0;36mapply_gradients\u001b[1;34m(self, grads_and_vars, global_step, name)\u001b[0m\n\u001b[0;32m    287\u001b[0m             \u001b[0mupdate_ops\u001b[0m\u001b[1;33m.\u001b[0m\u001b[0mappend\u001b[0m\u001b[1;33m(\u001b[0m\u001b[0mself\u001b[0m\u001b[1;33m.\u001b[0m\u001b[0m_apply_dense\u001b[0m\u001b[1;33m(\u001b[0m\u001b[0mgrad\u001b[0m\u001b[1;33m,\u001b[0m \u001b[0mvar\u001b[0m\u001b[1;33m)\u001b[0m\u001b[1;33m)\u001b[0m\u001b[1;33m\u001b[0m\u001b[0m\n\u001b[0;32m    288\u001b[0m           \u001b[1;32melse\u001b[0m\u001b[1;33m:\u001b[0m\u001b[1;33m\u001b[0m\u001b[0m\n\u001b[1;32m--> 289\u001b[1;33m             \u001b[0mupdate_ops\u001b[0m\u001b[1;33m.\u001b[0m\u001b[0mappend\u001b[0m\u001b[1;33m(\u001b[0m\u001b[0mself\u001b[0m\u001b[1;33m.\u001b[0m\u001b[0m_apply_sparse\u001b[0m\u001b[1;33m(\u001b[0m\u001b[0mgrad\u001b[0m\u001b[1;33m,\u001b[0m \u001b[0mvar\u001b[0m\u001b[1;33m)\u001b[0m\u001b[1;33m)\u001b[0m\u001b[1;33m\u001b[0m\u001b[0m\n\u001b[0m\u001b[0;32m    290\u001b[0m       \u001b[1;32mif\u001b[0m \u001b[0mglobal_step\u001b[0m \u001b[1;32mis\u001b[0m \u001b[0mNone\u001b[0m\u001b[1;33m:\u001b[0m\u001b[1;33m\u001b[0m\u001b[0m\n\u001b[0;32m    291\u001b[0m         \u001b[1;32mreturn\u001b[0m \u001b[0mself\u001b[0m\u001b[1;33m.\u001b[0m\u001b[0m_finish\u001b[0m\u001b[1;33m(\u001b[0m\u001b[0mupdate_ops\u001b[0m\u001b[1;33m,\u001b[0m \u001b[0mname\u001b[0m\u001b[1;33m)\u001b[0m\u001b[1;33m\u001b[0m\u001b[0m\n",
      "\u001b[1;32m/usr/local/lib/python2.7/dist-packages/tensorflow/python/training/adagrad.pyc\u001b[0m in \u001b[0;36m_apply_sparse\u001b[1;34m(self, grad, var)\u001b[0m\n\u001b[0;32m     75\u001b[0m     return training_ops.sparse_apply_adagrad(\n\u001b[0;32m     76\u001b[0m         \u001b[0mvar\u001b[0m\u001b[1;33m,\u001b[0m \u001b[0macc\u001b[0m\u001b[1;33m,\u001b[0m \u001b[0mself\u001b[0m\u001b[1;33m.\u001b[0m\u001b[0m_learning_rate_tensor\u001b[0m\u001b[1;33m,\u001b[0m \u001b[0mgrad\u001b[0m\u001b[1;33m.\u001b[0m\u001b[0mvalues\u001b[0m\u001b[1;33m,\u001b[0m \u001b[0mgrad\u001b[0m\u001b[1;33m.\u001b[0m\u001b[0mindices\u001b[0m\u001b[1;33m,\u001b[0m\u001b[1;33m\u001b[0m\u001b[0m\n\u001b[1;32m---> 77\u001b[1;33m         use_locking=self._use_locking)\n\u001b[0m",
      "\u001b[1;32m/usr/local/lib/python2.7/dist-packages/tensorflow/python/training/gen_training_ops.pyc\u001b[0m in \u001b[0;36msparse_apply_adagrad\u001b[1;34m(var, accum, lr, grad, indices, use_locking, name)\u001b[0m\n\u001b[0;32m    200\u001b[0m   return _op_def_lib.apply_op(\"SparseApplyAdagrad\", var=var, accum=accum,\n\u001b[0;32m    201\u001b[0m                               \u001b[0mlr\u001b[0m\u001b[1;33m=\u001b[0m\u001b[0mlr\u001b[0m\u001b[1;33m,\u001b[0m \u001b[0mgrad\u001b[0m\u001b[1;33m=\u001b[0m\u001b[0mgrad\u001b[0m\u001b[1;33m,\u001b[0m \u001b[0mindices\u001b[0m\u001b[1;33m=\u001b[0m\u001b[0mindices\u001b[0m\u001b[1;33m,\u001b[0m\u001b[1;33m\u001b[0m\u001b[0m\n\u001b[1;32m--> 202\u001b[1;33m                               use_locking=use_locking, name=name)\n\u001b[0m\u001b[0;32m    203\u001b[0m \u001b[1;33m\u001b[0m\u001b[0m\n\u001b[0;32m    204\u001b[0m \u001b[1;33m\u001b[0m\u001b[0m\n",
      "\u001b[1;32m/usr/local/lib/python2.7/dist-packages/tensorflow/python/ops/op_def_library.pyc\u001b[0m in \u001b[0;36mapply_op\u001b[1;34m(self, op_type_name, g, name, **keywords)\u001b[0m\n\u001b[0;32m    662\u001b[0m         op = g.create_op(op_type_name, inputs, output_types, name=scope,\n\u001b[0;32m    663\u001b[0m                          \u001b[0minput_types\u001b[0m\u001b[1;33m=\u001b[0m\u001b[0minput_types\u001b[0m\u001b[1;33m,\u001b[0m \u001b[0mattrs\u001b[0m\u001b[1;33m=\u001b[0m\u001b[0mattr_protos\u001b[0m\u001b[1;33m,\u001b[0m\u001b[1;33m\u001b[0m\u001b[0m\n\u001b[1;32m--> 664\u001b[1;33m                          op_def=op_def)\n\u001b[0m\u001b[0;32m    665\u001b[0m         \u001b[0moutputs\u001b[0m \u001b[1;33m=\u001b[0m \u001b[0mop\u001b[0m\u001b[1;33m.\u001b[0m\u001b[0moutputs\u001b[0m\u001b[1;33m\u001b[0m\u001b[0m\n\u001b[0;32m    666\u001b[0m         return _Restructure(ops.convert_n_to_tensor_or_indexed_slices(outputs),\n",
      "\u001b[1;32m/usr/local/lib/python2.7/dist-packages/tensorflow/python/framework/ops.pyc\u001b[0m in \u001b[0;36mcreate_op\u001b[1;34m(self, op_type, inputs, dtypes, input_types, name, attrs, op_def, compute_shapes)\u001b[0m\n\u001b[0;32m   1834\u001b[0m                     original_op=self._default_original_op, op_def=op_def)\n\u001b[0;32m   1835\u001b[0m     \u001b[1;32mif\u001b[0m \u001b[0mcompute_shapes\u001b[0m\u001b[1;33m:\u001b[0m\u001b[1;33m\u001b[0m\u001b[0m\n\u001b[1;32m-> 1836\u001b[1;33m       \u001b[0mset_shapes_for_outputs\u001b[0m\u001b[1;33m(\u001b[0m\u001b[0mret\u001b[0m\u001b[1;33m)\u001b[0m\u001b[1;33m\u001b[0m\u001b[0m\n\u001b[0m\u001b[0;32m   1837\u001b[0m     \u001b[0mself\u001b[0m\u001b[1;33m.\u001b[0m\u001b[0m_add_op\u001b[0m\u001b[1;33m(\u001b[0m\u001b[0mret\u001b[0m\u001b[1;33m)\u001b[0m\u001b[1;33m\u001b[0m\u001b[0m\n\u001b[0;32m   1838\u001b[0m     \u001b[0mself\u001b[0m\u001b[1;33m.\u001b[0m\u001b[0m_record_op_seen_by_control_dependencies\u001b[0m\u001b[1;33m(\u001b[0m\u001b[0mret\u001b[0m\u001b[1;33m)\u001b[0m\u001b[1;33m\u001b[0m\u001b[0m\n",
      "\u001b[1;32m/usr/local/lib/python2.7/dist-packages/tensorflow/python/framework/ops.pyc\u001b[0m in \u001b[0;36mset_shapes_for_outputs\u001b[1;34m(op)\u001b[0m\n\u001b[0;32m   1474\u001b[0m       raise RuntimeError(\"No shape function registered for standard op: %s\"\n\u001b[0;32m   1475\u001b[0m                          % op.type)\n\u001b[1;32m-> 1476\u001b[1;33m   \u001b[0mshapes\u001b[0m \u001b[1;33m=\u001b[0m \u001b[0mshape_func\u001b[0m\u001b[1;33m(\u001b[0m\u001b[0mop\u001b[0m\u001b[1;33m)\u001b[0m\u001b[1;33m\u001b[0m\u001b[0m\n\u001b[0m\u001b[0;32m   1477\u001b[0m   \u001b[1;32mif\u001b[0m \u001b[0mlen\u001b[0m\u001b[1;33m(\u001b[0m\u001b[0mop\u001b[0m\u001b[1;33m.\u001b[0m\u001b[0moutputs\u001b[0m\u001b[1;33m)\u001b[0m \u001b[1;33m!=\u001b[0m \u001b[0mlen\u001b[0m\u001b[1;33m(\u001b[0m\u001b[0mshapes\u001b[0m\u001b[1;33m)\u001b[0m\u001b[1;33m:\u001b[0m\u001b[1;33m\u001b[0m\u001b[0m\n\u001b[0;32m   1478\u001b[0m     raise RuntimeError(\n",
      "\u001b[1;32m/usr/local/lib/python2.7/dist-packages/tensorflow/python/training/training_ops.pyc\u001b[0m in \u001b[0;36m_SparseApplyAdagradShape\u001b[1;34m(op)\u001b[0m\n\u001b[0;32m    115\u001b[0m   \u001b[0m_AssertInputIsScalar\u001b[0m\u001b[1;33m(\u001b[0m\u001b[0mop\u001b[0m\u001b[1;33m,\u001b[0m \u001b[1;36m2\u001b[0m\u001b[1;33m)\u001b[0m  \u001b[1;31m# lr\u001b[0m\u001b[1;33m\u001b[0m\u001b[0m\n\u001b[0;32m    116\u001b[0m   grad_shape = op.inputs[3].get_shape().merge_with(\n\u001b[1;32m--> 117\u001b[1;33m       tensor_shape.TensorShape([None]).concatenate(accum_shape[1:]))\n\u001b[0m\u001b[0;32m    118\u001b[0m   unused_indices_shape = op.inputs[4].get_shape().merge_with(\n\u001b[0;32m    119\u001b[0m       tensor_shape.vector(grad_shape[0]))\n",
      "\u001b[1;32m/usr/local/lib/python2.7/dist-packages/tensorflow/python/framework/tensor_shape.pyc\u001b[0m in \u001b[0;36mmerge_with\u001b[1;34m(self, other)\u001b[0m\n\u001b[0;32m    525\u001b[0m       \u001b[1;32mreturn\u001b[0m \u001b[0mother\u001b[0m\u001b[1;33m\u001b[0m\u001b[0m\n\u001b[0;32m    526\u001b[0m     \u001b[1;32melse\u001b[0m\u001b[1;33m:\u001b[0m\u001b[1;33m\u001b[0m\u001b[0m\n\u001b[1;32m--> 527\u001b[1;33m       \u001b[0mself\u001b[0m\u001b[1;33m.\u001b[0m\u001b[0massert_same_rank\u001b[0m\u001b[1;33m(\u001b[0m\u001b[0mother\u001b[0m\u001b[1;33m)\u001b[0m\u001b[1;33m\u001b[0m\u001b[0m\n\u001b[0m\u001b[0;32m    528\u001b[0m       \u001b[0mnew_dims\u001b[0m \u001b[1;33m=\u001b[0m \u001b[1;33m[\u001b[0m\u001b[1;33m]\u001b[0m\u001b[1;33m\u001b[0m\u001b[0m\n\u001b[0;32m    529\u001b[0m       \u001b[1;32mfor\u001b[0m \u001b[0mi\u001b[0m\u001b[1;33m,\u001b[0m \u001b[0mdim\u001b[0m \u001b[1;32min\u001b[0m \u001b[0menumerate\u001b[0m\u001b[1;33m(\u001b[0m\u001b[0mself\u001b[0m\u001b[1;33m.\u001b[0m\u001b[0m_dims\u001b[0m\u001b[1;33m)\u001b[0m\u001b[1;33m:\u001b[0m\u001b[1;33m\u001b[0m\u001b[0m\n",
      "\u001b[1;32m/usr/local/lib/python2.7/dist-packages/tensorflow/python/framework/tensor_shape.pyc\u001b[0m in \u001b[0;36massert_same_rank\u001b[1;34m(self, other)\u001b[0m\n\u001b[0;32m    568\u001b[0m       \u001b[1;32mif\u001b[0m \u001b[0mself\u001b[0m\u001b[1;33m.\u001b[0m\u001b[0mndims\u001b[0m \u001b[1;33m!=\u001b[0m \u001b[0mother\u001b[0m\u001b[1;33m.\u001b[0m\u001b[0mndims\u001b[0m\u001b[1;33m:\u001b[0m\u001b[1;33m\u001b[0m\u001b[0m\n\u001b[0;32m    569\u001b[0m         raise ValueError(\n\u001b[1;32m--> 570\u001b[1;33m             \"Shapes %s and %s must have the same rank\" % (self, other))\n\u001b[0m\u001b[0;32m    571\u001b[0m \u001b[1;33m\u001b[0m\u001b[0m\n\u001b[0;32m    572\u001b[0m   \u001b[1;32mdef\u001b[0m \u001b[0massert_has_rank\u001b[0m\u001b[1;33m(\u001b[0m\u001b[0mself\u001b[0m\u001b[1;33m,\u001b[0m \u001b[0mrank\u001b[0m\u001b[1;33m)\u001b[0m\u001b[1;33m:\u001b[0m\u001b[1;33m\u001b[0m\u001b[0m\n",
      "\u001b[1;31mValueError\u001b[0m: Shapes TensorShape([Dimension(None), Dimension(None), Dimension(None)]) and TensorShape([Dimension(None), Dimension(6)]) must have the same rank"
     ]
    }
   ],
   "source": [
    "init_op = tf.initialize_all_variables()\n",
    "sess.run(init_op)\n",
    "\n",
    "batch_data, batch_labels = generate_batch(batch_size, window_wing)\n",
    "feed_dict = {train_dataset : batch_data, train_labels : batch_labels}\n",
    "\n",
    "embed = tf.nn.embedding_lookup(embeddings, train_dataset)\n",
    "embed = tf.reduce_mean(embed, reduction_indices=1)\n",
    "    \n",
    "l1 = tf.nn.sampled_softmax_loss(softmax_weights, softmax_biases, embed, train_labels, num_sampled, vocabulary_size)\n",
    "loss = tf.reduce_mean(l1)\n",
    "\n",
    "optimizer = tf.train.AdagradOptimizer(1.0).minimize(loss)\n",
    "\n",
    "sess.run(tf.shape(\n",
    "        embed\n",
    "    ), feed_dict=feed_dict)\n",
    "sess.run(tf.shape(\n",
    "        l1\n",
    "    ), feed_dict=feed_dict)\n",
    "sess.run(tf.shape(\n",
    "        tf.reduce_mean(l1)\n",
    "    ), feed_dict=feed_dict)\n",
    "sess.run(tf.reduce_mean(l1), feed_dict=feed_dict)"
   ]
  },
  {
   "cell_type": "code",
   "execution_count": 150,
   "metadata": {
    "collapsed": false
   },
   "outputs": [
    {
     "ename": "ValueError",
     "evalue": "Shapes TensorShape([Dimension(None), Dimension(None), Dimension(None)]) and TensorShape([Dimension(None), Dimension(6)]) must have the same rank",
     "output_type": "error",
     "traceback": [
      "\u001b[1;31m---------------------------------------------------------------------------\u001b[0m",
      "\u001b[1;31mValueError\u001b[0m                                Traceback (most recent call last)",
      "\u001b[1;32m<ipython-input-150-ba573b2779d6>\u001b[0m in \u001b[0;36m<module>\u001b[1;34m()\u001b[0m\n\u001b[0;32m     28\u001b[0m \u001b[1;33m\u001b[0m\u001b[0m\n\u001b[0;32m     29\u001b[0m     \u001b[1;31m# Optimizer.\u001b[0m\u001b[1;33m\u001b[0m\u001b[1;33m\u001b[0m\u001b[0m\n\u001b[1;32m---> 30\u001b[1;33m     \u001b[0moptimizer\u001b[0m \u001b[1;33m=\u001b[0m \u001b[0mtf\u001b[0m\u001b[1;33m.\u001b[0m\u001b[0mtrain\u001b[0m\u001b[1;33m.\u001b[0m\u001b[0mAdagradOptimizer\u001b[0m\u001b[1;33m(\u001b[0m\u001b[1;36m1.0\u001b[0m\u001b[1;33m)\u001b[0m\u001b[1;33m.\u001b[0m\u001b[0mminimize\u001b[0m\u001b[1;33m(\u001b[0m\u001b[0mloss\u001b[0m\u001b[1;33m)\u001b[0m\u001b[1;33m\u001b[0m\u001b[0m\n\u001b[0m\u001b[0;32m     31\u001b[0m \u001b[1;33m\u001b[0m\u001b[0m\n\u001b[0;32m     32\u001b[0m     \u001b[1;31m# Compute the similarity between minibatch examples and all embeddings.\u001b[0m\u001b[1;33m\u001b[0m\u001b[1;33m\u001b[0m\u001b[0m\n",
      "\u001b[1;32m/usr/local/lib/python2.7/dist-packages/tensorflow/python/training/optimizer.pyc\u001b[0m in \u001b[0;36mminimize\u001b[1;34m(self, loss, global_step, var_list, gate_gradients, aggregation_method, name)\u001b[0m\n\u001b[0;32m    186\u001b[0m         aggregation_method=aggregation_method)\n\u001b[0;32m    187\u001b[0m     return self.apply_gradients(grads_and_vars, global_step=global_step,\n\u001b[1;32m--> 188\u001b[1;33m                                 name=name)\n\u001b[0m\u001b[0;32m    189\u001b[0m \u001b[1;33m\u001b[0m\u001b[0m\n\u001b[0;32m    190\u001b[0m   def compute_gradients(self, loss, var_list=None, gate_gradients=GATE_OP,\n",
      "\u001b[1;32m/usr/local/lib/python2.7/dist-packages/tensorflow/python/training/optimizer.pyc\u001b[0m in \u001b[0;36mapply_gradients\u001b[1;34m(self, grads_and_vars, global_step, name)\u001b[0m\n\u001b[0;32m    287\u001b[0m             \u001b[0mupdate_ops\u001b[0m\u001b[1;33m.\u001b[0m\u001b[0mappend\u001b[0m\u001b[1;33m(\u001b[0m\u001b[0mself\u001b[0m\u001b[1;33m.\u001b[0m\u001b[0m_apply_dense\u001b[0m\u001b[1;33m(\u001b[0m\u001b[0mgrad\u001b[0m\u001b[1;33m,\u001b[0m \u001b[0mvar\u001b[0m\u001b[1;33m)\u001b[0m\u001b[1;33m)\u001b[0m\u001b[1;33m\u001b[0m\u001b[0m\n\u001b[0;32m    288\u001b[0m           \u001b[1;32melse\u001b[0m\u001b[1;33m:\u001b[0m\u001b[1;33m\u001b[0m\u001b[0m\n\u001b[1;32m--> 289\u001b[1;33m             \u001b[0mupdate_ops\u001b[0m\u001b[1;33m.\u001b[0m\u001b[0mappend\u001b[0m\u001b[1;33m(\u001b[0m\u001b[0mself\u001b[0m\u001b[1;33m.\u001b[0m\u001b[0m_apply_sparse\u001b[0m\u001b[1;33m(\u001b[0m\u001b[0mgrad\u001b[0m\u001b[1;33m,\u001b[0m \u001b[0mvar\u001b[0m\u001b[1;33m)\u001b[0m\u001b[1;33m)\u001b[0m\u001b[1;33m\u001b[0m\u001b[0m\n\u001b[0m\u001b[0;32m    290\u001b[0m       \u001b[1;32mif\u001b[0m \u001b[0mglobal_step\u001b[0m \u001b[1;32mis\u001b[0m \u001b[0mNone\u001b[0m\u001b[1;33m:\u001b[0m\u001b[1;33m\u001b[0m\u001b[0m\n\u001b[0;32m    291\u001b[0m         \u001b[1;32mreturn\u001b[0m \u001b[0mself\u001b[0m\u001b[1;33m.\u001b[0m\u001b[0m_finish\u001b[0m\u001b[1;33m(\u001b[0m\u001b[0mupdate_ops\u001b[0m\u001b[1;33m,\u001b[0m \u001b[0mname\u001b[0m\u001b[1;33m)\u001b[0m\u001b[1;33m\u001b[0m\u001b[0m\n",
      "\u001b[1;32m/usr/local/lib/python2.7/dist-packages/tensorflow/python/training/adagrad.pyc\u001b[0m in \u001b[0;36m_apply_sparse\u001b[1;34m(self, grad, var)\u001b[0m\n\u001b[0;32m     75\u001b[0m     return training_ops.sparse_apply_adagrad(\n\u001b[0;32m     76\u001b[0m         \u001b[0mvar\u001b[0m\u001b[1;33m,\u001b[0m \u001b[0macc\u001b[0m\u001b[1;33m,\u001b[0m \u001b[0mself\u001b[0m\u001b[1;33m.\u001b[0m\u001b[0m_learning_rate_tensor\u001b[0m\u001b[1;33m,\u001b[0m \u001b[0mgrad\u001b[0m\u001b[1;33m.\u001b[0m\u001b[0mvalues\u001b[0m\u001b[1;33m,\u001b[0m \u001b[0mgrad\u001b[0m\u001b[1;33m.\u001b[0m\u001b[0mindices\u001b[0m\u001b[1;33m,\u001b[0m\u001b[1;33m\u001b[0m\u001b[0m\n\u001b[1;32m---> 77\u001b[1;33m         use_locking=self._use_locking)\n\u001b[0m",
      "\u001b[1;32m/usr/local/lib/python2.7/dist-packages/tensorflow/python/training/gen_training_ops.pyc\u001b[0m in \u001b[0;36msparse_apply_adagrad\u001b[1;34m(var, accum, lr, grad, indices, use_locking, name)\u001b[0m\n\u001b[0;32m    200\u001b[0m   return _op_def_lib.apply_op(\"SparseApplyAdagrad\", var=var, accum=accum,\n\u001b[0;32m    201\u001b[0m                               \u001b[0mlr\u001b[0m\u001b[1;33m=\u001b[0m\u001b[0mlr\u001b[0m\u001b[1;33m,\u001b[0m \u001b[0mgrad\u001b[0m\u001b[1;33m=\u001b[0m\u001b[0mgrad\u001b[0m\u001b[1;33m,\u001b[0m \u001b[0mindices\u001b[0m\u001b[1;33m=\u001b[0m\u001b[0mindices\u001b[0m\u001b[1;33m,\u001b[0m\u001b[1;33m\u001b[0m\u001b[0m\n\u001b[1;32m--> 202\u001b[1;33m                               use_locking=use_locking, name=name)\n\u001b[0m\u001b[0;32m    203\u001b[0m \u001b[1;33m\u001b[0m\u001b[0m\n\u001b[0;32m    204\u001b[0m \u001b[1;33m\u001b[0m\u001b[0m\n",
      "\u001b[1;32m/usr/local/lib/python2.7/dist-packages/tensorflow/python/ops/op_def_library.pyc\u001b[0m in \u001b[0;36mapply_op\u001b[1;34m(self, op_type_name, g, name, **keywords)\u001b[0m\n\u001b[0;32m    662\u001b[0m         op = g.create_op(op_type_name, inputs, output_types, name=scope,\n\u001b[0;32m    663\u001b[0m                          \u001b[0minput_types\u001b[0m\u001b[1;33m=\u001b[0m\u001b[0minput_types\u001b[0m\u001b[1;33m,\u001b[0m \u001b[0mattrs\u001b[0m\u001b[1;33m=\u001b[0m\u001b[0mattr_protos\u001b[0m\u001b[1;33m,\u001b[0m\u001b[1;33m\u001b[0m\u001b[0m\n\u001b[1;32m--> 664\u001b[1;33m                          op_def=op_def)\n\u001b[0m\u001b[0;32m    665\u001b[0m         \u001b[0moutputs\u001b[0m \u001b[1;33m=\u001b[0m \u001b[0mop\u001b[0m\u001b[1;33m.\u001b[0m\u001b[0moutputs\u001b[0m\u001b[1;33m\u001b[0m\u001b[0m\n\u001b[0;32m    666\u001b[0m         return _Restructure(ops.convert_n_to_tensor_or_indexed_slices(outputs),\n",
      "\u001b[1;32m/usr/local/lib/python2.7/dist-packages/tensorflow/python/framework/ops.pyc\u001b[0m in \u001b[0;36mcreate_op\u001b[1;34m(self, op_type, inputs, dtypes, input_types, name, attrs, op_def, compute_shapes)\u001b[0m\n\u001b[0;32m   1834\u001b[0m                     original_op=self._default_original_op, op_def=op_def)\n\u001b[0;32m   1835\u001b[0m     \u001b[1;32mif\u001b[0m \u001b[0mcompute_shapes\u001b[0m\u001b[1;33m:\u001b[0m\u001b[1;33m\u001b[0m\u001b[0m\n\u001b[1;32m-> 1836\u001b[1;33m       \u001b[0mset_shapes_for_outputs\u001b[0m\u001b[1;33m(\u001b[0m\u001b[0mret\u001b[0m\u001b[1;33m)\u001b[0m\u001b[1;33m\u001b[0m\u001b[0m\n\u001b[0m\u001b[0;32m   1837\u001b[0m     \u001b[0mself\u001b[0m\u001b[1;33m.\u001b[0m\u001b[0m_add_op\u001b[0m\u001b[1;33m(\u001b[0m\u001b[0mret\u001b[0m\u001b[1;33m)\u001b[0m\u001b[1;33m\u001b[0m\u001b[0m\n\u001b[0;32m   1838\u001b[0m     \u001b[0mself\u001b[0m\u001b[1;33m.\u001b[0m\u001b[0m_record_op_seen_by_control_dependencies\u001b[0m\u001b[1;33m(\u001b[0m\u001b[0mret\u001b[0m\u001b[1;33m)\u001b[0m\u001b[1;33m\u001b[0m\u001b[0m\n",
      "\u001b[1;32m/usr/local/lib/python2.7/dist-packages/tensorflow/python/framework/ops.pyc\u001b[0m in \u001b[0;36mset_shapes_for_outputs\u001b[1;34m(op)\u001b[0m\n\u001b[0;32m   1474\u001b[0m       raise RuntimeError(\"No shape function registered for standard op: %s\"\n\u001b[0;32m   1475\u001b[0m                          % op.type)\n\u001b[1;32m-> 1476\u001b[1;33m   \u001b[0mshapes\u001b[0m \u001b[1;33m=\u001b[0m \u001b[0mshape_func\u001b[0m\u001b[1;33m(\u001b[0m\u001b[0mop\u001b[0m\u001b[1;33m)\u001b[0m\u001b[1;33m\u001b[0m\u001b[0m\n\u001b[0m\u001b[0;32m   1477\u001b[0m   \u001b[1;32mif\u001b[0m \u001b[0mlen\u001b[0m\u001b[1;33m(\u001b[0m\u001b[0mop\u001b[0m\u001b[1;33m.\u001b[0m\u001b[0moutputs\u001b[0m\u001b[1;33m)\u001b[0m \u001b[1;33m!=\u001b[0m \u001b[0mlen\u001b[0m\u001b[1;33m(\u001b[0m\u001b[0mshapes\u001b[0m\u001b[1;33m)\u001b[0m\u001b[1;33m:\u001b[0m\u001b[1;33m\u001b[0m\u001b[0m\n\u001b[0;32m   1478\u001b[0m     raise RuntimeError(\n",
      "\u001b[1;32m/usr/local/lib/python2.7/dist-packages/tensorflow/python/training/training_ops.pyc\u001b[0m in \u001b[0;36m_SparseApplyAdagradShape\u001b[1;34m(op)\u001b[0m\n\u001b[0;32m    115\u001b[0m   \u001b[0m_AssertInputIsScalar\u001b[0m\u001b[1;33m(\u001b[0m\u001b[0mop\u001b[0m\u001b[1;33m,\u001b[0m \u001b[1;36m2\u001b[0m\u001b[1;33m)\u001b[0m  \u001b[1;31m# lr\u001b[0m\u001b[1;33m\u001b[0m\u001b[0m\n\u001b[0;32m    116\u001b[0m   grad_shape = op.inputs[3].get_shape().merge_with(\n\u001b[1;32m--> 117\u001b[1;33m       tensor_shape.TensorShape([None]).concatenate(accum_shape[1:]))\n\u001b[0m\u001b[0;32m    118\u001b[0m   unused_indices_shape = op.inputs[4].get_shape().merge_with(\n\u001b[0;32m    119\u001b[0m       tensor_shape.vector(grad_shape[0]))\n",
      "\u001b[1;32m/usr/local/lib/python2.7/dist-packages/tensorflow/python/framework/tensor_shape.pyc\u001b[0m in \u001b[0;36mmerge_with\u001b[1;34m(self, other)\u001b[0m\n\u001b[0;32m    525\u001b[0m       \u001b[1;32mreturn\u001b[0m \u001b[0mother\u001b[0m\u001b[1;33m\u001b[0m\u001b[0m\n\u001b[0;32m    526\u001b[0m     \u001b[1;32melse\u001b[0m\u001b[1;33m:\u001b[0m\u001b[1;33m\u001b[0m\u001b[0m\n\u001b[1;32m--> 527\u001b[1;33m       \u001b[0mself\u001b[0m\u001b[1;33m.\u001b[0m\u001b[0massert_same_rank\u001b[0m\u001b[1;33m(\u001b[0m\u001b[0mother\u001b[0m\u001b[1;33m)\u001b[0m\u001b[1;33m\u001b[0m\u001b[0m\n\u001b[0m\u001b[0;32m    528\u001b[0m       \u001b[0mnew_dims\u001b[0m \u001b[1;33m=\u001b[0m \u001b[1;33m[\u001b[0m\u001b[1;33m]\u001b[0m\u001b[1;33m\u001b[0m\u001b[0m\n\u001b[0;32m    529\u001b[0m       \u001b[1;32mfor\u001b[0m \u001b[0mi\u001b[0m\u001b[1;33m,\u001b[0m \u001b[0mdim\u001b[0m \u001b[1;32min\u001b[0m \u001b[0menumerate\u001b[0m\u001b[1;33m(\u001b[0m\u001b[0mself\u001b[0m\u001b[1;33m.\u001b[0m\u001b[0m_dims\u001b[0m\u001b[1;33m)\u001b[0m\u001b[1;33m:\u001b[0m\u001b[1;33m\u001b[0m\u001b[0m\n",
      "\u001b[1;32m/usr/local/lib/python2.7/dist-packages/tensorflow/python/framework/tensor_shape.pyc\u001b[0m in \u001b[0;36massert_same_rank\u001b[1;34m(self, other)\u001b[0m\n\u001b[0;32m    568\u001b[0m       \u001b[1;32mif\u001b[0m \u001b[0mself\u001b[0m\u001b[1;33m.\u001b[0m\u001b[0mndims\u001b[0m \u001b[1;33m!=\u001b[0m \u001b[0mother\u001b[0m\u001b[1;33m.\u001b[0m\u001b[0mndims\u001b[0m\u001b[1;33m:\u001b[0m\u001b[1;33m\u001b[0m\u001b[0m\n\u001b[0;32m    569\u001b[0m         raise ValueError(\n\u001b[1;32m--> 570\u001b[1;33m             \"Shapes %s and %s must have the same rank\" % (self, other))\n\u001b[0m\u001b[0;32m    571\u001b[0m \u001b[1;33m\u001b[0m\u001b[0m\n\u001b[0;32m    572\u001b[0m   \u001b[1;32mdef\u001b[0m \u001b[0massert_has_rank\u001b[0m\u001b[1;33m(\u001b[0m\u001b[0mself\u001b[0m\u001b[1;33m,\u001b[0m \u001b[0mrank\u001b[0m\u001b[1;33m)\u001b[0m\u001b[1;33m:\u001b[0m\u001b[1;33m\u001b[0m\u001b[0m\n",
      "\u001b[1;31mValueError\u001b[0m: Shapes TensorShape([Dimension(None), Dimension(None), Dimension(None)]) and TensorShape([Dimension(None), Dimension(6)]) must have the same rank"
     ]
    }
   ],
   "source": [
    "# use with test data\n",
    "graph = tf.Graph()\n",
    "\n",
    "with graph.as_default():\n",
    "\n",
    "    # Input data.\n",
    "    #train_dataset = tf.placeholder(tf.int32, shape=[batch_size])\n",
    "    train_dataset = tf.placeholder(tf.int32, shape=[batch_size, 2 * window_wing])\n",
    "    train_labels = tf.placeholder(tf.int32, shape=[batch_size, 1])\n",
    "    valid_dataset = tf.constant(valid_examples, dtype=tf.int32)\n",
    "  \n",
    "    # Variables.\n",
    "    embeddings = tf.Variable(tf.random_uniform([vocabulary_size, embedding_size], -1.0, 1.0))\n",
    "    softmax_weights = tf.Variable(tf.truncated_normal([vocabulary_size, embedding_size], \n",
    "                                                      stddev=1.0 / math.sqrt(embedding_size)))\n",
    "    softmax_biases = tf.Variable(tf.zeros([vocabulary_size]))\n",
    "  \n",
    "    # Model.\n",
    "    embed = tf.nn.embedding_lookup(embeddings, train_dataset)\n",
    "    embed = tf.reduce_mean(embed, reduction_indices=1)\n",
    "    # Compute the softmax loss, using a sample of the negative labels each time.\n",
    "    loss = tf.reduce_mean(tf.nn.sampled_softmax_loss(softmax_weights, \n",
    "                                                     softmax_biases, \n",
    "                                                     embed, \n",
    "                                                     train_labels, \n",
    "                                                     num_sampled, \n",
    "                                                     vocabulary_size))\n",
    "\n",
    "    # Optimizer.\n",
    "    optimizer = tf.train.AdagradOptimizer(1.0).minimize(loss)\n",
    "  \n",
    "    # Compute the similarity between minibatch examples and all embeddings.\n",
    "    # We use the cosine distance:\n",
    "    norm = tf.sqrt(tf.reduce_sum(tf.square(embeddings), 1, keep_dims=True))\n",
    "    normalized_embeddings = embeddings / norm\n",
    "    valid_embeddings = tf.nn.embedding_lookup(normalized_embeddings, valid_dataset)\n",
    "    similarity = tf.matmul(valid_embeddings, tf.transpose(normalized_embeddings))"
   ]
  },
  {
   "cell_type": "markdown",
   "metadata": {},
   "source": [
    "Need to figure out which axis to sum on, then define the `embed` vector in the graph as the appropriate sum..."
   ]
  },
  {
   "cell_type": "raw",
   "metadata": {
    "collapsed": false
   },
   "source": [
    "batch_size = 128\n",
    "embedding_size = 128 # Dimension of the embedding vector.\n",
    "window_wing = 1      # How many words to consider left and right.\n",
    "\n",
    "# We pick a random validation set to sample nearest neighbors. here we limit the\n",
    "# validation samples to the words that have a low numeric ID, which by\n",
    "# construction are also the most frequent. \n",
    "valid_size = 16    # Random set of words to evaluate similarity on.\n",
    "valid_window = 100 # Only pick dev samples in the head of the distribution.\n",
    "valid_examples = np.array(random.sample(range(valid_window), valid_size))\n",
    "num_sampled = 64   # Number of negative examples to sample.\n",
    "\n",
    "graph = tf.Graph()\n",
    "\n",
    "with graph.as_default():\n",
    "\n",
    "    # Input data.\n",
    "    train_dataset = tf.placeholder(tf.int32, shape=[batch_size])\n",
    "    #train_dataset = tf.placeholder(tf.int32, shape=[batch_size, 2 * window_wing + 1])\n",
    "    train_labels = tf.placeholder(tf.int32, shape=[batch_size, 1])\n",
    "    valid_dataset = tf.constant(valid_examples, dtype=tf.int32)\n",
    "  \n",
    "    # Variables.\n",
    "    embeddings = tf.Variable(tf.random_uniform([vocabulary_size, embedding_size], -1.0, 1.0))\n",
    "    softmax_weights = tf.Variable(tf.truncated_normal([vocabulary_size, embedding_size], \n",
    "                                                      stddev=1.0 / math.sqrt(embedding_size)))\n",
    "    softmax_biases = tf.Variable(tf.zeros([vocabulary_size]))\n",
    "  \n",
    "    # Model.\n",
    "    embed = tf.nn.embedding_lookup(embeddings, train_dataset)\n",
    "    #embed = tf.reduce_mean(embed, reduction_indices=1)\n",
    "    # Compute the softmax loss, using a sample of the negative labels each time.\n",
    "    loss = tf.reduce_mean(tf.nn.sampled_softmax_loss(softmax_weights, \n",
    "                                                     softmax_biases, \n",
    "                                                     embed, \n",
    "                                                     train_labels, \n",
    "                                                     num_sampled, \n",
    "                                                     vocabulary_size))\n",
    "\n",
    "    # Optimizer.\n",
    "    optimizer = tf.train.AdagradOptimizer(1.0).minimize(loss)\n",
    "  \n",
    "    # Compute the similarity between minibatch examples and all embeddings.\n",
    "    # We use the cosine distance:\n",
    "    norm = tf.sqrt(tf.reduce_sum(tf.square(embeddings), 1, keep_dims=True))\n",
    "    normalized_embeddings = embeddings / norm\n",
    "    valid_embeddings = tf.nn.embedding_lookup(normalized_embeddings, valid_dataset)\n",
    "    similarity = tf.matmul(valid_embeddings, tf.transpose(normalized_embeddings))"
   ]
  },
  {
   "cell_type": "code",
   "execution_count": null,
   "metadata": {
    "collapsed": true
   },
   "outputs": [],
   "source": []
  }
 ],
 "metadata": {
  "colab": {
   "default_view": {},
   "name": "5_word2vec.ipynb",
   "provenance": [],
   "version": "0.3.2",
   "views": {}
  },
  "kernelspec": {
   "display_name": "Python 2",
   "language": "python",
   "name": "python2"
  },
  "language_info": {
   "codemirror_mode": {
    "name": "ipython",
    "version": 2
   },
   "file_extension": ".py",
   "mimetype": "text/x-python",
   "name": "python",
   "nbconvert_exporter": "python",
   "pygments_lexer": "ipython2",
   "version": "2.7.6"
  }
 },
 "nbformat": 4,
 "nbformat_minor": 0
}
