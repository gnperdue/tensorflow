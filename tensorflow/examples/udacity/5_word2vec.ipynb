{
 "cells": [
  {
   "cell_type": "markdown",
   "metadata": {
    "colab_type": "text",
    "id": "D7tqLMoKF6uq"
   },
   "source": [
    "Deep Learning\n",
    "=============\n",
    "\n",
    "Assignment 5\n",
    "------------\n",
    "\n",
    "The goal of this assignment is to train a skip-gram model over [Text8](http://mattmahoney.net/dc/textdata) data."
   ]
  },
  {
   "cell_type": "markdown",
   "metadata": {},
   "source": [
    "Some additional reading:\n",
    "\n",
    "* https://www.tensorflow.org/versions/r0.7/tutorials/word2vec/index.html\n",
    "* http://www.folgertkarsdorp.nl/word2vec-an-introduction/\n",
    "* https://www.kaggle.com/c/word2vec-nlp-tutorial\n",
    "* http://www.cs.toronto.edu/~bonner/courses/2014s/csc321/lectures/lec5.pdf\n",
    "* http://www.cs.toronto.edu/~bonner/courses/2016s/csc321/webpages/lectures.htm\n",
    "* http://radimrehurek.com/gensim/models/word2vec.html"
   ]
  },
  {
   "cell_type": "code",
   "execution_count": 1,
   "metadata": {
    "cellView": "both",
    "colab": {
     "autoexec": {
      "startup": false,
      "wait_interval": 0
     }
    },
    "colab_type": "code",
    "collapsed": true,
    "id": "0K1ZyLn04QZf"
   },
   "outputs": [],
   "source": [
    "# These are all the modules we'll be using later. Make sure you can import them\n",
    "# before proceeding further.\n",
    "import collections\n",
    "import math\n",
    "import numpy as np\n",
    "import os\n",
    "import random\n",
    "import tensorflow as tf\n",
    "import zipfile\n",
    "from matplotlib import pylab\n",
    "from six.moves import range\n",
    "from six.moves.urllib.request import urlretrieve\n",
    "from sklearn.manifold import TSNE"
   ]
  },
  {
   "cell_type": "code",
   "execution_count": 2,
   "metadata": {
    "collapsed": true
   },
   "outputs": [],
   "source": [
    "%matplotlib inline"
   ]
  },
  {
   "cell_type": "markdown",
   "metadata": {
    "colab_type": "text",
    "id": "aCjPJE944bkV"
   },
   "source": [
    "Download the data from the source website if necessary."
   ]
  },
  {
   "cell_type": "code",
   "execution_count": 3,
   "metadata": {
    "cellView": "both",
    "colab": {
     "autoexec": {
      "startup": false,
      "wait_interval": 0
     },
     "output_extras": [
      {
       "item_id": 1
      }
     ]
    },
    "colab_type": "code",
    "collapsed": false,
    "executionInfo": {
     "elapsed": 14640,
     "status": "ok",
     "timestamp": 1445964482948,
     "user": {
      "color": "#1FA15D",
      "displayName": "Vincent Vanhoucke",
      "isAnonymous": false,
      "isMe": true,
      "permissionId": "05076109866853157986",
      "photoUrl": "//lh6.googleusercontent.com/-cCJa7dTDcgQ/AAAAAAAAAAI/AAAAAAAACgw/r2EZ_8oYer4/s50-c-k-no/photo.jpg",
      "sessionId": "2f1ffade4c9f20de",
      "userId": "102167687554210253930"
     },
     "user_tz": 420
    },
    "id": "RJ-o3UBUFtCw",
    "outputId": "c4ec222c-80b5-4298-e635-93ca9f79c3b7"
   },
   "outputs": [
    {
     "name": "stdout",
     "output_type": "stream",
     "text": [
      "Found and verified mytesttext.txt.zip\n",
      "Found and verified text8.zip\n"
     ]
    }
   ],
   "source": [
    "url = 'http://mattmahoney.net/dc/'\n",
    "\n",
    "def maybe_download(filename, expected_bytes):\n",
    "    \"\"\"Download a file if not present, and make sure it's the right size.\"\"\"\n",
    "    if not os.path.exists(filename):\n",
    "        filename, _ = urlretrieve(url + filename, filename)\n",
    "    statinfo = os.stat(filename)\n",
    "    if statinfo.st_size == expected_bytes:\n",
    "        print('Found and verified %s' % filename)\n",
    "    else:\n",
    "        print(statinfo.st_size)\n",
    "        raise Exception(\n",
    "          'Failed to verify ' + filename + '. Can you get to it with a browser?')\n",
    "    return filename\n",
    "\n",
    "filename = maybe_download('mytesttext.txt.zip', 415)   # of course, this file is local\n",
    "filename = maybe_download('text8.zip', 31344016)"
   ]
  },
  {
   "cell_type": "markdown",
   "metadata": {
    "colab_type": "text",
    "id": "Zqz3XiqI4mZT"
   },
   "source": [
    "Read the data into a string."
   ]
  },
  {
   "cell_type": "code",
   "execution_count": 4,
   "metadata": {
    "cellView": "both",
    "colab": {
     "autoexec": {
      "startup": false,
      "wait_interval": 0
     },
     "output_extras": [
      {
       "item_id": 1
      }
     ]
    },
    "colab_type": "code",
    "collapsed": false,
    "executionInfo": {
     "elapsed": 28844,
     "status": "ok",
     "timestamp": 1445964497165,
     "user": {
      "color": "#1FA15D",
      "displayName": "Vincent Vanhoucke",
      "isAnonymous": false,
      "isMe": true,
      "permissionId": "05076109866853157986",
      "photoUrl": "//lh6.googleusercontent.com/-cCJa7dTDcgQ/AAAAAAAAAAI/AAAAAAAACgw/r2EZ_8oYer4/s50-c-k-no/photo.jpg",
      "sessionId": "2f1ffade4c9f20de",
      "userId": "102167687554210253930"
     },
     "user_tz": 420
    },
    "id": "Mvf09fjugFU_",
    "outputId": "e3a928b4-1645-4fe8-be17-fcf47de5716d"
   },
   "outputs": [
    {
     "name": "stdout",
     "output_type": "stream",
     "text": [
      "['text8']\n",
      "Data size 17005207\n"
     ]
    }
   ],
   "source": [
    "def read_data(filename):\n",
    "    f = zipfile.ZipFile(filename)\n",
    "    print f.namelist()\n",
    "    # should be yield here?\n",
    "    for name in f.namelist():\n",
    "        return tf.compat.as_str(f.read(name)).split()\n",
    "    f.close()\n",
    "\n",
    "words = read_data(filename)\n",
    "print('Data size %d' % len(words))"
   ]
  },
  {
   "cell_type": "code",
   "execution_count": 5,
   "metadata": {
    "collapsed": false
   },
   "outputs": [
    {
     "name": "stdout",
     "output_type": "stream",
     "text": [
      "253854\n"
     ]
    }
   ],
   "source": [
    "print len(set(words))"
   ]
  },
  {
   "cell_type": "code",
   "execution_count": 6,
   "metadata": {
    "collapsed": false
   },
   "outputs": [
    {
     "data": {
      "text/plain": [
       "['anarchism',\n",
       " 'originated',\n",
       " 'as',\n",
       " 'a',\n",
       " 'term',\n",
       " 'of',\n",
       " 'abuse',\n",
       " 'first',\n",
       " 'used',\n",
       " 'against']"
      ]
     },
     "execution_count": 6,
     "metadata": {},
     "output_type": "execute_result"
    }
   ],
   "source": [
    "words[:10]"
   ]
  },
  {
   "cell_type": "code",
   "execution_count": 7,
   "metadata": {
    "collapsed": false
   },
   "outputs": [
    {
     "data": {
      "text/plain": [
       "['four',\n",
       " 'two',\n",
       " 'and',\n",
       " 'extensively',\n",
       " 'excavated',\n",
       " 'in',\n",
       " 'one',\n",
       " 'nine',\n",
       " 'six',\n",
       " 'three',\n",
       " 'one',\n",
       " 'nine',\n",
       " 'six',\n",
       " 'five',\n",
       " 'b']"
      ]
     },
     "execution_count": 7,
     "metadata": {},
     "output_type": "execute_result"
    }
   ],
   "source": [
    "words[-15:]"
   ]
  },
  {
   "cell_type": "code",
   "execution_count": 8,
   "metadata": {
    "collapsed": false
   },
   "outputs": [
    {
     "name": "stdout",
     "output_type": "stream",
     "text": [
      "[(0, 5), (1, 3), (2, 2), (3, 1)]\n"
     ]
    }
   ],
   "source": [
    "# make sure collections.Counter does what we expect...\n",
    "testl = [0, 0, 0, 0, 0, 1, 1, 1, 2, 2, 3]\n",
    "print collections.Counter(testl).most_common(len(testl) - 1)"
   ]
  },
  {
   "cell_type": "code",
   "execution_count": 9,
   "metadata": {
    "collapsed": false
   },
   "outputs": [
    {
     "name": "stdout",
     "output_type": "stream",
     "text": [
      "[(0, 5), (1, 3)]\n"
     ]
    }
   ],
   "source": [
    "print collections.Counter(testl).most_common(2)"
   ]
  },
  {
   "cell_type": "markdown",
   "metadata": {
    "colab_type": "text",
    "id": "Zdw6i4F8glpp"
   },
   "source": [
    "Build the dictionary and replace rare words with UNK token."
   ]
  },
  {
   "cell_type": "code",
   "execution_count": 10,
   "metadata": {
    "cellView": "both",
    "colab": {
     "autoexec": {
      "startup": false,
      "wait_interval": 0
     },
     "output_extras": [
      {
       "item_id": 1
      }
     ]
    },
    "colab_type": "code",
    "collapsed": false,
    "executionInfo": {
     "elapsed": 28849,
     "status": "ok",
     "timestamp": 1445964497178,
     "user": {
      "color": "#1FA15D",
      "displayName": "Vincent Vanhoucke",
      "isAnonymous": false,
      "isMe": true,
      "permissionId": "05076109866853157986",
      "photoUrl": "//lh6.googleusercontent.com/-cCJa7dTDcgQ/AAAAAAAAAAI/AAAAAAAACgw/r2EZ_8oYer4/s50-c-k-no/photo.jpg",
      "sessionId": "2f1ffade4c9f20de",
      "userId": "102167687554210253930"
     },
     "user_tz": 420
    },
    "id": "gAL1EECXeZsD",
    "outputId": "3fb4ecd1-df67-44b6-a2dc-2291730970b2"
   },
   "outputs": [
    {
     "name": "stdout",
     "output_type": "stream",
     "text": [
      "('Most common words (+UNK)', [['UNK', 418391], ('the', 1061396), ('of', 593677), ('and', 416629), ('one', 411764)])\n",
      "('Sample data', [5239, 3084, 12, 6, 195, 2, 3137, 46, 59, 156])\n"
     ]
    }
   ],
   "source": [
    "vocabulary_size = 50000\n",
    "\n",
    "def build_dataset(words):\n",
    "    count = [['UNK', -1]]\n",
    "    count.extend(collections.Counter(words).most_common(vocabulary_size - 1))\n",
    "    dictionary = dict()\n",
    "    for word, _ in count:\n",
    "        dictionary[word] = len(dictionary)  # where the word showed in the collection sorted by most common\n",
    "    data = list()\n",
    "    unk_count = 0\n",
    "    for word in words:\n",
    "        if word in dictionary:\n",
    "            index = dictionary[word]\n",
    "        else:\n",
    "            index = 0  # dictionary['UNK']\n",
    "            unk_count = unk_count + 1\n",
    "        data.append(index)\n",
    "    \n",
    "    count[0][1] = unk_count\n",
    "    reverse_dictionary = dict(zip(dictionary.values(), dictionary.keys())) \n",
    "    return data, count, dictionary, reverse_dictionary\n",
    "\n",
    "data, count, dictionary, reverse_dictionary = build_dataset(words)\n",
    "print('Most common words (+UNK)', count[:5])\n",
    "print('Sample data', data[:10])\n",
    "del words  # Hint to reduce memory."
   ]
  },
  {
   "cell_type": "code",
   "execution_count": 11,
   "metadata": {
    "collapsed": false
   },
   "outputs": [
    {
     "name": "stdout",
     "output_type": "stream",
     "text": [
      "1\n",
      "('dict sample keys  :', ['fawn', 'homomorphism', 'nordisk', 'nunnery', 'chthonic', 'sowell', 'sonja', 'showa', 'woods', 'hsv'])\n",
      "('dict sample values:', [45848, 9648, 39343, 36075, 33554, 40562, 38175, 32906, 6263, 44222])\n"
     ]
    }
   ],
   "source": [
    "print dictionary['the']\n",
    "print('dict sample keys  :', dictionary.keys()[:10])\n",
    "print('dict sample values:', dictionary.values()[:10])"
   ]
  },
  {
   "cell_type": "code",
   "execution_count": 12,
   "metadata": {
    "collapsed": false
   },
   "outputs": [
    {
     "name": "stdout",
     "output_type": "stream",
     "text": [
      "('sorted dict sample keys  :', ['UNK', 'a', 'aa', 'aaa', 'aaas', 'aac', 'aachen', 'aafc', 'aai', 'aalborg'])\n"
     ]
    }
   ],
   "source": [
    "print('sorted dict sample keys  :', sorted(dictionary.keys())[:10])"
   ]
  },
  {
   "cell_type": "code",
   "execution_count": 13,
   "metadata": {
    "collapsed": false
   },
   "outputs": [
    {
     "name": "stdout",
     "output_type": "stream",
     "text": [
      "('sorted dict sample vals  :', [0, 1, 2, 3, 4, 5, 6, 7, 8, 9])\n"
     ]
    }
   ],
   "source": [
    "print('sorted dict sample vals  :', sorted(dictionary.values())[:10])"
   ]
  },
  {
   "cell_type": "code",
   "execution_count": 14,
   "metadata": {
    "collapsed": false
   },
   "outputs": [
    {
     "name": "stdout",
     "output_type": "stream",
     "text": [
      "('dict sample keys (at end)  :', ['hausdorff', 'medications', 'geysers', 'upholds', 'gan', 'rotting', 'pods', 'emery', 'northerly', 'expands'])\n",
      "('dict sample values (at end):', [7269, 11173, 17729, 41993, 14335, 26447, 23281, 40177, 23637, 14497])\n"
     ]
    }
   ],
   "source": [
    "print('dict sample keys (at end)  :', dictionary.keys()[-10:])\n",
    "print('dict sample values (at end):', dictionary.values()[-10:])"
   ]
  },
  {
   "cell_type": "code",
   "execution_count": 15,
   "metadata": {
    "collapsed": false
   },
   "outputs": [
    {
     "name": "stdout",
     "output_type": "stream",
     "text": [
      "('rev dict sample keys  :', [0, 1, 2, 3, 4, 5, 6, 7, 8, 9, 10, 11, 12, 13, 14, 15, 16, 17, 18, 19])\n",
      "('rev dict sample values:', ['UNK', 'the', 'of', 'and', 'one', 'in', 'a', 'to', 'zero', 'nine', 'two', 'is', 'as', 'eight', 'for', 's', 'five', 'three', 'was', 'by'])\n"
     ]
    }
   ],
   "source": [
    "print('rev dict sample keys  :', reverse_dictionary.keys()[:20])\n",
    "print('rev dict sample values:', reverse_dictionary.values()[:20])"
   ]
  },
  {
   "cell_type": "code",
   "execution_count": 16,
   "metadata": {
    "collapsed": false
   },
   "outputs": [
    {
     "name": "stdout",
     "output_type": "stream",
     "text": [
      "('rev dict sample keys  :', [49980, 49981, 49982, 49983, 49984, 49985, 49986, 49987, 49988, 49989, 49990, 49991, 49992, 49993, 49994, 49995, 49996, 49997, 49998, 49999])\n"
     ]
    }
   ],
   "source": [
    "print('rev dict sample keys  :', reverse_dictionary.keys()[-20:])"
   ]
  },
  {
   "cell_type": "code",
   "execution_count": 17,
   "metadata": {
    "collapsed": false
   },
   "outputs": [
    {
     "name": "stdout",
     "output_type": "stream",
     "text": [
      "('Most common words (+UNK)', [['UNK', 418391], ('the', 1061396), ('of', 593677), ('and', 416629), ('one', 411764), ('in', 372201), ('a', 325873), ('to', 316376), ('zero', 264975), ('nine', 250430), ('two', 192644), ('is', 183153), ('as', 131815), ('eight', 125285), ('for', 118445), ('s', 116710), ('five', 115789), ('three', 114775), ('was', 112807), ('by', 111831)])\n"
     ]
    }
   ],
   "source": [
    "print('Most common words (+UNK)', count[:20])"
   ]
  },
  {
   "cell_type": "code",
   "execution_count": 18,
   "metadata": {
    "collapsed": false
   },
   "outputs": [
    {
     "name": "stdout",
     "output_type": "stream",
     "text": [
      "00005239, anarchism\n",
      "00003084, originated\n",
      "00000012, as\n",
      "00000006, a\n",
      "00000195, term\n",
      "00000002, of\n",
      "00003137, abuse\n",
      "00000046, first\n",
      "00000059, used\n",
      "00000156, against\n"
     ]
    }
   ],
   "source": [
    "for d in data[:10]:\n",
    "    print '{:08d}, {}'.format(d, reverse_dictionary[d])"
   ]
  },
  {
   "cell_type": "markdown",
   "metadata": {},
   "source": [
    "Interesting that `reversed_dictionary` has stayed in order here... don't think we can count on that..."
   ]
  },
  {
   "cell_type": "markdown",
   "metadata": {
    "colab_type": "text",
    "id": "lFwoyygOmWsL"
   },
   "source": [
    "Function to generate a training batch for the skip-gram model."
   ]
  },
  {
   "cell_type": "code",
   "execution_count": 19,
   "metadata": {
    "cellView": "both",
    "colab": {
     "autoexec": {
      "startup": false,
      "wait_interval": 0
     },
     "output_extras": [
      {
       "item_id": 1
      }
     ]
    },
    "colab_type": "code",
    "collapsed": false,
    "executionInfo": {
     "elapsed": 113,
     "status": "ok",
     "timestamp": 1445964901989,
     "user": {
      "color": "#1FA15D",
      "displayName": "Vincent Vanhoucke",
      "isAnonymous": false,
      "isMe": true,
      "permissionId": "05076109866853157986",
      "photoUrl": "//lh6.googleusercontent.com/-cCJa7dTDcgQ/AAAAAAAAAAI/AAAAAAAACgw/r2EZ_8oYer4/s50-c-k-no/photo.jpg",
      "sessionId": "2f1ffade4c9f20de",
      "userId": "102167687554210253930"
     },
     "user_tz": 420
    },
    "id": "w9APjA-zmfjV",
    "outputId": "67cccb02-cdaf-4e47-d489-43bcc8d57bb8"
   },
   "outputs": [
    {
     "name": "stdout",
     "output_type": "stream",
     "text": [
      "('data:', ['anarchism', 'originated', 'as', 'a', 'term', 'of', 'abuse', 'first'])\n",
      "\n",
      "with num_skips = 2 and skip_window = 1:\n",
      "('    batch:', ['originated', 'originated', 'as', 'as', 'a', 'a', 'term', 'term'])\n",
      "('    labels:', ['as', 'anarchism', 'originated', 'a', 'term', 'as', 'of', 'a'])\n",
      "\n",
      "with num_skips = 4 and skip_window = 2:\n",
      "('    batch:', ['as', 'as', 'as', 'as', 'a', 'a', 'a', 'a'])\n",
      "('    labels:', ['a', 'term', 'originated', 'anarchism', 'term', 'originated', 'as', 'of'])\n"
     ]
    }
   ],
   "source": [
    "data_index = 0\n",
    "\n",
    "def generate_batch(batch_size, num_skips, skip_window):\n",
    "    \"\"\"\n",
    "    basically, loop through the data taking a window of size `skip_window`\n",
    "    to each side of each word and making all those words entries in a \n",
    "    `labels` vector corresponding (each of them) to the center value of\n",
    "    the total window. that center value goes in the batch vector, `num_skips`\n",
    "    times. `num_skips` is counting the number of repetitions of the center\n",
    "    word, and if it is less than twice the `skip_window`, not all the  words\n",
    "    from the surrounding context will be used when filling the labels vector\n",
    "    \"\"\"\n",
    "    # let's keep track of where we are in the data\n",
    "    global data_index\n",
    "    # the batch size must be evenly divisible by the number of skips\n",
    "    assert batch_size % num_skips == 0\n",
    "    assert num_skips <= 2 * skip_window\n",
    "    batch = np.ndarray(shape=(batch_size), dtype=np.int32)\n",
    "    labels = np.ndarray(shape=(batch_size, 1), dtype=np.int32)\n",
    "    # how much data do we traverse per skip?\n",
    "    span = 2 * skip_window + 1 # [ skip_window target skip_window ]\n",
    "    # hold the data for the minibatch\n",
    "    buffer = collections.deque(maxlen=span)\n",
    "    # fill the buffer with the next `span` words of data\n",
    "    for _ in range(span):\n",
    "        buffer.append(data[data_index])\n",
    "        data_index = (data_index + 1) % len(data)\n",
    "    for i in range(batch_size // num_skips):\n",
    "        target = skip_window  # target label at the center of the buffer\n",
    "        targets_to_avoid = [ skip_window ]\n",
    "        # this looks wonky, but we're picking words randomly from \n",
    "        # the group of words in the 'window' around the target - we\n",
    "        # might use parameters such that we don't just use all of\n",
    "        # them, so this is why we are picking randomly and trying to\n",
    "        # avoid picking the same word twice (by index), etc.\n",
    "        for j in range(num_skips):\n",
    "            # find a target that isn't in our \"avoid\" list\n",
    "            while target in targets_to_avoid:\n",
    "                target = random.randint(0, span - 1)\n",
    "            # put the selected target in our list to avoid\n",
    "            targets_to_avoid.append(target)\n",
    "            batch[i * num_skips + j] = buffer[skip_window]\n",
    "            labels[i * num_skips + j, 0] = buffer[target]\n",
    "        buffer.append(data[data_index])\n",
    "        data_index = (data_index + 1) % len(data)\n",
    "    return batch, labels\n",
    "\n",
    "batch_size = 8\n",
    "print('data:', [reverse_dictionary[di] for di in data[:batch_size]])\n",
    "for num_skips, skip_window in [(2, 1), (4, 2)]:\n",
    "    data_index = 0\n",
    "    batch, labels = generate_batch(batch_size=batch_size, num_skips=num_skips, skip_window=skip_window)\n",
    "    print('\\nwith num_skips = %d and skip_window = %d:' % (num_skips, skip_window))\n",
    "    print('    batch:', [reverse_dictionary[bi] for bi in batch])\n",
    "    print('    labels:', [reverse_dictionary[li] for li in labels.reshape(batch_size)])"
   ]
  },
  {
   "cell_type": "code",
   "execution_count": 20,
   "metadata": {
    "collapsed": false
   },
   "outputs": [
    {
     "name": "stdout",
     "output_type": "stream",
     "text": [
      "('data:', ['anarchism', 'originated', 'as', 'a', 'term', 'of', 'abuse', 'first', 'used', 'against', 'early', 'working'])\n",
      "\n",
      "with num_skips = 2 and skip_window = 1:\n",
      "('    batch:', ['originated', 'originated', 'as', 'as', 'a', 'a', 'term', 'term', 'of', 'of', 'abuse', 'abuse'])\n",
      "('    labels:', ['as', 'anarchism', 'a', 'originated', 'as', 'term', 'a', 'of', 'abuse', 'term', 'of', 'first'])\n",
      "\n",
      "with num_skips = 4 and skip_window = 2:\n",
      "('    batch:', ['as', 'as', 'as', 'as', 'a', 'a', 'a', 'a', 'term', 'term', 'term', 'term'])\n",
      "('    labels:', ['originated', 'term', 'anarchism', 'a', 'as', 'of', 'originated', 'term', 'of', 'as', 'abuse', 'a'])\n"
     ]
    }
   ],
   "source": [
    "batch_size = 12\n",
    "print('data:', [reverse_dictionary[di] for di in data[:batch_size]])\n",
    "for num_skips, skip_window in [(2, 1), (4, 2)]:\n",
    "    data_index = 0\n",
    "    batch, labels = generate_batch(batch_size=batch_size, num_skips=num_skips, skip_window=skip_window)\n",
    "    print('\\nwith num_skips = %d and skip_window = %d:' % (num_skips, skip_window))\n",
    "    print('    batch:', [reverse_dictionary[bi] for bi in batch])\n",
    "    print('    labels:', [reverse_dictionary[li] for li in labels.reshape(batch_size)])"
   ]
  },
  {
   "cell_type": "code",
   "execution_count": 21,
   "metadata": {
    "collapsed": false
   },
   "outputs": [
    {
     "name": "stdout",
     "output_type": "stream",
     "text": [
      "('data:', ['anarchism', 'originated', 'as', 'a', 'term', 'of', 'abuse', 'first', 'used', 'against', 'early', 'working', 'class', 'radicals', 'including', 'the'])\n",
      "\n",
      "with num_skips = 2 and skip_window = 1:\n",
      "('    batch:', ['originated', 'originated', 'as', 'as', 'a', 'a', 'term', 'term', 'of', 'of', 'abuse', 'abuse', 'first', 'first', 'used', 'used'])\n",
      "('    labels:', ['as', 'anarchism', 'originated', 'a', 'term', 'as', 'of', 'a', 'abuse', 'term', 'of', 'first', 'used', 'abuse', 'first', 'against'])\n",
      "\n",
      "with num_skips = 4 and skip_window = 3:\n",
      "('    batch:', ['a', 'a', 'a', 'a', 'term', 'term', 'term', 'term', 'of', 'of', 'of', 'of', 'abuse', 'abuse', 'abuse', 'abuse'])\n",
      "('    labels:', ['originated', 'abuse', 'of', 'term', 'of', 'abuse', 'as', 'a', 'a', 'used', 'as', 'first', 'used', 'first', 'against', 'term'])\n"
     ]
    }
   ],
   "source": [
    "batch_size = 16\n",
    "print('data:', [reverse_dictionary[di] for di in data[:batch_size]])\n",
    "for num_skips, skip_window in [(2, 1), (4, 3)]:\n",
    "    data_index = 0\n",
    "    batch, labels = generate_batch(batch_size=batch_size, num_skips=num_skips, skip_window=skip_window)\n",
    "    print('\\nwith num_skips = %d and skip_window = %d:' % (num_skips, skip_window))\n",
    "    print('    batch:', [reverse_dictionary[bi] for bi in batch])\n",
    "    print('    labels:', [reverse_dictionary[li] for li in labels.reshape(batch_size)])"
   ]
  },
  {
   "cell_type": "code",
   "execution_count": 22,
   "metadata": {
    "collapsed": false
   },
   "outputs": [
    {
     "name": "stdout",
     "output_type": "stream",
     "text": [
      "('data:', ['anarchism', 'originated', 'as', 'a', 'term', 'of', 'abuse', 'first'])\n",
      "\n",
      "with num_skips = 2 and skip_window = 1:\n",
      "('    batch:', ['originated', 'originated', 'as', 'as', 'a', 'a', 'term', 'term'])\n",
      "('    labels:', ['as', 'anarchism', 'originated', 'a', 'term', 'as', 'a', 'of'])\n",
      "\n",
      "with num_skips = 4 and skip_window = 2:\n",
      "('    batch:', ['as', 'as', 'as', 'as', 'a', 'a', 'a', 'a'])\n",
      "('    labels:', ['a', 'anarchism', 'term', 'originated', 'as', 'originated', 'term', 'of'])\n"
     ]
    }
   ],
   "source": [
    "batch_size = 8\n",
    "print('data:', [reverse_dictionary[di] for di in data[:batch_size]])\n",
    "for num_skips, skip_window in [(2, 1), (4, 2)]:\n",
    "    data_index = 0\n",
    "    batch, labels = generate_batch(batch_size=batch_size, num_skips=num_skips, skip_window=skip_window)\n",
    "    print('\\nwith num_skips = %d and skip_window = %d:' % (num_skips, skip_window))\n",
    "    print('    batch:', [reverse_dictionary[bi] for bi in batch])\n",
    "    print('    labels:', [reverse_dictionary[li] for li in labels.reshape(batch_size)])"
   ]
  },
  {
   "cell_type": "markdown",
   "metadata": {
    "colab_type": "text",
    "id": "Ofd1MbBuwiva"
   },
   "source": [
    "Train a skip-gram model."
   ]
  },
  {
   "cell_type": "code",
   "execution_count": 23,
   "metadata": {
    "collapsed": true
   },
   "outputs": [],
   "source": [
    "data_index = 0"
   ]
  },
  {
   "cell_type": "code",
   "execution_count": 24,
   "metadata": {
    "collapsed": false
   },
   "outputs": [
    {
     "data": {
      "text/plain": [
       "<tensorflow.python.framework.ops.Tensor at 0x7fac1d5334d0>"
      ]
     },
     "execution_count": 24,
     "metadata": {},
     "output_type": "execute_result"
    }
   ],
   "source": [
    "tf.random_uniform([2, 3])"
   ]
  },
  {
   "cell_type": "code",
   "execution_count": 25,
   "metadata": {
    "cellView": "both",
    "colab": {
     "autoexec": {
      "startup": false,
      "wait_interval": 0
     }
    },
    "colab_type": "code",
    "collapsed": true,
    "id": "8pQKsV4Vwlzy"
   },
   "outputs": [],
   "source": [
    "batch_size = 128\n",
    "embedding_size = 128 # Dimension of the embedding vector.\n",
    "skip_window = 1      # How many words to consider left and right.\n",
    "num_skips = 2        # How many times to reuse an input to generate a label.\n",
    "\n",
    "# We pick a random validation set to sample nearest neighbors. here we limit the\n",
    "# validation samples to the words that have a low numeric ID, which by\n",
    "# construction are also the most frequent. \n",
    "valid_size = 16    # Random set of words to evaluate similarity on.\n",
    "valid_window = 100 # Only pick dev samples in the head of the distribution.\n",
    "valid_examples = np.array(random.sample(range(valid_window), valid_size))\n",
    "num_sampled = 64   # Number of negative examples to sample.\n",
    "\n",
    "graph = tf.Graph()\n",
    "\n",
    "with graph.as_default():\n",
    "\n",
    "    # Input data.\n",
    "    train_dataset = tf.placeholder(tf.int32, shape=[batch_size])\n",
    "    train_labels = tf.placeholder(tf.int32, shape=[batch_size, 1])\n",
    "    valid_dataset = tf.constant(valid_examples, dtype=tf.int32)\n",
    "  \n",
    "    # Variables - aren't we supposed to have two weight matrices? - here, the embeddings are our weight matrix\n",
    "    # connecting us to a hidden layer, and the softmax weights (and biases) are connecting us to the output \n",
    "    # so this is like: (vocab, emb) dot (emb, vocab).T\n",
    "    embeddings = tf.Variable(tf.random_uniform([vocabulary_size, embedding_size], -1.0, 1.0))\n",
    "    softmax_weights = tf.Variable(tf.truncated_normal([vocabulary_size, embedding_size], \n",
    "                                                      stddev=1.0 / math.sqrt(embedding_size)))\n",
    "    softmax_biases = tf.Variable(tf.zeros([vocabulary_size]))\n",
    "  \n",
    "    # Model.\n",
    "    # Look up embeddings for inputs. return tensor has shape: shape(train_dataset) + shape(embeddings)[1:],\n",
    "    # so (batch, vocab-1, embed_sz) ? Here we look up ids=`train_dataset` in a list of embedding tensors\n",
    "    # (=`params`) \n",
    "    embed = tf.nn.embedding_lookup(embeddings, train_dataset)\n",
    "    # Compute the softmax loss, using a sample of the negative labels each time.\n",
    "    loss = tf.reduce_mean(tf.nn.sampled_softmax_loss(softmax_weights, \n",
    "                                                     softmax_biases, \n",
    "                                                     embed, \n",
    "                                                     train_labels, \n",
    "                                                     num_sampled, \n",
    "                                                     vocabulary_size))\n",
    "\n",
    "    # Optimizer.\n",
    "    optimizer = tf.train.AdagradOptimizer(1.0).minimize(loss)\n",
    "  \n",
    "    # Compute the similarity between minibatch examples and all embeddings.\n",
    "    # We use the cosine distance:\n",
    "    norm = tf.sqrt(tf.reduce_sum(tf.square(embeddings), 1, keep_dims=True))\n",
    "    normalized_embeddings = embeddings / norm\n",
    "    valid_embeddings = tf.nn.embedding_lookup(normalized_embeddings, valid_dataset)\n",
    "    similarity = tf.matmul(valid_embeddings, tf.transpose(normalized_embeddings))"
   ]
  },
  {
   "cell_type": "code",
   "execution_count": 26,
   "metadata": {
    "cellView": "both",
    "colab": {
     "autoexec": {
      "startup": false,
      "wait_interval": 0
     },
     "output_extras": [
      {
       "item_id": 23
      },
      {
       "item_id": 48
      },
      {
       "item_id": 61
      }
     ]
    },
    "colab_type": "code",
    "collapsed": false,
    "executionInfo": {
     "elapsed": 436189,
     "status": "ok",
     "timestamp": 1445965429787,
     "user": {
      "color": "#1FA15D",
      "displayName": "Vincent Vanhoucke",
      "isAnonymous": false,
      "isMe": true,
      "permissionId": "05076109866853157986",
      "photoUrl": "//lh6.googleusercontent.com/-cCJa7dTDcgQ/AAAAAAAAAAI/AAAAAAAACgw/r2EZ_8oYer4/s50-c-k-no/photo.jpg",
      "sessionId": "2f1ffade4c9f20de",
      "userId": "102167687554210253930"
     },
     "user_tz": 420
    },
    "id": "1bQFGceBxrWW",
    "outputId": "5ebd6d9a-33c6-4bcd-bf6d-252b0b6055e4"
   },
   "outputs": [
    {
     "name": "stdout",
     "output_type": "stream",
     "text": [
      "Initialized\n",
      "Average loss at step 0: 8.099188\n",
      "Nearest to years: help, actual, zulu, gogo, bogdanovich, columbian, coalitions, coaching,\n",
      "Nearest to time: thoracic, valves, grantley, exceptional, statistician, snowy, seifert, shortages,\n",
      "Nearest to than: grbac, inspiring, campo, variety, zona, charity, norm, analgesics,\n",
      "Nearest to people: marks, immunosuppression, nimitz, osmotic, caldera, caretaker, mistakenly, factsheet,\n",
      "Nearest to three: eudoxus, trinitarians, trackless, slipper, conversant, raid, ante, gibberish,\n",
      "Nearest to its: pronouncements, linnaean, senna, cost, motorcyclist, flamenco, anac, depends,\n",
      "Nearest to a: aileen, lagos, peuple, leftists, fastened, top, renounced, lagenorhynchus,\n",
      "Nearest to but: kaspar, grammar, themes, lawgiver, cars, celeste, plectrum, enchantment,\n",
      "Nearest to been: pseudorandom, dependence, eratosthenes, chickasaw, pong, caches, distress, rebuttal,\n",
      "Nearest to will: clerics, mortal, jurassic, scratched, pyrotechnics, wormwood, spamalot, ung,\n",
      "Nearest to war: waldheim, departures, sportswriter, oprah, authorised, progressivism, amigas, cutoff,\n",
      "Nearest to from: blaxploitation, trough, buttons, gamut, bonnet, colloidal, suva, puget,\n",
      "Nearest to two: agra, adas, deconvolution, aeolus, rounded, baha, awacs, tetrahedron,\n",
      "Nearest to was: nazionale, fishers, turbocharged, zapatistas, disoriented, utopia, prevailing, pessimism,\n",
      "Nearest to most: emery, colloquialism, abruzzo, assessment, mechon, inflows, flavia, alkyne,\n",
      "Nearest to up: shem, golden, wilburys, olof, karma, taxation, nepal, luna,\n",
      "Average loss at step 2000: 4.360052\n",
      "Average loss at step 4000: 3.858886\n",
      "Average loss at step 6000: 3.787287\n",
      "Average loss at step 8000: 3.685405\n",
      "Average loss at step 10000: 3.616954\n",
      "Nearest to years: months, unveils, glamour, help, bogdanovich, backslash, vojvodina, speaks,\n",
      "Nearest to time: cosets, trans, shortages, exceptional, thoracic, decimated, grantley, coastal,\n",
      "Nearest to than: grbac, charity, hussites, kidd, houdini, flatulence, hevelius, analgesics,\n",
      "Nearest to people: marks, bonded, gw, immunosuppression, location, shoals, userland, women,\n",
      "Nearest to three: six, five, seven, four, eight, two, zero, nine,\n",
      "Nearest to its: their, the, his, kappa, asphyxia, replay, picasso, my,\n",
      "Nearest to a: the, this, dso, childs, any, casings, constitutive, tournament,\n",
      "Nearest to but: glowing, unites, there, sahel, bold, combining, subgenus, indoors,\n",
      "Nearest to been: by, be, caches, had, assimilate, bulge, dependence, bisexual,\n",
      "Nearest to will: would, scratched, jurassic, pyrotechnics, mortal, pinscher, establishments, operations,\n",
      "Nearest to war: lennon, hazard, waldheim, amigas, departures, forfeited, selena, engler,\n",
      "Nearest to from: into, suva, succumbed, buttons, in, regina, advertised, intake,\n",
      "Nearest to two: five, three, four, six, eight, seven, nine, one,\n",
      "Nearest to was: is, were, had, has, by, became, be, concerts,\n",
      "Nearest to most: emery, flavia, detective, colloquialism, inflows, temps, culturally, veal,\n",
      "Nearest to up: nepal, karma, olof, aspirin, dressage, librivox, lynch, christy,\n",
      "Average loss at step 12000: 3.605666\n",
      "Average loss at step 14000: 3.571787\n",
      "Average loss at step 16000: 3.409211\n",
      "Average loss at step 18000: 3.457558\n",
      "Average loss at step 20000: 3.537696\n",
      "Nearest to years: months, glamour, bce, skyrocketed, vojvodina, unveils, integrase, alphege,\n",
      "Nearest to time: cosets, cellists, trans, stricter, anthropologists, ignatius, jamil, forest,\n",
      "Nearest to than: or, hevelius, houdini, flatulence, marxism, charity, calder, grbac,\n",
      "Nearest to people: women, marks, gw, grit, bonded, geniuses, userland, shoals,\n",
      "Nearest to three: four, six, two, five, seven, eight, one, zero,\n",
      "Nearest to its: their, his, the, many, some, kappa, her, buried,\n",
      "Nearest to a: this, the, dso, any, tournament, disappeared, casings, pinpoint,\n",
      "Nearest to but: however, and, if, that, garibaldi, which, is, are,\n",
      "Nearest to been: be, by, become, intransitive, being, was, had, caches,\n",
      "Nearest to will: would, can, may, must, could, scratched, should, mortal,\n",
      "Nearest to war: amigas, lennon, tendon, byzantine, bovine, hazard, vols, clodius,\n",
      "Nearest to from: succumbed, after, into, in, and, towards, reintegrated, rumsfeld,\n",
      "Nearest to two: three, four, five, one, six, eight, seven, zero,\n",
      "Nearest to was: is, were, had, has, became, be, are, by,\n",
      "Nearest to most: some, emery, detective, both, flavia, temps, more, use,\n",
      "Nearest to up: nepal, geothermal, karma, matriculation, aspirin, shooting, dressage, olof,\n",
      "Average loss at step 22000: 3.500576\n",
      "Average loss at step 24000: 3.495734\n",
      "Average loss at step 26000: 3.479166\n",
      "Average loss at step 28000: 3.479593\n",
      "Average loss at step 30000: 3.502630\n",
      "Nearest to years: months, times, year, bce, days, skyrocketed, sorbonne, cities,\n",
      "Nearest to time: anconia, lagrangian, anthropologists, cosets, handfasting, ignatius, nemesis, coastal,\n",
      "Nearest to than: flatulence, calder, or, hammered, houdini, governorate, hevelius, contraindicated,\n",
      "Nearest to people: women, gw, grit, men, members, longbow, colleges, shoals,\n",
      "Nearest to three: four, five, two, seven, eight, six, nine, zero,\n",
      "Nearest to its: their, his, the, her, tajikistan, buried, csce, my,\n",
      "Nearest to a: any, neglected, the, wingless, every, sealand, disappeared, childs,\n",
      "Nearest to but: however, and, while, if, that, which, could, he,\n",
      "Nearest to been: be, become, was, by, had, were, intransitive, being,\n",
      "Nearest to will: would, can, may, must, could, should, to, might,\n",
      "Nearest to war: byzantine, vols, bovine, arab, hazard, conspiratorial, codename, amigas,\n",
      "Nearest to from: into, on, succumbed, in, towards, after, during, rumsfeld,\n",
      "Nearest to two: four, three, one, seven, five, eight, six, nine,\n",
      "Nearest to was: is, were, had, became, has, been, being, when,\n",
      "Nearest to most: emery, detective, more, some, inflows, temps, many, use,\n",
      "Nearest to up: them, him, nepal, aspirin, geothermal, down, karma, activities,\n",
      "Average loss at step 32000: 3.497212\n",
      "Average loss at step 34000: 3.494017\n",
      "Average loss at step 36000: 3.458332\n",
      "Average loss at step 38000: 3.298669\n",
      "Average loss at step 40000: 3.430199\n",
      "Nearest to years: months, days, year, centuries, bce, times, rubinstein, skyrocketed,\n",
      "Nearest to time: way, year, eccentricity, ksr, whatever, epicurus, period, determines,\n",
      "Nearest to than: or, no, much, hammered, flatulence, slightly, antecedent, painfully,\n",
      "Nearest to people: women, men, members, those, gw, geniuses, purport, akademia,\n",
      "Nearest to three: four, five, seven, six, two, eight, nine, zero,\n",
      "Nearest to its: their, his, her, the, my, carcinogen, tajikistan, fgc,\n",
      "Nearest to a: the, shuster, any, another, subtrees, or, printout, dso,\n",
      "Nearest to but: however, and, although, because, while, it, which, are,\n",
      "Nearest to been: become, be, was, had, being, were, already, intransitive,\n",
      "Nearest to will: can, would, may, must, could, should, might, cannot,\n",
      "Nearest to war: transporter, syrians, departures, selena, amigas, lively, forfeited, baha,\n",
      "Nearest to from: into, succumbed, in, scandal, solaris, nimitz, psilocybin, towards,\n",
      "Nearest to two: four, five, three, seven, six, one, eight, nine,\n",
      "Nearest to was: is, were, became, has, had, been, being, when,\n",
      "Nearest to most: more, emery, detective, afro, inflows, temps, many, mizrahi,\n",
      "Nearest to up: them, him, down, out, dressage, karma, nepal, comprehend,\n",
      "Average loss at step 42000: 3.438391\n",
      "Average loss at step 44000: 3.458711\n",
      "Average loss at step 46000: 3.452948\n",
      "Average loss at step 48000: 3.355060\n",
      "Average loss at step 50000: 3.384765\n",
      "Nearest to years: months, days, times, year, centuries, bce, miles, rubinstein,\n",
      "Nearest to time: year, way, period, operands, eccentricity, degree, whatever, step,\n",
      "Nearest to than: or, slightly, much, flatulence, rondo, antecedent, governorate, hammered,\n",
      "Nearest to people: men, women, gw, describe, members, balls, bonded, fiennes,\n",
      "Nearest to three: six, four, seven, eight, two, nine, five, zero,\n",
      "Nearest to its: their, his, the, her, tajikistan, my, continued, titration,\n",
      "Nearest to a: another, any, neglected, dso, childs, relatively, sealand, the,\n",
      "Nearest to but: however, while, although, since, and, when, which, where,\n",
      "Nearest to been: become, be, had, were, was, being, already, bulge,\n",
      "Nearest to will: would, can, could, may, must, should, might, cannot,\n",
      "Nearest to war: transporter, arab, amigas, syrians, conspiratorial, departures, wettest, tendon,\n",
      "Nearest to from: into, after, towards, in, through, during, regina, scandal,\n",
      "Nearest to two: three, six, one, four, seven, eight, five, zero,\n",
      "Nearest to was: is, has, were, had, became, being, by, be,\n",
      "Nearest to most: more, many, detective, emery, some, mizrahi, temps, afro,\n",
      "Nearest to up: down, them, off, out, him, dressage, comprehend, guardians,\n",
      "Average loss at step 52000: 3.431957\n",
      "Average loss at step 54000: 3.424372\n",
      "Average loss at step 56000: 3.438520\n",
      "Average loss at step 58000: 3.396364\n",
      "Average loss at step 60000: 3.390710\n",
      "Nearest to years: months, days, times, year, centuries, miles, bce, decades,\n",
      "Nearest to time: way, period, year, place, step, moment, stadtbahn, eccentricity,\n",
      "Nearest to than: flatulence, or, but, much, slightly, boece, defending, antecedent,\n",
      "Nearest to people: women, men, gw, americans, members, those, purport, describe,\n",
      "Nearest to three: five, four, eight, six, seven, two, nine, one,\n",
      "Nearest to its: their, his, her, the, tajikistan, my, matrimony, modena,\n",
      "Nearest to a: any, the, another, every, yoshitaka, disappeared, pinpoint, shuster,\n",
      "Nearest to but: however, and, although, while, since, than, nonfiction, see,\n",
      "Nearest to been: become, be, had, was, were, newly, survived, combo,\n",
      "Nearest to will: would, could, can, may, must, should, might, cannot,\n",
      "Nearest to war: arab, syrians, nuances, departures, transporter, amigas, diu, baha,\n",
      "Nearest to from: into, through, in, succumbed, psilocybin, scandal, after, towards,\n",
      "Nearest to two: three, four, six, one, seven, five, eight, zero,\n",
      "Nearest to was: is, became, had, were, has, be, been, although,\n",
      "Nearest to most: many, more, some, use, detective, afro, emery, especially,\n",
      "Nearest to up: down, them, off, out, him, dressage, comprehend, frustrations,\n",
      "Average loss at step 62000: 3.238427\n",
      "Average loss at step 64000: 3.254108\n",
      "Average loss at step 66000: 3.401361\n",
      "Average loss at step 68000: 3.395207\n",
      "Average loss at step 70000: 3.361533\n",
      "Nearest to years: months, days, times, year, centuries, miles, bce, decades,\n",
      "Nearest to time: place, way, period, text, whatever, century, moment, fiberglass,\n",
      "Nearest to than: or, but, while, slightly, much, no, governorate, hammered,\n",
      "Nearest to people: women, men, gw, americans, members, countries, purport, scholars,\n",
      "Nearest to three: six, four, five, two, seven, eight, zero, nine,\n",
      "Nearest to its: their, his, the, her, tajikistan, putty, modena, swallows,\n",
      "Nearest to a: the, any, another, shuster, neglected, relatively, disappeared, this,\n",
      "Nearest to but: however, although, and, which, while, that, or, see,\n",
      "Nearest to been: become, be, was, had, were, recently, unrealistic, newly,\n",
      "Nearest to will: would, could, can, may, must, should, might, cannot,\n",
      "Nearest to war: wars, arab, syrians, transporter, nuances, tendon, chimes, departures,\n",
      "Nearest to from: into, through, succumbed, scandal, shropshire, regina, after, nimitz,\n",
      "Nearest to two: three, six, four, five, one, seven, zero, eight,\n",
      "Nearest to was: is, had, has, were, became, been, be, ennio,\n",
      "Nearest to most: more, many, less, some, all, especially, use, detective,\n",
      "Nearest to up: them, down, off, out, him, dressage, frustrations, comprehend,\n",
      "Average loss at step 72000: 3.369438\n",
      "Average loss at step 74000: 3.344810\n",
      "Average loss at step 76000: 3.311974\n",
      "Average loss at step 78000: 3.355950\n",
      "Average loss at step 80000: 3.379667\n",
      "Nearest to years: months, days, times, year, decades, weeks, centuries, miles,\n",
      "Nearest to time: year, place, period, step, way, periods, moment, operands,\n",
      "Nearest to than: or, while, much, and, slightly, but, affreightment, boece,\n",
      "Nearest to people: men, women, members, gw, children, countries, persons, americans,\n",
      "Nearest to three: six, four, five, two, seven, eight, zero, nine,\n",
      "Nearest to its: their, his, her, the, my, tajikistan, ostia, whose,\n",
      "Nearest to a: another, printout, any, every, disappeared, childs, hata, the,\n",
      "Nearest to but: however, although, and, contain, though, asleep, while, lettering,\n",
      "Nearest to been: become, be, recently, newly, was, had, were, already,\n",
      "Nearest to will: would, could, can, may, must, should, might, cannot,\n",
      "Nearest to war: wars, arab, nuances, syrians, ij, departures, chimes, tendon,\n",
      "Nearest to from: into, through, after, during, fluctuates, towards, within, scandal,\n",
      "Nearest to two: three, four, six, five, one, seven, eight, zero,\n",
      "Nearest to was: is, were, became, had, has, being, be, when,\n",
      "Nearest to most: more, many, some, especially, less, mizrahi, detective, all,\n",
      "Nearest to up: down, off, them, out, him, comprehend, dressage, frustrations,\n",
      "Average loss at step 82000: 3.409609\n",
      "Average loss at step 84000: 3.407370\n",
      "Average loss at step 86000: 3.385590\n",
      "Average loss at step 88000: 3.352608\n",
      "Average loss at step 90000: 3.363264\n",
      "Nearest to years: days, months, decades, year, centuries, weeks, times, bce,\n",
      "Nearest to time: place, periods, operands, whatever, year, moment, period, way,\n",
      "Nearest to than: much, or, boece, kermit, no, slightly, amiable, affreightment,\n",
      "Nearest to people: men, women, players, members, persons, children, americans, gw,\n",
      "Nearest to three: two, five, four, six, seven, eight, nine, zero,\n",
      "Nearest to its: their, his, her, the, my, our, putty, whose,\n",
      "Nearest to a: any, another, sealand, disappeared, every, condominiums, gustavo, sitter,\n",
      "Nearest to but: however, although, and, though, while, asleep, until, trier,\n",
      "Nearest to been: become, be, recently, was, already, newly, had, previously,\n",
      "Nearest to will: would, could, can, may, must, should, might, cannot,\n",
      "Nearest to war: wars, arab, ij, baha, syrians, boycotts, tendon, unsuitable,\n",
      "Nearest to from: through, into, towards, during, scandal, before, across, after,\n",
      "Nearest to two: three, five, six, four, seven, one, eight, zero,\n",
      "Nearest to was: is, became, had, were, has, be, been, being,\n",
      "Nearest to most: many, more, some, detective, less, use, especially, mizrahi,\n",
      "Nearest to up: off, down, out, them, him, together, comprehend, back,\n",
      "Average loss at step 92000: 3.394351\n",
      "Average loss at step 94000: 3.250170\n",
      "Average loss at step 96000: 3.358378\n",
      "Average loss at step 98000: 3.237492\n",
      "Average loss at step 100000: 3.359250\n",
      "Nearest to years: months, days, year, decades, times, weeks, centuries, miles,\n",
      "Nearest to time: place, way, periods, whatever, sort, result, eccentricity, step,\n",
      "Nearest to than: or, much, and, slightly, boece, kermit, orb, prone,\n",
      "Nearest to people: men, women, children, players, americans, gw, person, anyone,\n",
      "Nearest to three: four, two, five, six, seven, eight, nine, one,\n",
      "Nearest to its: their, his, her, the, ostia, modena, whose, putty,\n",
      "Nearest to a: another, any, childs, printout, neglected, dso, wingless, granules,\n",
      "Nearest to but: however, although, and, though, while, which, pondering, asleep,\n",
      "Nearest to been: become, be, recently, already, was, newly, by, previously,\n",
      "Nearest to will: would, could, can, must, may, might, should, cannot,\n",
      "Nearest to war: wars, syrians, boycotts, baha, arab, nuances, ij, braganza,\n",
      "Nearest to from: into, through, scandal, towards, shropshire, during, within, in,\n",
      "Nearest to two: three, five, four, six, seven, one, eight, zero,\n",
      "Nearest to was: is, became, were, has, had, been, teri, while,\n",
      "Nearest to most: more, less, especially, use, many, detective, inflows, mizrahi,\n",
      "Nearest to up: out, off, down, them, him, together, back, comprehend,\n"
     ]
    }
   ],
   "source": [
    "num_steps = 100001\n",
    "\n",
    "with tf.Session(graph=graph) as session:\n",
    "    tf.initialize_all_variables().run()\n",
    "    print('Initialized')\n",
    "    average_loss = 0\n",
    "    for step in range(num_steps):\n",
    "        batch_data, batch_labels = generate_batch(batch_size, num_skips, skip_window)\n",
    "        feed_dict = {train_dataset : batch_data, train_labels : batch_labels}\n",
    "        _, l = session.run([optimizer, loss], feed_dict=feed_dict)\n",
    "        average_loss += l\n",
    "        if step % 2000 == 0:\n",
    "            if step > 0:\n",
    "                average_loss = average_loss / 2000\n",
    "            # The average loss is an estimate of the loss over the last 2000 batches.\n",
    "            print('Average loss at step %d: %f' % (step, average_loss))\n",
    "            average_loss = 0\n",
    "        # note that this is expensive (~20% slowdown if computed every 500 steps)\n",
    "        if step % 10000 == 0:\n",
    "            sim = similarity.eval()\n",
    "            for i in xrange(valid_size):\n",
    "                valid_word = reverse_dictionary[valid_examples[i]]\n",
    "                top_k = 8 # number of nearest neighbors\n",
    "                nearest = (-sim[i, :]).argsort()[1:top_k+1]\n",
    "                log = 'Nearest to %s:' % valid_word\n",
    "                for k in xrange(top_k):\n",
    "                    close_word = reverse_dictionary[nearest[k]]\n",
    "                    log = '%s %s,' % (log, close_word)\n",
    "                print(log)\n",
    "    final_embeddings = normalized_embeddings.eval()"
   ]
  },
  {
   "cell_type": "code",
   "execution_count": 27,
   "metadata": {
    "cellView": "both",
    "colab": {
     "autoexec": {
      "startup": false,
      "wait_interval": 0
     }
    },
    "colab_type": "code",
    "collapsed": true,
    "id": "jjJXYA_XzV79"
   },
   "outputs": [],
   "source": [
    "num_points = 400\n",
    "\n",
    "tsne = TSNE(perplexity=30, n_components=2, init='pca', n_iter=5000)\n",
    "two_d_embeddings = tsne.fit_transform(final_embeddings[1:num_points+1, :])"
   ]
  },
  {
   "cell_type": "code",
   "execution_count": 28,
   "metadata": {
    "cellView": "both",
    "colab": {
     "autoexec": {
      "startup": false,
      "wait_interval": 0
     },
     "output_extras": [
      {
       "item_id": 1
      }
     ]
    },
    "colab_type": "code",
    "collapsed": false,
    "executionInfo": {
     "elapsed": 4763,
     "status": "ok",
     "timestamp": 1445965465525,
     "user": {
      "color": "#1FA15D",
      "displayName": "Vincent Vanhoucke",
      "isAnonymous": false,
      "isMe": true,
      "permissionId": "05076109866853157986",
      "photoUrl": "//lh6.googleusercontent.com/-cCJa7dTDcgQ/AAAAAAAAAAI/AAAAAAAACgw/r2EZ_8oYer4/s50-c-k-no/photo.jpg",
      "sessionId": "2f1ffade4c9f20de",
      "userId": "102167687554210253930"
     },
     "user_tz": 420
    },
    "id": "o_e0D_UezcDe",
    "outputId": "df22e4a5-e8ec-4e5e-d384-c6cf37c68c34"
   },
   "outputs": [
    {
     "data": {
      "image/png": "[encoded data removed]",
      "text/plain": [
       "<matplotlib.figure.Figure at 0x7fac1d5337d0>"
      ]
     },
     "metadata": {},
     "output_type": "display_data"
    }
   ],
   "source": [
    "def plot(embeddings, labels):\n",
    "    assert embeddings.shape[0] >= len(labels), 'More labels than embeddings'\n",
    "    pylab.figure(figsize=(15,15))  # in inches\n",
    "    for i, label in enumerate(labels):\n",
    "        x, y = embeddings[i,:]\n",
    "        pylab.scatter(x, y)\n",
    "        pylab.annotate(label, xy=(x, y), xytext=(5, 2), textcoords='offset points',\n",
    "                   ha='right', va='bottom')\n",
    "    pylab.show()\n",
    "\n",
    "words = [reverse_dictionary[i] for i in range(1, num_points+1)]\n",
    "plot(two_d_embeddings, words)"
   ]
  },
  {
   "cell_type": "markdown",
   "metadata": {
    "colab_type": "text",
    "id": "QB5EFrBnpNnc"
   },
   "source": [
    "---\n",
    "\n",
    "Problem\n",
    "-------\n",
    "\n",
    "An alternative to Word2Vec is called [CBOW](http://arxiv.org/abs/1301.3781) (Continuous Bag of Words). In the CBOW model, instead of predicting a context word from a word vector, you predict a word from the sum of all the word vectors in its context. Implement and evaluate a CBOW model trained on the text8 dataset.\n",
    "\n",
    "---"
   ]
  },
  {
   "cell_type": "markdown",
   "metadata": {
    "collapsed": true
   },
   "source": [
    "Some context from the [TensorFlow web page](https://www.tensorflow.org/versions/master/tutorials/word2vec/index.html):\n",
    "\n",
    "\"Word2vec is a particularly computationally-efficient predictive model for learning word embeddings from raw text. It comes in two flavors, the Continuous Bag-of-Words model (CBOW) and the Skip-Gram model. Algorithmically, these models are similar, except that CBOW predicts target words (e.g. 'mat') from source context words ('the cat sits on the'), while the skip-gram does the inverse and predicts source context-words from the target words. This inversion might seem like an arbitrary choice, but statistically it has the effect that CBOW smoothes over a lot of the distributional information (by treating an entire context as one observation). For the most part, this turns out to be a useful thing for smaller datasets. However, skip-gram treats each context-target pair as a new observation, and this tends to do better when we have larger datasets.\""
   ]
  },
  {
   "cell_type": "markdown",
   "metadata": {},
   "source": [
    "There is a nice discussion of CBOW and skip-gram, at a high level, on the [TensorFlow word2vec tutorial page](https://www.tensorflow.org/versions/master/tutorials/word2vec/index.html) refernced above. The key thing to understand about CBOW vs skip-gram is that CBOW is attempting to predict a word from the surrounding context, while skip-gram is attempting to do the opposite - given a target word, it attempts to predict surrounding context."
   ]
  },
  {
   "cell_type": "markdown",
   "metadata": {},
   "source": [
    "Their illustration is nice. Consider:\n",
    "\n",
    "    the quick brown fox jumped over the lazy dog\n",
    "    \n",
    "If we consider a context window that is one word wide, the `([context], target)` pairing CBOW wants to use is:\n",
    "\n",
    "    ([the, brown], quick), ([quick, fox], brown), ([brown, jumped], fox), ([fox, over], jumped), etc.\n",
    "    \n",
    "In fact, what CBOW wants to do (?) is average the words in the context vector. Skip-gram, by contrast, wants to invert this data and use target to predict the context in pairs like `(target, context)`:\n",
    "\n",
    "    (quick, the), (quick, brown), (brown, quick), (brown, fox), (fox, brown), (fox, jumped), (jumped, fox), etc."
   ]
  },
  {
   "cell_type": "code",
   "execution_count": 29,
   "metadata": {
    "collapsed": false
   },
   "outputs": [
    {
     "name": "stdout",
     "output_type": "stream",
     "text": [
      "['the', 'quick', 'brown', 'fox', 'jumped', 'over', 'the', 'lazy', 'dog']\n",
      "9\n"
     ]
    }
   ],
   "source": [
    "rawdata = 'the quick brown fox jumped over the lazy dog'.split()\n",
    "print rawdata\n",
    "print len(rawdata)"
   ]
  },
  {
   "cell_type": "code",
   "execution_count": 30,
   "metadata": {
    "collapsed": false
   },
   "outputs": [
    {
     "name": "stdout",
     "output_type": "stream",
     "text": [
      "1 quick\n",
      "['the', 'quick', 'brown']\n",
      "2 brown\n",
      "['quick', 'brown', 'fox']\n",
      "3 fox\n",
      "['brown', 'fox', 'jumped']\n",
      "4 jumped\n",
      "['fox', 'jumped', 'over']\n",
      "5 over\n",
      "['jumped', 'over', 'the']\n",
      "6 the\n",
      "['over', 'the', 'lazy']\n",
      "7 lazy\n",
      "['the', 'lazy', 'dog']\n",
      "[(['the', 'brown'], 'quick'), (['quick', 'fox'], 'brown'), (['brown', 'jumped'], 'fox'), (['fox', 'over'], 'jumped'), (['jumped', 'the'], 'over'), (['over', 'lazy'], 'the'), (['the', 'dog'], 'lazy')]\n"
     ]
    }
   ],
   "source": [
    "window_wing = 1\n",
    "window_size = 2 * window_wing + 1\n",
    "window_center_idx = window_size // 2\n",
    "first_idx = window_center_idx\n",
    "last_idx = len(rawdata) - window_wing\n",
    "\n",
    "data = []\n",
    "for i in range(first_idx, last_idx):\n",
    "    print i, rawdata[i]\n",
    "    window = rawdata[i - window_wing: 1 + i + window_wing]\n",
    "    print window\n",
    "    target = window[window_center_idx]\n",
    "    context = window[0:window_center_idx] + window[window_center_idx + 1:]\n",
    "    val = (context, target)\n",
    "    data.append(val)\n",
    "    \n",
    "print data"
   ]
  },
  {
   "cell_type": "code",
   "execution_count": 31,
   "metadata": {
    "collapsed": false
   },
   "outputs": [],
   "source": [
    "def make_data(window_wing, rawdata):\n",
    "    window_size = 2 * window_wing + 1\n",
    "    window_center_idx = window_size // 2\n",
    "    first_idx = window_center_idx\n",
    "    last_idx = len(rawdata) - window_wing\n",
    "    \n",
    "    data = []\n",
    "    contexts = []\n",
    "    targets = []\n",
    "    for i in range(first_idx, last_idx):\n",
    "        window = rawdata[i - window_wing: 1 + i + window_wing]\n",
    "        target = window[window_center_idx]\n",
    "        context = window[0:window_center_idx] + window[window_center_idx + 1:]\n",
    "        val = (context, target)\n",
    "        data.append(val)\n",
    "        contexts.append(context)\n",
    "        targets.append(target)\n",
    "        \n",
    "    return data, contexts, targets"
   ]
  },
  {
   "cell_type": "code",
   "execution_count": 32,
   "metadata": {
    "collapsed": false
   },
   "outputs": [
    {
     "name": "stdout",
     "output_type": "stream",
     "text": [
      "[(['the', 'brown'], 'quick'), (['quick', 'fox'], 'brown'), (['brown', 'jumped'], 'fox'), (['fox', 'over'], 'jumped'), (['jumped', 'the'], 'over'), (['over', 'lazy'], 'the'), (['the', 'dog'], 'lazy')]\n",
      "[['the', 'brown'], ['quick', 'fox'], ['brown', 'jumped'], ['fox', 'over'], ['jumped', 'the'], ['over', 'lazy'], ['the', 'dog']]\n",
      "['quick', 'brown', 'fox', 'jumped', 'over', 'the', 'lazy']\n"
     ]
    }
   ],
   "source": [
    "data, contexts, targets = make_data(1, rawdata)\n",
    "print data\n",
    "print contexts\n",
    "print targets"
   ]
  },
  {
   "cell_type": "code",
   "execution_count": 33,
   "metadata": {
    "collapsed": false
   },
   "outputs": [
    {
     "name": "stdout",
     "output_type": "stream",
     "text": [
      "[(['the', 'quick', 'fox', 'jumped'], 'brown'), (['quick', 'brown', 'jumped', 'over'], 'fox'), (['brown', 'fox', 'over', 'the'], 'jumped'), (['fox', 'jumped', 'the', 'lazy'], 'over'), (['jumped', 'over', 'lazy', 'dog'], 'the')]\n",
      "[['the', 'quick', 'fox', 'jumped'], ['quick', 'brown', 'jumped', 'over'], ['brown', 'fox', 'over', 'the'], ['fox', 'jumped', 'the', 'lazy'], ['jumped', 'over', 'lazy', 'dog']]\n",
      "['brown', 'fox', 'jumped', 'over', 'the']\n"
     ]
    }
   ],
   "source": [
    "data, contexts, targets = make_data(2, rawdata)\n",
    "print data\n",
    "print contexts\n",
    "print targets"
   ]
  },
  {
   "cell_type": "markdown",
   "metadata": {
    "collapsed": true
   },
   "source": [
    "Let's get some fresh data to test:"
   ]
  },
  {
   "cell_type": "code",
   "execution_count": 34,
   "metadata": {
    "collapsed": false
   },
   "outputs": [
    {
     "name": "stdout",
     "output_type": "stream",
     "text": [
      "Found and verified text8.zip\n",
      "['text8']\n",
      "Data size 17005207\n",
      "('Most common words (+UNK)', [['UNK', 418391], ('the', 1061396), ('of', 593677), ('and', 416629), ('one', 411764), ('in', 372201), ('a', 325873), ('to', 316376), ('zero', 264975), ('nine', 250430)])\n"
     ]
    }
   ],
   "source": [
    "filename = maybe_download('text8.zip', 31344016)\n",
    "#filename = maybe_download('mytesttext.txt.zip', 415)   # of course, this file is local\n",
    "words = read_data(filename)\n",
    "print('Data size %d' % len(words))\n",
    "\n",
    "vocabulary_size = 50000\n",
    "data, count, dictionary, reverse_dictionary = build_dataset(words)\n",
    "print('Most common words (+UNK)', count[:10])\n",
    "del words  # Hint to reduce memory."
   ]
  },
  {
   "cell_type": "code",
   "execution_count": 35,
   "metadata": {
    "collapsed": false
   },
   "outputs": [
    {
     "name": "stdout",
     "output_type": "stream",
     "text": [
      "('rev dict sample keys  :', [0, 1, 2, 3, 4, 5, 6, 7, 8, 9, 10, 11, 12, 13, 14, 15, 16, 17, 18, 19])\n",
      "('rev dict sample values:', ['UNK', 'the', 'of', 'and', 'one', 'in', 'a', 'to', 'zero', 'nine', 'two', 'is', 'as', 'eight', 'for', 's', 'five', 'three', 'was', 'by'])\n"
     ]
    }
   ],
   "source": [
    "print('rev dict sample keys  :', reverse_dictionary.keys()[:20])\n",
    "print('rev dict sample values:', reverse_dictionary.values()[:20])"
   ]
  },
  {
   "cell_type": "code",
   "execution_count": 36,
   "metadata": {
    "collapsed": false
   },
   "outputs": [
    {
     "name": "stdout",
     "output_type": "stream",
     "text": [
      "00005239, anarchism\n",
      "00003084, originated\n",
      "00000012, as\n",
      "00000006, a\n",
      "00000195, term\n",
      "00000002, of\n",
      "00003137, abuse\n",
      "00000046, first\n",
      "00000059, used\n",
      "00000156, against\n"
     ]
    }
   ],
   "source": [
    "for d in data[:10]:\n",
    "    print '{:08d}, {}'.format(d, reverse_dictionary[d])"
   ]
  },
  {
   "cell_type": "markdown",
   "metadata": {},
   "source": [
    "Let's redefine our `make_data()` function as `generate_batch()` and keep track of the global `data_index`:"
   ]
  },
  {
   "cell_type": "code",
   "execution_count": 37,
   "metadata": {
    "collapsed": true
   },
   "outputs": [],
   "source": [
    "data_index = 0"
   ]
  },
  {
   "cell_type": "code",
   "execution_count": 38,
   "metadata": {
    "collapsed": true
   },
   "outputs": [],
   "source": [
    "def generate_batch(batch_size, window_wing):\n",
    "    # let's keep track of where we are in the data\n",
    "    global data_index\n",
    "    # how much data do we span per batch?\n",
    "    window_size = 2 * window_wing + 1\n",
    "    window_center_idx = window_size // 2\n",
    "    # batch is context, labels are targets\n",
    "    batch = np.zeros(shape=(batch_size, 2 * window_wing), dtype=np.int32)\n",
    "    labels = np.zeros(shape=(batch_size, 1), dtype=np.int32)\n",
    "    # hold the data for the minibatch\n",
    "    buffer = collections.deque(maxlen=window_size)\n",
    "    # indices for context\n",
    "    ctx_indices = np.arange(window_size)\n",
    "    ctx_indices = np.delete(ctx_indices, window_center_idx)\n",
    "    # initialize the buffer with the next `span` words of data\n",
    "    for _ in range(window_size):\n",
    "        buffer.append(data[data_index])\n",
    "        data_index = (data_index + 1) % len(data)\n",
    "    for i in range(batch_size):\n",
    "        target = buffer[window_center_idx]\n",
    "        context = []\n",
    "        for idx in ctx_indices:\n",
    "            context.append(buffer[idx])\n",
    "        buffer.append(data[data_index])\n",
    "        data_index = (data_index + 1) % len(data)\n",
    "        batch[i] = context\n",
    "        labels[i] = target\n",
    "        \n",
    "    return batch, labels"
   ]
  },
  {
   "cell_type": "code",
   "execution_count": 39,
   "metadata": {
    "collapsed": false
   },
   "outputs": [
    {
     "name": "stdout",
     "output_type": "stream",
     "text": [
      "('data:', ['anarchism', 'originated', 'as', 'a', 'term', 'of', 'abuse', 'first'])\n",
      "\n",
      "with window_wing = 1:\n",
      "('    batch:', [['anarchism', 'as'], ['originated', 'a'], ['as', 'term'], ['a', 'of'], ['term', 'abuse'], ['of', 'first'], ['abuse', 'used'], ['first', 'against']])\n",
      "('    labels:', ['originated', 'as', 'a', 'term', 'of', 'abuse', 'first', 'used'])\n",
      "('    batch:', [[5239, 12], [3084, 6], [12, 195], [6, 2], [195, 3137], [2, 46], [3137, 59], [46, 156]])\n",
      "('    labels:', [3084, 12, 6, 195, 2, 3137, 46, 59])\n",
      "\n",
      "with window_wing = 2:\n",
      "('    batch:', [['anarchism', 'originated', 'a', 'term'], ['originated', 'as', 'term', 'of'], ['as', 'a', 'of', 'abuse'], ['a', 'term', 'abuse', 'first'], ['term', 'of', 'first', 'used'], ['of', 'abuse', 'used', 'against'], ['abuse', 'first', 'against', 'early'], ['first', 'used', 'early', 'working']])\n",
      "('    labels:', ['as', 'a', 'term', 'of', 'abuse', 'first', 'used', 'against'])\n",
      "('    batch:', [[5239, 3084, 6, 195], [3084, 12, 195, 2], [12, 6, 2, 3137], [6, 195, 3137, 46], [195, 2, 46, 59], [2, 3137, 59, 156], [3137, 46, 156, 128], [46, 59, 128, 742]])\n",
      "('    labels:', [12, 6, 195, 2, 3137, 46, 59, 156])\n"
     ]
    }
   ],
   "source": [
    "batch_size = 8\n",
    "print('data:', [reverse_dictionary[di] for di in data[:batch_size]])\n",
    "for wing in [1, 2]:\n",
    "    data_index = 0\n",
    "    batch, labels = generate_batch(batch_size=batch_size, window_wing=wing)\n",
    "    print('\\nwith window_wing = %d:' % wing)\n",
    "    print('    batch:', [[reverse_dictionary[i] for i in bi] for bi in batch])\n",
    "    print('    labels:', [reverse_dictionary[li] for li in labels.reshape(batch_size)])\n",
    "    print('    batch:', [[i for i in bi] for bi in batch])\n",
    "    print('    labels:', [li for li in labels.reshape(batch_size)])"
   ]
  },
  {
   "cell_type": "code",
   "execution_count": 40,
   "metadata": {
    "collapsed": false
   },
   "outputs": [],
   "source": [
    "sess = tf.InteractiveSession()"
   ]
  },
  {
   "cell_type": "code",
   "execution_count": 64,
   "metadata": {
    "collapsed": false
   },
   "outputs": [
    {
     "name": "stdout",
     "output_type": "stream",
     "text": [
      "(6, 3)\n",
      "[[ 0.81964827  0.91461313  0.66776848]\n",
      " [ 0.71465206  0.67403424  0.71244705]\n",
      " [ 0.50284326  0.08057845  0.50346553]\n",
      " [ 0.75368309  0.3344357   0.69191015]\n",
      " [ 0.82316566  0.95355618  0.2298044 ]\n",
      " [ 0.94950259  0.51510525  0.07849061]]\n",
      "\n",
      "\n",
      "(2, 3)\n",
      "(2, 3, 3)\n",
      "[[[ 0.81964827  0.91461313  0.66776848]\n",
      "  [ 0.75368309  0.3344357   0.69191015]\n",
      "  [ 0.94950259  0.51510525  0.07849061]]\n",
      "\n",
      " [[ 0.71465206  0.67403424  0.71244705]\n",
      "  [ 0.50284326  0.08057845  0.50346553]\n",
      "  [ 0.82316566  0.95355618  0.2298044 ]]]\n",
      "\n",
      "\n",
      "(2, 3)\n",
      "[[ 0.84094459  0.58805138  0.47938976]\n",
      " [ 0.68022031  0.56938964  0.48190567]]\n",
      "\n",
      "\n"
     ]
    }
   ],
   "source": [
    "vocabulary_size, embedding_size = 6, 3\n",
    "\n",
    "# make a test embeddings matrix\n",
    "a = tf.random_uniform([vocabulary_size, embedding_size], 0.0, 1.0).eval(session=sess)\n",
    "print np.shape(a)\n",
    "print a\n",
    "print '\\n'\n",
    "\n",
    "# get elems \n",
    "#get_elems = [0, 3]                   # shp = number of batches\n",
    "get_elems = [[0, 3, 5], [1, 2, 4]]   # shp = number of batches, embed size \n",
    "print np.shape(get_elems)\n",
    "b = tf.nn.embedding_lookup(a, get_elems).eval(session=sess)\n",
    "print np.shape(b)\n",
    "print b\n",
    "print '\\n'\n",
    "\n",
    "# do an average\n",
    "b = tf.reduce_mean(b, reduction_indices=1).eval(session=sess)   # np.mean(b, axis=1)\n",
    "print np.shape(b)\n",
    "print b\n",
    "print '\\n'"
   ]
  },
  {
   "cell_type": "markdown",
   "metadata": {},
   "source": [
    "Need to figure out which axis to sum on, then define the `embed` vector in the graph as the appropriate sum..."
   ]
  },
  {
   "cell_type": "code",
   "execution_count": 61,
   "metadata": {
    "collapsed": false
   },
   "outputs": [],
   "source": [
    "batch_size = 128\n",
    "embedding_size = 128 # Dimension of the embedding vector.\n",
    "window_wing = 1      # How many words to consider left and right.\n",
    "\n",
    "# We pick a random validation set to sample nearest neighbors. here we limit the\n",
    "# validation samples to the words that have a low numeric ID, which by\n",
    "# construction are also the most frequent. \n",
    "valid_size = 16    # Random set of words to evaluate similarity on.\n",
    "valid_window = 100 # Only pick dev samples in the head of the distribution.\n",
    "valid_examples = np.array(random.sample(range(valid_window), valid_size))\n",
    "num_sampled = 64   # Number of negative examples to sample.\n",
    "\n",
    "graph = tf.Graph()\n",
    "\n",
    "with graph.as_default():\n",
    "\n",
    "    # Input data.\n",
    "    train_dataset = tf.placeholder(tf.int32, shape=[batch_size])\n",
    "    #train_dataset = tf.placeholder(tf.int32, shape=[batch_size, 2 * window_wing + 1])\n",
    "    train_labels = tf.placeholder(tf.int32, shape=[batch_size, 1])\n",
    "    valid_dataset = tf.constant(valid_examples, dtype=tf.int32)\n",
    "  \n",
    "    # Variables.\n",
    "    embeddings = tf.Variable(tf.random_uniform([vocabulary_size, embedding_size], -1.0, 1.0))\n",
    "    softmax_weights = tf.Variable(tf.truncated_normal([vocabulary_size, embedding_size], \n",
    "                                                      stddev=1.0 / math.sqrt(embedding_size)))\n",
    "    softmax_biases = tf.Variable(tf.zeros([vocabulary_size]))\n",
    "  \n",
    "    # Model.\n",
    "    embed = tf.nn.embedding_lookup(embeddings, train_dataset)\n",
    "    #embed = tf.reduce_mean(embed, reduction_indices=1)\n",
    "    # Compute the softmax loss, using a sample of the negative labels each time.\n",
    "    loss = tf.reduce_mean(tf.nn.sampled_softmax_loss(softmax_weights, \n",
    "                                                     softmax_biases, \n",
    "                                                     embed, \n",
    "                                                     train_labels, \n",
    "                                                     num_sampled, \n",
    "                                                     vocabulary_size))\n",
    "\n",
    "    # Optimizer.\n",
    "    optimizer = tf.train.AdagradOptimizer(1.0).minimize(loss)\n",
    "  \n",
    "    # Compute the similarity between minibatch examples and all embeddings.\n",
    "    # We use the cosine distance:\n",
    "    norm = tf.sqrt(tf.reduce_sum(tf.square(embeddings), 1, keep_dims=True))\n",
    "    normalized_embeddings = embeddings / norm\n",
    "    valid_embeddings = tf.nn.embedding_lookup(normalized_embeddings, valid_dataset)\n",
    "    similarity = tf.matmul(valid_embeddings, tf.transpose(normalized_embeddings))"
   ]
  },
  {
   "cell_type": "code",
   "execution_count": null,
   "metadata": {
    "collapsed": true
   },
   "outputs": [],
   "source": []
  }
 ],
 "metadata": {
  "colab": {
   "default_view": {},
   "name": "5_word2vec.ipynb",
   "provenance": [],
   "version": "0.3.2",
   "views": {}
  },
  "kernelspec": {
   "display_name": "Python 2",
   "language": "python",
   "name": "python2"
  },
  "language_info": {
   "codemirror_mode": {
    "name": "ipython",
    "version": 2
   },
   "file_extension": ".py",
   "mimetype": "text/x-python",
   "name": "python",
   "nbconvert_exporter": "python",
   "pygments_lexer": "ipython2",
   "version": "2.7.6"
  }
 },
 "nbformat": 4,
 "nbformat_minor": 0
}
