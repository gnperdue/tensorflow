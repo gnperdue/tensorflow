{
 "cells": [
  {
   "cell_type": "markdown",
   "metadata": {
    "colab_type": "text",
    "id": "kR-4eNdK6lYS"
   },
   "source": [
    "Deep Learning\n",
    "=============\n",
    "\n",
    "Assignment 3\n",
    "------------\n",
    "\n",
    "Previously in `2_fullyconnected.ipynb`, you trained a logistic regression and a neural network model.\n",
    "\n",
    "The goal of this assignment is to explore regularization techniques."
   ]
  },
  {
   "cell_type": "code",
   "execution_count": 1,
   "metadata": {
    "cellView": "both",
    "colab": {
     "autoexec": {
      "startup": false,
      "wait_interval": 0
     }
    },
    "colab_type": "code",
    "collapsed": true,
    "id": "JLpLa8Jt7Vu4"
   },
   "outputs": [],
   "source": [
    "# These are all the modules we'll be using later. Make sure you can import them\n",
    "# before proceeding further.\n",
    "import numpy as np\n",
    "import tensorflow as tf\n",
    "from six.moves import cPickle as pickle"
   ]
  },
  {
   "cell_type": "markdown",
   "metadata": {
    "colab_type": "text",
    "id": "1HrCK6e17WzV"
   },
   "source": [
    "First reload the data we generated in _notmist.ipynb_."
   ]
  },
  {
   "cell_type": "code",
   "execution_count": 2,
   "metadata": {
    "cellView": "both",
    "colab": {
     "autoexec": {
      "startup": false,
      "wait_interval": 0
     },
     "output_extras": [
      {
       "item_id": 1
      }
     ]
    },
    "colab_type": "code",
    "collapsed": false,
    "executionInfo": {
     "elapsed": 11777,
     "status": "ok",
     "timestamp": 1449849322348,
     "user": {
      "color": "",
      "displayName": "",
      "isAnonymous": false,
      "isMe": true,
      "permissionId": "",
      "photoUrl": "",
      "sessionId": "0",
      "userId": ""
     },
     "user_tz": 480
    },
    "id": "y3-cj1bpmuxc",
    "outputId": "e03576f1-ebbe-4838-c388-f1777bcc9873"
   },
   "outputs": [
    {
     "name": "stdout",
     "output_type": "stream",
     "text": [
      "('Training set', (200000, 28, 28), (200000,))\n",
      "('Validation set', (9633, 28, 28), (9633,))\n",
      "('Test set', (9604, 28, 28), (9604,))\n"
     ]
    }
   ],
   "source": [
    "pickle_file = 'notMNIST_sanitized.pickle'\n",
    "\n",
    "with open(pickle_file, 'rb') as f:\n",
    "    save = pickle.load(f)\n",
    "    train_dataset = save['train_dataset']\n",
    "    train_labels = save['train_labels']\n",
    "    valid_dataset = save['valid_dataset']\n",
    "    valid_labels = save['valid_labels']\n",
    "    test_dataset = save['test_dataset']\n",
    "    test_labels = save['test_labels']\n",
    "    del save  # hint to help gc free up memory\n",
    "    print('Training set', train_dataset.shape, train_labels.shape)\n",
    "    print('Validation set', valid_dataset.shape, valid_labels.shape)\n",
    "    print('Test set', test_dataset.shape, test_labels.shape)"
   ]
  },
  {
   "cell_type": "markdown",
   "metadata": {
    "colab_type": "text",
    "id": "L7aHrm6nGDMB"
   },
   "source": [
    "Reformat into a shape that's more adapted to the models we're going to train:\n",
    "- data as a flat matrix,\n",
    "- labels as float 1-hot encodings."
   ]
  },
  {
   "cell_type": "code",
   "execution_count": 3,
   "metadata": {
    "cellView": "both",
    "colab": {
     "autoexec": {
      "startup": false,
      "wait_interval": 0
     },
     "output_extras": [
      {
       "item_id": 1
      }
     ]
    },
    "colab_type": "code",
    "collapsed": false,
    "executionInfo": {
     "elapsed": 11728,
     "status": "ok",
     "timestamp": 1449849322356,
     "user": {
      "color": "",
      "displayName": "",
      "isAnonymous": false,
      "isMe": true,
      "permissionId": "",
      "photoUrl": "",
      "sessionId": "0",
      "userId": ""
     },
     "user_tz": 480
    },
    "id": "IRSyYiIIGIzS",
    "outputId": "3f8996ee-3574-4f44-c953-5c8a04636582"
   },
   "outputs": [
    {
     "name": "stdout",
     "output_type": "stream",
     "text": [
      "('Training set', (200000, 784), (200000, 10))\n",
      "('Validation set', (9633, 784), (9633, 10))\n",
      "('Test set', (9604, 784), (9604, 10))\n"
     ]
    }
   ],
   "source": [
    "image_size = 28\n",
    "num_labels = 10\n",
    "\n",
    "def reformat(dataset, labels):\n",
    "    dataset = dataset.reshape((-1, image_size * image_size)).astype(np.float32)\n",
    "    # Map 2 to [0.0, 1.0, 0.0 ...], 3 to [0.0, 0.0, 1.0 ...]\n",
    "    labels = (np.arange(num_labels) == labels[:,None]).astype(np.float32)\n",
    "    return dataset, labels\n",
    "\n",
    "train_dataset, train_labels = reformat(train_dataset, train_labels)\n",
    "valid_dataset, valid_labels = reformat(valid_dataset, valid_labels)\n",
    "test_dataset, test_labels = reformat(test_dataset, test_labels)\n",
    "print('Training set', train_dataset.shape, train_labels.shape)\n",
    "print('Validation set', valid_dataset.shape, valid_labels.shape)\n",
    "print('Test set', test_dataset.shape, test_labels.shape)"
   ]
  },
  {
   "cell_type": "code",
   "execution_count": 4,
   "metadata": {
    "cellView": "both",
    "colab": {
     "autoexec": {
      "startup": false,
      "wait_interval": 0
     }
    },
    "colab_type": "code",
    "collapsed": true,
    "id": "RajPLaL_ZW6w"
   },
   "outputs": [],
   "source": [
    "def accuracy(predictions, labels):\n",
    "    return (100.0 * np.sum(np.argmax(predictions, 1) == np.argmax(labels, 1)) \n",
    "            / predictions.shape[0])"
   ]
  },
  {
   "cell_type": "markdown",
   "metadata": {
    "colab_type": "text",
    "id": "sgLbUAQ1CW-1"
   },
   "source": [
    "---\n",
    "Problem 1\n",
    "---------\n",
    "\n",
    "Introduce and tune L2 regularization for both logistic and neural network models. Remember that L2 amounts to adding a penalty on the norm of the weights to the loss. In TensorFlow, you can compue the L2 loss for a tensor `t` using `nn.l2_loss(t)`. The right amount of regularization should improve your validation / test accuracy.\n",
    "\n",
    "---"
   ]
  },
  {
   "cell_type": "code",
   "execution_count": 5,
   "metadata": {
    "collapsed": true
   },
   "outputs": [],
   "source": [
    "# From previous problem set, with modifications\n",
    "\n",
    "batch_size = 128\n",
    "num_relus = 1024\n",
    "l2_w1par = 0.01\n",
    "l2_w2par = 0.01\n",
    "\n",
    "\n",
    "graph = tf.Graph()\n",
    "with graph.as_default():\n",
    "\n",
    "    # For training data, use a placeholder that will be fed a minibatch at runtime.\n",
    "    tf_train_dataset = tf.placeholder(tf.float32, \n",
    "                                      shape=(batch_size, image_size * image_size))\n",
    "    tf_train_labels = tf.placeholder(tf.float32, shape=(batch_size, num_labels))\n",
    "    tf_valid_dataset = tf.constant(valid_dataset)\n",
    "    tf_test_dataset = tf.constant(test_dataset)\n",
    "  \n",
    "    # Variables.\n",
    "    # our network now has one set of weight and biases producing an output vector of\n",
    "    # size `num_relus`. we apply the relus and then feed that vector into a new set \n",
    "    # of weight matrix + bias vector that will produce a vector of sime `num_labels`\n",
    "    # that is fed into our softmax\n",
    "    weights1 = tf.Variable(tf.truncated_normal([image_size * image_size, num_relus]))\n",
    "    biases1 = tf.Variable(tf.zeros([num_relus]))\n",
    "    weights2 = tf.Variable(tf.truncated_normal([num_relus, num_labels]))\n",
    "    biases2 = tf.Variable(tf.zeros([num_labels]))\n",
    "\n",
    "  \n",
    "    # Training computation.\n",
    "    logits1 = tf.matmul(tf_train_dataset, weights1) + biases1\n",
    "    activations = tf.nn.relu(logits1)\n",
    "    logits2 = tf.matmul(activations, weights2) + biases2\n",
    "\n",
    "    # add L2 loss terms: https://www.tensorflow.org/versions/r0.7/api_docs/python/nn.html#l2_loss\n",
    "    loss = tf.reduce_mean(tf.nn.softmax_cross_entropy_with_logits(logits2, tf_train_labels) + \n",
    "                         l2_w1par * tf.nn.l2_loss(weights1) + \n",
    "                         l2_w2par * tf.nn.l2_loss(weights2))\n",
    "  \n",
    "    # Optimizer.\n",
    "    optimizer = tf.train.GradientDescentOptimizer(0.5).minimize(loss)\n",
    "  \n",
    "    # Predictions for the training, validation, and test data.\n",
    "    train_prediction = tf.nn.softmax(logits2)\n",
    "    # validation set...\n",
    "    val_logits1 = tf.matmul(tf_valid_dataset, weights1) + biases1\n",
    "    val_activations = tf.nn.relu(val_logits1)\n",
    "    val_logits2 = tf.matmul(val_activations, weights2) + biases2\n",
    "    valid_prediction = tf.nn.softmax(val_logits2)\n",
    "    # test set...\n",
    "    test_logits1 = tf.matmul(tf_test_dataset, weights1) + biases1\n",
    "    test_activations = tf.nn.relu(test_logits1)\n",
    "    test_logits2 = tf.matmul(test_activations, weights2) + biases2\n",
    "    test_prediction = tf.nn.softmax(test_logits2) "
   ]
  },
  {
   "cell_type": "code",
   "execution_count": 6,
   "metadata": {
    "collapsed": false
   },
   "outputs": [
    {
     "name": "stdout",
     "output_type": "stream",
     "text": [
      "Initialized\n",
      "Minibatch loss at step 0: 3505.096924\n",
      "Minibatch accuracy: 10.2%\n",
      "Validation accuracy: 23.9%\n",
      "Minibatch loss at step 500: 21.529495\n",
      "Minibatch accuracy: 76.6%\n",
      "Validation accuracy: 80.0%\n",
      "Minibatch loss at step 1000: 0.915912\n",
      "Minibatch accuracy: 85.9%\n",
      "Validation accuracy: 79.4%\n",
      "Minibatch loss at step 1500: 0.828583\n",
      "Minibatch accuracy: 79.7%\n",
      "Validation accuracy: 79.6%\n",
      "Minibatch loss at step 2000: 0.682324\n",
      "Minibatch accuracy: 88.3%\n",
      "Validation accuracy: 79.9%\n",
      "Minibatch loss at step 2500: 0.696696\n",
      "Minibatch accuracy: 82.0%\n",
      "Validation accuracy: 79.5%\n",
      "Minibatch loss at step 3000: 0.637018\n",
      "Minibatch accuracy: 87.5%\n",
      "Validation accuracy: 79.9%\n",
      "Test accuracy: 90.0%\n"
     ]
    }
   ],
   "source": [
    "# From previous problem set, with modifications\n",
    "\n",
    "num_steps = 3001\n",
    "\n",
    "with tf.Session(graph=graph) as session:\n",
    "    tf.initialize_all_variables().run()\n",
    "    print(\"Initialized\")\n",
    "    for step in range(num_steps):\n",
    "        # Pick an offset within the training data, which has been randomized.\n",
    "        # Note: we could use better randomization across epochs.\n",
    "        offset = (step * batch_size) % (train_labels.shape[0] - batch_size)\n",
    "        # Generate a minibatch.\n",
    "        batch_data = train_dataset[offset:(offset + batch_size), :]\n",
    "        batch_labels = train_labels[offset:(offset + batch_size), :]\n",
    "        # Prepare a dictionary telling the session where to feed the minibatch.\n",
    "        # The key of the dictionary is the placeholder node of the graph to be fed,\n",
    "        # and the value is the numpy array to feed to it.\n",
    "        feed_dict = {tf_train_dataset : batch_data, tf_train_labels : batch_labels}\n",
    "        _, l, predictions = session.run(\n",
    "            [optimizer, loss, train_prediction], feed_dict=feed_dict)\n",
    "        if (step % 500 == 0):\n",
    "            print(\"Minibatch loss at step %d: %f\" % (step, l))\n",
    "            print(\"Minibatch accuracy: %.1f%%\" % accuracy(predictions, batch_labels))\n",
    "            print(\"Validation accuracy: %.1f%%\" % accuracy(\n",
    "                    valid_prediction.eval(), valid_labels))\n",
    "            \n",
    "    print(\"Test accuracy: %.1f%%\" % accuracy(test_prediction.eval(), test_labels))"
   ]
  },
  {
   "cell_type": "markdown",
   "metadata": {
    "colab_type": "text",
    "id": "na8xX2yHZzNF"
   },
   "source": [
    "---\n",
    "Problem 2\n",
    "---------\n",
    "Let's demonstrate an extreme case of overfitting. Restrict your training data to just a few batches. What happens?\n",
    "\n",
    "---"
   ]
  },
  {
   "cell_type": "code",
   "execution_count": 7,
   "metadata": {
    "collapsed": false
   },
   "outputs": [],
   "source": [
    "train_dataset = train_dataset[:(128*3)]\n",
    "train_labels = train_labels[:(128*3)]"
   ]
  },
  {
   "cell_type": "code",
   "execution_count": 8,
   "metadata": {
    "collapsed": false
   },
   "outputs": [
    {
     "name": "stdout",
     "output_type": "stream",
     "text": [
      "Initialized\n",
      "Minibatch loss at step 0: 3598.753662\n",
      "Minibatch accuracy: 5.5%\n",
      "Validation accuracy: 17.6%\n",
      "Minibatch loss at step 500: 21.056644\n",
      "Minibatch accuracy: 100.0%\n",
      "Validation accuracy: 68.5%\n",
      "Minibatch loss at step 1000: 0.402568\n",
      "Minibatch accuracy: 100.0%\n",
      "Validation accuracy: 69.7%\n",
      "Minibatch loss at step 1500: 0.242716\n",
      "Minibatch accuracy: 100.0%\n",
      "Validation accuracy: 70.3%\n",
      "Minibatch loss at step 2000: 0.232524\n",
      "Minibatch accuracy: 100.0%\n",
      "Validation accuracy: 70.4%\n",
      "Minibatch loss at step 2500: 0.227466\n",
      "Minibatch accuracy: 100.0%\n",
      "Validation accuracy: 70.4%\n",
      "Minibatch loss at step 3000: 0.224395\n",
      "Minibatch accuracy: 100.0%\n",
      "Validation accuracy: 70.5%\n",
      "Test accuracy: 81.4%\n"
     ]
    }
   ],
   "source": [
    "num_steps = 3001\n",
    "\n",
    "with tf.Session(graph=graph) as session:\n",
    "    tf.initialize_all_variables().run()\n",
    "    print(\"Initialized\")\n",
    "    for step in range(num_steps):\n",
    "        # Pick an offset within the training data, which has been randomized.\n",
    "        # Note: we could use better randomization across epochs.\n",
    "        offset = (step * batch_size) % (train_labels.shape[0] - batch_size)\n",
    "        # Generate a minibatch.\n",
    "        batch_data = train_dataset[offset:(offset + batch_size), :]\n",
    "        batch_labels = train_labels[offset:(offset + batch_size), :]\n",
    "        # Prepare a dictionary telling the session where to feed the minibatch.\n",
    "        # The key of the dictionary is the placeholder node of the graph to be fed,\n",
    "        # and the value is the numpy array to feed to it.\n",
    "        feed_dict = {tf_train_dataset : batch_data, tf_train_labels : batch_labels}\n",
    "        _, l, predictions = session.run(\n",
    "            [optimizer, loss, train_prediction], feed_dict=feed_dict)\n",
    "        if (step % 500 == 0):\n",
    "            print(\"Minibatch loss at step %d: %f\" % (step, l))\n",
    "            print(\"Minibatch accuracy: %.1f%%\" % accuracy(predictions, batch_labels))\n",
    "            print(\"Validation accuracy: %.1f%%\" % accuracy(\n",
    "                    valid_prediction.eval(), valid_labels))\n",
    "            \n",
    "    print(\"Test accuracy: %.1f%%\" % accuracy(test_prediction.eval(), test_labels))"
   ]
  },
  {
   "cell_type": "markdown",
   "metadata": {},
   "source": [
    "Here, the minibatch accuracy quickly saturates and as a consequence, the model stops evolving and performs poorly at the test stage. Although, really, it does surprisingly well. (I guess 80% is pretty bad for handwriting, actually, but whatever, it is clearly better than 10%.)"
   ]
  },
  {
   "cell_type": "markdown",
   "metadata": {
    "colab_type": "text",
    "id": "ww3SCBUdlkRc"
   },
   "source": [
    "---\n",
    "Problem 3\n",
    "---------\n",
    "Introduce Dropout on the hidden layer of the neural network. Remember: Dropout should only be introduced during training, not evaluation, otherwise your evaluation results would be stochastic as well. TensorFlow provides `nn.dropout()` for that, but you have to make sure it's only inserted during training.\n",
    "\n",
    "What happens to our extreme overfitting case?\n",
    "\n",
    "---"
   ]
  },
  {
   "cell_type": "code",
   "execution_count": 18,
   "metadata": {
    "collapsed": false
   },
   "outputs": [],
   "source": [
    "# From previous problem set, with modifications\n",
    "\n",
    "batch_size = 128\n",
    "num_relus = 1024\n",
    "l2_w1par = 0.01\n",
    "l2_w2par = 0.01\n",
    "dropout_keep_prob = 0.75\n",
    "\n",
    "\n",
    "graph = tf.Graph()\n",
    "with graph.as_default():\n",
    "\n",
    "    # For training data, use a placeholder that will be fed a minibatch at runtime.\n",
    "    tf_train_dataset = tf.placeholder(tf.float32, \n",
    "                                      shape=(batch_size, image_size * image_size))\n",
    "    tf_train_labels = tf.placeholder(tf.float32, shape=(batch_size, num_labels))\n",
    "    tf_valid_dataset = tf.constant(valid_dataset)\n",
    "    tf_test_dataset = tf.constant(test_dataset)\n",
    "  \n",
    "    # Variables.\n",
    "    # our network now has one set of weight and biases producing an output vector of\n",
    "    # size `num_relus`. we apply the relus and then feed that vector into a new set \n",
    "    # of weight matrix + bias vector that will produce a vector of sime `num_labels`\n",
    "    # that is fed into our softmax\n",
    "    weights1 = tf.Variable(tf.truncated_normal([image_size * image_size, num_relus]))\n",
    "    biases1 = tf.Variable(tf.zeros([num_relus]))\n",
    "    weights2 = tf.Variable(tf.truncated_normal([num_relus, num_labels]))\n",
    "    biases2 = tf.Variable(tf.zeros([num_labels]))\n",
    "\n",
    "  \n",
    "    # Training computation.\n",
    "    logits1 = tf.matmul(tf_train_dataset, weights1) + biases1\n",
    "    activations = tf.nn.dropout(tf.nn.relu(logits1), keep_prob=dropout_keep_prob)\n",
    "    logits2 = tf.matmul(activations, weights2) + biases2\n",
    "\n",
    "    # add L2 loss terms: https://www.tensorflow.org/versions/r0.7/api_docs/python/nn.html#l2_loss\n",
    "    loss = tf.reduce_mean(tf.nn.softmax_cross_entropy_with_logits(logits2, tf_train_labels) + \n",
    "                         l2_w1par * tf.nn.l2_loss(weights1) + \n",
    "                         l2_w2par * tf.nn.l2_loss(weights2))\n",
    "  \n",
    "    # Optimizer.\n",
    "    optimizer = tf.train.GradientDescentOptimizer(0.5).minimize(loss)\n",
    "  \n",
    "    # Predictions for the training, validation, and test data.\n",
    "    train_prediction = tf.nn.softmax(logits2)\n",
    "    # validation set...\n",
    "    val_logits1 = tf.matmul(tf_valid_dataset, weights1) + biases1\n",
    "    val_activations = tf.nn.relu(val_logits1)\n",
    "    val_logits2 = tf.matmul(val_activations, weights2) + biases2\n",
    "    valid_prediction = tf.nn.softmax(val_logits2)\n",
    "    # test set...\n",
    "    test_logits1 = tf.matmul(tf_test_dataset, weights1) + biases1\n",
    "    test_activations = tf.nn.relu(test_logits1)\n",
    "    test_logits2 = tf.matmul(test_activations, weights2) + biases2\n",
    "    test_prediction = tf.nn.softmax(test_logits2) "
   ]
  },
  {
   "cell_type": "code",
   "execution_count": 19,
   "metadata": {
    "collapsed": false
   },
   "outputs": [
    {
     "name": "stdout",
     "output_type": "stream",
     "text": [
      "Initialized\n",
      "Minibatch loss at step 0: 3497.390137\n",
      "Minibatch accuracy: 23.4%\n",
      "Validation accuracy: 30.8%\n",
      "Minibatch loss at step 500: 21.007128\n",
      "Minibatch accuracy: 100.0%\n",
      "Validation accuracy: 68.7%\n",
      "Minibatch loss at step 1000: 0.409433\n",
      "Minibatch accuracy: 100.0%\n",
      "Validation accuracy: 70.1%\n",
      "Minibatch loss at step 1500: 0.247708\n",
      "Minibatch accuracy: 100.0%\n",
      "Validation accuracy: 70.3%\n",
      "Minibatch loss at step 2000: 0.242500\n",
      "Minibatch accuracy: 100.0%\n",
      "Validation accuracy: 70.6%\n",
      "Minibatch loss at step 2500: 0.235747\n",
      "Minibatch accuracy: 100.0%\n",
      "Validation accuracy: 70.4%\n",
      "Minibatch loss at step 3000: 0.229695\n",
      "Minibatch accuracy: 100.0%\n",
      "Validation accuracy: 70.6%\n",
      "Test accuracy: 81.6%\n"
     ]
    }
   ],
   "source": [
    "num_steps = 3001\n",
    "\n",
    "with tf.Session(graph=graph) as session:\n",
    "    tf.initialize_all_variables().run()\n",
    "    print(\"Initialized\")\n",
    "    for step in range(num_steps):\n",
    "        # Pick an offset within the training data, which has been randomized.\n",
    "        # Note: we could use better randomization across epochs.\n",
    "        offset = (step * batch_size) % (train_labels.shape[0] - batch_size)\n",
    "        # Generate a minibatch.\n",
    "        batch_data = train_dataset[offset:(offset + batch_size), :]\n",
    "        batch_labels = train_labels[offset:(offset + batch_size), :]\n",
    "        # Prepare a dictionary telling the session where to feed the minibatch.\n",
    "        # The key of the dictionary is the placeholder node of the graph to be fed,\n",
    "        # and the value is the numpy array to feed to it.\n",
    "        feed_dict = {tf_train_dataset : batch_data, tf_train_labels : batch_labels}\n",
    "        _, l, predictions = session.run(\n",
    "            [optimizer, loss, train_prediction], feed_dict=feed_dict)\n",
    "        if (step % 500 == 0):\n",
    "            print(\"Minibatch loss at step %d: %f\" % (step, l))\n",
    "            print(\"Minibatch accuracy: %.1f%%\" % accuracy(predictions, batch_labels))\n",
    "            print(\"Validation accuracy: %.1f%%\" % accuracy(\n",
    "                    valid_prediction.eval(), valid_labels))\n",
    "            \n",
    "    print(\"Test accuracy: %.1f%%\" % accuracy(test_prediction.eval(), test_labels))"
   ]
  },
  {
   "cell_type": "markdown",
   "metadata": {},
   "source": [
    "Well, it depends on the dropout probability. Very high probability degrades performance. \"Middle\" probabilities (e.g., 0.5) slightly improve the behavior, but only slightly."
   ]
  },
  {
   "cell_type": "markdown",
   "metadata": {
    "colab_type": "text",
    "id": "-b1hTz3VWZjw"
   },
   "source": [
    "---\n",
    "Problem 4\n",
    "---------\n",
    "\n",
    "Try to get the best performance you can using a multi-layer model! The best reported test accuracy using a deep network is [97.1%](http://yaroslavvb.blogspot.com/2011/09/notmnist-dataset.html?showComment=1391023266211#c8758720086795711595).\n",
    "\n",
    "One avenue you can explore is to add multiple layers.\n",
    "\n",
    "Another one is to use learning rate decay:\n",
    "\n",
    "    global_step = tf.Variable(0)  # count the number of steps taken.\n",
    "    learning_rate = tf.train.exponential_decay(0.5, step, ...)\n",
    "    optimizer = tf.train.GradientDescentOptimizer(learning_rate).minimize(loss, global_step=global_step)\n",
    " \n",
    " ---\n"
   ]
  },
  {
   "cell_type": "code",
   "execution_count": 20,
   "metadata": {
    "collapsed": false
   },
   "outputs": [
    {
     "name": "stdout",
     "output_type": "stream",
     "text": [
      "('Training set', (200000, 28, 28), (200000,))\n",
      "('Validation set', (9633, 28, 28), (9633,))\n",
      "('Test set', (9604, 28, 28), (9604,))\n",
      "('Training set', (200000, 784), (200000, 10))\n",
      "('Validation set', (9633, 784), (9633, 10))\n",
      "('Test set', (9604, 784), (9604, 10))\n"
     ]
    }
   ],
   "source": [
    "# restore data\n",
    "\n",
    "pickle_file = 'notMNIST_sanitized.pickle'\n",
    "\n",
    "with open(pickle_file, 'rb') as f:\n",
    "    save = pickle.load(f)\n",
    "    train_dataset = save['train_dataset']\n",
    "    train_labels = save['train_labels']\n",
    "    valid_dataset = save['valid_dataset']\n",
    "    valid_labels = save['valid_labels']\n",
    "    test_dataset = save['test_dataset']\n",
    "    test_labels = save['test_labels']\n",
    "    del save  # hint to help gc free up memory\n",
    "    print('Training set', train_dataset.shape, train_labels.shape)\n",
    "    print('Validation set', valid_dataset.shape, valid_labels.shape)\n",
    "    print('Test set', test_dataset.shape, test_labels.shape)\n",
    "    \n",
    "image_size = 28\n",
    "num_labels = 10\n",
    "\n",
    "train_dataset, train_labels = reformat(train_dataset, train_labels)\n",
    "valid_dataset, valid_labels = reformat(valid_dataset, valid_labels)\n",
    "test_dataset, test_labels = reformat(test_dataset, test_labels)\n",
    "print('Training set', train_dataset.shape, train_labels.shape)\n",
    "print('Validation set', valid_dataset.shape, valid_labels.shape)\n",
    "print('Test set', test_dataset.shape, test_labels.shape)"
   ]
  },
  {
   "cell_type": "code",
   "execution_count": 36,
   "metadata": {
    "collapsed": false
   },
   "outputs": [],
   "source": [
    "# From previous problem set, with modifications\n",
    "\n",
    "base_learning_rate = 0.1\n",
    "batch_size = 128\n",
    "num_relus1 = 1024\n",
    "num_relus2 = 512\n",
    "l2_w1par = 0.01\n",
    "l2_w2par = 0.01\n",
    "l2_w3par = 0.01\n",
    "dropout_keep_prob1 = 0.90\n",
    "dropout_keep_prob2 = 0.75\n",
    "\n",
    "nonlin_actfun1 = tf.tanh      # we always get infinite gradient errors if we make the 1st layer a relu\n",
    "nonlin_actfun2 = tf.nn.relu\n",
    "\n",
    "graph = tf.Graph()\n",
    "with graph.as_default():\n",
    "\n",
    "    # For training data, use a placeholder that will be fed a minibatch at runtime.\n",
    "    tf_train_dataset = tf.placeholder(tf.float32, \n",
    "                                      shape=(batch_size, image_size * image_size))\n",
    "    tf_train_labels = tf.placeholder(tf.float32, shape=(batch_size, num_labels))\n",
    "    tf_valid_dataset = tf.constant(valid_dataset)\n",
    "    tf_test_dataset = tf.constant(test_dataset)\n",
    "  \n",
    "    # Variables.\n",
    "    # our network now has one set of weight and biases producing an output vector of\n",
    "    # size `num_relus`. we apply the relus and then feed that vector into a new set \n",
    "    # of weight matrix + bias vector that will produce a vector of sime `num_labels`\n",
    "    # that is fed into our softmax\n",
    "    weights1 = tf.Variable(tf.truncated_normal([image_size * image_size, num_relus1]))\n",
    "    biases1 = tf.Variable(tf.zeros([num_relus1]))\n",
    "#    weights2 = tf.Variable(tf.truncated_normal([num_relus1, num_labels]))\n",
    "#    biases2 = tf.Variable(tf.zeros([num_labels]))\n",
    "    weights2 = tf.Variable(tf.truncated_normal([num_relus1, num_relus2]))\n",
    "    biases2 = tf.Variable(tf.zeros([num_relus2]))\n",
    "    weights3 = tf.Variable(tf.truncated_normal([num_relus2, num_labels]))\n",
    "    biases3 = tf.Variable(tf.zeros([num_labels]))\n",
    "\n",
    "  \n",
    "    # Training computation.\n",
    "    logits1 = tf.matmul(tf_train_dataset, weights1) + biases1\n",
    "    activations = tf.nn.dropout(nonlin_actfun1(logits1), keep_prob=dropout_keep_prob1)\n",
    "    logits2 = tf.matmul(activations, weights2) + biases2\n",
    "    activations2 = tf.nn.dropout(nonlin_actfun2(logits2), keep_prob=dropout_keep_prob2)\n",
    "    logits3 = tf.matmul(activations2, weights3) + biases3\n",
    "    final_logits = logits3\n",
    "    train_prediction = tf.nn.softmax(logits3)\n",
    "\n",
    "    # add L2 loss terms: https://www.tensorflow.org/versions/r0.7/api_docs/python/nn.html#l2_loss\n",
    "    loss = tf.reduce_mean(tf.nn.softmax_cross_entropy_with_logits(final_logits, tf_train_labels) + \n",
    "                         l2_w1par * tf.nn.l2_loss(weights1) + \n",
    "                         l2_w2par * tf.nn.l2_loss(weights2) + \n",
    "                         l2_w3par * tf.nn.l2_loss(weights3))\n",
    "  \n",
    "    # Optimizer.\n",
    "    global_step = tf.Variable(0)  # count the number of steps taken.\n",
    "    learning_rate = tf.train.exponential_decay(0.5, step, decay_steps=10000, decay_rate=0.96)\n",
    "    optimizer = tf.train.GradientDescentOptimizer(base_learning_rate).minimize(loss, global_step=global_step)\n",
    "  \n",
    "    # validation set...\n",
    "    val_logits1 = tf.matmul(tf_valid_dataset, weights1) + biases1\n",
    "    val_activations = nonlin_actfun1(val_logits1)\n",
    "    val_logits2 = tf.matmul(val_activations, weights2) + biases2\n",
    "    val_activations2 = nonlin_actfun2(val_logits2)\n",
    "    val_logits3 = tf.matmul(val_activations2, weights3) + biases3\n",
    "    val_final_logits = val_logits3\n",
    "    valid_prediction = tf.nn.softmax(val_final_logits)\n",
    "\n",
    "    # test set...\n",
    "    test_logits1 = tf.matmul(tf_test_dataset, weights1) + biases1\n",
    "    test_activations = nonlin_actfun1(test_logits1)\n",
    "    test_logits2 = tf.matmul(test_activations, weights2) + biases2\n",
    "    test_activations2 = nonlin_actfun2(test_logits2)\n",
    "    test_logits3 = tf.matmul(test_activations2, weights3) + biases3\n",
    "    test_final_logits = test_logits3\n",
    "    test_prediction = tf.nn.softmax(test_final_logits) "
   ]
  },
  {
   "cell_type": "code",
   "execution_count": 37,
   "metadata": {
    "collapsed": false
   },
   "outputs": [
    {
     "name": "stdout",
     "output_type": "stream",
     "text": [
      "Initialized\n",
      "Minibatch loss at step 0: 5857.618652\n",
      "Minibatch accuracy: 12.5%\n",
      "Validation accuracy: 24.2%\n",
      "Minibatch loss at step 100: 4282.854492\n",
      "Minibatch accuracy: 70.3%\n",
      "Validation accuracy: 71.8%\n",
      "Minibatch loss at step 200: 3495.483398\n",
      "Minibatch accuracy: 81.2%\n",
      "Validation accuracy: 71.1%\n",
      "Minibatch loss at step 300: 2847.058350\n",
      "Minibatch accuracy: 75.0%\n",
      "Validation accuracy: 70.9%\n",
      "Minibatch loss at step 400: 2326.574219\n",
      "Minibatch accuracy: 62.5%\n",
      "Validation accuracy: 69.4%\n",
      "Minibatch loss at step 500: 1904.387695\n",
      "Minibatch accuracy: 63.3%\n",
      "Validation accuracy: 69.2%\n",
      "Minibatch loss at step 600: 1554.293945\n",
      "Minibatch accuracy: 71.1%\n",
      "Validation accuracy: 70.4%\n",
      "Minibatch loss at step 700: 1271.488159\n",
      "Minibatch accuracy: 71.1%\n",
      "Validation accuracy: 71.1%\n",
      "Minibatch loss at step 800: 1041.126953\n",
      "Minibatch accuracy: 71.1%\n",
      "Validation accuracy: 68.8%\n",
      "Minibatch loss at step 900: 851.230103\n",
      "Minibatch accuracy: 75.8%\n",
      "Validation accuracy: 72.0%\n",
      "Minibatch loss at step 1000: 697.046448\n",
      "Minibatch accuracy: 67.2%\n",
      "Validation accuracy: 72.5%\n",
      "Minibatch loss at step 1100: 570.296082\n",
      "Minibatch accuracy: 66.4%\n",
      "Validation accuracy: 74.5%\n",
      "Minibatch loss at step 1200: 466.449432\n",
      "Minibatch accuracy: 75.0%\n",
      "Validation accuracy: 74.3%\n",
      "Minibatch loss at step 1300: 381.798553\n",
      "Minibatch accuracy: 75.0%\n",
      "Validation accuracy: 75.6%\n",
      "Minibatch loss at step 1400: 312.742859\n",
      "Minibatch accuracy: 78.1%\n",
      "Validation accuracy: 76.2%\n",
      "Minibatch loss at step 1500: 256.047516\n",
      "Minibatch accuracy: 75.8%\n",
      "Validation accuracy: 77.5%\n",
      "Minibatch loss at step 1600: 209.475830\n",
      "Minibatch accuracy: 81.2%\n",
      "Validation accuracy: 77.5%\n",
      "Minibatch loss at step 1700: 171.738495\n",
      "Minibatch accuracy: 77.3%\n",
      "Validation accuracy: 78.8%\n",
      "Minibatch loss at step 1800: 140.624298\n",
      "Minibatch accuracy: 84.4%\n",
      "Validation accuracy: 79.5%\n",
      "Minibatch loss at step 1900: 115.255707\n",
      "Minibatch accuracy: 79.7%\n",
      "Validation accuracy: 79.5%\n",
      "Minibatch loss at step 2000: 94.483826\n",
      "Minibatch accuracy: 82.0%\n",
      "Validation accuracy: 79.8%\n",
      "Minibatch loss at step 2100: 77.573608\n",
      "Minibatch accuracy: 78.9%\n",
      "Validation accuracy: 80.1%\n",
      "Minibatch loss at step 2200: 63.661926\n",
      "Minibatch accuracy: 76.6%\n",
      "Validation accuracy: 80.0%\n",
      "Minibatch loss at step 2300: 52.099846\n",
      "Minibatch accuracy: 85.9%\n",
      "Validation accuracy: 80.2%\n",
      "Minibatch loss at step 2400: 42.750477\n",
      "Minibatch accuracy: 82.0%\n",
      "Validation accuracy: 80.1%\n",
      "Minibatch loss at step 2500: 35.122917\n",
      "Minibatch accuracy: 82.0%\n",
      "Validation accuracy: 80.0%\n",
      "Minibatch loss at step 2600: 28.836693\n",
      "Minibatch accuracy: 85.2%\n",
      "Validation accuracy: 80.6%\n",
      "Minibatch loss at step 2700: 23.824800\n",
      "Minibatch accuracy: 85.2%\n",
      "Validation accuracy: 80.1%\n",
      "Minibatch loss at step 2800: 19.684860\n",
      "Minibatch accuracy: 79.7%\n",
      "Validation accuracy: 80.7%\n",
      "Minibatch loss at step 2900: 16.169132\n",
      "Minibatch accuracy: 82.8%\n",
      "Validation accuracy: 80.2%\n",
      "Minibatch loss at step 3000: 13.317832\n",
      "Minibatch accuracy: 85.9%\n",
      "Validation accuracy: 80.6%\n",
      "Test accuracy: 90.7%\n"
     ]
    }
   ],
   "source": [
    "num_steps = 3001\n",
    "\n",
    "with tf.Session(graph=graph) as session:\n",
    "    tf.initialize_all_variables().run()\n",
    "    print(\"Initialized\")\n",
    "    for step in range(num_steps):\n",
    "        # Pick an offset within the training data, which has been randomized.\n",
    "        # Note: we could use better randomization across epochs.\n",
    "        offset = (step * batch_size) % (train_labels.shape[0] - batch_size)\n",
    "        # Generate a minibatch.\n",
    "        batch_data = train_dataset[offset:(offset + batch_size), :]\n",
    "        batch_labels = train_labels[offset:(offset + batch_size), :]\n",
    "        # Prepare a dictionary telling the session where to feed the minibatch.\n",
    "        # The key of the dictionary is the placeholder node of the graph to be fed,\n",
    "        # and the value is the numpy array to feed to it.\n",
    "        feed_dict = {tf_train_dataset : batch_data, tf_train_labels : batch_labels}\n",
    "        _, l, predictions = session.run(\n",
    "            [optimizer, loss, train_prediction], feed_dict=feed_dict)\n",
    "        if (step % 100 == 0):\n",
    "            print(\"Minibatch loss at step %d: %f\" % (step, l))\n",
    "            print(\"Minibatch accuracy: %.1f%%\" % accuracy(predictions, batch_labels))\n",
    "            print(\"Validation accuracy: %.1f%%\" % accuracy(\n",
    "                    valid_prediction.eval(), valid_labels))\n",
    "            \n",
    "    print(\"Test accuracy: %.1f%%\" % accuracy(test_prediction.eval(), test_labels))"
   ]
  },
  {
   "cell_type": "markdown",
   "metadata": {
    "collapsed": true
   },
   "source": [
    "Basically, we've done the best so far with just one activations layer (almost 90%) - adding layers has in every case degraded performance... well, but that was with a constant learning rate. A decaying learning rate seems to help (although the best accuracy so far is still with only one ReLU layer, almost 90%).\n",
    "\n",
    "Actually, we got to 90% (with improvements still present, although slow) at 3001 steps. Decaying the learning rate is very important. Also, dropout seems to require more patience."
   ]
  },
  {
   "cell_type": "code",
   "execution_count": null,
   "metadata": {
    "collapsed": true
   },
   "outputs": [],
   "source": []
  }
 ],
 "metadata": {
  "colab": {
   "default_view": {},
   "name": "3_regularization.ipynb",
   "provenance": [],
   "version": "0.3.2",
   "views": {}
  },
  "kernelspec": {
   "display_name": "Python 2",
   "language": "python",
   "name": "python2"
  },
  "language_info": {
   "codemirror_mode": {
    "name": "ipython",
    "version": 2
   },
   "file_extension": ".py",
   "mimetype": "text/x-python",
   "name": "python",
   "nbconvert_exporter": "python",
   "pygments_lexer": "ipython2",
   "version": "2.7.6"
  }
 },
 "nbformat": 4,
 "nbformat_minor": 0
}
